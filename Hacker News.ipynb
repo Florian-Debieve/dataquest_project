{
 "cells": [
  {
   "cell_type": "code",
   "execution_count": 4,
   "id": "104bd433",
   "metadata": {},
   "outputs": [
    {
     "name": "stdout",
     "output_type": "stream",
     "text": [
      "C:\\Users\\debie\\Documents\\anaconda_space\n"
     ]
    }
   ],
   "source": [
    "%cd C:\\\\Users\\\\debie\\\\Documents\\\\anaconda_space"
   ]
  },
  {
   "cell_type": "code",
   "execution_count": 7,
   "id": "7fb778c9",
   "metadata": {
    "scrolled": true
   },
   "outputs": [
    {
     "name": "stdout",
     "output_type": "stream",
     "text": [
      "[['id', 'title', 'url', 'num_points', 'num_comments', 'author', 'created_at'], ['12579008', 'You have two days to comment if you want stem cells to be classified as your own', 'http://www.regulations.gov/document?D=FDA-2015-D-3719-0018', '1', '0', 'altstar', '9/26/2016 3:26'], ['12579005', 'SQLAR  the SQLite Archiver', 'https://www.sqlite.org/sqlar/doc/trunk/README.md', '1', '0', 'blacksqr', '9/26/2016 3:24'], ['12578997', 'What if we just printed a flatscreen television on the side of our boxes?', 'https://medium.com/vanmoof/our-secrets-out-f21c1f03fdc8#.ietxmez43', '1', '0', 'pavel_lishin', '9/26/2016 3:19'], ['12578989', 'algorithmic music', 'http://cacm.acm.org/magazines/2011/7/109891-algorithmic-composition/fulltext', '1', '0', 'poindontcare', '9/26/2016 3:16']]\n"
     ]
    }
   ],
   "source": [
    "from csv import reader\n",
    "opened_file = open('HN_posts_year_to_Sep_26_2016.csv', encoding='utf8')\n",
    "read_file = reader(opened_file)\n",
    "hn = list(read_file)\n",
    "print(hn[:5])"
   ]
  },
  {
   "cell_type": "code",
   "execution_count": 8,
   "id": "26304935",
   "metadata": {},
   "outputs": [
    {
     "name": "stdout",
     "output_type": "stream",
     "text": [
      "[['id', 'title', 'url', 'num_points', 'num_comments', 'author', 'created_at']]\n"
     ]
    }
   ],
   "source": [
    "header=hn[:1]\n",
    "hn=hn[1:]\n",
    "print(header)"
   ]
  },
  {
   "cell_type": "code",
   "execution_count": 9,
   "id": "7b468715",
   "metadata": {},
   "outputs": [
    {
     "name": "stdout",
     "output_type": "stream",
     "text": [
      "[['12579008', 'You have two days to comment if you want stem cells to be classified as your own', 'http://www.regulations.gov/document?D=FDA-2015-D-3719-0018', '1', '0', 'altstar', '9/26/2016 3:26'], ['12579005', 'SQLAR  the SQLite Archiver', 'https://www.sqlite.org/sqlar/doc/trunk/README.md', '1', '0', 'blacksqr', '9/26/2016 3:24'], ['12578997', 'What if we just printed a flatscreen television on the side of our boxes?', 'https://medium.com/vanmoof/our-secrets-out-f21c1f03fdc8#.ietxmez43', '1', '0', 'pavel_lishin', '9/26/2016 3:19'], ['12578989', 'algorithmic music', 'http://cacm.acm.org/magazines/2011/7/109891-algorithmic-composition/fulltext', '1', '0', 'poindontcare', '9/26/2016 3:16'], ['12578979', 'How the Data Vault Enables the Next-Gen Data Warehouse and Data Lake', 'https://www.talend.com/blog/2016/05/12/talend-and-Â\\x93the-data-vaultÂ\\x94', '1', '0', 'markgainor1', '9/26/2016 3:14']]\n"
     ]
    }
   ],
   "source": [
    "print(hn[:5])"
   ]
  },
  {
   "cell_type": "code",
   "execution_count": 14,
   "id": "5040bd5d",
   "metadata": {},
   "outputs": [
    {
     "name": "stdout",
     "output_type": "stream",
     "text": [
      "9147\n",
      "10170\n",
      "273802\n"
     ]
    }
   ],
   "source": [
    "ask_posts=[]\n",
    "show_posts=[]\n",
    "other_posts=[]\n",
    "for row in hn:\n",
    "    if 'ask hn' in row[1].lower():\n",
    "        ask_posts.append(row)\n",
    "    elif 'show hn' in row[1].lower():\n",
    "        show_posts.append(row)\n",
    "    else:\n",
    "        other_posts.append(row)\n",
    "\n",
    "print(len(ask_posts))\n",
    "print(len(show_posts))\n",
    "print(len(other_posts))"
   ]
  },
  {
   "cell_type": "code",
   "execution_count": 23,
   "id": "df1083bd",
   "metadata": {},
   "outputs": [
    {
     "name": "stdout",
     "output_type": "stream",
     "text": [
      "[['12578908', 'Ask HN: What TLD do you use for local development?', '', '4', '7', 'Sevrene', '9/26/2016 2:53'], ['12578522', 'Ask HN: How do you pass on your work when you die?', '', '6', '3', 'PascLeRasc', '9/26/2016 1:17'], ['12577908', 'Ask HN: How a DNS problem can be limited to a geographic region?', '', '1', '0', 'kuon', '9/25/2016 22:57'], ['12577870', 'Ask HN: Why join a fund when you can be an angel?', '', '1', '3', 'anthony_james', '9/25/2016 22:48'], ['12577647', 'Ask HN: Someone uses stock trading as passive income?', '', '5', '2', '00taffe', '9/25/2016 21:50']]\n"
     ]
    }
   ],
   "source": [
    "print(ask_posts[:5])"
   ]
  },
  {
   "cell_type": "code",
   "execution_count": 18,
   "id": "bfc7df6a",
   "metadata": {},
   "outputs": [
    {
     "name": "stdout",
     "output_type": "stream",
     "text": [
      "Average comments in ask posts =  10.38591888050727\n",
      "Average comments in show posts =  4.885939036381514\n"
     ]
    }
   ],
   "source": [
    "total_ask_comments=0\n",
    "for post in ask_posts:\n",
    "    total_ask_comments+=int(post[4])\n",
    "avg_ask_comments=total_ask_comments/len(ask_posts)\n",
    "\n",
    "total_show_comments=0\n",
    "for post in show_posts:\n",
    "    total_show_comments+=int(post[4])\n",
    "avg_show_comments=total_show_comments/len(show_posts)\n",
    "\n",
    "print('Average comments in ask posts = ',avg_ask_comments)\n",
    "print('Average comments in show posts = ',avg_show_comments)"
   ]
  },
  {
   "cell_type": "code",
   "execution_count": 22,
   "id": "722e2920",
   "metadata": {},
   "outputs": [
    {
     "name": "stdout",
     "output_type": "stream",
     "text": [
      "[[datetime.datetime(2016, 9, 26, 2, 53), 7], [datetime.datetime(2016, 9, 26, 1, 17), 3], [datetime.datetime(2016, 9, 25, 22, 57), 0], [datetime.datetime(2016, 9, 25, 22, 48), 3], [datetime.datetime(2016, 9, 25, 21, 50), 2]]\n"
     ]
    }
   ],
   "source": [
    "import datetime as dt\n",
    "result_list=[]\n",
    "for post in ask_posts:\n",
    "    date_str=post[6]\n",
    "    date_dt=dt.datetime.strptime(date_str,\"%m/%d/%Y %H:%M\")\n",
    "    result_list.append([date_dt,int(post[4])])\n",
    "print(result_list[:5])"
   ]
  },
  {
   "cell_type": "code",
   "execution_count": 33,
   "id": "479091fc",
   "metadata": {},
   "outputs": [
    {
     "name": "stdout",
     "output_type": "stream",
     "text": [
      "02\n"
     ]
    }
   ],
   "source": [
    "d2_dt = dt.datetime(2016, 9, 26, 2, 53)\n",
    "d2 = d2_dt.strftime('%H')\n",
    "print(d2)"
   ]
  },
  {
   "cell_type": "code",
   "execution_count": 37,
   "id": "c4c2789a",
   "metadata": {},
   "outputs": [],
   "source": [
    "counts_by_hour={}\n",
    "comments_by_hour={}\n",
    "for result in result_list:\n",
    "    posted=result[0]\n",
    "    posted_t=posted.strftime('%H')\n",
    "    if posted_t in counts_by_hour:\n",
    "        counts_by_hour[posted_t]+=1\n",
    "        comments_by_hour[posted_t]+=result[1]\n",
    "    else:\n",
    "        counts_by_hour[posted_t]=1\n",
    "        comments_by_hour[posted_t]=result[1] "
   ]
  },
  {
   "cell_type": "code",
   "execution_count": 38,
   "id": "bca58792",
   "metadata": {},
   "outputs": [
    {
     "name": "stdout",
     "output_type": "stream",
     "text": [
      "{'02': 269, '01': 282, '22': 383, '21': 518, '19': 553, '17': 587, '15': 647, '14': 513, '13': 444, '11': 312, '10': 282, '09': 222, '07': 226, '03': 272, '23': 345, '20': 511, '16': 580, '08': 257, '00': 301, '18': 614, '12': 342, '04': 243, '06': 234, '05': 210}\n",
      "{'02': 2996, '01': 2089, '22': 3372, '21': 4500, '19': 3955, '17': 5547, '15': 18526, '14': 4972, '13': 7245, '11': 2797, '10': 3013, '09': 1477, '07': 1585, '03': 2159, '23': 2300, '20': 4463, '16': 4466, '08': 2362, '00': 2277, '18': 4877, '12': 4234, '04': 2360, '06': 1587, '05': 1841}\n"
     ]
    }
   ],
   "source": [
    "print(counts_by_hour)\n",
    "print(comments_by_hour)"
   ]
  },
  {
   "cell_type": "code",
   "execution_count": 44,
   "id": "7b122660",
   "metadata": {},
   "outputs": [
    {
     "name": "stdout",
     "output_type": "stream",
     "text": [
      "[['02', 11.137546468401487], ['01', 7.407801418439717], ['22', 8.804177545691905], ['21', 8.687258687258687], ['19', 7.151898734177215], ['17', 9.449744463373083], ['15', 28.633693972179287], ['14', 9.692007797270955], ['13', 16.31756756756757], ['11', 8.96474358974359], ['10', 10.684397163120567], ['09', 6.653153153153153], ['07', 7.013274336283186], ['03', 7.9375], ['23', 6.666666666666667], ['20', 8.733855185909981], ['16', 7.7], ['08', 9.190661478599221], ['00', 7.5647840531561465], ['18', 7.94299674267101], ['12', 12.380116959064328], ['04', 9.7119341563786], ['06', 6.782051282051282], ['05', 8.766666666666667]]\n"
     ]
    }
   ],
   "source": [
    "avg_by_hour=[]\n",
    "for count in counts_by_hour:\n",
    "    avg=int(comments_by_hour[count])/int(counts_by_hour[count])\n",
    "    avg_by_hour.append([count,avg])\n",
    "print(avg_by_hour)"
   ]
  },
  {
   "cell_type": "code",
   "execution_count": 47,
   "id": "fc090c5a",
   "metadata": {},
   "outputs": [
    {
     "name": "stdout",
     "output_type": "stream",
     "text": [
      "[[11.137546468401487, '02'], [7.407801418439717, '01'], [8.804177545691905, '22'], [8.687258687258687, '21'], [7.151898734177215, '19'], [9.449744463373083, '17'], [28.633693972179287, '15'], [9.692007797270955, '14'], [16.31756756756757, '13'], [8.96474358974359, '11'], [10.684397163120567, '10'], [6.653153153153153, '09'], [7.013274336283186, '07'], [7.9375, '03'], [6.666666666666667, '23'], [8.733855185909981, '20'], [7.7, '16'], [9.190661478599221, '08'], [7.5647840531561465, '00'], [7.94299674267101, '18'], [12.380116959064328, '12'], [9.7119341563786, '04'], [6.782051282051282, '06'], [8.766666666666667, '05']]\n"
     ]
    }
   ],
   "source": [
    "swap_avg_by_hour=[]\n",
    "for avg in avg_by_hour:\n",
    "    swap_avg_by_hour.append([avg[1],avg[0]])\n",
    "print(swap_avg_by_hour)"
   ]
  },
  {
   "cell_type": "code",
   "execution_count": 49,
   "id": "3e4d889b",
   "metadata": {},
   "outputs": [
    {
     "name": "stdout",
     "output_type": "stream",
     "text": [
      "[[28.633693972179287, '15'], [16.31756756756757, '13'], [12.380116959064328, '12'], [11.137546468401487, '02'], [10.684397163120567, '10']]\n"
     ]
    }
   ],
   "source": [
    "sorted_swap=sorted(swap_avg_by_hour,reverse=True)\n",
    "print(sorted_swap[:5])"
   ]
  },
  {
   "cell_type": "code",
   "execution_count": 52,
   "id": "ad607008",
   "metadata": {},
   "outputs": [
    {
     "name": "stdout",
     "output_type": "stream",
     "text": [
      "15:00\n"
     ]
    }
   ],
   "source": [
    "hou=dt.datetime.strptime('15','%H')\n",
    "hou=hou.strftime('%H:%M')\n",
    "print(hou)"
   ]
  },
  {
   "cell_type": "code",
   "execution_count": 53,
   "id": "75e8f63b",
   "metadata": {},
   "outputs": [
    {
     "name": "stdout",
     "output_type": "stream",
     "text": [
      "15:00: 28.63 average comments per post\n",
      "13:00: 16.32 average comments per post\n",
      "12:00: 12.38 average comments per post\n",
      "02:00: 11.14 average comments per post\n",
      "10:00: 10.68 average comments per post\n"
     ]
    }
   ],
   "source": [
    "for h in sorted_swap[:5]:\n",
    "    hour=dt.datetime.strptime(h[1],'%H')\n",
    "    hour=hour.strftime('%H:%M')\n",
    "    print(\"{x}: {y:.2f} average comments per post\".format(x=hour,y=h[0]))"
   ]
  },
  {
   "cell_type": "code",
   "execution_count": null,
   "id": "d56981e1",
   "metadata": {},
   "outputs": [],
   "source": []
  }
 ],
 "metadata": {
  "kernelspec": {
   "display_name": "Python 3 (ipykernel)",
   "language": "python",
   "name": "python3"
  },
  "language_info": {
   "codemirror_mode": {
    "name": "ipython",
    "version": 3
   },
   "file_extension": ".py",
   "mimetype": "text/x-python",
   "name": "python",
   "nbconvert_exporter": "python",
   "pygments_lexer": "ipython3",
   "version": "3.9.7"
  }
 },
 "nbformat": 4,
 "nbformat_minor": 5
}
