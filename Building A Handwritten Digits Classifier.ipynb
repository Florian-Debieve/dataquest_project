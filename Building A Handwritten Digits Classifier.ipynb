{
 "cells": [
  {
   "cell_type": "code",
   "execution_count": 1,
   "id": "b8393c70",
   "metadata": {},
   "outputs": [
    {
     "name": "stdout",
     "output_type": "stream",
     "text": [
      "C:\\Users\\debie\\Documents\\anaconda_space\n"
     ]
    }
   ],
   "source": [
    "%cd C:\\\\Users\\\\debie\\\\Documents\\\\anaconda_space"
   ]
  },
  {
   "cell_type": "markdown",
   "id": "c06d1197",
   "metadata": {},
   "source": [
    "# Building A Handwritten Digits Classifier"
   ]
  },
  {
   "cell_type": "markdown",
   "id": "63854295",
   "metadata": {},
   "source": [
    "In this project, we'll build a handwritten digits classifier. To do that, we'll use datasets that contain thousands of image of handwritten digits through 0 to 9 and train several algorithms."
   ]
  },
  {
   "cell_type": "code",
   "execution_count": 2,
   "id": "0c35c19f",
   "metadata": {},
   "outputs": [],
   "source": [
    "import numpy as np\n",
    "import pandas as pd\n",
    "import matplotlib.pyplot as plt"
   ]
  },
  {
   "cell_type": "markdown",
   "id": "384c3a33",
   "metadata": {},
   "source": [
    "## Exploring the dataset\n",
    "\n",
    "The first dataset that will be used is the handwritten digits dataset that is available in Scikit-learn library.\n",
    "\n",
    "Let's explore this dataset a little to see what it contains."
   ]
  },
  {
   "cell_type": "code",
   "execution_count": 3,
   "id": "b9a2c35c",
   "metadata": {},
   "outputs": [
    {
     "data": {
      "text/html": [
       "<div>\n",
       "<style scoped>\n",
       "    .dataframe tbody tr th:only-of-type {\n",
       "        vertical-align: middle;\n",
       "    }\n",
       "\n",
       "    .dataframe tbody tr th {\n",
       "        vertical-align: top;\n",
       "    }\n",
       "\n",
       "    .dataframe thead th {\n",
       "        text-align: right;\n",
       "    }\n",
       "</style>\n",
       "<table border=\"1\" class=\"dataframe\">\n",
       "  <thead>\n",
       "    <tr style=\"text-align: right;\">\n",
       "      <th></th>\n",
       "      <th>pixel_0_0</th>\n",
       "      <th>pixel_0_1</th>\n",
       "      <th>pixel_0_2</th>\n",
       "      <th>pixel_0_3</th>\n",
       "      <th>pixel_0_4</th>\n",
       "      <th>pixel_0_5</th>\n",
       "      <th>pixel_0_6</th>\n",
       "      <th>pixel_0_7</th>\n",
       "      <th>pixel_1_0</th>\n",
       "      <th>pixel_1_1</th>\n",
       "      <th>...</th>\n",
       "      <th>pixel_6_6</th>\n",
       "      <th>pixel_6_7</th>\n",
       "      <th>pixel_7_0</th>\n",
       "      <th>pixel_7_1</th>\n",
       "      <th>pixel_7_2</th>\n",
       "      <th>pixel_7_3</th>\n",
       "      <th>pixel_7_4</th>\n",
       "      <th>pixel_7_5</th>\n",
       "      <th>pixel_7_6</th>\n",
       "      <th>pixel_7_7</th>\n",
       "    </tr>\n",
       "  </thead>\n",
       "  <tbody>\n",
       "    <tr>\n",
       "      <th>0</th>\n",
       "      <td>0.0</td>\n",
       "      <td>0.0</td>\n",
       "      <td>5.0</td>\n",
       "      <td>13.0</td>\n",
       "      <td>9.0</td>\n",
       "      <td>1.0</td>\n",
       "      <td>0.0</td>\n",
       "      <td>0.0</td>\n",
       "      <td>0.0</td>\n",
       "      <td>0.0</td>\n",
       "      <td>...</td>\n",
       "      <td>0.0</td>\n",
       "      <td>0.0</td>\n",
       "      <td>0.0</td>\n",
       "      <td>0.0</td>\n",
       "      <td>6.0</td>\n",
       "      <td>13.0</td>\n",
       "      <td>10.0</td>\n",
       "      <td>0.0</td>\n",
       "      <td>0.0</td>\n",
       "      <td>0.0</td>\n",
       "    </tr>\n",
       "    <tr>\n",
       "      <th>1</th>\n",
       "      <td>0.0</td>\n",
       "      <td>0.0</td>\n",
       "      <td>0.0</td>\n",
       "      <td>12.0</td>\n",
       "      <td>13.0</td>\n",
       "      <td>5.0</td>\n",
       "      <td>0.0</td>\n",
       "      <td>0.0</td>\n",
       "      <td>0.0</td>\n",
       "      <td>0.0</td>\n",
       "      <td>...</td>\n",
       "      <td>0.0</td>\n",
       "      <td>0.0</td>\n",
       "      <td>0.0</td>\n",
       "      <td>0.0</td>\n",
       "      <td>0.0</td>\n",
       "      <td>11.0</td>\n",
       "      <td>16.0</td>\n",
       "      <td>10.0</td>\n",
       "      <td>0.0</td>\n",
       "      <td>0.0</td>\n",
       "    </tr>\n",
       "    <tr>\n",
       "      <th>2</th>\n",
       "      <td>0.0</td>\n",
       "      <td>0.0</td>\n",
       "      <td>0.0</td>\n",
       "      <td>4.0</td>\n",
       "      <td>15.0</td>\n",
       "      <td>12.0</td>\n",
       "      <td>0.0</td>\n",
       "      <td>0.0</td>\n",
       "      <td>0.0</td>\n",
       "      <td>0.0</td>\n",
       "      <td>...</td>\n",
       "      <td>5.0</td>\n",
       "      <td>0.0</td>\n",
       "      <td>0.0</td>\n",
       "      <td>0.0</td>\n",
       "      <td>0.0</td>\n",
       "      <td>3.0</td>\n",
       "      <td>11.0</td>\n",
       "      <td>16.0</td>\n",
       "      <td>9.0</td>\n",
       "      <td>0.0</td>\n",
       "    </tr>\n",
       "    <tr>\n",
       "      <th>3</th>\n",
       "      <td>0.0</td>\n",
       "      <td>0.0</td>\n",
       "      <td>7.0</td>\n",
       "      <td>15.0</td>\n",
       "      <td>13.0</td>\n",
       "      <td>1.0</td>\n",
       "      <td>0.0</td>\n",
       "      <td>0.0</td>\n",
       "      <td>0.0</td>\n",
       "      <td>8.0</td>\n",
       "      <td>...</td>\n",
       "      <td>9.0</td>\n",
       "      <td>0.0</td>\n",
       "      <td>0.0</td>\n",
       "      <td>0.0</td>\n",
       "      <td>7.0</td>\n",
       "      <td>13.0</td>\n",
       "      <td>13.0</td>\n",
       "      <td>9.0</td>\n",
       "      <td>0.0</td>\n",
       "      <td>0.0</td>\n",
       "    </tr>\n",
       "    <tr>\n",
       "      <th>4</th>\n",
       "      <td>0.0</td>\n",
       "      <td>0.0</td>\n",
       "      <td>0.0</td>\n",
       "      <td>1.0</td>\n",
       "      <td>11.0</td>\n",
       "      <td>0.0</td>\n",
       "      <td>0.0</td>\n",
       "      <td>0.0</td>\n",
       "      <td>0.0</td>\n",
       "      <td>0.0</td>\n",
       "      <td>...</td>\n",
       "      <td>0.0</td>\n",
       "      <td>0.0</td>\n",
       "      <td>0.0</td>\n",
       "      <td>0.0</td>\n",
       "      <td>0.0</td>\n",
       "      <td>2.0</td>\n",
       "      <td>16.0</td>\n",
       "      <td>4.0</td>\n",
       "      <td>0.0</td>\n",
       "      <td>0.0</td>\n",
       "    </tr>\n",
       "    <tr>\n",
       "      <th>...</th>\n",
       "      <td>...</td>\n",
       "      <td>...</td>\n",
       "      <td>...</td>\n",
       "      <td>...</td>\n",
       "      <td>...</td>\n",
       "      <td>...</td>\n",
       "      <td>...</td>\n",
       "      <td>...</td>\n",
       "      <td>...</td>\n",
       "      <td>...</td>\n",
       "      <td>...</td>\n",
       "      <td>...</td>\n",
       "      <td>...</td>\n",
       "      <td>...</td>\n",
       "      <td>...</td>\n",
       "      <td>...</td>\n",
       "      <td>...</td>\n",
       "      <td>...</td>\n",
       "      <td>...</td>\n",
       "      <td>...</td>\n",
       "      <td>...</td>\n",
       "    </tr>\n",
       "    <tr>\n",
       "      <th>1792</th>\n",
       "      <td>0.0</td>\n",
       "      <td>0.0</td>\n",
       "      <td>4.0</td>\n",
       "      <td>10.0</td>\n",
       "      <td>13.0</td>\n",
       "      <td>6.0</td>\n",
       "      <td>0.0</td>\n",
       "      <td>0.0</td>\n",
       "      <td>0.0</td>\n",
       "      <td>1.0</td>\n",
       "      <td>...</td>\n",
       "      <td>4.0</td>\n",
       "      <td>0.0</td>\n",
       "      <td>0.0</td>\n",
       "      <td>0.0</td>\n",
       "      <td>2.0</td>\n",
       "      <td>14.0</td>\n",
       "      <td>15.0</td>\n",
       "      <td>9.0</td>\n",
       "      <td>0.0</td>\n",
       "      <td>0.0</td>\n",
       "    </tr>\n",
       "    <tr>\n",
       "      <th>1793</th>\n",
       "      <td>0.0</td>\n",
       "      <td>0.0</td>\n",
       "      <td>6.0</td>\n",
       "      <td>16.0</td>\n",
       "      <td>13.0</td>\n",
       "      <td>11.0</td>\n",
       "      <td>1.0</td>\n",
       "      <td>0.0</td>\n",
       "      <td>0.0</td>\n",
       "      <td>0.0</td>\n",
       "      <td>...</td>\n",
       "      <td>1.0</td>\n",
       "      <td>0.0</td>\n",
       "      <td>0.0</td>\n",
       "      <td>0.0</td>\n",
       "      <td>6.0</td>\n",
       "      <td>16.0</td>\n",
       "      <td>14.0</td>\n",
       "      <td>6.0</td>\n",
       "      <td>0.0</td>\n",
       "      <td>0.0</td>\n",
       "    </tr>\n",
       "    <tr>\n",
       "      <th>1794</th>\n",
       "      <td>0.0</td>\n",
       "      <td>0.0</td>\n",
       "      <td>1.0</td>\n",
       "      <td>11.0</td>\n",
       "      <td>15.0</td>\n",
       "      <td>1.0</td>\n",
       "      <td>0.0</td>\n",
       "      <td>0.0</td>\n",
       "      <td>0.0</td>\n",
       "      <td>0.0</td>\n",
       "      <td>...</td>\n",
       "      <td>0.0</td>\n",
       "      <td>0.0</td>\n",
       "      <td>0.0</td>\n",
       "      <td>0.0</td>\n",
       "      <td>2.0</td>\n",
       "      <td>9.0</td>\n",
       "      <td>13.0</td>\n",
       "      <td>6.0</td>\n",
       "      <td>0.0</td>\n",
       "      <td>0.0</td>\n",
       "    </tr>\n",
       "    <tr>\n",
       "      <th>1795</th>\n",
       "      <td>0.0</td>\n",
       "      <td>0.0</td>\n",
       "      <td>2.0</td>\n",
       "      <td>10.0</td>\n",
       "      <td>7.0</td>\n",
       "      <td>0.0</td>\n",
       "      <td>0.0</td>\n",
       "      <td>0.0</td>\n",
       "      <td>0.0</td>\n",
       "      <td>0.0</td>\n",
       "      <td>...</td>\n",
       "      <td>2.0</td>\n",
       "      <td>0.0</td>\n",
       "      <td>0.0</td>\n",
       "      <td>0.0</td>\n",
       "      <td>5.0</td>\n",
       "      <td>12.0</td>\n",
       "      <td>16.0</td>\n",
       "      <td>12.0</td>\n",
       "      <td>0.0</td>\n",
       "      <td>0.0</td>\n",
       "    </tr>\n",
       "    <tr>\n",
       "      <th>1796</th>\n",
       "      <td>0.0</td>\n",
       "      <td>0.0</td>\n",
       "      <td>10.0</td>\n",
       "      <td>14.0</td>\n",
       "      <td>8.0</td>\n",
       "      <td>1.0</td>\n",
       "      <td>0.0</td>\n",
       "      <td>0.0</td>\n",
       "      <td>0.0</td>\n",
       "      <td>2.0</td>\n",
       "      <td>...</td>\n",
       "      <td>8.0</td>\n",
       "      <td>0.0</td>\n",
       "      <td>0.0</td>\n",
       "      <td>1.0</td>\n",
       "      <td>8.0</td>\n",
       "      <td>12.0</td>\n",
       "      <td>14.0</td>\n",
       "      <td>12.0</td>\n",
       "      <td>1.0</td>\n",
       "      <td>0.0</td>\n",
       "    </tr>\n",
       "  </tbody>\n",
       "</table>\n",
       "<p>1797 rows × 64 columns</p>\n",
       "</div>"
      ],
      "text/plain": [
       "      pixel_0_0  pixel_0_1  pixel_0_2  pixel_0_3  pixel_0_4  pixel_0_5  \\\n",
       "0           0.0        0.0        5.0       13.0        9.0        1.0   \n",
       "1           0.0        0.0        0.0       12.0       13.0        5.0   \n",
       "2           0.0        0.0        0.0        4.0       15.0       12.0   \n",
       "3           0.0        0.0        7.0       15.0       13.0        1.0   \n",
       "4           0.0        0.0        0.0        1.0       11.0        0.0   \n",
       "...         ...        ...        ...        ...        ...        ...   \n",
       "1792        0.0        0.0        4.0       10.0       13.0        6.0   \n",
       "1793        0.0        0.0        6.0       16.0       13.0       11.0   \n",
       "1794        0.0        0.0        1.0       11.0       15.0        1.0   \n",
       "1795        0.0        0.0        2.0       10.0        7.0        0.0   \n",
       "1796        0.0        0.0       10.0       14.0        8.0        1.0   \n",
       "\n",
       "      pixel_0_6  pixel_0_7  pixel_1_0  pixel_1_1  ...  pixel_6_6  pixel_6_7  \\\n",
       "0           0.0        0.0        0.0        0.0  ...        0.0        0.0   \n",
       "1           0.0        0.0        0.0        0.0  ...        0.0        0.0   \n",
       "2           0.0        0.0        0.0        0.0  ...        5.0        0.0   \n",
       "3           0.0        0.0        0.0        8.0  ...        9.0        0.0   \n",
       "4           0.0        0.0        0.0        0.0  ...        0.0        0.0   \n",
       "...         ...        ...        ...        ...  ...        ...        ...   \n",
       "1792        0.0        0.0        0.0        1.0  ...        4.0        0.0   \n",
       "1793        1.0        0.0        0.0        0.0  ...        1.0        0.0   \n",
       "1794        0.0        0.0        0.0        0.0  ...        0.0        0.0   \n",
       "1795        0.0        0.0        0.0        0.0  ...        2.0        0.0   \n",
       "1796        0.0        0.0        0.0        2.0  ...        8.0        0.0   \n",
       "\n",
       "      pixel_7_0  pixel_7_1  pixel_7_2  pixel_7_3  pixel_7_4  pixel_7_5  \\\n",
       "0           0.0        0.0        6.0       13.0       10.0        0.0   \n",
       "1           0.0        0.0        0.0       11.0       16.0       10.0   \n",
       "2           0.0        0.0        0.0        3.0       11.0       16.0   \n",
       "3           0.0        0.0        7.0       13.0       13.0        9.0   \n",
       "4           0.0        0.0        0.0        2.0       16.0        4.0   \n",
       "...         ...        ...        ...        ...        ...        ...   \n",
       "1792        0.0        0.0        2.0       14.0       15.0        9.0   \n",
       "1793        0.0        0.0        6.0       16.0       14.0        6.0   \n",
       "1794        0.0        0.0        2.0        9.0       13.0        6.0   \n",
       "1795        0.0        0.0        5.0       12.0       16.0       12.0   \n",
       "1796        0.0        1.0        8.0       12.0       14.0       12.0   \n",
       "\n",
       "      pixel_7_6  pixel_7_7  \n",
       "0           0.0        0.0  \n",
       "1           0.0        0.0  \n",
       "2           9.0        0.0  \n",
       "3           0.0        0.0  \n",
       "4           0.0        0.0  \n",
       "...         ...        ...  \n",
       "1792        0.0        0.0  \n",
       "1793        0.0        0.0  \n",
       "1794        0.0        0.0  \n",
       "1795        0.0        0.0  \n",
       "1796        1.0        0.0  \n",
       "\n",
       "[1797 rows x 64 columns]"
      ]
     },
     "execution_count": 3,
     "metadata": {},
     "output_type": "execute_result"
    }
   ],
   "source": [
    "from sklearn.datasets import load_digits\n",
    "\n",
    "brut = load_digits(return_X_y = True, as_frame = True)\n",
    "data = pd.DataFrame(brut[0])\n",
    "target = pd.Series(brut[1])\n",
    "\n",
    "data"
   ]
  },
  {
   "cell_type": "markdown",
   "id": "ab83b043",
   "metadata": {},
   "source": [
    "This dataset contains 1797 rows, which means that there are 1797 images of handwritten digits in it. There are 64 columns with a value between 0 and 16. Each column represents a pixel of the image, each image has a size of 8x8. If the value of a column is 0 then the pixel is white, and the more the value increase from 0 to 16, the darker the pixel is, 16 being totally black.\n",
    "\n",
    "Let's plot some of the images."
   ]
  },
  {
   "cell_type": "code",
   "execution_count": 4,
   "id": "4aba956b",
   "metadata": {},
   "outputs": [],
   "source": [
    "first_image = data.iloc[0]\n",
    "np_image = first_image.values\n",
    "np_image = np_image.reshape(8,8)"
   ]
  },
  {
   "cell_type": "code",
   "execution_count": 5,
   "id": "6d2f82ad",
   "metadata": {},
   "outputs": [
    {
     "data": {
      "text/plain": [
       "<matplotlib.image.AxesImage at 0x2e40c081e50>"
      ]
     },
     "execution_count": 5,
     "metadata": {},
     "output_type": "execute_result"
    },
    {
     "data": {
      "image/png": "[encoded data removed]",
      "text/plain": [
       "<Figure size 432x288 with 1 Axes>"
      ]
     },
     "metadata": {
      "needs_background": "light"
     },
     "output_type": "display_data"
    }
   ],
   "source": [
    "plt.imshow(np_image, cmap='gray_r')"
   ]
  },
  {
   "cell_type": "code",
   "execution_count": 6,
   "id": "fc5e14bc",
   "metadata": {},
   "outputs": [
    {
     "data": {
      "image/png": "[encoded data removed]",
      "text/plain": [
       "<Figure size 720x360 with 8 Axes>"
      ]
     },
     "metadata": {
      "needs_background": "light"
     },
     "output_type": "display_data"
    }
   ],
   "source": [
    "fig, ax = plt.subplots(2, 4, figsize=(10,5))\n",
    "fig.tight_layout()\n",
    "row = [0,100,200,300,1000,1100,1200,1300]\n",
    "\n",
    "for i, ax in enumerate(ax.flat):\n",
    "    image = data.iloc[row[i]]\n",
    "    np_image = image.values\n",
    "    np_image = np_image.reshape(8,8)\n",
    "    ax.imshow(np_image, cmap='gray_r')\n",
    "    title = 'Number = ' + str(target[row[i]])\n",
    "    ax.set_title(title, fontsize = 12)"
   ]
  },
  {
   "cell_type": "markdown",
   "id": "d62ed49a",
   "metadata": {},
   "source": [
    "## Using Scikit-Learn library"
   ]
  },
  {
   "cell_type": "markdown",
   "id": "035749e6",
   "metadata": {},
   "source": [
    "To build our digits classifier we'll first use scikit-learn library."
   ]
  },
  {
   "cell_type": "code",
   "execution_count": 7,
   "id": "bd3ad700",
   "metadata": {},
   "outputs": [],
   "source": [
    "from sklearn.neighbors import KNeighborsClassifier\n",
    "from sklearn.model_selection import KFold\n",
    "from sklearn.metrics import accuracy_score\n",
    "from sklearn.neural_network import MLPClassifier"
   ]
  },
  {
   "cell_type": "code",
   "execution_count": 8,
   "id": "617463b2",
   "metadata": {},
   "outputs": [],
   "source": [
    "complete_data = pd.DataFrame(brut[0])\n",
    "complete_data['target'] = target\n",
    "\n",
    "from sklearn.model_selection import train_test_split\n",
    "\n",
    "training,testing = train_test_split(complete_data,test_size = 0.2,random_state = 15)"
   ]
  },
  {
   "cell_type": "code",
   "execution_count": 9,
   "id": "235d83d4",
   "metadata": {},
   "outputs": [],
   "source": [
    "features = list(complete_data.columns)\n",
    "features = features[:-1]\n",
    "labels = 'target'"
   ]
  },
  {
   "cell_type": "markdown",
   "id": "0ff87cab",
   "metadata": {},
   "source": [
    "### K-neighbor model\n",
    "\n",
    "Let's try with a k-neighbor model:"
   ]
  },
  {
   "cell_type": "code",
   "execution_count": 10,
   "id": "3c10f05d",
   "metadata": {},
   "outputs": [],
   "source": [
    "\"\"\"\n",
    "k: number of neighbor taken into account\n",
    "features: name of the columns used in the training\n",
    "labels: name of the target column(s)\n",
    "\"\"\"\n",
    "\n",
    "def train(k, features, labels, df_tr): # Train a K-neighbor model\n",
    "    knn = KNeighborsClassifier(k)\n",
    "    knn.fit(df_tr[features], df_tr[labels])\n",
    "    return knn\n",
    "\n",
    "def test(model, features, labels, df_te): # Test and measure the accuracy of the model on a test dataset\n",
    "    predictions = model.predict(df_te[features])\n",
    "    return accuracy_score(df_te[labels], predictions)\n",
    "\n",
    "def cross_validate(k, data, features, labels, n_splits=4): # Perform a cross validation of the model\n",
    "    accuracy_list = []\n",
    "    knn = train(k, features, labels, data)\n",
    "    kf = KFold(n_splits, shuffle=True, random_state=1)\n",
    "    for train_index, test_index in kf.split(data):\n",
    "        train_df = data.iloc[train_index].copy()\n",
    "        test_df = data.iloc[test_index].copy()\n",
    "        model = train(k, features, labels, train_df)\n",
    "        score = test(model, features, labels, test_df)\n",
    "        accuracy_list.append(score)\n",
    "    return np.mean(accuracy_list)\n",
    "    \n",
    "    "
   ]
  },
  {
   "cell_type": "code",
   "execution_count": 11,
   "id": "5f5ca29d",
   "metadata": {},
   "outputs": [
    {
     "data": {
      "text/plain": [
       "0.9888888888888889"
      ]
     },
     "execution_count": 11,
     "metadata": {},
     "output_type": "execute_result"
    }
   ],
   "source": [
    "knn = train(5, features, labels, training)\n",
    "\n",
    "test(knn, features, labels, testing)"
   ]
  },
  {
   "cell_type": "code",
   "execution_count": 12,
   "id": "d73ac260",
   "metadata": {},
   "outputs": [
    {
     "data": {
      "text/plain": [
       "0.9832999257609502"
      ]
     },
     "execution_count": 12,
     "metadata": {},
     "output_type": "execute_result"
    }
   ],
   "source": [
    "cross_validate(5, complete_data, features, labels, 4)"
   ]
  },
  {
   "cell_type": "markdown",
   "id": "9ddaff70",
   "metadata": {},
   "source": [
    "With 5 neighbors, the cross-validation shows use an accuracy score of 0.983 out of 1 which is excellent.\n",
    "\n",
    "Let's try with other neighbors' values:"
   ]
  },
  {
   "cell_type": "code",
   "execution_count": 13,
   "id": "bf623948",
   "metadata": {},
   "outputs": [],
   "source": [
    "k_list = []\n",
    "cross_score = []\n",
    "\n",
    "for i in range(1, 21):\n",
    "    score = cross_validate(i, complete_data, features, labels, 4)\n",
    "    k_list.append(i)\n",
    "    cross_score.append(score)"
   ]
  },
  {
   "cell_type": "code",
   "execution_count": 14,
   "id": "86a2d60f",
   "metadata": {},
   "outputs": [
    {
     "data": {
      "image/png": "[encoded data removed]",
      "text/plain": [
       "<Figure size 432x288 with 1 Axes>"
      ]
     },
     "metadata": {
      "needs_background": "light"
     },
     "output_type": "display_data"
    }
   ],
   "source": [
    "plt.plot(k_list, cross_score)\n",
    "plt.xlabel(\"Value of k\")\n",
    "plt.ylabel(\"Accuracy score\")\n",
    "plt.show()"
   ]
  },
  {
   "cell_type": "code",
   "execution_count": 15,
   "id": "9fef9a25",
   "metadata": {},
   "outputs": [
    {
     "data": {
      "text/plain": [
       "0.9855283345706509"
      ]
     },
     "execution_count": 15,
     "metadata": {},
     "output_type": "execute_result"
    }
   ],
   "source": [
    "max(cross_score)"
   ]
  },
  {
   "cell_type": "markdown",
   "id": "6259b190",
   "metadata": {},
   "source": [
    "The best accuracy score is obtained with 3 neighbors (k = 3). The accuracy score is 0.986."
   ]
  },
  {
   "cell_type": "markdown",
   "id": "b5ad8c0a",
   "metadata": {},
   "source": [
    "### Neural network\n",
    "\n",
    "Let's see what we can get with an other method: the neural network.\n",
    "We'll test this method with several amount of neurons.\n",
    "\n",
    "#### With 1 hidden layer"
   ]
  },
  {
   "cell_type": "code",
   "execution_count": 16,
   "id": "f1c453f9",
   "metadata": {},
   "outputs": [],
   "source": [
    "\"\"\"\n",
    "n: number of neurons in the hidden layer\n",
    "features: name of the columns used in the training\n",
    "labels: name of the target column(s)\n",
    "\"\"\"\n",
    "\n",
    "from sklearn.neural_network import MLPClassifier\n",
    "\n",
    "def train_neural(n, features, labels, df_tr): # Train a 1 hidden layered neural network\n",
    "    mlp = MLPClassifier(hidden_layer_sizes=(n,), max_iter = 1000)\n",
    "    mlp.fit(df_tr[features], df_tr[labels])\n",
    "    return mlp\n",
    "\n",
    "def cross_validate_neural(n, data, features, labels, n_splits=4): # Cross validate a 1 hidden layered neural network\n",
    "    accuracy_list = []\n",
    "    kf = KFold(n_splits, shuffle=True, random_state=1)\n",
    "    for train_index, test_index in kf.split(data):\n",
    "        train_df = data.iloc[train_index].copy()\n",
    "        test_df = data.iloc[test_index].copy()\n",
    "        model = train_neural(n, features, labels, train_df)\n",
    "        score = test(model, features, labels, test_df)\n",
    "        accuracy_list.append(score)\n",
    "    return np.mean(accuracy_list)"
   ]
  },
  {
   "cell_type": "code",
   "execution_count": 17,
   "id": "cb578fe8",
   "metadata": {},
   "outputs": [],
   "source": [
    "neurons = [10,16,32,64,128]\n",
    "neural_score = []\n",
    "for n in neurons:\n",
    "    score = cross_validate_neural(n, complete_data, features, labels, 4)\n",
    "    neural_score.append(score)"
   ]
  },
  {
   "cell_type": "code",
   "execution_count": 18,
   "id": "21512d19",
   "metadata": {},
   "outputs": [
    {
     "data": {
      "image/png": "[encoded data removed]",
      "text/plain": [
       "<Figure size 432x288 with 1 Axes>"
      ]
     },
     "metadata": {
      "needs_background": "light"
     },
     "output_type": "display_data"
    }
   ],
   "source": [
    "plt.plot(neurons, neural_score)\n",
    "plt.xlabel(\"Number of neurons\")\n",
    "plt.ylabel(\"Accuracy score\")\n",
    "plt.show()"
   ]
  },
  {
   "cell_type": "code",
   "execution_count": 19,
   "id": "3dae4bad",
   "metadata": {},
   "outputs": [
    {
     "data": {
      "text/plain": [
       "[0.9476886909180896,\n",
       " 0.9582553823311062,\n",
       " 0.962713437268003,\n",
       " 0.9677183865379857,\n",
       " 0.9716184112843357]"
      ]
     },
     "execution_count": 19,
     "metadata": {},
     "output_type": "execute_result"
    }
   ],
   "source": [
    "neural_score"
   ]
  },
  {
   "cell_type": "markdown",
   "id": "de9285fc",
   "metadata": {},
   "source": [
    "The best accuracy score we got with 1 hidden layer is with 128 neurons and it goes to 0.972."
   ]
  },
  {
   "cell_type": "markdown",
   "id": "9288ae1e",
   "metadata": {},
   "source": [
    "#### With 2 hidden layers"
   ]
  },
  {
   "cell_type": "code",
   "execution_count": 20,
   "id": "1f199f9b",
   "metadata": {},
   "outputs": [],
   "source": [
    "\"\"\"\n",
    "n: number of neurons in the first hidden layer\n",
    "m: number of neurons in the second hidden layer\n",
    "features: name of the columns used in the training\n",
    "labels: name of the target column(s)\n",
    "\"\"\"\n",
    "\n",
    "def train_neural_2(n, m, features, labels, df_tr): # Train a 2 hidden layered neural network\n",
    "    mlp = MLPClassifier(hidden_layer_sizes=(n,m), max_iter = 1000)\n",
    "    mlp.fit(df_tr[features], df_tr[labels])\n",
    "    return mlp\n",
    "\n",
    "def cross_validate_neural_2(n, m, data, features, labels, n_splits=4): # Cross validate a 2 hidden layered neural network\n",
    "    accuracy_list = []\n",
    "    kf = KFold(n_splits, shuffle=True, random_state=1)\n",
    "    for train_index, test_index in kf.split(data):\n",
    "        train_df = data.iloc[train_index].copy()\n",
    "        test_df = data.iloc[test_index].copy()\n",
    "        model = train_neural_2(n, m, features, labels, train_df)\n",
    "        score = test(model, features, labels, test_df)\n",
    "        accuracy_list.append(score)\n",
    "    return np.mean(accuracy_list)"
   ]
  },
  {
   "cell_type": "code",
   "execution_count": 21,
   "id": "407a2006",
   "metadata": {},
   "outputs": [],
   "source": [
    "layers_score = cross_validate_neural_2(64, 64, complete_data, features, labels, 4)"
   ]
  },
  {
   "cell_type": "code",
   "execution_count": 22,
   "id": "1f07f23a",
   "metadata": {},
   "outputs": [
    {
     "data": {
      "text/plain": [
       "0.9738418708240535"
      ]
     },
     "execution_count": 22,
     "metadata": {},
     "output_type": "execute_result"
    }
   ],
   "source": [
    "layers_score"
   ]
  },
  {
   "cell_type": "code",
   "execution_count": 23,
   "id": "05203196",
   "metadata": {},
   "outputs": [],
   "source": [
    "neurons_2 = [10,16,32,64,128]\n",
    "neural_score_2 = []\n",
    "for n in neurons_2:\n",
    "    score = cross_validate_neural_2(n, n, complete_data, features, labels, 4)\n",
    "    neural_score_2.append(score)"
   ]
  },
  {
   "cell_type": "code",
   "execution_count": 24,
   "id": "799013ed",
   "metadata": {},
   "outputs": [
    {
     "data": {
      "image/png": "[encoded data removed]",
      "text/plain": [
       "<Figure size 432x288 with 1 Axes>"
      ]
     },
     "metadata": {
      "needs_background": "light"
     },
     "output_type": "display_data"
    }
   ],
   "source": [
    "plt.plot(neurons_2, neural_score_2)\n",
    "plt.xlabel(\"Number of neurons\")\n",
    "plt.ylabel(\"Accuracy score\")\n",
    "plt.show()"
   ]
  },
  {
   "cell_type": "code",
   "execution_count": 25,
   "id": "3ae115cd",
   "metadata": {},
   "outputs": [
    {
     "data": {
      "text/plain": [
       "[0.9404590447908934,\n",
       " 0.9471331353625341,\n",
       " 0.9643850532046523,\n",
       " 0.9699554565701559,\n",
       " 0.9732826033160109]"
      ]
     },
     "execution_count": 25,
     "metadata": {},
     "output_type": "execute_result"
    }
   ],
   "source": [
    "neural_score_2"
   ]
  },
  {
   "cell_type": "markdown",
   "id": "750f3fd2",
   "metadata": {},
   "source": [
    "The best accuracy score we got with 2 hidden layers is with 128 neurons per layer, and it goes to 0.973."
   ]
  },
  {
   "cell_type": "markdown",
   "id": "1e42f787",
   "metadata": {},
   "source": [
    "#### With 3 hidden layers"
   ]
  },
  {
   "cell_type": "code",
   "execution_count": 26,
   "id": "d4d3f94b",
   "metadata": {},
   "outputs": [],
   "source": [
    "\"\"\"\n",
    "n: number of neurons in the first hidden layer\n",
    "m: number of neurons in the second hidden layer\n",
    "p: number of neurons in the third hidden layer\n",
    "features: name of the columns used in the training\n",
    "labels: name of the target column(s)\n",
    "\"\"\"\n",
    "\n",
    "def train_neural_3(n, m, p, features, labels, df_tr): # Train a 3 hidden layered neural network\n",
    "    mlp = MLPClassifier(hidden_layer_sizes=(n,m,p), max_iter = 1000)\n",
    "    mlp.fit(df_tr[features], df_tr[labels])\n",
    "    return mlp\n",
    "\n",
    "def cross_validate_neural_3(n, m, p, data, features, labels, n_splits=4): # Cross validate a 2 hidden layered neural network\n",
    "    accuracy_list = []\n",
    "    kf = KFold(n_splits, shuffle=True, random_state=1)\n",
    "    for train_index, test_index in kf.split(data):\n",
    "        train_df = data.iloc[train_index].copy()\n",
    "        test_df = data.iloc[test_index].copy()\n",
    "        model = train_neural_3(n, m, p, features, labels, train_df)\n",
    "        score = test(model, features, labels, test_df)\n",
    "        accuracy_list.append(score)\n",
    "    return np.mean(accuracy_list)"
   ]
  },
  {
   "cell_type": "code",
   "execution_count": 27,
   "id": "acf99018",
   "metadata": {},
   "outputs": [],
   "source": [
    "neurons_3 = [10,16,32,64,128]\n",
    "neural_score_3 = []\n",
    "\n",
    "for n in neurons_3:\n",
    "    score = cross_validate_neural_3(n, n, n, complete_data, features, labels, 4)\n",
    "    neural_score_3.append(score)"
   ]
  },
  {
   "cell_type": "code",
   "execution_count": 28,
   "id": "166d4928",
   "metadata": {
    "scrolled": true
   },
   "outputs": [
    {
     "data": {
      "image/png": "[encoded data removed]",
      "text/plain": [
       "<Figure size 432x288 with 1 Axes>"
      ]
     },
     "metadata": {
      "needs_background": "light"
     },
     "output_type": "display_data"
    }
   ],
   "source": [
    "plt.plot(neurons_3, neural_score_3)\n",
    "plt.xlabel(\"Number of neurons\")\n",
    "plt.ylabel(\"Accuracy score\")\n",
    "plt.show()"
   ]
  },
  {
   "cell_type": "code",
   "execution_count": 29,
   "id": "4cf62612",
   "metadata": {},
   "outputs": [
    {
     "data": {
      "text/plain": [
       "[0.9360071764414748,\n",
       " 0.9565899529819352,\n",
       " 0.9643924771096264,\n",
       " 0.9704998762682504,\n",
       " 0.974951744617669]"
      ]
     },
     "execution_count": 29,
     "metadata": {},
     "output_type": "execute_result"
    }
   ],
   "source": [
    "neural_score_3"
   ]
  },
  {
   "cell_type": "markdown",
   "id": "b51b301b",
   "metadata": {},
   "source": [
    "The best score we got is 0.975 and is obtained with 3 layers and 128 neurons.\n",
    "\n",
    "\n",
    "After all this tests, we can say that for a digit classifier using the handwritten digits dataset that is available in Scikit-learn library a k-neighbor model and a neural network with 3 hidden layers and 128 neurons per layer have a similar accuracy even though the k-neighbor model seems slightly more accurate."
   ]
  },
  {
   "cell_type": "markdown",
   "id": "6fa9c904",
   "metadata": {},
   "source": [
    "_____________"
   ]
  },
  {
   "cell_type": "markdown",
   "id": "6c804196",
   "metadata": {},
   "source": [
    "## Neural network from scratch"
   ]
  },
  {
   "attachments": {
    "image-2.png": {
     "image/png": "[encoded data removed]"
    },
    "image-3.png": {
     "image/png": "[encoded data removed]"
    },
    "image.png": {
     "image/png": "[encoded data removed]"
    }
   },
   "cell_type": "markdown",
   "id": "1514ce5f",
   "metadata": {},
   "source": [
    "To get a more complete view of how a neural network works, we'll build one without using sklearn nor any other deep learning library.\n",
    "\n",
    "To do that, we need to define functions that will train the network.\n",
    "\n",
    "The functions below are able to train a neural network depending on several parameters to make a digits classifier. With these functions, we are able to choose the number of hidden layers, the number of neurons in the hidden layers, the number of pixels in the images and the number of iterations the training process has to perform.\n",
    "\n",
    "Here we have an illustration of how the training process operates for a neural network with 1 input layer (A[0] or X), 1 hidden layer (A[1]) and 1 output layer (A[2]).\n",
    "\n",
    "In the first iteration, we choose random values for the matrices W (the weights) and the matrices b (the bias). Then we perform the following operations:\n",
    "\n",
    "![image.png](attachment:image.png)\n",
    "\n",
    "The output layer matrix (A[2]) is a 10x1 matrix. The first row containing the probability of the input image being a 0, the second of it being a 1, up until the last row having the probability of it being a 9.\n",
    "\n",
    "Then, we check the gap between the real value in the image and our prediction. And we calculate the error for each parameter:\n",
    "\n",
    "![image-2.png](attachment:image-2.png)\n",
    "\n",
    "And finally, we update the initial parameters:\n",
    "\n",
    "![image-3.png](attachment:image-3.png)\n",
    "\n",
    "This process is performed again with the updated parameters and must be done until the accuracy value is satisfactory. The number of iterations performed can be chosen by the user."
   ]
  },
  {
   "cell_type": "code",
   "execution_count": 30,
   "id": "76dfaa3f",
   "metadata": {},
   "outputs": [],
   "source": [
    "\"\"\"\n",
    "neurons: number of neurons\n",
    "size: number of pixel in the digits images\n",
    "h_layer: number of hidden layers in the neural network\n",
    "X: input matrix\n",
    "Y: matrix containing the label of the images in the input (for the training process)\n",
    "d: dictionnary containing the weight and bias matrices (W and b) for each layer\n",
    "d_2: dictionnary containing the Z and A matrices for each layer\n",
    "d_3: dictionnary containing the dZ, dW and db matrices (used for the correction of the model) for each layer\n",
    "alpha: learning rate\n",
    "\"\"\"\n",
    "def initialisation(neurons, size, h_layer): # Initialise the weight and bias matrices with random values\n",
    "    d = {'W1' : np.random.rand(neurons,size) - 0.5, 'b1' : np.random.rand(neurons, 1) - 0.5}\n",
    "    if h_layer > 1:\n",
    "        for k in range(2, h_layer + 1):\n",
    "            d[\"W{0}\".format(k)] = np.random.rand(neurons,neurons) - 0.5\n",
    "            d[\"b{0}\".format(k)] = np.random.rand(neurons,1) - 0.5  \n",
    "    d[\"W{0}\".format(h_layer + 1)] = np.random.rand(10,neurons) - 0.5\n",
    "    d[\"b{0}\".format(h_layer + 1)] = np.random.rand(10,1) - 0.5\n",
    "    return d\n",
    "\n",
    "def Relu(Z): # Rectified linear unit function\n",
    "    return np.maximum(Z, 0)\n",
    "\n",
    "def softmax(Z): # Softmax function\n",
    "    A = np.exp(Z) / sum(np.exp(Z))\n",
    "    return A\n",
    "\n",
    "def train_1(d, X): # Calculate the Z and A matrices for each layer\n",
    "    i = int(len(d) / 2 - 1) \n",
    "    d_2 = {'Z1' : d['W1'].dot(X) + d['b1']}\n",
    "    d_2['A1'] = Relu(d_2['Z1'])  \n",
    "    if i > 1:\n",
    "        for k in range(2, i + 1):\n",
    "            d_2[\"Z{0}\".format(k)] = d[\"W{0}\".format(k)].dot(d_2[\"A{0}\".format(k-1)]) + d[\"b{0}\".format(k)]\n",
    "            d_2[\"A{0}\".format(k)] = Relu(d_2[\"Z{0}\".format(k)])\n",
    "    d_2[\"Z{0}\".format(i + 1)] = d[\"W{0}\".format(i + 1)].dot(d_2[\"A{0}\".format(i)]) + d[\"b{0}\".format(i + 1)]\n",
    "    d_2[\"A{0}\".format(i + 1)] = softmax(d_2[\"Z{0}\".format(i + 1)]) \n",
    "    return d_2\n",
    "    \n",
    "def check_mat(Y): # Adapt the matrix Y containing the labels of the input digits to use it in the training process\n",
    "    one_hot_Y = np.zeros((Y.size, Y.max() + 1))\n",
    "    one_hot_Y[np.arange(Y.size), Y] = 1\n",
    "    one_hot_Y = one_hot_Y.T\n",
    "    return one_hot_Y\n",
    "    \n",
    "def Relu_deriv(Z): # Derivative of the rectified linear unit function\n",
    "    return Z > 0\n",
    "\n",
    "def train_2(d, d_2, X, Y): # Calculate the corrective matrices dZ, dW and db\n",
    "    m = X.shape[1]\n",
    "    i = int(len(d) / 2 - 1) \n",
    "    one_hot_Y = check_mat(Y)\n",
    "    d_3 = {}\n",
    "    d_3[\"dZ{0}\".format(i + 1)] = d_2[\"A{0}\".format(i + 1)] - one_hot_Y\n",
    "    d_3[\"dW{0}\".format(i + 1)] = 1 / m * d_3[\"dZ{0}\".format(i + 1)].dot(d_2[\"A{0}\".format(i)].T)\n",
    "    d_3[\"db{0}\".format(i + 1)] = 1 / m *  np.sum(d_3[\"dZ{0}\".format(i + 1)])\n",
    "    if i > 1:\n",
    "        for k in range(2, i + 1):\n",
    "            d_3[\"dZ{0}\".format( i + 2 - k)] =  d[\"W{0}\".format( i + 3 - k)].T.dot(d_3[\"dZ{0}\".format( i + 3 - k)]) * Relu_deriv(d_2[\"Z{0}\".format( i + 2 - k)])\n",
    "            d_3[\"dW{0}\".format( i + 2 - k)] = 1 / m * d_3[\"dZ{0}\".format(i + 2 - k)].dot(d_2[\"A{0}\".format(i + 1 - k)].T)\n",
    "            d_3[\"db{0}\".format(i + 2 - k)] = 1 / m *  np.sum(d_3[\"dZ{0}\".format(i + 2 - k)])\n",
    "    d_3[\"dZ1\"] =  d[\"W2\"].T.dot(d_3[\"dZ2\"]) * Relu_deriv(d_2[\"Z1\"])\n",
    "    d_3[\"dW1\"] = 1 / m * d_3[\"dZ1\"].dot(X.T)\n",
    "    d_3[\"db1\"] = 1 / m *  np.sum(d_3[\"dZ1\"])\n",
    "    return d_3\n",
    "\n",
    "def update_params(d, d_3, alpha): # Update the weight and bias matrices using the corrective matrices\n",
    "    d_updated = {}\n",
    "    for i in range (1, 3):\n",
    "        d_updated[\"W{0}\".format(i)] = d[\"W{0}\".format(i)] - alpha * d_3[\"dW{0}\".format(i)]\n",
    "        d_updated[\"b{0}\".format(i)] = d[\"b{0}\".format(i)] - alpha * d_3[\"db{0}\".format(i)]\n",
    "    return d_updated"
   ]
  },
  {
   "cell_type": "code",
   "execution_count": 31,
   "id": "0c83f443",
   "metadata": {},
   "outputs": [],
   "source": [
    "def get_predictions(d_2): # Get the prediction\n",
    "    i = int(len(d_2) / 2 - 1) \n",
    "    output_layer = 'A' + str(i + 1)\n",
    "    return np.argmax(d_2[output_layer], 0)\n",
    "\n",
    "def get_accuracy(predictions, Y): # Compare the prediction with the actual values to get the accuracy score\n",
    "    print(predictions, Y)\n",
    "    return np.sum(predictions == Y) / Y.size\n",
    "\n",
    "# Apply the training process of the network and return the weight and bias matrices for each layer of the trained neural network\n",
    "def gradient_descent(X, Y, alpha, iterations, neurons, size, h_layer): \n",
    "    d = initialisation(neurons, size, h_layer)\n",
    "    d_2 = train_1(d, X)\n",
    "    d_3 = train_2(d, d_2, X, Y)\n",
    "    for i in range(1, 1 + iterations):\n",
    "        d.update(update_params(d, d_3, alpha))\n",
    "        d_2.update(train_1(d, X))\n",
    "        d_3.update(train_2(d, d_2, X, Y))\n",
    "        if i % 10 == 0:\n",
    "            print(\"Iteration: \", i)\n",
    "            predictions = get_predictions(d_2)\n",
    "            print(get_accuracy(predictions, Y))\n",
    "    return d"
   ]
  },
  {
   "cell_type": "code",
   "execution_count": 32,
   "id": "dc00429b",
   "metadata": {},
   "outputs": [],
   "source": [
    "def make_predictions(d, X): # Using the trained network weight and bias matrices, return a prediction of an input image(s)\n",
    "    d_2 = train_1(d, X)\n",
    "    predictions = get_predictions(d_2)\n",
    "    return predictions\n",
    "\n",
    "def test_prediction(index, d, X, Y, s): # Check and plot the prediction\n",
    "    current_image = X[:, index, None]\n",
    "    prediction = make_predictions(d, X[:, index, None])\n",
    "    label = Y[index]\n",
    "    print(\"Prediction: \", prediction)\n",
    "    print(\"Label: \", label)\n",
    "    size = int(np.sqrt(s))\n",
    "    current_image = current_image.reshape((size, size)) * 255\n",
    "    plt.gray()\n",
    "    plt.imshow(current_image, interpolation='nearest')\n",
    "    plt.show()"
   ]
  },
  {
   "cell_type": "markdown",
   "id": "ba060603",
   "metadata": {},
   "source": [
    "Now that all the functions are finnished, we can apply them and build our neural network.\n",
    "\n",
    "We first need to adapt our dataset as our functions only take arrays as an input, we also need to transpose the dataset array.\n",
    "We divide our input into 2 dataframe/arrays, one for training and one for testing."
   ]
  },
  {
   "cell_type": "code",
   "execution_count": 33,
   "id": "bcd4f90e",
   "metadata": {},
   "outputs": [],
   "source": [
    "data_digits = pd.DataFrame(data) / 16\n",
    "data_digits['target'] = target\n",
    "\n",
    "from sklearn.model_selection import train_test_split\n",
    "\n",
    "training,testing = train_test_split(data_digits,test_size = 0.2,random_state = 15)\n",
    "\n",
    "features = list(data_digits.columns)\n",
    "features = features[:-1]\n",
    "labels = 'target'\n",
    "\n",
    "training_X = np.array(training.drop(labels, axis = 1)).T\n",
    "training_Y = np.array(training[labels]).T\n",
    "testing_X = np.array(testing.drop(labels, axis = 1)).T\n",
    "testing_Y = np.array(testing[labels]).T"
   ]
  },
  {
   "cell_type": "markdown",
   "id": "2b32e767",
   "metadata": {},
   "source": [
    "Now, we calculate d which is the dictionnary containing the weight and bias matrices (W and b) for each layer of our neural network."
   ]
  },
  {
   "cell_type": "code",
   "execution_count": 34,
   "id": "367c35ee",
   "metadata": {},
   "outputs": [
    {
     "name": "stdout",
     "output_type": "stream",
     "text": [
      "Iteration:  10\n",
      "[4 4 6 ... 4 6 4] [6 4 3 ... 8 8 6]\n",
      "0.3771746694502436\n",
      "...\n",
      "Iteration:  500\n",
      "[6 4 3 ... 8 8 6] [6 4 3 ... 8 8 6]\n",
      "1.0\n"
     ]
    }
   ],
   "source": [
    "d = gradient_descent(training_X, training_Y, 0.1, 500, 128, 64, 3)"
   ]
  },
  {
   "cell_type": "markdown",
   "id": "01ed4ba7",
   "metadata": {},
   "source": [
    "Let's test our result with a few images from the testing set."
   ]
  },
  {
   "cell_type": "code",
   "execution_count": 35,
   "id": "1cd23a7c",
   "metadata": {},
   "outputs": [
    {
     "name": "stdout",
     "output_type": "stream",
     "text": [
      "Prediction:  [9]\n",
      "Label:  9\n"
     ]
    },
    {
     "data": {
      "image/png": "[encoded data removed]",
      "text/plain": [
       "<Figure size 432x288 with 1 Axes>"
      ]
     },
     "metadata": {
      "needs_background": "light"
     },
     "output_type": "display_data"
    },
    {
     "name": "stdout",
     "output_type": "stream",
     "text": [
      "Prediction:  [4]\n",
      "Label:  4\n"
     ]
    },
    {
     "data": {
      "image/png": "[encoded data removed]",
      "text/plain": [
       "<Figure size 432x288 with 1 Axes>"
      ]
     },
     "metadata": {
      "needs_background": "light"
     },
     "output_type": "display_data"
    },
    {
     "name": "stdout",
     "output_type": "stream",
     "text": [
      "Prediction:  [4]\n",
      "Label:  4\n"
     ]
    },
    {
     "data": {
      "image/png": "[encoded data removed]",
      "text/plain": [
       "<Figure size 432x288 with 1 Axes>"
      ]
     },
     "metadata": {
      "needs_background": "light"
     },
     "output_type": "display_data"
    },
    {
     "name": "stdout",
     "output_type": "stream",
     "text": [
      "Prediction:  [1]\n",
      "Label:  1\n"
     ]
    },
    {
     "data": {
      "image/png": "[encoded data removed]",
      "text/plain": [
       "<Figure size 432x288 with 1 Axes>"
      ]
     },
     "metadata": {
      "needs_background": "light"
     },
     "output_type": "display_data"
    }
   ],
   "source": [
    "test_prediction(0, d, testing_X, testing_Y, 64)\n",
    "test_prediction(1, d, testing_X, testing_Y, 64)\n",
    "test_prediction(2, d, testing_X, testing_Y, 64)\n",
    "test_prediction(3, d, testing_X, testing_Y, 64)"
   ]
  },
  {
   "cell_type": "markdown",
   "id": "099b9833",
   "metadata": {},
   "source": [
    "It looks like it is working properly.\n",
    "\n",
    "Now, we'll make te predictions for the whole testing set, and calculate the accuracy of our model."
   ]
  },
  {
   "cell_type": "code",
   "execution_count": 36,
   "id": "5572d1ef",
   "metadata": {},
   "outputs": [
    {
     "name": "stdout",
     "output_type": "stream",
     "text": [
      "[9 4 4 1 2 6 4 2 5 1 5 6 8 6 6 6 4 0 1 3 3 5 2 6 7 5 4 3 7 3 9 0 4 6 7 7 1\n",
      " 8 7 9 8 0 4 9 3 8 7 6 7 2 8 9 3 1 2 8 6 4 1 4 2 9 5 0 9 5 6 2 4 4 6 4 9 0\n",
      " 0 3 2 4 4 5 2 7 1 6 3 1 3 1 2 0 7 2 5 0 5 2 9 2 9 7 0 1 0 1 6 3 8 8 2 7 8\n",
      " 3 9 7 1 3 4 6 0 6 9 6 5 1 2 9 2 5 0 6 8 1 2 4 7 6 4 7 7 9 6 5 9 2 1 6 6 6\n",
      " 0 0 3 5 1 8 7 1 8 4 1 6 8 8 8 9 2 4 0 5 5 0 3 2 5 4 8 4 1 2 0 7 9 7 4 1 8\n",
      " 0 8 4 5 1 9 6 8 2 5 6 6 5 2 5 7 6 5 0 5 2 8 3 4 8 1 4 2 4 1 0 7 3 4 8 8 9\n",
      " 1 2 4 4 4 1 2 6 9 1 9 2 1 6 6 4 4 9 9 1 0 6 5 9 4 5 7 0 9 5 2 7 9 5 9 9 5\n",
      " 0 7 9 7 6 2 5 5 8 7 8 7 6 2 2 1 5 7 1 1 1 3 0 2 3 1 7 6 2 6 9 5 3 7 9 3 8\n",
      " 5 0 5 3 3 6 4 9 8 9 2 1 9 9 0 8 7 1 0 1 1 4 4 0 6 1 7 0 6 5 0 8 1 9 8 9 3\n",
      " 2 4 4 9 3 0 1 3 4 0 0 5 1 1 9 7 8 1 0 8 7 3 2 7 9 3 7] [9 4 4 1 2 6 4 2 5 1 5 6 8 6 6 6 4 6 1 3 3 5 2 6 7 5 4 3 7 3 9 0 4 6 8 7 1\n",
      " 8 7 9 8 0 4 9 3 8 7 6 7 2 8 9 3 1 2 8 6 4 8 4 2 9 5 0 9 5 8 3 4 4 6 4 9 0\n",
      " 0 3 2 4 4 5 2 7 1 6 3 1 3 1 2 0 7 2 5 0 5 2 9 2 9 7 0 1 0 1 6 3 8 8 2 7 8\n",
      " 3 9 7 1 3 4 6 0 6 9 6 5 1 2 9 2 5 0 6 8 8 2 4 7 6 4 7 7 9 6 5 9 2 1 6 6 6\n",
      " 9 0 9 5 1 8 7 2 9 4 1 6 8 8 8 9 2 4 0 5 5 0 3 2 5 4 8 4 1 2 0 7 9 7 4 1 8\n",
      " 0 2 4 5 1 9 6 8 2 5 6 6 5 2 5 7 6 5 0 5 2 8 3 4 8 1 4 2 4 1 0 7 3 4 8 8 9\n",
      " 1 2 4 4 4 1 2 4 9 1 9 2 1 6 6 4 4 9 9 1 0 6 5 9 4 5 7 0 9 5 2 7 9 5 9 9 5\n",
      " 0 7 9 7 6 2 5 5 8 7 8 7 6 2 2 8 5 7 1 1 1 3 0 2 3 1 7 6 2 6 9 5 3 7 9 3 8\n",
      " 5 0 5 3 3 6 4 9 8 9 2 1 9 9 0 8 7 1 0 1 1 4 4 0 6 1 7 0 6 5 0 8 1 9 8 9 3\n",
      " 2 4 4 9 3 0 1 3 4 0 0 5 4 1 9 7 8 1 6 8 7 3 2 7 9 3 7]\n"
     ]
    },
    {
     "data": {
      "text/plain": [
       "0.9583333333333334"
      ]
     },
     "execution_count": 36,
     "metadata": {},
     "output_type": "execute_result"
    }
   ],
   "source": [
    "dev_predictions = make_predictions(d, testing_X)\n",
    "get_accuracy(dev_predictions, testing_Y)"
   ]
  },
  {
   "cell_type": "markdown",
   "id": "b9a386d9",
   "metadata": {},
   "source": []
  },
  {
   "cell_type": "markdown",
   "id": "b935343a",
   "metadata": {},
   "source": [
    "Using the same parameters as with the best neural network found with sklearn (3 hidden layers with 128 neurons) let's make a cross validation to see which model (the sklearn or the one made from scratch) is the most accurate."
   ]
  },
  {
   "cell_type": "code",
   "execution_count": 37,
   "id": "c1fd838b",
   "metadata": {},
   "outputs": [],
   "source": [
    "def cross_validate_scratch(n, s, h, data, features, labels, n_splits=4):\n",
    "    accuracy_list = []\n",
    "    kf = KFold(n_splits, shuffle=True, random_state=1)\n",
    "    for train_index, test_index in kf.split(data):\n",
    "        train_df = data.iloc[train_index].copy()\n",
    "        train_x = np.array(train_df.drop(labels, axis = 1)).T\n",
    "        train_y = np.array(train_df[labels]).T\n",
    "        test_df = data.iloc[test_index].copy()\n",
    "        test_x = np.array(test_df.drop(labels, axis = 1)).T\n",
    "        test_y = np.array(test_df[labels]).T\n",
    "        d = gradient_descent(train_x, train_y, 0.1, 500, n, s, h)\n",
    "        predictions = make_predictions(d, test_x)\n",
    "        score = accuracy_score(test_y, predictions)\n",
    "        accuracy_list.append(score)\n",
    "    return np.mean(accuracy_list)"
   ]
  },
  {
   "cell_type": "code",
   "execution_count": 38,
   "id": "e9b63eda",
   "metadata": {},
   "outputs": [
    {
     "name": "stdout",
     "output_type": "stream",
     "text": [
      "Iteration:  10\n",
      "[5 3 5 ... 5 5 3] [1 2 4 ... 0 9 8]\n",
      "0.19302152932442465\n",
      "...\n",
      "Iteration:  160\n",
      "[6 3 6 ... 8 5 8] [0 3 6 ... 8 9 8]\n",
      "0.5007418397626113\n"
     ]
    },
    {
     "name": "stdout",
     "output_type": "stream",
     "text": [
      "Iteration:  170\n",
      "[6 3 6 ... 8 5 8] [0 3 6 ... 8 9 8]\n",
      "0.5341246290801187\n",
      "...\n",
      "Iteration:  500\n",
      "[0 1 2 ... 8 8 8] [0 1 2 ... 8 8 8]\n",
      "0.9992581602373887\n"
     ]
    },
    {
     "data": {
      "text/plain": [
       "0.9460121257114575"
      ]
     },
     "execution_count": 38,
     "metadata": {},
     "output_type": "execute_result"
    }
   ],
   "source": [
    "data_digits = pd.DataFrame(data) / 16\n",
    "data_digits['target'] = target\n",
    "\n",
    "\n",
    "\n",
    "features = list(data_digits.columns)\n",
    "features = features[:-1]\n",
    "labels = 'target'\n",
    "\n",
    "cross_validate_scratch(128, 64, 3, data_digits, features, labels, 4)"
   ]
  },
  {
   "cell_type": "markdown",
   "id": "32916717",
   "metadata": {},
   "source": [
    "With sklearn, we get an accuracy score of 0.976 and with the model from scratch we get 0.954.\n",
    "\n",
    "There are some progress to make with the algorithm made from scratch but we still get a quite excellent result."
   ]
  },
  {
   "cell_type": "markdown",
   "id": "8dac0792",
   "metadata": {},
   "source": [
    "________________________________________________________________________________________________________________________________"
   ]
  },
  {
   "cell_type": "markdown",
   "id": "9e5575ac",
   "metadata": {},
   "source": [
    "### Kaggle dataset\n",
    "\n",
    "\n",
    "Let's try using another dataset. We'll use one from Kaggle website (https://www.kaggle.com/competitions/digit-recognizer).\n",
    "This dataset contains bigger images for the digits, instead of having dimensions of 8x8, we have here dimensions of 64x64. Furthermore, the scale of value in the pixel is between 0 to 255."
   ]
  },
  {
   "cell_type": "code",
   "execution_count": 39,
   "id": "98289bf5",
   "metadata": {},
   "outputs": [],
   "source": [
    "dataz = pd.read_csv('train_digits.csv')\n",
    "dataz = np.array(dataz)\n",
    "m, n = dataz.shape\n",
    "np.random.shuffle(dataz) # shuffle before splitting into dev and training sets\n",
    "\n",
    "data_dev = dataz[0:1000].T\n",
    "Y_dev = data_dev[0]\n",
    "X_dev = data_dev[1:n]\n",
    "X_dev = X_dev / 255.\n",
    "\n",
    "data_train = dataz[1000:m].T\n",
    "Y_train = data_train[0]\n",
    "X_train = data_train[1:n]\n",
    "X_train = X_train / 255."
   ]
  },
  {
   "cell_type": "markdown",
   "id": "d0eef76f",
   "metadata": {},
   "source": [
    "We'll train a network with 3 hidden layers and 128 neurons per hidden layer."
   ]
  },
  {
   "cell_type": "code",
   "execution_count": 40,
   "id": "d2ca0cb2",
   "metadata": {},
   "outputs": [
    {
     "name": "stdout",
     "output_type": "stream",
     "text": [
      "Iteration:  10\n",
      "[6 9 0 ... 5 6 9] [7 8 0 ... 0 7 4]\n",
      "0.2575121951219512\n",
      "...\n",
      "Iteration:  500\n",
      "[7 1 0 ... 0 7 4] [7 8 0 ... 0 7 4]\n",
      "0.8826585365853659\n"
     ]
    }
   ],
   "source": [
    "d_k = gradient_descent(X_train, Y_train, 0.1, 500, 128, 784, 3)"
   ]
  },
  {
   "cell_type": "markdown",
   "id": "f921b607",
   "metadata": {},
   "source": [
    "We got an accuracy score of 0.88 for the training set. "
   ]
  },
  {
   "cell_type": "code",
   "execution_count": 41,
   "id": "a1ab713d",
   "metadata": {},
   "outputs": [],
   "source": [
    "data_kaggle = pd.read_csv('train_digits.csv')\n",
    "features = list(data_kaggle.columns)[1:]\n",
    "labels = 'label'\n",
    "data_kaggle[features] = data_kaggle[features] / 255"
   ]
  },
  {
   "cell_type": "code",
   "execution_count": 42,
   "id": "7aa9c8e7",
   "metadata": {},
   "outputs": [
    {
     "name": "stdout",
     "output_type": "stream",
     "text": [
      "Iteration:  10\n",
      "...\n",
      "Iteration:  160\n",
      "[1 1 4 ... 1 6 4] [1 1 4 ... 1 6 9]\n",
      "0.7685396825396825\n"
     ]
    },
    {
     "name": "stdout",
     "output_type": "stream",
     "text": [
      "Iteration:  170\n",
      "[1 1 4 ... 1 6 4] [1 1 4 ... 1 6 9]\n",
      "...\n",
      "Iteration:  500\n",
      "[1 0 1 ... 0 1 7] [1 0 1 ... 0 1 7]\n",
      "0.8451746031746031\n"
     ]
    },
    {
     "data": {
      "text/plain": [
       "0.8502380952380952"
      ]
     },
     "execution_count": 42,
     "metadata": {},
     "output_type": "execute_result"
    }
   ],
   "source": [
    "cross_validate_scratch(128, 784, 3, data_kaggle, features, labels, 4)"
   ]
  },
  {
   "cell_type": "markdown",
   "id": "011dbf5b",
   "metadata": {},
   "source": [
    "The cross validation gives us an accuracy score of 0.85"
   ]
  },
  {
   "cell_type": "code",
   "execution_count": 45,
   "id": "8efb977c",
   "metadata": {},
   "outputs": [
    {
     "name": "stdout",
     "output_type": "stream",
     "text": [
      "Prediction:  [1]\n",
      "Label:  1\n"
     ]
    },
    {
     "data": {
      "image/png": "[encoded data removed]",
      "text/plain": [
       "<Figure size 432x288 with 1 Axes>"
      ]
     },
     "metadata": {
      "needs_background": "light"
     },
     "output_type": "display_data"
    },
    {
     "name": "stdout",
     "output_type": "stream",
     "text": [
      "Prediction:  [6]\n",
      "Label:  6\n"
     ]
    },
    {
     "data": {
      "image/png": "[encoded data removed]",
      "text/plain": [
       "<Figure size 432x288 with 1 Axes>"
      ]
     },
     "metadata": {
      "needs_background": "light"
     },
     "output_type": "display_data"
    },
    {
     "name": "stdout",
     "output_type": "stream",
     "text": [
      "Prediction:  [0]\n",
      "Label:  0\n"
     ]
    },
    {
     "data": {
      "image/png": "[encoded data removed]",
      "text/plain": [
       "<Figure size 432x288 with 1 Axes>"
      ]
     },
     "metadata": {
      "needs_background": "light"
     },
     "output_type": "display_data"
    },
    {
     "name": "stdout",
     "output_type": "stream",
     "text": [
      "Prediction:  [9]\n",
      "Label:  9\n"
     ]
    },
    {
     "data": {
      "image/png": "[encoded data removed]",
      "text/plain": [
       "<Figure size 432x288 with 1 Axes>"
      ]
     },
     "metadata": {
      "needs_background": "light"
     },
     "output_type": "display_data"
    }
   ],
   "source": [
    "test_prediction(0, d_k, X_dev, Y_dev, 784)\n",
    "test_prediction(10, d_k, X_dev, Y_dev, 784)\n",
    "test_prediction(20, d_k, X_dev, Y_dev, 784)\n",
    "test_prediction(30, d_k, X_dev, Y_dev, 784)"
   ]
  },
  {
   "cell_type": "markdown",
   "id": "9e564316",
   "metadata": {},
   "source": [
    "As we can see above, the predictions seems to properly work."
   ]
  },
  {
   "cell_type": "code",
   "execution_count": 46,
   "id": "27ad19c4",
   "metadata": {},
   "outputs": [
    {
     "name": "stdout",
     "output_type": "stream",
     "text": [
      "[1 1 5 1 9 4 1 5 7 2 6 0 1 3 3 8 4 7 3 7 0 2 7 1 9 3 0 0 1 4 9 0 1 0 2 1 0\n",
      " 0 1 3 3 9 6 4 0 2 7 0 0 5 8 2 1 1 2 8 8 5 5 0 4 0 5 0 9 2 7 6 7 9 1 8 3 4\n",
      " 7 1 4 2 0 6 7 5 5 0 0 4 2 7 2 8 7 9 1 2 0 7 5 9 6 1 1 6 0 9 4 8 2 9 6 8 9\n",
      " 6 4 1 9 9 3 7 5 8 6 3 9 2 2 4 9 3 8 3 1 0 6 1 5 3 4 9 8 1 6 9 6 0 9 2 6 7\n",
      " 2 1 8 7 5 0 3 4 4 1 8 5 9 3 0 3 4 0 0 6 9 8 1 3 0 1 2 7 3 2 1 3 4 3 6 7 8\n",
      " 6 8 1 8 8 0 3 8 9 2 1 6 3 2 0 8 2 3 1 2 4 9 9 6 1 5 1 4 9 7 7 6 7 6 7 7 3\n",
      " 5 2 4 2 7 2 1 2 7 5 5 8 4 5 0 0 8 1 0 9 8 5 0 2 4 7 2 3 5 9 5 7 2 7 4 1 6\n",
      " 8 0 6 0 0 7 8 0 1 1 5 9 5 8 1 6 2 3 2 3 0 1 1 5 7 7 7 0 7 4 1 9 7 6 1 5 3\n",
      " 5 5 3 5 5 4 7 3 8 0 9 9 8 2 3 5 2 2 5 1 0 4 1 7 9 6 2 4 9 9 9 9 7 2 8 3 3\n",
      " 2 8 3 0 2 0 6 3 7 0 0 0 1 5 1 7 7 0 9 3 8 5 0 0 1 3 6 6 6 1 4 2 7 6 5 0 4\n",
      " 1 1 7 2 9 8 5 6 2 6 8 2 0 5 2 9 0 6 6 9 5 0 9 7 5 0 0 2 8 7 1 3 7 7 4 6 6\n",
      " 8 7 8 0 8 6 0 2 7 6 5 3 5 1 1 0 8 7 8 8 6 2 4 0 5 4 0 1 3 8 8 2 6 3 6 5 4\n",
      " 9 7 8 8 3 4 9 9 3 6 2 7 7 2 1 8 1 9 2 2 9 0 0 0 2 8 1 5 2 5 9 2 7 8 2 8 9\n",
      " 9 6 1 1 5 3 8 1 0 1 9 1 7 3 2 4 8 8 1 5 0 1 1 2 3 3 1 8 8 9 3 2 1 5 3 1 6\n",
      " 9 3 3 8 3 1 6 2 8 1 1 9 4 5 9 0 1 0 4 8 0 7 6 2 9 1 2 4 2 9 4 9 2 5 0 0 1\n",
      " 3 1 9 3 6 3 5 6 8 2 9 1 5 6 9 4 3 5 9 0 4 6 2 5 0 6 0 9 4 2 2 8 1 8 1 1 8\n",
      " 8 4 3 8 9 7 4 1 2 0 7 0 1 9 2 7 5 3 9 1 4 5 2 6 2 3 4 3 0 8 8 9 9 0 5 6 8\n",
      " 8 3 1 3 4 6 7 6 7 1 5 5 9 1 1 0 1 3 9 6 1 8 9 5 7 0 6 5 6 2 1 4 3 3 3 6 1\n",
      " 0 6 2 5 0 2 9 9 8 9 6 2 4 1 3 8 5 6 5 1 7 5 1 1 9 6 0 0 7 5 3 1 5 8 7 0 3\n",
      " 9 5 7 0 3 4 1 3 7 5 2 5 8 8 7 2 0 5 1 0 2 5 8 5 7 6 3 1 1 9 6 9 3 6 1 7 7\n",
      " 5 2 8 2 6 9 7 8 0 0 1 6 9 9 7 8 8 7 7 1 3 7 7 2 3 1 3 3 5 2 5 0 6 7 3 2 4\n",
      " 6 5 0 0 8 2 2 8 5 4 1 3 7 2 2 2 5 5 2 5 1 8 1 9 0 7 7 5 6 8 2 8 7 7 6 0 9\n",
      " 1 1 5 6 3 4 1 2 3 7 3 0 0 5 6 5 9 6 3 4 5 0 9 2 8 9 9 5 7 6 5 9 1 4 6 0 8\n",
      " 1 4 9 1 2 9 6 5 4 1 5 0 4 5 3 0 3 5 0 7 8 4 4 8 7 8 9 9 5 6 8 8 9 5 1 5 8\n",
      " 2 1 7 3 2 2 2 3 8 3 9 9 3 3 6 8 1 5 1 9 0 3 4 4 3 9 0 0 4 2 8 3 3 1 4 9 0\n",
      " 1 6 4 0 8 7 9 0 4 9 9 8 4 4 5 7 2 7 5 7 5 5 0 8 9 5 4 7 0 1 4 7 0 4 9 0 2\n",
      " 0 3 3 8 5 7 1 3 2 4 1 5 8 1 9 5 7 0 1 1 6 0 4 0 1 9 9 5 1 8 8 9 0 6 4 9 8\n",
      " 0] [1 1 5 1 9 4 1 5 7 2 6 0 1 8 8 8 4 7 9 7 0 2 7 1 9 3 0 0 1 4 9 5 1 0 2 8 0\n",
      " 0 1 3 3 7 6 4 0 2 7 0 0 4 8 2 8 1 2 8 8 5 5 0 4 0 5 0 7 2 7 6 7 9 1 8 3 4\n",
      " 7 1 4 2 0 6 7 6 5 0 0 4 2 7 5 8 7 9 1 2 0 7 0 9 6 1 1 6 0 9 4 3 2 9 6 8 9\n",
      " 6 4 1 9 9 3 7 5 2 6 3 9 2 2 4 9 3 8 3 1 5 6 1 5 3 4 9 8 1 6 9 6 0 9 2 6 7\n",
      " 9 1 8 7 0 0 3 4 4 1 8 5 9 3 0 3 4 0 0 6 9 8 1 8 0 1 2 7 3 3 1 3 4 3 6 7 3\n",
      " 6 8 1 8 8 0 3 8 9 2 1 6 3 2 6 8 2 3 9 2 4 9 9 6 1 5 1 4 9 4 7 6 7 6 7 7 3\n",
      " 5 2 9 2 7 2 1 2 7 8 5 8 4 5 0 0 8 1 0 7 8 5 0 2 4 7 2 3 8 7 5 7 2 7 4 1 6\n",
      " 1 0 6 0 0 7 8 0 1 1 5 9 5 8 1 8 2 3 5 3 0 1 1 5 7 7 7 0 7 4 1 9 7 6 1 6 3\n",
      " 5 5 8 5 5 4 7 3 0 0 9 9 8 2 3 6 2 3 5 1 0 4 1 7 9 6 2 9 9 5 9 9 7 5 8 3 3\n",
      " 2 8 3 0 2 0 6 3 7 0 0 0 1 3 1 7 4 6 9 2 8 5 0 0 1 3 6 6 6 1 4 2 7 6 5 0 4\n",
      " 1 9 7 8 9 8 2 6 2 6 8 2 0 5 2 9 0 6 6 9 5 0 8 7 5 0 0 2 8 7 1 3 7 8 4 6 6\n",
      " 8 7 8 0 8 6 0 2 7 6 5 3 5 7 1 0 8 3 8 8 6 2 4 0 5 2 0 1 3 8 8 2 6 3 6 5 4\n",
      " 5 7 0 8 8 4 9 9 3 6 1 7 7 1 1 8 1 9 7 2 9 0 0 0 2 5 1 5 2 5 9 8 8 8 2 8 9\n",
      " 9 6 1 1 5 3 8 1 0 1 9 1 5 3 2 4 8 8 1 4 0 1 1 2 8 3 2 8 0 9 3 2 1 5 3 1 6\n",
      " 9 3 3 8 3 1 6 2 6 1 1 9 4 5 8 0 1 0 4 4 0 7 6 2 0 1 2 4 2 9 4 9 2 5 0 0 1\n",
      " 3 1 9 3 6 0 3 6 8 2 9 1 5 6 4 4 3 5 9 0 4 6 2 5 0 6 0 9 4 3 2 8 8 8 1 1 8\n",
      " 8 4 3 8 7 7 4 1 2 0 7 0 1 9 2 7 1 3 9 1 4 5 2 6 2 3 4 3 0 6 8 9 9 0 2 6 8\n",
      " 8 3 1 3 4 6 2 6 7 1 5 5 9 1 6 0 1 3 4 6 1 5 9 5 7 0 6 5 6 2 1 3 5 3 3 6 1\n",
      " 3 6 2 5 0 2 9 9 8 9 4 2 4 1 3 8 5 6 5 1 7 5 1 1 9 6 0 0 7 5 8 1 5 5 7 0 3\n",
      " 9 5 7 0 3 4 1 3 7 9 2 9 8 9 7 2 0 5 1 0 2 5 2 5 7 6 3 1 1 8 7 9 3 6 1 0 7\n",
      " 3 2 8 2 6 7 7 8 0 0 1 4 9 9 7 8 8 7 7 1 3 7 7 2 3 1 3 3 8 2 5 0 6 7 3 2 4\n",
      " 6 5 0 0 8 2 8 8 5 9 1 3 7 2 3 2 5 5 2 5 1 4 1 9 0 7 7 5 6 8 2 8 7 7 2 0 9\n",
      " 1 1 5 6 3 4 1 2 3 7 3 0 0 5 6 5 7 6 3 4 5 0 9 2 8 9 9 5 4 6 8 9 1 4 6 0 8\n",
      " 1 4 9 1 2 9 6 5 4 1 1 0 4 5 3 0 3 5 0 7 8 4 4 8 7 8 4 9 5 6 8 8 9 5 1 5 8\n",
      " 2 1 7 3 2 2 2 3 8 3 9 9 3 3 6 8 1 5 1 7 0 3 9 1 8 9 0 0 8 2 6 3 3 2 4 9 0\n",
      " 1 6 4 0 8 7 9 0 4 1 9 8 4 4 5 7 2 7 6 7 5 3 0 8 9 8 4 7 0 1 9 7 0 9 9 0 7\n",
      " 0 3 3 8 5 7 1 3 2 4 1 5 8 1 9 5 7 0 1 1 6 7 4 0 1 9 9 5 1 8 8 9 0 6 4 9 8\n",
      " 0]\n"
     ]
    },
    {
     "data": {
      "text/plain": [
       "0.876"
      ]
     },
     "execution_count": 46,
     "metadata": {},
     "output_type": "execute_result"
    }
   ],
   "source": [
    "dev_predictions = make_predictions(d_k, X_dev)\n",
    "get_accuracy(dev_predictions, Y_dev)"
   ]
  },
  {
   "cell_type": "markdown",
   "id": "02705a55",
   "metadata": {},
   "source": [
    "We get an accuracy score of 0.876 with the testing set.\n",
    "\n",
    "We can see that the accuracy score is lower with the Kaggle dataset, but it is understandable as the pictures are bigger and as a result, the task is more complicated."
   ]
  }
 ],
 "metadata": {
  "kernelspec": {
   "display_name": "Python 3 (ipykernel)",
   "language": "python",
   "name": "python3"
  },
  "language_info": {
   "codemirror_mode": {
    "name": "ipython",
    "version": 3
   },
   "file_extension": ".py",
   "mimetype": "text/x-python",
   "name": "python",
   "nbconvert_exporter": "python",
   "pygments_lexer": "ipython3",
   "version": "3.9.7"
  }
 },
 "nbformat": 4,
 "nbformat_minor": 5
}
