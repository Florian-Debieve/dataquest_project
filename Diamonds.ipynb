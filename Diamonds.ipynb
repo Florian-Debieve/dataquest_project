{
 "cells": [
  {
   "cell_type": "code",
   "execution_count": 1,
   "id": "8bcc4ceb",
   "metadata": {},
   "outputs": [
    {
     "name": "stdout",
     "output_type": "stream",
     "text": [
      "C:\\Users\\debie\\Documents\\kaggle\n"
     ]
    }
   ],
   "source": [
    "%cd C:\\Users\\debie\\Documents\\kaggle"
   ]
  },
  {
   "cell_type": "markdown",
   "id": "bc440f68",
   "metadata": {},
   "source": [
    "# Predicting diamond's price"
   ]
  },
  {
   "cell_type": "markdown",
   "id": "e2205c7a",
   "metadata": {},
   "source": [
    "In this project, the goal is to predict the price of diamonds by their cut, color, clarity, price, and other attributes.\n",
    "To do that, we have a dataset of more than 50 000 diamonds with their features and their price.\n",
    "\n",
    "The columns of the dataset is as followed:\n",
    "\n",
    "-price: price in US dollars \n",
    "\n",
    "-carat: weight of the diamond \n",
    "\n",
    "-cut: quality of the cut (Fair, Good, Very Good, Premium, Ideal)\n",
    "\n",
    "-color: diamond colour, from J (worst) to D (best)\n",
    "\n",
    "-clarity: a measurement of how clear the diamond is (I1 (worst), SI2, SI1, VS2, VS1, VVS2, VVS1, IF (best))\n",
    "\n",
    "-x: length in mm\n",
    "\n",
    "-y: width in mm \n",
    "\n",
    "-z: depth in mm \n",
    "\n",
    "-depth: total depth percentage = z / mean(x, y) = 2 * z / (x + y)\n",
    "\n",
    "-table: width of top of diamond relative to widest point"
   ]
  },
  {
   "cell_type": "code",
   "execution_count": 2,
   "id": "afa5e116",
   "metadata": {},
   "outputs": [],
   "source": [
    "import pandas as pd\n",
    "import numpy as np\n",
    "import matplotlib.pyplot as plt\n",
    "import seaborn as sns\n",
    "import warnings\n",
    "warnings.filterwarnings('ignore')"
   ]
  },
  {
   "cell_type": "code",
   "execution_count": 3,
   "id": "d5942093",
   "metadata": {},
   "outputs": [],
   "source": [
    "diamonds = pd.read_csv('diamonds.csv')"
   ]
  },
  {
   "cell_type": "markdown",
   "id": "73805572",
   "metadata": {},
   "source": [
    "Let's take a look at the dataset:"
   ]
  },
  {
   "cell_type": "code",
   "execution_count": 4,
   "id": "bb991f17",
   "metadata": {},
   "outputs": [
    {
     "data": {
      "text/html": [
       "<div>\n",
       "<style scoped>\n",
       "    .dataframe tbody tr th:only-of-type {\n",
       "        vertical-align: middle;\n",
       "    }\n",
       "\n",
       "    .dataframe tbody tr th {\n",
       "        vertical-align: top;\n",
       "    }\n",
       "\n",
       "    .dataframe thead th {\n",
       "        text-align: right;\n",
       "    }\n",
       "</style>\n",
       "<table border=\"1\" class=\"dataframe\">\n",
       "  <thead>\n",
       "    <tr style=\"text-align: right;\">\n",
       "      <th></th>\n",
       "      <th>Unnamed: 0</th>\n",
       "      <th>carat</th>\n",
       "      <th>cut</th>\n",
       "      <th>color</th>\n",
       "      <th>clarity</th>\n",
       "      <th>depth</th>\n",
       "      <th>table</th>\n",
       "      <th>price</th>\n",
       "      <th>x</th>\n",
       "      <th>y</th>\n",
       "      <th>z</th>\n",
       "    </tr>\n",
       "  </thead>\n",
       "  <tbody>\n",
       "    <tr>\n",
       "      <th>0</th>\n",
       "      <td>1</td>\n",
       "      <td>0.23</td>\n",
       "      <td>Ideal</td>\n",
       "      <td>E</td>\n",
       "      <td>SI2</td>\n",
       "      <td>61.5</td>\n",
       "      <td>55.0</td>\n",
       "      <td>326</td>\n",
       "      <td>3.95</td>\n",
       "      <td>3.98</td>\n",
       "      <td>2.43</td>\n",
       "    </tr>\n",
       "    <tr>\n",
       "      <th>1</th>\n",
       "      <td>2</td>\n",
       "      <td>0.21</td>\n",
       "      <td>Premium</td>\n",
       "      <td>E</td>\n",
       "      <td>SI1</td>\n",
       "      <td>59.8</td>\n",
       "      <td>61.0</td>\n",
       "      <td>326</td>\n",
       "      <td>3.89</td>\n",
       "      <td>3.84</td>\n",
       "      <td>2.31</td>\n",
       "    </tr>\n",
       "    <tr>\n",
       "      <th>2</th>\n",
       "      <td>3</td>\n",
       "      <td>0.23</td>\n",
       "      <td>Good</td>\n",
       "      <td>E</td>\n",
       "      <td>VS1</td>\n",
       "      <td>56.9</td>\n",
       "      <td>65.0</td>\n",
       "      <td>327</td>\n",
       "      <td>4.05</td>\n",
       "      <td>4.07</td>\n",
       "      <td>2.31</td>\n",
       "    </tr>\n",
       "    <tr>\n",
       "      <th>3</th>\n",
       "      <td>4</td>\n",
       "      <td>0.29</td>\n",
       "      <td>Premium</td>\n",
       "      <td>I</td>\n",
       "      <td>VS2</td>\n",
       "      <td>62.4</td>\n",
       "      <td>58.0</td>\n",
       "      <td>334</td>\n",
       "      <td>4.20</td>\n",
       "      <td>4.23</td>\n",
       "      <td>2.63</td>\n",
       "    </tr>\n",
       "    <tr>\n",
       "      <th>4</th>\n",
       "      <td>5</td>\n",
       "      <td>0.31</td>\n",
       "      <td>Good</td>\n",
       "      <td>J</td>\n",
       "      <td>SI2</td>\n",
       "      <td>63.3</td>\n",
       "      <td>58.0</td>\n",
       "      <td>335</td>\n",
       "      <td>4.34</td>\n",
       "      <td>4.35</td>\n",
       "      <td>2.75</td>\n",
       "    </tr>\n",
       "  </tbody>\n",
       "</table>\n",
       "</div>"
      ],
      "text/plain": [
       "   Unnamed: 0  carat      cut color clarity  depth  table  price     x     y  \\\n",
       "0           1   0.23    Ideal     E     SI2   61.5   55.0    326  3.95  3.98   \n",
       "1           2   0.21  Premium     E     SI1   59.8   61.0    326  3.89  3.84   \n",
       "2           3   0.23     Good     E     VS1   56.9   65.0    327  4.05  4.07   \n",
       "3           4   0.29  Premium     I     VS2   62.4   58.0    334  4.20  4.23   \n",
       "4           5   0.31     Good     J     SI2   63.3   58.0    335  4.34  4.35   \n",
       "\n",
       "      z  \n",
       "0  2.43  \n",
       "1  2.31  \n",
       "2  2.31  \n",
       "3  2.63  \n",
       "4  2.75  "
      ]
     },
     "execution_count": 4,
     "metadata": {},
     "output_type": "execute_result"
    }
   ],
   "source": [
    "diamonds.head()"
   ]
  },
  {
   "cell_type": "code",
   "execution_count": 5,
   "id": "ad7b7c80",
   "metadata": {},
   "outputs": [],
   "source": [
    "diamonds.drop('Unnamed: 0', axis = 1, inplace = True)"
   ]
  },
  {
   "cell_type": "code",
   "execution_count": 6,
   "id": "026b06e8",
   "metadata": {},
   "outputs": [
    {
     "name": "stdout",
     "output_type": "stream",
     "text": [
      "<class 'pandas.core.frame.DataFrame'>\n",
      "RangeIndex: 53940 entries, 0 to 53939\n",
      "Data columns (total 10 columns):\n",
      " #   Column   Non-Null Count  Dtype  \n",
      "---  ------   --------------  -----  \n",
      " 0   carat    53940 non-null  float64\n",
      " 1   cut      53940 non-null  object \n",
      " 2   color    53940 non-null  object \n",
      " 3   clarity  53940 non-null  object \n",
      " 4   depth    53940 non-null  float64\n",
      " 5   table    53940 non-null  float64\n",
      " 6   price    53940 non-null  int64  \n",
      " 7   x        53940 non-null  float64\n",
      " 8   y        53940 non-null  float64\n",
      " 9   z        53940 non-null  float64\n",
      "dtypes: float64(6), int64(1), object(3)\n",
      "memory usage: 4.1+ MB\n"
     ]
    }
   ],
   "source": [
    "diamonds.info()"
   ]
  },
  {
   "cell_type": "markdown",
   "id": "e3dd4930",
   "metadata": {},
   "source": [
    "We removed the column \"Unanmed: 0\" as it was not relevent.\n",
    "\n",
    "The dataset contains 53940 diamonds and there is no missing values in it.\n",
    "\n",
    "Let's take a look at the price and the carat of the diamonds."
   ]
  },
  {
   "cell_type": "code",
   "execution_count": 7,
   "id": "65a356dd",
   "metadata": {},
   "outputs": [
    {
     "data": {
      "text/plain": [
       "count    53940.000000\n",
       "mean      3932.799722\n",
       "std       3989.439738\n",
       "min        326.000000\n",
       "25%        950.000000\n",
       "50%       2401.000000\n",
       "75%       5324.250000\n",
       "max      18823.000000\n",
       "Name: price, dtype: float64"
      ]
     },
     "execution_count": 7,
     "metadata": {},
     "output_type": "execute_result"
    }
   ],
   "source": [
    "diamonds['price'].describe()"
   ]
  },
  {
   "cell_type": "code",
   "execution_count": 8,
   "id": "09af3da4",
   "metadata": {},
   "outputs": [
    {
     "data": {
      "text/plain": [
       "{'whiskers': [<matplotlib.lines.Line2D at 0x1d684be16a0>,\n",
       "  <matplotlib.lines.Line2D at 0x1d684be1970>],\n",
       " 'caps': [<matplotlib.lines.Line2D at 0x1d684be1d00>,\n",
       "  <matplotlib.lines.Line2D at 0x1d684bf00d0>],\n",
       " 'boxes': [<matplotlib.lines.Line2D at 0x1d684be1250>],\n",
       " 'medians': [<matplotlib.lines.Line2D at 0x1d684bf0460>],\n",
       " 'fliers': [<matplotlib.lines.Line2D at 0x1d684bf07f0>],\n",
       " 'means': []}"
      ]
     },
     "execution_count": 8,
     "metadata": {},
     "output_type": "execute_result"
    },
    {
     "data": {
      "image/png": "[encoded data removed]",
      "text/plain": [
       "<Figure size 432x288 with 1 Axes>"
      ]
     },
     "metadata": {
      "needs_background": "light"
     },
     "output_type": "display_data"
    }
   ],
   "source": [
    "plt.boxplot(diamonds['price'])"
   ]
  },
  {
   "cell_type": "code",
   "execution_count": 9,
   "id": "c4fa3292",
   "metadata": {},
   "outputs": [
    {
     "data": {
      "text/plain": [
       "{'whiskers': [<matplotlib.lines.Line2D at 0x1d684cca7f0>,\n",
       "  <matplotlib.lines.Line2D at 0x1d684ccab80>],\n",
       " 'caps': [<matplotlib.lines.Line2D at 0x1d684ccaf10>,\n",
       "  <matplotlib.lines.Line2D at 0x1d684cd72e0>],\n",
       " 'boxes': [<matplotlib.lines.Line2D at 0x1d684cca460>],\n",
       " 'medians': [<matplotlib.lines.Line2D at 0x1d684cd7670>],\n",
       " 'fliers': [<matplotlib.lines.Line2D at 0x1d684cd7a00>],\n",
       " 'means': []}"
      ]
     },
     "execution_count": 9,
     "metadata": {},
     "output_type": "execute_result"
    },
    {
     "data": {
      "image/png": "[encoded data removed]",
      "text/plain": [
       "<Figure size 432x288 with 1 Axes>"
      ]
     },
     "metadata": {
      "needs_background": "light"
     },
     "output_type": "display_data"
    }
   ],
   "source": [
    "plt.boxplot(diamonds['carat'])"
   ]
  },
  {
   "cell_type": "markdown",
   "id": "0692e577",
   "metadata": {},
   "source": [
    "We can see that in these 2 columns (price and carat) there are outlier values that needs to me removed. As a rule, we remove the values that are below the first quartile minus 1.5 times the inter quartile range, and the one above the third quartile plus 1.5 times the inter quartile range."
   ]
  },
  {
   "cell_type": "code",
   "execution_count": 10,
   "id": "8fc8a7cb",
   "metadata": {},
   "outputs": [],
   "source": [
    "def remove_outlier(df, column):\n",
    "    quart_1 = df[column].quantile(0.25)\n",
    "    quart_3 = df[column].quantile(0.75)\n",
    "    inter_quart_rng = quart_3 - quart_1\n",
    "    return df[(df[column] <= quart_3 + 1.5 * inter_quart_rng) & (df[column] >= quart_1 - 1.5 * inter_quart_rng)]"
   ]
  },
  {
   "cell_type": "code",
   "execution_count": 11,
   "id": "6a64473a",
   "metadata": {},
   "outputs": [],
   "source": [
    "diamonds = remove_outlier(diamonds, 'price')\n",
    "diamonds = remove_outlier(diamonds, 'carat')"
   ]
  },
  {
   "cell_type": "markdown",
   "id": "22c7f923",
   "metadata": {},
   "source": [
    "Now that we removed the outlier values, let's adapt the dataframe to facilitate the training of our algorithm.\n",
    "\n",
    "Below we transform the categorical values of the columns 'cut', 'color' and 'clarity' into numerical values, each corresponding to a category."
   ]
  },
  {
   "cell_type": "code",
   "execution_count": 12,
   "id": "b7253810",
   "metadata": {},
   "outputs": [
    {
     "data": {
      "text/html": [
       "<div>\n",
       "<style scoped>\n",
       "    .dataframe tbody tr th:only-of-type {\n",
       "        vertical-align: middle;\n",
       "    }\n",
       "\n",
       "    .dataframe tbody tr th {\n",
       "        vertical-align: top;\n",
       "    }\n",
       "\n",
       "    .dataframe thead th {\n",
       "        text-align: right;\n",
       "    }\n",
       "</style>\n",
       "<table border=\"1\" class=\"dataframe\">\n",
       "  <thead>\n",
       "    <tr style=\"text-align: right;\">\n",
       "      <th></th>\n",
       "      <th>cut</th>\n",
       "      <th>color</th>\n",
       "      <th>clarity</th>\n",
       "    </tr>\n",
       "  </thead>\n",
       "  <tbody>\n",
       "    <tr>\n",
       "      <th>0</th>\n",
       "      <td>2.0</td>\n",
       "      <td>1.0</td>\n",
       "      <td>3.0</td>\n",
       "    </tr>\n",
       "    <tr>\n",
       "      <th>1</th>\n",
       "      <td>3.0</td>\n",
       "      <td>1.0</td>\n",
       "      <td>2.0</td>\n",
       "    </tr>\n",
       "    <tr>\n",
       "      <th>2</th>\n",
       "      <td>1.0</td>\n",
       "      <td>1.0</td>\n",
       "      <td>4.0</td>\n",
       "    </tr>\n",
       "    <tr>\n",
       "      <th>3</th>\n",
       "      <td>3.0</td>\n",
       "      <td>5.0</td>\n",
       "      <td>5.0</td>\n",
       "    </tr>\n",
       "    <tr>\n",
       "      <th>4</th>\n",
       "      <td>1.0</td>\n",
       "      <td>6.0</td>\n",
       "      <td>3.0</td>\n",
       "    </tr>\n",
       "  </tbody>\n",
       "</table>\n",
       "</div>"
      ],
      "text/plain": [
       "   cut  color  clarity\n",
       "0  2.0    1.0      3.0\n",
       "1  3.0    1.0      2.0\n",
       "2  1.0    1.0      4.0\n",
       "3  3.0    5.0      5.0\n",
       "4  1.0    6.0      3.0"
      ]
     },
     "execution_count": 12,
     "metadata": {},
     "output_type": "execute_result"
    }
   ],
   "source": [
    "from sklearn.preprocessing import OrdinalEncoder\n",
    "\n",
    "categorical_feats = ['cut', 'color', 'clarity']\n",
    "\n",
    "encoder = OrdinalEncoder()\n",
    "diamonds[categorical_feats] = encoder.fit_transform(diamonds[categorical_feats])\n",
    "diamonds[categorical_feats].head()"
   ]
  },
  {
   "cell_type": "markdown",
   "id": "8ed1253d",
   "metadata": {},
   "source": [
    "Let's look at the columns descriptions:"
   ]
  },
  {
   "cell_type": "code",
   "execution_count": 13,
   "id": "f600efcf",
   "metadata": {},
   "outputs": [
    {
     "data": {
      "text/html": [
       "<div>\n",
       "<style scoped>\n",
       "    .dataframe tbody tr th:only-of-type {\n",
       "        vertical-align: middle;\n",
       "    }\n",
       "\n",
       "    .dataframe tbody tr th {\n",
       "        vertical-align: top;\n",
       "    }\n",
       "\n",
       "    .dataframe thead th {\n",
       "        text-align: right;\n",
       "    }\n",
       "</style>\n",
       "<table border=\"1\" class=\"dataframe\">\n",
       "  <thead>\n",
       "    <tr style=\"text-align: right;\">\n",
       "      <th></th>\n",
       "      <th>carat</th>\n",
       "      <th>cut</th>\n",
       "      <th>color</th>\n",
       "      <th>clarity</th>\n",
       "      <th>depth</th>\n",
       "      <th>table</th>\n",
       "      <th>price</th>\n",
       "      <th>x</th>\n",
       "      <th>y</th>\n",
       "      <th>z</th>\n",
       "    </tr>\n",
       "  </thead>\n",
       "  <tbody>\n",
       "    <tr>\n",
       "      <th>count</th>\n",
       "      <td>50119.000000</td>\n",
       "      <td>50119.000000</td>\n",
       "      <td>50119.000000</td>\n",
       "      <td>50119.000000</td>\n",
       "      <td>50119.000000</td>\n",
       "      <td>50119.000000</td>\n",
       "      <td>50119.000000</td>\n",
       "      <td>50119.000000</td>\n",
       "      <td>50119.000000</td>\n",
       "      <td>50119.000000</td>\n",
       "    </tr>\n",
       "    <tr>\n",
       "      <th>mean</th>\n",
       "      <td>0.715756</td>\n",
       "      <td>2.549313</td>\n",
       "      <td>2.536743</td>\n",
       "      <td>3.858018</td>\n",
       "      <td>61.749903</td>\n",
       "      <td>57.417129</td>\n",
       "      <td>3122.587322</td>\n",
       "      <td>5.568415</td>\n",
       "      <td>5.572035</td>\n",
       "      <td>3.439029</td>\n",
       "    </tr>\n",
       "    <tr>\n",
       "      <th>std</th>\n",
       "      <td>0.369533</td>\n",
       "      <td>1.026135</td>\n",
       "      <td>1.685555</td>\n",
       "      <td>1.732636</td>\n",
       "      <td>1.417246</td>\n",
       "      <td>2.226349</td>\n",
       "      <td>2724.401592</td>\n",
       "      <td>0.978111</td>\n",
       "      <td>0.978031</td>\n",
       "      <td>0.619484</td>\n",
       "    </tr>\n",
       "    <tr>\n",
       "      <th>min</th>\n",
       "      <td>0.200000</td>\n",
       "      <td>0.000000</td>\n",
       "      <td>0.000000</td>\n",
       "      <td>0.000000</td>\n",
       "      <td>43.000000</td>\n",
       "      <td>43.000000</td>\n",
       "      <td>326.000000</td>\n",
       "      <td>0.000000</td>\n",
       "      <td>0.000000</td>\n",
       "      <td>0.000000</td>\n",
       "    </tr>\n",
       "    <tr>\n",
       "      <th>25%</th>\n",
       "      <td>0.380000</td>\n",
       "      <td>2.000000</td>\n",
       "      <td>1.000000</td>\n",
       "      <td>2.000000</td>\n",
       "      <td>61.100000</td>\n",
       "      <td>56.000000</td>\n",
       "      <td>907.000000</td>\n",
       "      <td>4.660000</td>\n",
       "      <td>4.680000</td>\n",
       "      <td>2.870000</td>\n",
       "    </tr>\n",
       "    <tr>\n",
       "      <th>50%</th>\n",
       "      <td>0.660000</td>\n",
       "      <td>2.000000</td>\n",
       "      <td>3.000000</td>\n",
       "      <td>4.000000</td>\n",
       "      <td>61.800000</td>\n",
       "      <td>57.000000</td>\n",
       "      <td>2131.000000</td>\n",
       "      <td>5.560000</td>\n",
       "      <td>5.560000</td>\n",
       "      <td>3.410000</td>\n",
       "    </tr>\n",
       "    <tr>\n",
       "      <th>75%</th>\n",
       "      <td>1.010000</td>\n",
       "      <td>3.000000</td>\n",
       "      <td>4.000000</td>\n",
       "      <td>5.000000</td>\n",
       "      <td>62.500000</td>\n",
       "      <td>59.000000</td>\n",
       "      <td>4624.500000</td>\n",
       "      <td>6.420000</td>\n",
       "      <td>6.415000</td>\n",
       "      <td>3.980000</td>\n",
       "    </tr>\n",
       "    <tr>\n",
       "      <th>max</th>\n",
       "      <td>1.950000</td>\n",
       "      <td>4.000000</td>\n",
       "      <td>6.000000</td>\n",
       "      <td>7.000000</td>\n",
       "      <td>79.000000</td>\n",
       "      <td>79.000000</td>\n",
       "      <td>11883.000000</td>\n",
       "      <td>8.160000</td>\n",
       "      <td>31.800000</td>\n",
       "      <td>31.800000</td>\n",
       "    </tr>\n",
       "  </tbody>\n",
       "</table>\n",
       "</div>"
      ],
      "text/plain": [
       "              carat           cut         color       clarity         depth  \\\n",
       "count  50119.000000  50119.000000  50119.000000  50119.000000  50119.000000   \n",
       "mean       0.715756      2.549313      2.536743      3.858018     61.749903   \n",
       "std        0.369533      1.026135      1.685555      1.732636      1.417246   \n",
       "min        0.200000      0.000000      0.000000      0.000000     43.000000   \n",
       "25%        0.380000      2.000000      1.000000      2.000000     61.100000   \n",
       "50%        0.660000      2.000000      3.000000      4.000000     61.800000   \n",
       "75%        1.010000      3.000000      4.000000      5.000000     62.500000   \n",
       "max        1.950000      4.000000      6.000000      7.000000     79.000000   \n",
       "\n",
       "              table         price             x             y             z  \n",
       "count  50119.000000  50119.000000  50119.000000  50119.000000  50119.000000  \n",
       "mean      57.417129   3122.587322      5.568415      5.572035      3.439029  \n",
       "std        2.226349   2724.401592      0.978111      0.978031      0.619484  \n",
       "min       43.000000    326.000000      0.000000      0.000000      0.000000  \n",
       "25%       56.000000    907.000000      4.660000      4.680000      2.870000  \n",
       "50%       57.000000   2131.000000      5.560000      5.560000      3.410000  \n",
       "75%       59.000000   4624.500000      6.420000      6.415000      3.980000  \n",
       "max       79.000000  11883.000000      8.160000     31.800000     31.800000  "
      ]
     },
     "execution_count": 13,
     "metadata": {},
     "output_type": "execute_result"
    }
   ],
   "source": [
    "diamonds.describe()"
   ]
  },
  {
   "cell_type": "markdown",
   "id": "f266d3e5",
   "metadata": {},
   "source": [
    "The minimum value for x, y and z is 0 which should not be possible. Let's remove the rows with 0 in eitheir of those columns."
   ]
  },
  {
   "cell_type": "code",
   "execution_count": 14,
   "id": "cb6a329f",
   "metadata": {},
   "outputs": [],
   "source": [
    "diamonds = diamonds.drop(diamonds[diamonds['x']==0].index)\n",
    "diamonds = diamonds.drop(diamonds[diamonds['y']==0].index)\n",
    "diamonds = diamonds.drop(diamonds[diamonds['z']==0].index)"
   ]
  },
  {
   "cell_type": "markdown",
   "id": "a42d651b",
   "metadata": {},
   "source": [
    "We can now begin to train some model to predict the price of diamonds:"
   ]
  },
  {
   "cell_type": "code",
   "execution_count": 15,
   "id": "2c1f0111",
   "metadata": {},
   "outputs": [],
   "source": [
    "from sklearn.linear_model import LinearRegression\n",
    "from sklearn.metrics import mean_absolute_error, mean_squared_error, r2_score\n",
    "from sklearn.ensemble import RandomForestRegressor\n",
    "from sklearn.model_selection import train_test_split"
   ]
  },
  {
   "cell_type": "markdown",
   "id": "137b9cf4",
   "metadata": {},
   "source": [
    "We divide the dataset into 2 different one, one for training the algorithm (train, with 80 % of the rows) and one for testing its accuracy (test, with 20 % of the rows)."
   ]
  },
  {
   "cell_type": "code",
   "execution_count": 16,
   "id": "7901b4bb",
   "metadata": {},
   "outputs": [],
   "source": [
    "train ,test = train_test_split(diamonds,test_size = 0.2,random_state = 15 )"
   ]
  },
  {
   "cell_type": "code",
   "execution_count": 17,
   "id": "33099bd1",
   "metadata": {},
   "outputs": [],
   "source": [
    "columns = list(train.columns)\n",
    "columns.remove('price')"
   ]
  },
  {
   "cell_type": "markdown",
   "id": "da54fee0",
   "metadata": {},
   "source": [
    "We write a function that will take the estimator, the training and testing set as an input and output accuracy metrics with the train and test dataset.\n",
    "\n",
    "The accuracy metrics are, by order in the output lists, the Root Mean Squared Error (RMSE), the Mean Absolute Erorr (MAE) and the coefficient of determination (R2 score). We print 2 list of thiese metrics: one for the training set and one for the testing set.\n",
    "\n",
    "We'll apply the linear regression model and the random forest model."
   ]
  },
  {
   "cell_type": "code",
   "execution_count": 18,
   "id": "cf7ac3ce",
   "metadata": {},
   "outputs": [],
   "source": [
    "def modeling(estimator, train, test):\n",
    "    train_predictions = estimator.predict(train[columns])\n",
    "    test_predictions = estimator.predict(test[columns])\n",
    "\n",
    "    train_mse = mean_squared_error(train_predictions, train['price'])\n",
    "    test_mse = mean_squared_error(test_predictions, test['price'])\n",
    "\n",
    "    train_rmse = np.sqrt(train_mse)\n",
    "    test_rmse = np.sqrt(test_mse)\n",
    "\n",
    "    train_mae = mean_absolute_error(train_predictions, train['price'])\n",
    "    test_mae = mean_absolute_error(test_predictions, test['price'])\n",
    "\n",
    "    train_r2 = r2_score(train_predictions, train['price'])\n",
    "    test_r2 = r2_score(test_predictions, test['price'])\n",
    "\n",
    "    print([train_rmse, train_mae, train_r2])\n",
    "    print([test_rmse, test_mae, test_r2])"
   ]
  },
  {
   "cell_type": "code",
   "execution_count": 19,
   "id": "4410a943",
   "metadata": {},
   "outputs": [
    {
     "name": "stdout",
     "output_type": "stream",
     "text": [
      "[915.8935057365966, 614.5574499885623, 0.872080502793495]\n",
      "[965.9496631719579, 623.5773880644399, 0.8630424762432158]\n"
     ]
    }
   ],
   "source": [
    "lr = LinearRegression()\n",
    "lr.fit(train[columns], train['price'])\n",
    "\n",
    "modeling(lr,train,test)"
   ]
  },
  {
   "cell_type": "markdown",
   "id": "ebca62b8",
   "metadata": {},
   "source": [
    "With the linear regression algorithm we got a R2 score of 0.863 out of 1 for the testing set.\n",
    "The RMSE is 965 dollars and the MAE is 623 dollars.\n",
    "\n",
    "It can be improved."
   ]
  },
  {
   "cell_type": "code",
   "execution_count": 20,
   "id": "a87f205c",
   "metadata": {},
   "outputs": [
    {
     "name": "stdout",
     "output_type": "stream",
     "text": [
      "[144.22211762178745, 77.78386052060007, 0.9971584641521827]\n",
      "[382.0623990923726, 207.8722779329919, 0.9802681550600807]\n"
     ]
    }
   ],
   "source": [
    "rf = RandomForestRegressor(n_estimators = 30, max_features = 8)\n",
    "rf.fit(train[columns], train['price'])\n",
    "\n",
    "modeling(rf,train,test)"
   ]
  },
  {
   "cell_type": "markdown",
   "id": "5ba2563b",
   "metadata": {},
   "source": [
    "With the random forest regression algorithm we got a R2 score of 0.98 out of 1 for the testing set, The RMSE is 380 dollars and the MAE is 206 dollars. It is quite good.\n",
    "\n",
    "Let's continue to use this algorithm as it has shown good results, but let's now search for better parameters to use with it:"
   ]
  },
  {
   "cell_type": "code",
   "execution_count": 21,
   "id": "5ddf5e48",
   "metadata": {},
   "outputs": [
    {
     "data": {
      "text/plain": [
       "GridSearchCV(cv=5, estimator=RandomForestRegressor(random_state=1),\n",
       "             param_grid=[{'max_features': [8, 10, 15, 20],\n",
       "                          'n_estimators': [5, 10, 25, 50]},\n",
       "                         {'bootstrap': [False], 'max_features': [2, 3, 4],\n",
       "                          'n_estimators': [5, 10, 25]}],\n",
       "             return_train_score=True)"
      ]
     },
     "execution_count": 21,
     "metadata": {},
     "output_type": "execute_result"
    }
   ],
   "source": [
    "from sklearn.model_selection import GridSearchCV\n",
    "\n",
    "param_grid = [\n",
    "              {'n_estimators': [5,10,25,50], 'max_features':[8,10,15,20]},\n",
    "              {'bootstrap':[False], 'max_features':[2,3,4],'n_estimators':[5,10,25]}\n",
    "]\n",
    "rfr = RandomForestRegressor(random_state = 1)\n",
    "\n",
    "grid_search = GridSearchCV(rfr,param_grid,cv = 5,return_train_score = True)\n",
    "grid_search.fit(train[columns], train['price'])"
   ]
  },
  {
   "cell_type": "code",
   "execution_count": 22,
   "id": "a97cf025",
   "metadata": {},
   "outputs": [
    {
     "data": {
      "text/plain": [
       "RandomForestRegressor(max_features=8, n_estimators=50, random_state=1)"
      ]
     },
     "execution_count": 22,
     "metadata": {},
     "output_type": "execute_result"
    }
   ],
   "source": [
    "grid_search.best_estimator_"
   ]
  },
  {
   "cell_type": "code",
   "execution_count": 23,
   "id": "31ff75ca",
   "metadata": {},
   "outputs": [
    {
     "name": "stdout",
     "output_type": "stream",
     "text": [
      "[148.0094334273974, 79.28200788918785, 0.9970040273928158]\n",
      "[378.74588984831894, 207.31401555150097, 0.9805752687525762]\n"
     ]
    }
   ],
   "source": [
    "rf = RandomForestRegressor(max_features=7, n_estimators=25, random_state=1)\n",
    "rf.fit(train[columns], train['price'])\n",
    "\n",
    "modeling(rf,train,test)"
   ]
  },
  {
   "cell_type": "markdown",
   "id": "fd8674f7",
   "metadata": {},
   "source": [
    "The result we got are slightly better than before: R2 score of 0.981 out of 1, RMSE of 378 dollars and the MAE is 207 dollars. The parameters used to get this result are max_features = 8, n_estimators = 50."
   ]
  },
  {
   "cell_type": "code",
   "execution_count": 24,
   "id": "a31c77e7",
   "metadata": {},
   "outputs": [
    {
     "data": {
      "text/plain": [
       "count    50107.000000\n",
       "mean      3122.392081\n",
       "std       2724.618137\n",
       "min        326.000000\n",
       "25%        907.000000\n",
       "50%       2131.000000\n",
       "75%       4624.000000\n",
       "max      11883.000000\n",
       "Name: price, dtype: float64"
      ]
     },
     "execution_count": 24,
     "metadata": {},
     "output_type": "execute_result"
    }
   ],
   "source": [
    "diamonds['price'].describe()"
   ]
  },
  {
   "cell_type": "markdown",
   "id": "ccccea46",
   "metadata": {},
   "source": [
    "Realtively of the standard deviation value (2724), we can say that the RMSE and the MAE values are satisfactory and the predictions obtained quite close to the real prices."
   ]
  }
 ],
 "metadata": {
  "kernelspec": {
   "display_name": "Python 3 (ipykernel)",
   "language": "python",
   "name": "python3"
  },
  "language_info": {
   "codemirror_mode": {
    "name": "ipython",
    "version": 3
   },
   "file_extension": ".py",
   "mimetype": "text/x-python",
   "name": "python",
   "nbconvert_exporter": "python",
   "pygments_lexer": "ipython3",
   "version": "3.9.7"
  }
 },
 "nbformat": 4,
 "nbformat_minor": 5
}
