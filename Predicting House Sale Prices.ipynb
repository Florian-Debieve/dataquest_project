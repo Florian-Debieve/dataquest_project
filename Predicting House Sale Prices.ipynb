{
 "cells": [
  {
   "cell_type": "code",
   "execution_count": 1,
   "id": "488c8ada",
   "metadata": {},
   "outputs": [
    {
     "name": "stdout",
     "output_type": "stream",
     "text": [
      "C:\\Users\\debie\\Documents\\anaconda_space\n"
     ]
    }
   ],
   "source": [
    "%cd C:\\Users\\debie\\Documents\\anaconda_space"
   ]
  },
  {
   "cell_type": "markdown",
   "id": "134f3795",
   "metadata": {},
   "source": [
    "# Predicting House Sale Prices"
   ]
  },
  {
   "cell_type": "code",
   "execution_count": 2,
   "id": "8efcaee8",
   "metadata": {},
   "outputs": [],
   "source": [
    "import pandas as pd\n",
    "pd.options.display.max_columns = 999\n",
    "import numpy as np\n",
    "import matplotlib.pyplot as plt\n",
    "from sklearn.model_selection import KFold\n",
    "\n",
    "from sklearn.linear_model import LinearRegression\n",
    "from sklearn.metrics import mean_squared_error\n",
    "from sklearn import linear_model\n",
    "from sklearn.model_selection import KFold"
   ]
  },
  {
   "cell_type": "code",
   "execution_count": 3,
   "id": "55f990a6",
   "metadata": {},
   "outputs": [],
   "source": [
    "data = pd.read_csv('AmesHousing.tsv', delimiter=\"\\t\")\n",
    "\n",
    "def transform_features(df):\n",
    "    return df\n",
    "\n",
    "def select_features(df):\n",
    "    return df[['Gr Liv Area', 'SalePrice']]\n",
    "\n",
    "def train_and_test(df):\n",
    "    train = df[0:1460]\n",
    "    test = df[1460:]\n",
    "    \n",
    "    numeric_train = train.select_dtypes(include=['integer', 'float'])\n",
    "    numeric_test = test.select_dtypes(include=['integer', 'float'])\n",
    "    \n",
    "    cols = list(df.columns)\n",
    "    cols.remove('SalePrice')\n",
    "    \n",
    "    lr = LinearRegression()\n",
    "    lr.fit(train[cols], train['SalePrice'])\n",
    "    test_predictions = lr.predict(test[cols])\n",
    "    test_mse = mean_squared_error(test_predictions, test['SalePrice'])\n",
    "    rmse = np.sqrt(test_mse)\n",
    "    return rmse"
   ]
  },
  {
   "cell_type": "markdown",
   "id": "e42c2b50",
   "metadata": {},
   "source": [
    "Handle missing values:\n",
    "\n",
    "    All columns:\n",
    "        Drop any with 5% or more missing values for now.\n",
    "    Text columns:\n",
    "        Drop any with 1 or more missing values for now.\n",
    "    Numerical columns:\n",
    "        For columns with missing values, fill in with the most common value in that column\n"
   ]
  },
  {
   "cell_type": "code",
   "execution_count": 4,
   "id": "05d470ed",
   "metadata": {},
   "outputs": [],
   "source": [
    "miss_val = data.isnull().sum()\n",
    "#there are 2930 row and 5% of 2930 = 146,5, we round it up to 147\n",
    "\n",
    "more_5 = miss_val[miss_val > 2930 * 0.05] \n",
    "\n",
    "data = data.drop(more_5.index, axis = 1)"
   ]
  },
  {
   "cell_type": "code",
   "execution_count": 5,
   "id": "5e8169a6",
   "metadata": {},
   "outputs": [],
   "source": [
    "text_cols = data.select_dtypes(include=['object']).columns\n",
    "text_count = data[text_cols].isnull().sum()\n",
    "text_miss = text_count[text_count > 0]\n",
    "data = data.drop(text_miss.index, axis = 1)"
   ]
  },
  {
   "cell_type": "code",
   "execution_count": 6,
   "id": "09802af3",
   "metadata": {},
   "outputs": [
    {
     "data": {
      "text/plain": [
       "Mas Vnr Area      23\n",
       "BsmtFin SF 1       1\n",
       "BsmtFin SF 2       1\n",
       "Bsmt Unf SF        1\n",
       "Total Bsmt SF      1\n",
       "Bsmt Full Bath     2\n",
       "Bsmt Half Bath     2\n",
       "Garage Cars        1\n",
       "Garage Area        1\n",
       "dtype: int64"
      ]
     },
     "execution_count": 6,
     "metadata": {},
     "output_type": "execute_result"
    }
   ],
   "source": [
    "num_col = data.select_dtypes(include=['integer', 'float']).columns\n",
    "d = data[num_col].isnull().sum()\n",
    "fix_num = d[d>0]\n",
    "fix_num"
   ]
  },
  {
   "cell_type": "code",
   "execution_count": 7,
   "id": "6e65c325",
   "metadata": {},
   "outputs": [
    {
     "data": {
      "text/plain": [
       "{'Mas Vnr Area': 0.0,\n",
       " 'BsmtFin SF 1': 0.0,\n",
       " 'BsmtFin SF 2': 0.0,\n",
       " 'Bsmt Unf SF': 0.0,\n",
       " 'Total Bsmt SF': 0.0,\n",
       " 'Bsmt Full Bath': 0.0,\n",
       " 'Bsmt Half Bath': 0.0,\n",
       " 'Garage Cars': 2.0,\n",
       " 'Garage Area': 0.0}"
      ]
     },
     "execution_count": 7,
     "metadata": {},
     "output_type": "execute_result"
    }
   ],
   "source": [
    "replacement_values_dict = data[fix_num.index].mode().to_dict(orient='records')[0]\n",
    "replacement_values_dict"
   ]
  },
  {
   "cell_type": "code",
   "execution_count": 8,
   "id": "f29b2196",
   "metadata": {},
   "outputs": [],
   "source": [
    "data = data.fillna(replacement_values_dict)"
   ]
  },
  {
   "cell_type": "code",
   "execution_count": 9,
   "id": "89f911f6",
   "metadata": {},
   "outputs": [
    {
     "data": {
      "text/plain": [
       "0    64\n",
       "dtype: int64"
      ]
     },
     "execution_count": 9,
     "metadata": {},
     "output_type": "execute_result"
    }
   ],
   "source": [
    "data.isnull().sum().value_counts()"
   ]
  },
  {
   "cell_type": "markdown",
   "id": "4242eae9",
   "metadata": {},
   "source": [
    "Creation of new feature"
   ]
  },
  {
   "cell_type": "code",
   "execution_count": 10,
   "id": "2ef04b3c",
   "metadata": {},
   "outputs": [
    {
     "data": {
      "text/plain": [
       "2180   -1\n",
       "dtype: int64"
      ]
     },
     "execution_count": 10,
     "metadata": {},
     "output_type": "execute_result"
    }
   ],
   "source": [
    "years_sold = data['Yr Sold'] - data['Year Built']\n",
    "\n",
    "years_sold[years_sold < 0]"
   ]
  },
  {
   "cell_type": "code",
   "execution_count": 11,
   "id": "a02da1cc",
   "metadata": {},
   "outputs": [
    {
     "data": {
      "text/plain": [
       "1702   -1\n",
       "2180   -2\n",
       "2181   -1\n",
       "dtype: int64"
      ]
     },
     "execution_count": 11,
     "metadata": {},
     "output_type": "execute_result"
    }
   ],
   "source": [
    "years_remod = data['Yr Sold'] - data['Year Remod/Add']\n",
    "\n",
    "years_remod[years_remod < 0]"
   ]
  },
  {
   "cell_type": "code",
   "execution_count": 12,
   "id": "ed4a01b8",
   "metadata": {},
   "outputs": [],
   "source": [
    "## Create new columns\n",
    "data['Years Before Sale'] = years_sold\n",
    "data['Years Since Remod'] = years_remod\n",
    "\n",
    "## Drop rows with negative values for both of these new features\n",
    "data = data.drop([1702, 2180, 2181], axis=0)\n",
    "\n",
    "## No longer need original year columns\n",
    "data = data.drop([\"Year Built\", \"Year Remod/Add\"], axis = 1)"
   ]
  },
  {
   "cell_type": "markdown",
   "id": "3186786c",
   "metadata": {},
   "source": [
    "We drop columns that are not useful and that leak data about the final sale."
   ]
  },
  {
   "cell_type": "code",
   "execution_count": 13,
   "id": "48e27532",
   "metadata": {},
   "outputs": [],
   "source": [
    "data = data.drop(['PID','Order', 'Mo Sold', 'Sale Condition', 'Sale Type', 'Yr Sold'], axis = 1)"
   ]
  },
  {
   "cell_type": "markdown",
   "id": "3784e6a3",
   "metadata": {},
   "source": [
    "We now put all of that in the function transform_features:"
   ]
  },
  {
   "cell_type": "code",
   "execution_count": 14,
   "id": "dd4185d3",
   "metadata": {},
   "outputs": [],
   "source": [
    "def transform_features(df):\n",
    "    miss_val = df.isnull().sum()\n",
    "    more_5 = miss_val[miss_val > len(df) * 0.05] \n",
    "    df = df.drop(more_5.index, axis = 1)\n",
    "    \n",
    "    text_cols = df.select_dtypes(include=['object']).columns\n",
    "    text_count = df[text_cols].isnull().sum()\n",
    "    text_miss = text_count[text_count > 0]\n",
    "    df = df.drop(text_miss.index, axis = 1)\n",
    "    \n",
    "    num_col = df.select_dtypes(include=['integer', 'float']).columns\n",
    "    d = df[num_col].isnull().sum()\n",
    "    fix_num = d[d>0]\n",
    "    replacement_values_dict = df[fix_num.index].mode().to_dict(orient='records')[0]\n",
    "    df = df.fillna(replacement_values_dict)\n",
    "    \n",
    "    years_sold = df['Yr Sold'] - df['Year Built']\n",
    "    years_remod = df['Yr Sold'] - df['Year Remod/Add']\n",
    "    df['Years Before Sale'] = years_sold\n",
    "    df['Years Since Remod'] = years_remod\n",
    "    df = df.drop([1702, 2180, 2181], axis=0)\n",
    "    df = df.drop([\"Year Built\", \"Year Remod/Add\"], axis = 1)\n",
    "    \n",
    "    df = df.drop(['PID','Order', 'Mo Sold', 'Sale Condition', 'Sale Type', 'Yr Sold'], axis = 1)\n",
    "    return df\n",
    "\n",
    "def select_features(df):\n",
    "    return df[['Gr Liv Area', 'SalePrice']]\n",
    "\n",
    "def train_and_test(df):\n",
    "    train = df[0:1460]\n",
    "    test = df[1460:]\n",
    "    \n",
    "    numeric_train = train.select_dtypes(include=['integer', 'float'])\n",
    "    numeric_test = test.select_dtypes(include=['integer', 'float'])\n",
    "    \n",
    "    cols = list(df.columns)\n",
    "    cols.remove('SalePrice')\n",
    "    \n",
    "    lr = LinearRegression()\n",
    "    lr.fit(train[cols], train['SalePrice'])\n",
    "    test_predictions = lr.predict(test[cols])\n",
    "    test_mse = mean_squared_error(test_predictions, test['SalePrice'])\n",
    "    rmse = np.sqrt(test_mse)\n",
    "    return rmse"
   ]
  },
  {
   "cell_type": "code",
   "execution_count": 15,
   "id": "2250901c",
   "metadata": {},
   "outputs": [
    {
     "data": {
      "text/plain": [
       "55275.367312413066"
      ]
     },
     "execution_count": 15,
     "metadata": {},
     "output_type": "execute_result"
    }
   ],
   "source": [
    "data = pd.read_csv('AmesHousing.tsv', delimiter=\"\\t\")\n",
    "transformed_data = transform_features(data)\n",
    "selected_data = select_features(transformed_data)\n",
    "rmse = train_and_test(selected_data)\n",
    "\n",
    "rmse"
   ]
  },
  {
   "cell_type": "markdown",
   "id": "f71193ff",
   "metadata": {},
   "source": [
    "Now that we have cleaned and transformed a lot of the features in the data set, it's time to move on to feature selection for numerical features."
   ]
  },
  {
   "cell_type": "code",
   "execution_count": 16,
   "id": "9b3f6350",
   "metadata": {},
   "outputs": [
    {
     "data": {
      "text/html": [
       "<div>\n",
       "<style scoped>\n",
       "    .dataframe tbody tr th:only-of-type {\n",
       "        vertical-align: middle;\n",
       "    }\n",
       "\n",
       "    .dataframe tbody tr th {\n",
       "        vertical-align: top;\n",
       "    }\n",
       "\n",
       "    .dataframe thead th {\n",
       "        text-align: right;\n",
       "    }\n",
       "</style>\n",
       "<table border=\"1\" class=\"dataframe\">\n",
       "  <thead>\n",
       "    <tr style=\"text-align: right;\">\n",
       "      <th></th>\n",
       "      <th>MS SubClass</th>\n",
       "      <th>Lot Area</th>\n",
       "      <th>Overall Qual</th>\n",
       "      <th>Overall Cond</th>\n",
       "      <th>Mas Vnr Area</th>\n",
       "      <th>BsmtFin SF 1</th>\n",
       "      <th>BsmtFin SF 2</th>\n",
       "      <th>Bsmt Unf SF</th>\n",
       "      <th>Total Bsmt SF</th>\n",
       "      <th>1st Flr SF</th>\n",
       "      <th>2nd Flr SF</th>\n",
       "      <th>Low Qual Fin SF</th>\n",
       "      <th>Gr Liv Area</th>\n",
       "      <th>Bsmt Full Bath</th>\n",
       "      <th>Bsmt Half Bath</th>\n",
       "      <th>Full Bath</th>\n",
       "      <th>Half Bath</th>\n",
       "      <th>Bedroom AbvGr</th>\n",
       "      <th>Kitchen AbvGr</th>\n",
       "      <th>TotRms AbvGrd</th>\n",
       "      <th>Fireplaces</th>\n",
       "      <th>Garage Cars</th>\n",
       "      <th>Garage Area</th>\n",
       "      <th>Wood Deck SF</th>\n",
       "      <th>Open Porch SF</th>\n",
       "      <th>Enclosed Porch</th>\n",
       "      <th>3Ssn Porch</th>\n",
       "      <th>Screen Porch</th>\n",
       "      <th>Pool Area</th>\n",
       "      <th>Misc Val</th>\n",
       "      <th>SalePrice</th>\n",
       "      <th>Years Before Sale</th>\n",
       "      <th>Years Since Remod</th>\n",
       "    </tr>\n",
       "  </thead>\n",
       "  <tbody>\n",
       "    <tr>\n",
       "      <th>MS SubClass</th>\n",
       "      <td>1.000000</td>\n",
       "      <td>-0.204638</td>\n",
       "      <td>0.040285</td>\n",
       "      <td>-0.067498</td>\n",
       "      <td>0.005502</td>\n",
       "      <td>-0.058276</td>\n",
       "      <td>-0.070936</td>\n",
       "      <td>-0.129873</td>\n",
       "      <td>-0.219990</td>\n",
       "      <td>-0.250497</td>\n",
       "      <td>0.304430</td>\n",
       "      <td>0.025743</td>\n",
       "      <td>0.071166</td>\n",
       "      <td>0.014516</td>\n",
       "      <td>-0.002027</td>\n",
       "      <td>0.134997</td>\n",
       "      <td>0.176359</td>\n",
       "      <td>-0.019531</td>\n",
       "      <td>0.257685</td>\n",
       "      <td>0.033684</td>\n",
       "      <td>-0.049386</td>\n",
       "      <td>-0.045453</td>\n",
       "      <td>-0.102769</td>\n",
       "      <td>-0.016283</td>\n",
       "      <td>-0.013309</td>\n",
       "      <td>-0.022963</td>\n",
       "      <td>-0.037988</td>\n",
       "      <td>-0.050696</td>\n",
       "      <td>-0.003451</td>\n",
       "      <td>-0.024356</td>\n",
       "      <td>-0.085128</td>\n",
       "      <td>-0.037655</td>\n",
       "      <td>-0.044886</td>\n",
       "    </tr>\n",
       "    <tr>\n",
       "      <th>Lot Area</th>\n",
       "      <td>-0.204638</td>\n",
       "      <td>1.000000</td>\n",
       "      <td>0.090426</td>\n",
       "      <td>-0.033487</td>\n",
       "      <td>0.114982</td>\n",
       "      <td>0.180192</td>\n",
       "      <td>0.084454</td>\n",
       "      <td>0.020899</td>\n",
       "      <td>0.241353</td>\n",
       "      <td>0.321311</td>\n",
       "      <td>0.030381</td>\n",
       "      <td>0.001105</td>\n",
       "      <td>0.273741</td>\n",
       "      <td>0.122329</td>\n",
       "      <td>0.022168</td>\n",
       "      <td>0.123632</td>\n",
       "      <td>0.032169</td>\n",
       "      <td>0.138303</td>\n",
       "      <td>-0.019809</td>\n",
       "      <td>0.208241</td>\n",
       "      <td>0.254772</td>\n",
       "      <td>0.176283</td>\n",
       "      <td>0.207487</td>\n",
       "      <td>0.152849</td>\n",
       "      <td>0.089202</td>\n",
       "      <td>0.023004</td>\n",
       "      <td>0.016619</td>\n",
       "      <td>0.056135</td>\n",
       "      <td>0.094421</td>\n",
       "      <td>0.038013</td>\n",
       "      <td>0.267520</td>\n",
       "      <td>-0.020882</td>\n",
       "      <td>-0.019848</td>\n",
       "    </tr>\n",
       "    <tr>\n",
       "      <th>Overall Qual</th>\n",
       "      <td>0.040285</td>\n",
       "      <td>0.090426</td>\n",
       "      <td>1.000000</td>\n",
       "      <td>-0.093907</td>\n",
       "      <td>0.418972</td>\n",
       "      <td>0.278274</td>\n",
       "      <td>-0.040551</td>\n",
       "      <td>0.268760</td>\n",
       "      <td>0.545792</td>\n",
       "      <td>0.474888</td>\n",
       "      <td>0.240300</td>\n",
       "      <td>-0.048585</td>\n",
       "      <td>0.567902</td>\n",
       "      <td>0.167279</td>\n",
       "      <td>-0.044949</td>\n",
       "      <td>0.520942</td>\n",
       "      <td>0.266939</td>\n",
       "      <td>0.064220</td>\n",
       "      <td>-0.159729</td>\n",
       "      <td>0.376199</td>\n",
       "      <td>0.391604</td>\n",
       "      <td>0.598485</td>\n",
       "      <td>0.561303</td>\n",
       "      <td>0.253120</td>\n",
       "      <td>0.290553</td>\n",
       "      <td>-0.139907</td>\n",
       "      <td>0.018537</td>\n",
       "      <td>0.042412</td>\n",
       "      <td>0.030638</td>\n",
       "      <td>-0.027685</td>\n",
       "      <td>0.801206</td>\n",
       "      <td>-0.596358</td>\n",
       "      <td>-0.570231</td>\n",
       "    </tr>\n",
       "    <tr>\n",
       "      <th>Overall Cond</th>\n",
       "      <td>-0.067498</td>\n",
       "      <td>-0.033487</td>\n",
       "      <td>-0.093907</td>\n",
       "      <td>1.000000</td>\n",
       "      <td>-0.132071</td>\n",
       "      <td>-0.050143</td>\n",
       "      <td>0.040846</td>\n",
       "      <td>-0.136758</td>\n",
       "      <td>-0.174840</td>\n",
       "      <td>-0.157746</td>\n",
       "      <td>0.006674</td>\n",
       "      <td>0.009123</td>\n",
       "      <td>-0.114930</td>\n",
       "      <td>-0.043252</td>\n",
       "      <td>0.084988</td>\n",
       "      <td>-0.213914</td>\n",
       "      <td>-0.087566</td>\n",
       "      <td>-0.006257</td>\n",
       "      <td>-0.086507</td>\n",
       "      <td>-0.088903</td>\n",
       "      <td>-0.031147</td>\n",
       "      <td>-0.181083</td>\n",
       "      <td>-0.153249</td>\n",
       "      <td>0.021046</td>\n",
       "      <td>-0.067152</td>\n",
       "      <td>0.071287</td>\n",
       "      <td>0.043804</td>\n",
       "      <td>0.043915</td>\n",
       "      <td>-0.016822</td>\n",
       "      <td>0.047066</td>\n",
       "      <td>-0.101540</td>\n",
       "      <td>0.369267</td>\n",
       "      <td>-0.046373</td>\n",
       "    </tr>\n",
       "    <tr>\n",
       "      <th>Mas Vnr Area</th>\n",
       "      <td>0.005502</td>\n",
       "      <td>0.114982</td>\n",
       "      <td>0.418972</td>\n",
       "      <td>-0.132071</td>\n",
       "      <td>1.000000</td>\n",
       "      <td>0.284305</td>\n",
       "      <td>-0.014139</td>\n",
       "      <td>0.087535</td>\n",
       "      <td>0.378545</td>\n",
       "      <td>0.376205</td>\n",
       "      <td>0.119674</td>\n",
       "      <td>-0.057375</td>\n",
       "      <td>0.387355</td>\n",
       "      <td>0.137158</td>\n",
       "      <td>0.008756</td>\n",
       "      <td>0.252318</td>\n",
       "      <td>0.186587</td>\n",
       "      <td>0.083399</td>\n",
       "      <td>-0.050531</td>\n",
       "      <td>0.267328</td>\n",
       "      <td>0.267449</td>\n",
       "      <td>0.354753</td>\n",
       "      <td>0.365786</td>\n",
       "      <td>0.158743</td>\n",
       "      <td>0.123395</td>\n",
       "      <td>-0.109775</td>\n",
       "      <td>0.014689</td>\n",
       "      <td>0.068366</td>\n",
       "      <td>0.005143</td>\n",
       "      <td>-0.022884</td>\n",
       "      <td>0.506983</td>\n",
       "      <td>-0.306163</td>\n",
       "      <td>-0.190821</td>\n",
       "    </tr>\n",
       "  </tbody>\n",
       "</table>\n",
       "</div>"
      ],
      "text/plain": [
       "              MS SubClass  Lot Area  Overall Qual  Overall Cond  Mas Vnr Area  \\\n",
       "MS SubClass      1.000000 -0.204638      0.040285     -0.067498      0.005502   \n",
       "Lot Area        -0.204638  1.000000      0.090426     -0.033487      0.114982   \n",
       "Overall Qual     0.040285  0.090426      1.000000     -0.093907      0.418972   \n",
       "Overall Cond    -0.067498 -0.033487     -0.093907      1.000000     -0.132071   \n",
       "Mas Vnr Area     0.005502  0.114982      0.418972     -0.132071      1.000000   \n",
       "\n",
       "              BsmtFin SF 1  BsmtFin SF 2  Bsmt Unf SF  Total Bsmt SF  \\\n",
       "MS SubClass      -0.058276     -0.070936    -0.129873      -0.219990   \n",
       "Lot Area          0.180192      0.084454     0.020899       0.241353   \n",
       "Overall Qual      0.278274     -0.040551     0.268760       0.545792   \n",
       "Overall Cond     -0.050143      0.040846    -0.136758      -0.174840   \n",
       "Mas Vnr Area      0.284305     -0.014139     0.087535       0.378545   \n",
       "\n",
       "              1st Flr SF  2nd Flr SF  Low Qual Fin SF  Gr Liv Area  \\\n",
       "MS SubClass    -0.250497    0.304430         0.025743     0.071166   \n",
       "Lot Area        0.321311    0.030381         0.001105     0.273741   \n",
       "Overall Qual    0.474888    0.240300        -0.048585     0.567902   \n",
       "Overall Cond   -0.157746    0.006674         0.009123    -0.114930   \n",
       "Mas Vnr Area    0.376205    0.119674        -0.057375     0.387355   \n",
       "\n",
       "              Bsmt Full Bath  Bsmt Half Bath  Full Bath  Half Bath  \\\n",
       "MS SubClass         0.014516       -0.002027   0.134997   0.176359   \n",
       "Lot Area            0.122329        0.022168   0.123632   0.032169   \n",
       "Overall Qual        0.167279       -0.044949   0.520942   0.266939   \n",
       "Overall Cond       -0.043252        0.084988  -0.213914  -0.087566   \n",
       "Mas Vnr Area        0.137158        0.008756   0.252318   0.186587   \n",
       "\n",
       "              Bedroom AbvGr  Kitchen AbvGr  TotRms AbvGrd  Fireplaces  \\\n",
       "MS SubClass       -0.019531       0.257685       0.033684   -0.049386   \n",
       "Lot Area           0.138303      -0.019809       0.208241    0.254772   \n",
       "Overall Qual       0.064220      -0.159729       0.376199    0.391604   \n",
       "Overall Cond      -0.006257      -0.086507      -0.088903   -0.031147   \n",
       "Mas Vnr Area       0.083399      -0.050531       0.267328    0.267449   \n",
       "\n",
       "              Garage Cars  Garage Area  Wood Deck SF  Open Porch SF  \\\n",
       "MS SubClass     -0.045453    -0.102769     -0.016283      -0.013309   \n",
       "Lot Area         0.176283     0.207487      0.152849       0.089202   \n",
       "Overall Qual     0.598485     0.561303      0.253120       0.290553   \n",
       "Overall Cond    -0.181083    -0.153249      0.021046      -0.067152   \n",
       "Mas Vnr Area     0.354753     0.365786      0.158743       0.123395   \n",
       "\n",
       "              Enclosed Porch  3Ssn Porch  Screen Porch  Pool Area  Misc Val  \\\n",
       "MS SubClass        -0.022963   -0.037988     -0.050696  -0.003451 -0.024356   \n",
       "Lot Area            0.023004    0.016619      0.056135   0.094421  0.038013   \n",
       "Overall Qual       -0.139907    0.018537      0.042412   0.030638 -0.027685   \n",
       "Overall Cond        0.071287    0.043804      0.043915  -0.016822  0.047066   \n",
       "Mas Vnr Area       -0.109775    0.014689      0.068366   0.005143 -0.022884   \n",
       "\n",
       "              SalePrice  Years Before Sale  Years Since Remod  \n",
       "MS SubClass   -0.085128          -0.037655          -0.044886  \n",
       "Lot Area       0.267520          -0.020882          -0.019848  \n",
       "Overall Qual   0.801206          -0.596358          -0.570231  \n",
       "Overall Cond  -0.101540           0.369267          -0.046373  \n",
       "Mas Vnr Area   0.506983          -0.306163          -0.190821  "
      ]
     },
     "execution_count": 16,
     "metadata": {},
     "output_type": "execute_result"
    }
   ],
   "source": [
    "import seaborn as sns\n",
    "num_data = transformed_data.select_dtypes(include=['integer', 'float'])\n",
    "corr_data = num_data.corr()\n",
    "corr_data.head()"
   ]
  },
  {
   "cell_type": "code",
   "execution_count": 17,
   "id": "2ab0b6f5",
   "metadata": {},
   "outputs": [
    {
     "data": {
      "text/plain": [
       "<AxesSubplot:>"
      ]
     },
     "execution_count": 17,
     "metadata": {},
     "output_type": "execute_result"
    },
    {
     "data": {
      "image/png": "[encoded data removed]",
      "text/plain": [
       "<Figure size 432x288 with 2 Axes>"
      ]
     },
     "metadata": {
      "needs_background": "light"
     },
     "output_type": "display_data"
    }
   ],
   "source": [
    "sns.heatmap(corr_data)"
   ]
  },
  {
   "cell_type": "code",
   "execution_count": 18,
   "id": "a772cbda",
   "metadata": {},
   "outputs": [
    {
     "data": {
      "text/plain": [
       "SalePrice            1.000000\n",
       "Overall Qual         0.801206\n",
       "Gr Liv Area          0.717596\n",
       "Garage Cars          0.648361\n",
       "Total Bsmt SF        0.644012\n",
       "Garage Area          0.641425\n",
       "1st Flr SF           0.635185\n",
       "Years Before Sale    0.558979\n",
       "Full Bath            0.546118\n",
       "Years Since Remod    0.534985\n",
       "Mas Vnr Area         0.506983\n",
       "TotRms AbvGrd        0.498574\n",
       "Fireplaces           0.474831\n",
       "BsmtFin SF 1         0.439284\n",
       "Wood Deck SF         0.328183\n",
       "Open Porch SF        0.316262\n",
       "Half Bath            0.284871\n",
       "Bsmt Full Bath       0.276258\n",
       "2nd Flr SF           0.269601\n",
       "Lot Area             0.267520\n",
       "Bsmt Unf SF          0.182751\n",
       "Bedroom AbvGr        0.143916\n",
       "Enclosed Porch       0.128685\n",
       "Kitchen AbvGr        0.119760\n",
       "Screen Porch         0.112280\n",
       "Overall Cond         0.101540\n",
       "MS SubClass          0.085128\n",
       "Pool Area            0.068438\n",
       "Low Qual Fin SF      0.037629\n",
       "Bsmt Half Bath       0.035875\n",
       "3Ssn Porch           0.032268\n",
       "Misc Val             0.019273\n",
       "BsmtFin SF 2         0.006127\n",
       "Name: SalePrice, dtype: float64"
      ]
     },
     "execution_count": 18,
     "metadata": {},
     "output_type": "execute_result"
    }
   ],
   "source": [
    "sale_corr = corr_data['SalePrice'].abs().sort_values(ascending = False)\n",
    "sale_corr"
   ]
  },
  {
   "cell_type": "markdown",
   "id": "588954d2",
   "metadata": {},
   "source": [
    "Which columns in the data frame should be converted to the categorical data type ?"
   ]
  },
  {
   "cell_type": "code",
   "execution_count": 27,
   "id": "95d28334",
   "metadata": {},
   "outputs": [],
   "source": [
    "nominal_features = [\"PID\", \"MS SubClass\", \"MS Zoning\", \"Street\", \"Alley\", \"Land Contour\", \"Lot Config\", \"Neighborhood\", \n",
    "                    \"Condition 1\", \"Condition 2\", \"Bldg Type\", \"House Style\", \"Roof Style\", \"Roof Matl\", \"Exterior 1st\", \n",
    "                    \"Exterior 2nd\", \"Mas Vnr Type\", \"Foundation\", \"Heating\", \"Central Air\", \"Garage Type\", \n",
    "                    \"Misc Feature\", \"Sale Type\", \"Sale Condition\"]"
   ]
  },
  {
   "cell_type": "markdown",
   "id": "29693306",
   "metadata": {},
   "source": [
    "Which columns are currently numerical but need to be encoded as categorical instead (because the numbers don't have any semantic meaning)?"
   ]
  },
  {
   "cell_type": "code",
   "execution_count": 30,
   "id": "7e6ddae2",
   "metadata": {},
   "outputs": [],
   "source": [
    "transform_cat = []\n",
    "for col in nominal_features:\n",
    "    if col in transformed_data:\n",
    "        transform_cat.append(col)\n",
    "        \n",
    "\n",
    "## How many unique values in each categorical column?\n",
    "uniqueness_counts = transformed_data[transform_cat].apply(lambda col: len(col.value_counts())).sort_values()\n",
    "## Aribtrary cutoff of 10 unique values (worth experimenting)\n",
    "drop_nonuniq_cols = uniqueness_counts[uniqueness_counts > 10].index\n",
    "transformed_data = transformed_data.drop(drop_nonuniq_cols, axis=1)"
   ]
  },
  {
   "cell_type": "code",
   "execution_count": 32,
   "id": "6cc71a6d",
   "metadata": {},
   "outputs": [],
   "source": [
    "## Select just the remaining text columns and convert to categorical\n",
    "text_cols = transformed_data.select_dtypes(include=['object'])\n",
    "for col in text_cols:\n",
    "    transformed_data[col] = transformed_data[col].astype('category')\n",
    "    \n",
    "## Create dummy columns and add back to the dataframe!\n",
    "transformed_data = pd.concat([\n",
    "    transformed_data, \n",
    "    pd.get_dummies(transformed_data.select_dtypes(include=['category']))\n",
    "], axis=1).drop(text_cols,axis=1)"
   ]
  },
  {
   "cell_type": "code",
   "execution_count": 35,
   "id": "60bc8b43",
   "metadata": {},
   "outputs": [],
   "source": [
    "def transform_features(df):\n",
    "    miss_val = df.isnull().sum()\n",
    "    more_5 = miss_val[miss_val > len(df) * 0.05] \n",
    "    df = df.drop(more_5.index, axis = 1)\n",
    "    \n",
    "    text_cols = df.select_dtypes(include=['object']).columns\n",
    "    text_count = df[text_cols].isnull().sum()\n",
    "    text_miss = text_count[text_count > 0]\n",
    "    df = df.drop(text_miss.index, axis = 1)\n",
    "    \n",
    "    num_col = df.select_dtypes(include=['integer', 'float']).columns\n",
    "    d = df[num_col].isnull().sum()\n",
    "    fix_num = d[d>0]\n",
    "    replacement_values_dict = df[fix_num.index].mode().to_dict(orient='records')[0]\n",
    "    df = df.fillna(replacement_values_dict)\n",
    "    \n",
    "    years_sold = df['Yr Sold'] - df['Year Built']\n",
    "    years_remod = df['Yr Sold'] - df['Year Remod/Add']\n",
    "    df['Years Before Sale'] = years_sold\n",
    "    df['Years Since Remod'] = years_remod\n",
    "    df = df.drop([1702, 2180, 2181], axis=0)\n",
    "    df = df.drop([\"Year Built\", \"Year Remod/Add\"], axis = 1)\n",
    "    \n",
    "    df = df.drop(['PID','Order', 'Mo Sold', 'Sale Condition', 'Sale Type', 'Yr Sold'], axis = 1)\n",
    "    return df\n",
    "\n",
    "def select_features(df, coeff_threshold=0.4, uniq_threshold=10):\n",
    "    num_col = df.select_dtypes(include=['integer', 'float'])\n",
    "    abs_corr_coeffs = num_col.corr()['SalePrice'].abs().sort_values()\n",
    "    df = df.drop(abs_corr_coeffs[abs_corr_coeffs < coeff_threshold].index, axis=1)\n",
    "    nominal_features = [\"PID\", \"MS SubClass\", \"MS Zoning\", \"Street\", \"Alley\", \"Land Contour\", \"Lot Config\", \"Neighborhood\", \n",
    "                    \"Condition 1\", \"Condition 2\", \"Bldg Type\", \"House Style\", \"Roof Style\", \"Roof Matl\", \"Exterior 1st\", \n",
    "                    \"Exterior 2nd\", \"Mas Vnr Type\", \"Foundation\", \"Heating\", \"Central Air\", \"Garage Type\", \n",
    "                    \"Misc Feature\", \"Sale Type\", \"Sale Condition\"]\n",
    "    transform_cat = []\n",
    "    for col in nominal_features:\n",
    "        if col in df:\n",
    "            transform_cat.append(col)\n",
    "    uniqueness_counts = df[transform_cat].apply(lambda col: len(col.value_counts())).sort_values()\n",
    "    drop_nonuniq_cols = uniqueness_counts[uniqueness_counts > 10].index\n",
    "    df = df.drop(drop_nonuniq_cols, axis=1)\n",
    "    text_cols = df.select_dtypes(include=['object'])\n",
    "    for col in text_cols:\n",
    "        df[col] = df[col].astype('category')\n",
    "    df = pd.concat([df, pd.get_dummies(df.select_dtypes(include=['category']))], axis=1).drop(text_cols,axis=1)\n",
    "    return df\n",
    "    \n",
    "def train_and_test(df, k=0):\n",
    "    numeric = df.select_dtypes(include=['integer', 'float'])\n",
    "    features = numeric.columns.drop('SalePrice')\n",
    "    lr = LinearRegression()\n",
    "    \n",
    "    if k == 0:\n",
    "        train = df[0:1460]\n",
    "        test = df[1460:]\n",
    "        lr.fit(train[features], train['SalePrice'])\n",
    "        test_predictions = lr.predict(test[cols])\n",
    "        test_mse = mean_squared_error(test_predictions, test['SalePrice'])\n",
    "        rmse = np.sqrt(test_mse)\n",
    "        return rmse\n",
    "    \n",
    "    if k == 1:\n",
    "        shuffled_df = df.sample(frac=1, )\n",
    "        fold_one = shuffled_df[1460:]\n",
    "        fold_two = shuffled_df[:1460]\n",
    "        \n",
    "        lr.fit(fold_one[features], fold_one['SalePrice'])\n",
    "        one_prediction = lr.predict(fold_two[features])\n",
    "        \n",
    "        mse_one = mean_squared_error(one_prediction, fold_two['SalePrice'])\n",
    "        rmse_one = np.sqrt(mse_one)\n",
    "        \n",
    "        lr.fit(fold_two[features], fold_two['SalePrice'])\n",
    "        two_prediction = lr.predict(fold_one[features])\n",
    "        \n",
    "        mse_two = mean_squared_error(two_prediction, fold_one['SalePrice'])\n",
    "        rmse_two = np.sqrt(mse_two)\n",
    "    \n",
    "        avg_rmse = np.mean([rmse_one, rmse_two])\n",
    "        print(rmse_one)\n",
    "        print(rmse_two)\n",
    "        return avg_rmse\n",
    "    \n",
    "    else:\n",
    "        kf = KFold(n_splits=k, shuffle=True)\n",
    "        rmse_values = []\n",
    "        for train_index, test_index, in kf.split(df):\n",
    "            train = df.iloc[train_index]\n",
    "            test = df.iloc[test_index]\n",
    "            lr.fit(train[features], train[\"SalePrice\"])\n",
    "            predictions = lr.predict(test[features])\n",
    "            mse = mean_squared_error(test[\"SalePrice\"], predictions)\n",
    "            rmse = np.sqrt(mse)\n",
    "            rmse_values.append(rmse)\n",
    "        print(rmse_values)\n",
    "        avg_rmse = np.mean(rmse_values)\n",
    "        return avg_rmse\n"
   ]
  },
  {
   "cell_type": "code",
   "execution_count": 36,
   "id": "bbfc7fc9",
   "metadata": {},
   "outputs": [
    {
     "name": "stdout",
     "output_type": "stream",
     "text": [
      "[26509.749379569028, 26077.94871402075, 35475.248565789116, 27857.855260464425]\n"
     ]
    },
    {
     "data": {
      "text/plain": [
       "28980.200479960826"
      ]
     },
     "execution_count": 36,
     "metadata": {},
     "output_type": "execute_result"
    }
   ],
   "source": [
    "df = pd.read_csv(\"AmesHousing.tsv\", delimiter=\"\\t\")\n",
    "transform_df = transform_features(df)\n",
    "filtered_df = select_features(transform_df)\n",
    "rmse = train_and_test(filtered_df, k=4)\n",
    "\n",
    "rmse"
   ]
  },
  {
   "cell_type": "code",
   "execution_count": null,
   "id": "12e9f128",
   "metadata": {},
   "outputs": [],
   "source": []
  }
 ],
 "metadata": {
  "kernelspec": {
   "display_name": "Python 3 (ipykernel)",
   "language": "python",
   "name": "python3"
  },
  "language_info": {
   "codemirror_mode": {
    "name": "ipython",
    "version": 3
   },
   "file_extension": ".py",
   "mimetype": "text/x-python",
   "name": "python",
   "nbconvert_exporter": "python",
   "pygments_lexer": "ipython3",
   "version": "3.9.7"
  }
 },
 "nbformat": 4,
 "nbformat_minor": 5
}
