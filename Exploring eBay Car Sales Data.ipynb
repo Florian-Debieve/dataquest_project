{
 "cells": [
  {
   "cell_type": "code",
   "execution_count": 1,
   "id": "14a2f829",
   "metadata": {},
   "outputs": [
    {
     "name": "stdout",
     "output_type": "stream",
     "text": [
      "C:\\Users\\debie\\Documents\\anaconda_space\n"
     ]
    }
   ],
   "source": [
    "%cd C:\\\\Users\\\\debie\\\\Documents\\\\anaconda_space"
   ]
  },
  {
   "cell_type": "markdown",
   "id": "6ade8d9f",
   "metadata": {},
   "source": [
    "# Exploring eBay Car Sales Data"
   ]
  },
  {
   "cell_type": "markdown",
   "id": "21d91fb5",
   "metadata": {},
   "source": [
    "In this project, the dataset that will be explored contains data of used cars from the German eBay website. The aim of this project is to clean the data and analyze the included used car listings. \n",
    "The data dictionary provided with data is as follows:\n",
    "\n",
    "    dateCrawled - When this ad was first crawled. All field-values are taken from this date.\n",
    "    name - Name of the car.\n",
    "    seller - Whether the seller is private or a dealer.\n",
    "    offerType - The type of listing\n",
    "    price - The price on the ad to sell the car.\n",
    "    abtest - Whether the listing is included in an A/B test.\n",
    "    vehicleType - The vehicle Type.\n",
    "    yearOfRegistration - The year in which the car was first registered.\n",
    "    gearbox - The transmission type.\n",
    "    powerPS - The power of the car in PS.\n",
    "    model - The car model name.\n",
    "    kilometer - How many kilometers the car has driven.\n",
    "    monthOfRegistration - The month in which the car was first registered.\n",
    "    fuelType - What type of fuel the car uses.\n",
    "    brand - The brand of the car.\n",
    "    notRepairedDamage - If the car has a damage which is not yet repaired.\n",
    "    dateCreated - The date on which the eBay listing was created.\n",
    "    nrOfPictures - The number of pictures in the ad.\n",
    "    postalCode - The postal code for the location of the vehicle.\n",
    "    lastSeenOnline - When the crawler saw this ad last online.\n"
   ]
  },
  {
   "cell_type": "code",
   "execution_count": 3,
   "id": "e57e5571",
   "metadata": {},
   "outputs": [],
   "source": [
    "import pandas as pd\n",
    "import numpy as np\n",
    "autos = pd.read_csv(\"autos.csv\",encoding=\"Latin-1\")"
   ]
  },
  {
   "cell_type": "code",
   "execution_count": 4,
   "id": "771e7380",
   "metadata": {},
   "outputs": [
    {
     "data": {
      "text/html": [
       "<div>\n",
       "<style scoped>\n",
       "    .dataframe tbody tr th:only-of-type {\n",
       "        vertical-align: middle;\n",
       "    }\n",
       "\n",
       "    .dataframe tbody tr th {\n",
       "        vertical-align: top;\n",
       "    }\n",
       "\n",
       "    .dataframe thead th {\n",
       "        text-align: right;\n",
       "    }\n",
       "</style>\n",
       "<table border=\"1\" class=\"dataframe\">\n",
       "  <thead>\n",
       "    <tr style=\"text-align: right;\">\n",
       "      <th></th>\n",
       "      <th>dateCrawled</th>\n",
       "      <th>name</th>\n",
       "      <th>seller</th>\n",
       "      <th>offerType</th>\n",
       "      <th>price</th>\n",
       "      <th>abtest</th>\n",
       "      <th>vehicleType</th>\n",
       "      <th>yearOfRegistration</th>\n",
       "      <th>gearbox</th>\n",
       "      <th>powerPS</th>\n",
       "      <th>model</th>\n",
       "      <th>kilometer</th>\n",
       "      <th>monthOfRegistration</th>\n",
       "      <th>fuelType</th>\n",
       "      <th>brand</th>\n",
       "      <th>notRepairedDamage</th>\n",
       "      <th>dateCreated</th>\n",
       "      <th>nrOfPictures</th>\n",
       "      <th>postalCode</th>\n",
       "      <th>lastSeen</th>\n",
       "    </tr>\n",
       "  </thead>\n",
       "  <tbody>\n",
       "    <tr>\n",
       "      <th>0</th>\n",
       "      <td>2016-03-24 11:52:17</td>\n",
       "      <td>Golf_3_1.6</td>\n",
       "      <td>privat</td>\n",
       "      <td>Angebot</td>\n",
       "      <td>480</td>\n",
       "      <td>test</td>\n",
       "      <td>NaN</td>\n",
       "      <td>1993</td>\n",
       "      <td>manuell</td>\n",
       "      <td>0</td>\n",
       "      <td>golf</td>\n",
       "      <td>150000</td>\n",
       "      <td>0</td>\n",
       "      <td>benzin</td>\n",
       "      <td>volkswagen</td>\n",
       "      <td>NaN</td>\n",
       "      <td>2016-03-24 00:00:00</td>\n",
       "      <td>0</td>\n",
       "      <td>70435</td>\n",
       "      <td>2016-04-07 03:16:57</td>\n",
       "    </tr>\n",
       "    <tr>\n",
       "      <th>1</th>\n",
       "      <td>2016-03-24 10:58:45</td>\n",
       "      <td>A5_Sportback_2.7_Tdi</td>\n",
       "      <td>privat</td>\n",
       "      <td>Angebot</td>\n",
       "      <td>18300</td>\n",
       "      <td>test</td>\n",
       "      <td>coupe</td>\n",
       "      <td>2011</td>\n",
       "      <td>manuell</td>\n",
       "      <td>190</td>\n",
       "      <td>NaN</td>\n",
       "      <td>125000</td>\n",
       "      <td>5</td>\n",
       "      <td>diesel</td>\n",
       "      <td>audi</td>\n",
       "      <td>ja</td>\n",
       "      <td>2016-03-24 00:00:00</td>\n",
       "      <td>0</td>\n",
       "      <td>66954</td>\n",
       "      <td>2016-04-07 01:46:50</td>\n",
       "    </tr>\n",
       "    <tr>\n",
       "      <th>2</th>\n",
       "      <td>2016-03-14 12:52:21</td>\n",
       "      <td>Jeep_Grand_Cherokee_\"Overland\"</td>\n",
       "      <td>privat</td>\n",
       "      <td>Angebot</td>\n",
       "      <td>9800</td>\n",
       "      <td>test</td>\n",
       "      <td>suv</td>\n",
       "      <td>2004</td>\n",
       "      <td>automatik</td>\n",
       "      <td>163</td>\n",
       "      <td>grand</td>\n",
       "      <td>125000</td>\n",
       "      <td>8</td>\n",
       "      <td>diesel</td>\n",
       "      <td>jeep</td>\n",
       "      <td>NaN</td>\n",
       "      <td>2016-03-14 00:00:00</td>\n",
       "      <td>0</td>\n",
       "      <td>90480</td>\n",
       "      <td>2016-04-05 12:47:46</td>\n",
       "    </tr>\n",
       "    <tr>\n",
       "      <th>3</th>\n",
       "      <td>2016-03-17 16:54:04</td>\n",
       "      <td>GOLF_4_1_4__3TÜRER</td>\n",
       "      <td>privat</td>\n",
       "      <td>Angebot</td>\n",
       "      <td>1500</td>\n",
       "      <td>test</td>\n",
       "      <td>kleinwagen</td>\n",
       "      <td>2001</td>\n",
       "      <td>manuell</td>\n",
       "      <td>75</td>\n",
       "      <td>golf</td>\n",
       "      <td>150000</td>\n",
       "      <td>6</td>\n",
       "      <td>benzin</td>\n",
       "      <td>volkswagen</td>\n",
       "      <td>nein</td>\n",
       "      <td>2016-03-17 00:00:00</td>\n",
       "      <td>0</td>\n",
       "      <td>91074</td>\n",
       "      <td>2016-03-17 17:40:17</td>\n",
       "    </tr>\n",
       "    <tr>\n",
       "      <th>4</th>\n",
       "      <td>2016-03-31 17:25:20</td>\n",
       "      <td>Skoda_Fabia_1.4_TDI_PD_Classic</td>\n",
       "      <td>privat</td>\n",
       "      <td>Angebot</td>\n",
       "      <td>3600</td>\n",
       "      <td>test</td>\n",
       "      <td>kleinwagen</td>\n",
       "      <td>2008</td>\n",
       "      <td>manuell</td>\n",
       "      <td>69</td>\n",
       "      <td>fabia</td>\n",
       "      <td>90000</td>\n",
       "      <td>7</td>\n",
       "      <td>diesel</td>\n",
       "      <td>skoda</td>\n",
       "      <td>nein</td>\n",
       "      <td>2016-03-31 00:00:00</td>\n",
       "      <td>0</td>\n",
       "      <td>60437</td>\n",
       "      <td>2016-04-06 10:17:21</td>\n",
       "    </tr>\n",
       "    <tr>\n",
       "      <th>...</th>\n",
       "      <td>...</td>\n",
       "      <td>...</td>\n",
       "      <td>...</td>\n",
       "      <td>...</td>\n",
       "      <td>...</td>\n",
       "      <td>...</td>\n",
       "      <td>...</td>\n",
       "      <td>...</td>\n",
       "      <td>...</td>\n",
       "      <td>...</td>\n",
       "      <td>...</td>\n",
       "      <td>...</td>\n",
       "      <td>...</td>\n",
       "      <td>...</td>\n",
       "      <td>...</td>\n",
       "      <td>...</td>\n",
       "      <td>...</td>\n",
       "      <td>...</td>\n",
       "      <td>...</td>\n",
       "      <td>...</td>\n",
       "    </tr>\n",
       "    <tr>\n",
       "      <th>371523</th>\n",
       "      <td>2016-03-14 17:48:27</td>\n",
       "      <td>Suche_t4___vito_ab_6_sitze</td>\n",
       "      <td>privat</td>\n",
       "      <td>Angebot</td>\n",
       "      <td>2200</td>\n",
       "      <td>test</td>\n",
       "      <td>NaN</td>\n",
       "      <td>2005</td>\n",
       "      <td>NaN</td>\n",
       "      <td>0</td>\n",
       "      <td>NaN</td>\n",
       "      <td>20000</td>\n",
       "      <td>1</td>\n",
       "      <td>NaN</td>\n",
       "      <td>sonstige_autos</td>\n",
       "      <td>NaN</td>\n",
       "      <td>2016-03-14 00:00:00</td>\n",
       "      <td>0</td>\n",
       "      <td>39576</td>\n",
       "      <td>2016-04-06 00:46:52</td>\n",
       "    </tr>\n",
       "    <tr>\n",
       "      <th>371524</th>\n",
       "      <td>2016-03-05 19:56:21</td>\n",
       "      <td>Smart_smart_leistungssteigerung_100ps</td>\n",
       "      <td>privat</td>\n",
       "      <td>Angebot</td>\n",
       "      <td>1199</td>\n",
       "      <td>test</td>\n",
       "      <td>cabrio</td>\n",
       "      <td>2000</td>\n",
       "      <td>automatik</td>\n",
       "      <td>101</td>\n",
       "      <td>fortwo</td>\n",
       "      <td>125000</td>\n",
       "      <td>3</td>\n",
       "      <td>benzin</td>\n",
       "      <td>smart</td>\n",
       "      <td>nein</td>\n",
       "      <td>2016-03-05 00:00:00</td>\n",
       "      <td>0</td>\n",
       "      <td>26135</td>\n",
       "      <td>2016-03-11 18:17:12</td>\n",
       "    </tr>\n",
       "    <tr>\n",
       "      <th>371525</th>\n",
       "      <td>2016-03-19 18:57:12</td>\n",
       "      <td>Volkswagen_Multivan_T4_TDI_7DC_UY2</td>\n",
       "      <td>privat</td>\n",
       "      <td>Angebot</td>\n",
       "      <td>9200</td>\n",
       "      <td>test</td>\n",
       "      <td>bus</td>\n",
       "      <td>1996</td>\n",
       "      <td>manuell</td>\n",
       "      <td>102</td>\n",
       "      <td>transporter</td>\n",
       "      <td>150000</td>\n",
       "      <td>3</td>\n",
       "      <td>diesel</td>\n",
       "      <td>volkswagen</td>\n",
       "      <td>nein</td>\n",
       "      <td>2016-03-19 00:00:00</td>\n",
       "      <td>0</td>\n",
       "      <td>87439</td>\n",
       "      <td>2016-04-07 07:15:26</td>\n",
       "    </tr>\n",
       "    <tr>\n",
       "      <th>371526</th>\n",
       "      <td>2016-03-20 19:41:08</td>\n",
       "      <td>VW_Golf_Kombi_1_9l_TDI</td>\n",
       "      <td>privat</td>\n",
       "      <td>Angebot</td>\n",
       "      <td>3400</td>\n",
       "      <td>test</td>\n",
       "      <td>kombi</td>\n",
       "      <td>2002</td>\n",
       "      <td>manuell</td>\n",
       "      <td>100</td>\n",
       "      <td>golf</td>\n",
       "      <td>150000</td>\n",
       "      <td>6</td>\n",
       "      <td>diesel</td>\n",
       "      <td>volkswagen</td>\n",
       "      <td>NaN</td>\n",
       "      <td>2016-03-20 00:00:00</td>\n",
       "      <td>0</td>\n",
       "      <td>40764</td>\n",
       "      <td>2016-03-24 12:45:21</td>\n",
       "    </tr>\n",
       "    <tr>\n",
       "      <th>371527</th>\n",
       "      <td>2016-03-07 19:39:19</td>\n",
       "      <td>BMW_M135i_vollausgestattet_NP_52.720____Euro</td>\n",
       "      <td>privat</td>\n",
       "      <td>Angebot</td>\n",
       "      <td>28990</td>\n",
       "      <td>control</td>\n",
       "      <td>limousine</td>\n",
       "      <td>2013</td>\n",
       "      <td>manuell</td>\n",
       "      <td>320</td>\n",
       "      <td>m_reihe</td>\n",
       "      <td>50000</td>\n",
       "      <td>8</td>\n",
       "      <td>benzin</td>\n",
       "      <td>bmw</td>\n",
       "      <td>nein</td>\n",
       "      <td>2016-03-07 00:00:00</td>\n",
       "      <td>0</td>\n",
       "      <td>73326</td>\n",
       "      <td>2016-03-22 03:17:10</td>\n",
       "    </tr>\n",
       "  </tbody>\n",
       "</table>\n",
       "<p>371528 rows × 20 columns</p>\n",
       "</div>"
      ],
      "text/plain": [
       "                dateCrawled                                          name  \\\n",
       "0       2016-03-24 11:52:17                                    Golf_3_1.6   \n",
       "1       2016-03-24 10:58:45                          A5_Sportback_2.7_Tdi   \n",
       "2       2016-03-14 12:52:21                Jeep_Grand_Cherokee_\"Overland\"   \n",
       "3       2016-03-17 16:54:04                            GOLF_4_1_4__3TÜRER   \n",
       "4       2016-03-31 17:25:20                Skoda_Fabia_1.4_TDI_PD_Classic   \n",
       "...                     ...                                           ...   \n",
       "371523  2016-03-14 17:48:27                    Suche_t4___vito_ab_6_sitze   \n",
       "371524  2016-03-05 19:56:21         Smart_smart_leistungssteigerung_100ps   \n",
       "371525  2016-03-19 18:57:12            Volkswagen_Multivan_T4_TDI_7DC_UY2   \n",
       "371526  2016-03-20 19:41:08                        VW_Golf_Kombi_1_9l_TDI   \n",
       "371527  2016-03-07 19:39:19  BMW_M135i_vollausgestattet_NP_52.720____Euro   \n",
       "\n",
       "        seller offerType  price   abtest vehicleType  yearOfRegistration  \\\n",
       "0       privat   Angebot    480     test         NaN                1993   \n",
       "1       privat   Angebot  18300     test       coupe                2011   \n",
       "2       privat   Angebot   9800     test         suv                2004   \n",
       "3       privat   Angebot   1500     test  kleinwagen                2001   \n",
       "4       privat   Angebot   3600     test  kleinwagen                2008   \n",
       "...        ...       ...    ...      ...         ...                 ...   \n",
       "371523  privat   Angebot   2200     test         NaN                2005   \n",
       "371524  privat   Angebot   1199     test      cabrio                2000   \n",
       "371525  privat   Angebot   9200     test         bus                1996   \n",
       "371526  privat   Angebot   3400     test       kombi                2002   \n",
       "371527  privat   Angebot  28990  control   limousine                2013   \n",
       "\n",
       "          gearbox  powerPS        model  kilometer  monthOfRegistration  \\\n",
       "0         manuell        0         golf     150000                    0   \n",
       "1         manuell      190          NaN     125000                    5   \n",
       "2       automatik      163        grand     125000                    8   \n",
       "3         manuell       75         golf     150000                    6   \n",
       "4         manuell       69        fabia      90000                    7   \n",
       "...           ...      ...          ...        ...                  ...   \n",
       "371523        NaN        0          NaN      20000                    1   \n",
       "371524  automatik      101       fortwo     125000                    3   \n",
       "371525    manuell      102  transporter     150000                    3   \n",
       "371526    manuell      100         golf     150000                    6   \n",
       "371527    manuell      320      m_reihe      50000                    8   \n",
       "\n",
       "       fuelType           brand notRepairedDamage          dateCreated  \\\n",
       "0        benzin      volkswagen               NaN  2016-03-24 00:00:00   \n",
       "1        diesel            audi                ja  2016-03-24 00:00:00   \n",
       "2        diesel            jeep               NaN  2016-03-14 00:00:00   \n",
       "3        benzin      volkswagen              nein  2016-03-17 00:00:00   \n",
       "4        diesel           skoda              nein  2016-03-31 00:00:00   \n",
       "...         ...             ...               ...                  ...   \n",
       "371523      NaN  sonstige_autos               NaN  2016-03-14 00:00:00   \n",
       "371524   benzin           smart              nein  2016-03-05 00:00:00   \n",
       "371525   diesel      volkswagen              nein  2016-03-19 00:00:00   \n",
       "371526   diesel      volkswagen               NaN  2016-03-20 00:00:00   \n",
       "371527   benzin             bmw              nein  2016-03-07 00:00:00   \n",
       "\n",
       "        nrOfPictures  postalCode             lastSeen  \n",
       "0                  0       70435  2016-04-07 03:16:57  \n",
       "1                  0       66954  2016-04-07 01:46:50  \n",
       "2                  0       90480  2016-04-05 12:47:46  \n",
       "3                  0       91074  2016-03-17 17:40:17  \n",
       "4                  0       60437  2016-04-06 10:17:21  \n",
       "...              ...         ...                  ...  \n",
       "371523             0       39576  2016-04-06 00:46:52  \n",
       "371524             0       26135  2016-03-11 18:17:12  \n",
       "371525             0       87439  2016-04-07 07:15:26  \n",
       "371526             0       40764  2016-03-24 12:45:21  \n",
       "371527             0       73326  2016-03-22 03:17:10  \n",
       "\n",
       "[371528 rows x 20 columns]"
      ]
     },
     "execution_count": 4,
     "metadata": {},
     "output_type": "execute_result"
    }
   ],
   "source": [
    "autos"
   ]
  },
  {
   "cell_type": "code",
   "execution_count": 5,
   "id": "1b49d3c8",
   "metadata": {},
   "outputs": [
    {
     "name": "stdout",
     "output_type": "stream",
     "text": [
      "<class 'pandas.core.frame.DataFrame'>\n",
      "RangeIndex: 371528 entries, 0 to 371527\n",
      "Data columns (total 20 columns):\n",
      " #   Column               Non-Null Count   Dtype \n",
      "---  ------               --------------   ----- \n",
      " 0   dateCrawled          371528 non-null  object\n",
      " 1   name                 371528 non-null  object\n",
      " 2   seller               371528 non-null  object\n",
      " 3   offerType            371528 non-null  object\n",
      " 4   price                371528 non-null  int64 \n",
      " 5   abtest               371528 non-null  object\n",
      " 6   vehicleType          333659 non-null  object\n",
      " 7   yearOfRegistration   371528 non-null  int64 \n",
      " 8   gearbox              351319 non-null  object\n",
      " 9   powerPS              371528 non-null  int64 \n",
      " 10  model                351044 non-null  object\n",
      " 11  kilometer            371528 non-null  int64 \n",
      " 12  monthOfRegistration  371528 non-null  int64 \n",
      " 13  fuelType             338142 non-null  object\n",
      " 14  brand                371528 non-null  object\n",
      " 15  notRepairedDamage    299468 non-null  object\n",
      " 16  dateCreated          371528 non-null  object\n",
      " 17  nrOfPictures         371528 non-null  int64 \n",
      " 18  postalCode           371528 non-null  int64 \n",
      " 19  lastSeen             371528 non-null  object\n",
      "dtypes: int64(7), object(13)\n",
      "memory usage: 56.7+ MB\n",
      "None\n",
      "           dateCrawled                            name  seller offerType  \\\n",
      "0  2016-03-24 11:52:17                      Golf_3_1.6  privat   Angebot   \n",
      "1  2016-03-24 10:58:45            A5_Sportback_2.7_Tdi  privat   Angebot   \n",
      "2  2016-03-14 12:52:21  Jeep_Grand_Cherokee_\"Overland\"  privat   Angebot   \n",
      "3  2016-03-17 16:54:04              GOLF_4_1_4__3TÜRER  privat   Angebot   \n",
      "4  2016-03-31 17:25:20  Skoda_Fabia_1.4_TDI_PD_Classic  privat   Angebot   \n",
      "\n",
      "   price abtest vehicleType  yearOfRegistration    gearbox  powerPS  model  \\\n",
      "0    480   test         NaN                1993    manuell        0   golf   \n",
      "1  18300   test       coupe                2011    manuell      190    NaN   \n",
      "2   9800   test         suv                2004  automatik      163  grand   \n",
      "3   1500   test  kleinwagen                2001    manuell       75   golf   \n",
      "4   3600   test  kleinwagen                2008    manuell       69  fabia   \n",
      "\n",
      "   kilometer  monthOfRegistration fuelType       brand notRepairedDamage  \\\n",
      "0     150000                    0   benzin  volkswagen               NaN   \n",
      "1     125000                    5   diesel        audi                ja   \n",
      "2     125000                    8   diesel        jeep               NaN   \n",
      "3     150000                    6   benzin  volkswagen              nein   \n",
      "4      90000                    7   diesel       skoda              nein   \n",
      "\n",
      "           dateCreated  nrOfPictures  postalCode             lastSeen  \n",
      "0  2016-03-24 00:00:00             0       70435  2016-04-07 03:16:57  \n",
      "1  2016-03-24 00:00:00             0       66954  2016-04-07 01:46:50  \n",
      "2  2016-03-14 00:00:00             0       90480  2016-04-05 12:47:46  \n",
      "3  2016-03-17 00:00:00             0       91074  2016-03-17 17:40:17  \n",
      "4  2016-03-31 00:00:00             0       60437  2016-04-06 10:17:21  \n"
     ]
    }
   ],
   "source": [
    "print(autos.info())\n",
    "print(autos.head())"
   ]
  },
  {
   "cell_type": "markdown",
   "id": "15504bde",
   "metadata": {},
   "source": [
    "In this dataset, there are 371 527 rows and 20 columns. From the command .info() we can see that there are 5 columns (vehicleType / gearbox / model / fuelType / notRepairedDamage) which have null content that will need to be cleaned. We can see that some of the information are in German and will need to be translated in English. Then, in the powerPS column, some of the car are marked as having 0 PS which seems to mean that there is some information missing there.\n",
    "\n",
    "The column names use camelcase instead on snakecase, which needs to be corrected."
   ]
  },
  {
   "cell_type": "code",
   "execution_count": 6,
   "id": "7d552043",
   "metadata": {},
   "outputs": [
    {
     "name": "stdout",
     "output_type": "stream",
     "text": [
      "Index(['dateCrawled', 'name', 'seller', 'offerType', 'price', 'abtest',\n",
      "       'vehicleType', 'yearOfRegistration', 'gearbox', 'powerPS', 'model',\n",
      "       'kilometer', 'monthOfRegistration', 'fuelType', 'brand',\n",
      "       'notRepairedDamage', 'dateCreated', 'nrOfPictures', 'postalCode',\n",
      "       'lastSeen'],\n",
      "      dtype='object')\n"
     ]
    }
   ],
   "source": [
    "print(autos.columns)"
   ]
  },
  {
   "cell_type": "code",
   "execution_count": 7,
   "id": "9b007e01",
   "metadata": {},
   "outputs": [
    {
     "name": "stdout",
     "output_type": "stream",
     "text": [
      "          date_crawled        name  seller offer_type  price abtest  \\\n",
      "0  2016-03-24 11:52:17  Golf_3_1.6  privat    Angebot    480   test   \n",
      "\n",
      "  vehicle_type  registration_year  gearbox  power_ps model  kilometer  \\\n",
      "0          NaN               1993  manuell         0  golf     150000   \n",
      "\n",
      "   registration_month fuel_type       brand unrepaired_damage  \\\n",
      "0                   0    benzin  volkswagen               NaN   \n",
      "\n",
      "            ad_created  nb_pictures  postal_code            last_seen  \n",
      "0  2016-03-24 00:00:00            0        70435  2016-04-07 03:16:57  \n"
     ]
    }
   ],
   "source": [
    "new_names = ['date_crawled', 'name', 'seller', 'offer_type', 'price', 'abtest',\n",
    "       'vehicle_type', 'registration_year', 'gearbox', 'power_ps', 'model',\n",
    "       'kilometer', 'registration_month', 'fuel_type', 'brand',\n",
    "       'unrepaired_damage', 'ad_created', 'nb_pictures', 'postal_code',\n",
    "       'last_seen']\n",
    "autos.columns = new_names\n",
    "print(autos.head(1))"
   ]
  },
  {
   "cell_type": "markdown",
   "id": "5abdb624",
   "metadata": {},
   "source": [
    "We will look into the columns price and kilometer that are already numerical values."
   ]
  },
  {
   "cell_type": "code",
   "execution_count": 11,
   "id": "d9f378b3",
   "metadata": {},
   "outputs": [
    {
     "data": {
      "text/html": [
       "<div>\n",
       "<style scoped>\n",
       "    .dataframe tbody tr th:only-of-type {\n",
       "        vertical-align: middle;\n",
       "    }\n",
       "\n",
       "    .dataframe tbody tr th {\n",
       "        vertical-align: top;\n",
       "    }\n",
       "\n",
       "    .dataframe thead th {\n",
       "        text-align: right;\n",
       "    }\n",
       "</style>\n",
       "<table border=\"1\" class=\"dataframe\">\n",
       "  <thead>\n",
       "    <tr style=\"text-align: right;\">\n",
       "      <th></th>\n",
       "      <th>price</th>\n",
       "      <th>registration_year</th>\n",
       "      <th>power_ps</th>\n",
       "      <th>kilometer</th>\n",
       "      <th>registration_month</th>\n",
       "      <th>nb_pictures</th>\n",
       "      <th>postal_code</th>\n",
       "    </tr>\n",
       "  </thead>\n",
       "  <tbody>\n",
       "    <tr>\n",
       "      <th>count</th>\n",
       "      <td>3.715280e+05</td>\n",
       "      <td>371528.000000</td>\n",
       "      <td>371528.000000</td>\n",
       "      <td>371528.000000</td>\n",
       "      <td>371528.000000</td>\n",
       "      <td>371528.0</td>\n",
       "      <td>371528.00000</td>\n",
       "    </tr>\n",
       "    <tr>\n",
       "      <th>mean</th>\n",
       "      <td>1.729514e+04</td>\n",
       "      <td>2004.577997</td>\n",
       "      <td>115.549477</td>\n",
       "      <td>125618.688228</td>\n",
       "      <td>5.734445</td>\n",
       "      <td>0.0</td>\n",
       "      <td>50820.66764</td>\n",
       "    </tr>\n",
       "    <tr>\n",
       "      <th>std</th>\n",
       "      <td>3.587954e+06</td>\n",
       "      <td>92.866598</td>\n",
       "      <td>192.139578</td>\n",
       "      <td>40112.337051</td>\n",
       "      <td>3.712412</td>\n",
       "      <td>0.0</td>\n",
       "      <td>25799.08247</td>\n",
       "    </tr>\n",
       "    <tr>\n",
       "      <th>min</th>\n",
       "      <td>0.000000e+00</td>\n",
       "      <td>1000.000000</td>\n",
       "      <td>0.000000</td>\n",
       "      <td>5000.000000</td>\n",
       "      <td>0.000000</td>\n",
       "      <td>0.0</td>\n",
       "      <td>1067.00000</td>\n",
       "    </tr>\n",
       "    <tr>\n",
       "      <th>25%</th>\n",
       "      <td>1.150000e+03</td>\n",
       "      <td>1999.000000</td>\n",
       "      <td>70.000000</td>\n",
       "      <td>125000.000000</td>\n",
       "      <td>3.000000</td>\n",
       "      <td>0.0</td>\n",
       "      <td>30459.00000</td>\n",
       "    </tr>\n",
       "    <tr>\n",
       "      <th>50%</th>\n",
       "      <td>2.950000e+03</td>\n",
       "      <td>2003.000000</td>\n",
       "      <td>105.000000</td>\n",
       "      <td>150000.000000</td>\n",
       "      <td>6.000000</td>\n",
       "      <td>0.0</td>\n",
       "      <td>49610.00000</td>\n",
       "    </tr>\n",
       "    <tr>\n",
       "      <th>75%</th>\n",
       "      <td>7.200000e+03</td>\n",
       "      <td>2008.000000</td>\n",
       "      <td>150.000000</td>\n",
       "      <td>150000.000000</td>\n",
       "      <td>9.000000</td>\n",
       "      <td>0.0</td>\n",
       "      <td>71546.00000</td>\n",
       "    </tr>\n",
       "    <tr>\n",
       "      <th>max</th>\n",
       "      <td>2.147484e+09</td>\n",
       "      <td>9999.000000</td>\n",
       "      <td>20000.000000</td>\n",
       "      <td>150000.000000</td>\n",
       "      <td>12.000000</td>\n",
       "      <td>0.0</td>\n",
       "      <td>99998.00000</td>\n",
       "    </tr>\n",
       "  </tbody>\n",
       "</table>\n",
       "</div>"
      ],
      "text/plain": [
       "              price  registration_year       power_ps      kilometer  \\\n",
       "count  3.715280e+05      371528.000000  371528.000000  371528.000000   \n",
       "mean   1.729514e+04        2004.577997     115.549477  125618.688228   \n",
       "std    3.587954e+06          92.866598     192.139578   40112.337051   \n",
       "min    0.000000e+00        1000.000000       0.000000    5000.000000   \n",
       "25%    1.150000e+03        1999.000000      70.000000  125000.000000   \n",
       "50%    2.950000e+03        2003.000000     105.000000  150000.000000   \n",
       "75%    7.200000e+03        2008.000000     150.000000  150000.000000   \n",
       "max    2.147484e+09        9999.000000   20000.000000  150000.000000   \n",
       "\n",
       "       registration_month  nb_pictures   postal_code  \n",
       "count       371528.000000     371528.0  371528.00000  \n",
       "mean             5.734445          0.0   50820.66764  \n",
       "std              3.712412          0.0   25799.08247  \n",
       "min              0.000000          0.0    1067.00000  \n",
       "25%              3.000000          0.0   30459.00000  \n",
       "50%              6.000000          0.0   49610.00000  \n",
       "75%              9.000000          0.0   71546.00000  \n",
       "max             12.000000          0.0   99998.00000  "
      ]
     },
     "execution_count": 11,
     "metadata": {},
     "output_type": "execute_result"
    }
   ],
   "source": [
    "autos.describe()"
   ]
  },
  {
   "cell_type": "code",
   "execution_count": 24,
   "id": "314451e7",
   "metadata": {},
   "outputs": [
    {
     "name": "stdout",
     "output_type": "stream",
     "text": [
      "5000        7069\n",
      "10000       1949\n",
      "20000       5676\n",
      "30000       6041\n",
      "40000       6376\n",
      "50000       7615\n",
      "60000       8669\n",
      "70000       9773\n",
      "80000      11053\n",
      "90000      12523\n",
      "100000     15920\n",
      "125000     38067\n",
      "150000    240797\n",
      "Name: kilometer, dtype: int64\n"
     ]
    }
   ],
   "source": [
    "print(autos[\"kilometer\"].value_counts().sort_index())"
   ]
  },
  {
   "cell_type": "markdown",
   "id": "bc11af7d",
   "metadata": {},
   "source": [
    "There doesn't seem that there is any issue with the kilometer columns. The kilometer count for each ad is already rounded."
   ]
  },
  {
   "cell_type": "code",
   "execution_count": 41,
   "id": "26f62dc0",
   "metadata": {},
   "outputs": [
    {
     "name": "stdout",
     "output_type": "stream",
     "text": [
      "11449        1\n",
      "6530         1\n",
      "12973        1\n",
      "19798        1\n",
      "11987        1\n",
      "         ...  \n",
      "1200      4594\n",
      "1000      4649\n",
      "1500      5394\n",
      "500       5670\n",
      "0        10778\n",
      "Name: price, Length: 5597, dtype: int64\n",
      "Maximum price =  2147483647\n"
     ]
    },
    {
     "data": {
      "text/plain": [
       "count    3.715280e+05\n",
       "mean     1.729514e+04\n",
       "std      3.587954e+06\n",
       "min      0.000000e+00\n",
       "25%      1.150000e+03\n",
       "50%      2.950000e+03\n",
       "75%      7.200000e+03\n",
       "max      2.147484e+09\n",
       "Name: price, dtype: float64"
      ]
     },
     "execution_count": 41,
     "metadata": {},
     "output_type": "execute_result"
    }
   ],
   "source": [
    "print(autos[\"price\"].value_counts(ascending=True))\n",
    "print(\"Maximum price = \",autos[\"price\"].max())\n",
    "autos[\"price\"].describe()"
   ]
  },
  {
   "cell_type": "markdown",
   "id": "17c1ddf3",
   "metadata": {},
   "source": [
    "The prices values are a lot more diversified. We can see that the price that is the more observed is 0. It might mean that there are ad with the aim of getting rid off useless or old cars (which might be too expensive to repair for example).\n",
    "\n",
    "The maximum price seems to be an error because it is around 2 billion euros which is not possible. Let's investigate and correct the high prices."
   ]
  },
  {
   "cell_type": "code",
   "execution_count": 42,
   "id": "e2e9f0f5",
   "metadata": {},
   "outputs": [
    {
     "data": {
      "text/plain": [
       "2147483647     1\n",
       "99999999      15\n",
       "99000000       1\n",
       "74185296       1\n",
       "32545461       1\n",
       "27322222       1\n",
       "14000500       1\n",
       "12345678       9\n",
       "11111111      10\n",
       "10010011       1\n",
       "10000000       8\n",
       "9999999        3\n",
       "3895000        1\n",
       "3890000        1\n",
       "2995000        1\n",
       "2795000        1\n",
       "1600000        2\n",
       "1300000        1\n",
       "1250000        2\n",
       "1234566        1\n",
       "Name: price, dtype: int64"
      ]
     },
     "execution_count": 42,
     "metadata": {},
     "output_type": "execute_result"
    }
   ],
   "source": [
    "autos[\"price\"].value_counts().sort_index(ascending=False).head(20)"
   ]
  },
  {
   "cell_type": "markdown",
   "id": "cfcbbcb4",
   "metadata": {},
   "source": [
    "Après avoir regardé sur eBay, les voitures ne semblent pas dépasser le prix de 400 000€."
   ]
  },
  {
   "cell_type": "code",
   "execution_count": 48,
   "id": "440e9207",
   "metadata": {},
   "outputs": [
    {
     "data": {
      "text/plain": [
       "count    371419.000000\n",
       "mean       5733.580021\n",
       "std        8922.004192\n",
       "min           0.000000\n",
       "25%        1150.000000\n",
       "50%        2950.000000\n",
       "75%        7200.000000\n",
       "max      399997.000000\n",
       "Name: price, dtype: float64"
      ]
     },
     "execution_count": 48,
     "metadata": {},
     "output_type": "execute_result"
    }
   ],
   "source": [
    "autos = autos[autos[\"price\"]<400000]\n",
    "autos[\"price\"].describe()"
   ]
  },
  {
   "cell_type": "code",
   "execution_count": 49,
   "id": "e7d16b6b",
   "metadata": {},
   "outputs": [
    {
     "data": {
      "text/plain": [
       "399997    1\n",
       "395000    1\n",
       "390000    1\n",
       "370000    2\n",
       "368000    1\n",
       "350000    4\n",
       "349000    1\n",
       "345000    1\n",
       "323223    1\n",
       "300000    1\n",
       "299000    3\n",
       "295000    1\n",
       "294900    1\n",
       "285000    1\n",
       "284000    1\n",
       "279000    1\n",
       "275000    1\n",
       "270000    1\n",
       "265000    1\n",
       "260000    3\n",
       "Name: price, dtype: int64"
      ]
     },
     "execution_count": 49,
     "metadata": {},
     "output_type": "execute_result"
    }
   ],
   "source": [
    "autos[\"price\"].value_counts().sort_index(ascending=False).head(20)"
   ]
  },
  {
   "cell_type": "markdown",
   "id": "d4da25b6",
   "metadata": {},
   "source": [
    "The price are now cleaned of absurd values."
   ]
  },
  {
   "cell_type": "code",
   "execution_count": 54,
   "id": "1080cbe6",
   "metadata": {},
   "outputs": [],
   "source": [
    "date_crawled=autos[\"date_crawled\"].str[:10]\n",
    "ad_created=autos[\"ad_created\"].str[:10]\n",
    "last_seen=autos[\"last_seen\"].str[:10]"
   ]
  },
  {
   "cell_type": "code",
   "execution_count": 61,
   "id": "1c536e0b",
   "metadata": {},
   "outputs": [
    {
     "name": "stdout",
     "output_type": "stream",
     "text": [
      "2016-03-05    0.025551\n",
      "2016-03-06    0.014463\n",
      "2016-03-07    0.035698\n",
      "2016-03-08    0.033450\n",
      "2016-03-09    0.034212\n",
      "2016-03-10    0.032567\n",
      "2016-03-11    0.032723\n",
      "2016-03-12    0.036194\n",
      "2016-03-13    0.015740\n",
      "2016-03-14    0.036269\n",
      "2016-03-15    0.033455\n",
      "2016-03-16    0.030155\n",
      "2016-03-17    0.031660\n",
      "2016-03-18    0.013125\n",
      "2016-03-19    0.035294\n",
      "2016-03-20    0.036352\n",
      "2016-03-21    0.035725\n",
      "2016-03-22    0.032470\n",
      "2016-03-23    0.031975\n",
      "2016-03-24    0.029915\n",
      "2016-03-25    0.032936\n",
      "2016-03-26    0.031967\n",
      "2016-03-27    0.030273\n",
      "2016-03-28    0.035117\n",
      "2016-03-29    0.034169\n",
      "2016-03-30    0.033534\n",
      "2016-03-31    0.031880\n",
      "2016-04-01    0.034107\n",
      "2016-04-02    0.035079\n",
      "2016-04-03    0.038727\n",
      "2016-04-04    0.037615\n",
      "2016-04-05    0.012821\n",
      "2016-04-06    0.003164\n",
      "2016-04-07    0.001618\n",
      "Name: date_crawled, dtype: float64\n"
     ]
    }
   ],
   "source": [
    "print(date_crawled.value_counts(normalize=True,dropna=False).sort_index())"
   ]
  },
  {
   "cell_type": "code",
   "execution_count": 62,
   "id": "f44004f2",
   "metadata": {},
   "outputs": [
    {
     "name": "stdout",
     "output_type": "stream",
     "text": [
      "2014-03-10    0.000003\n",
      "2015-03-20    0.000003\n",
      "2015-06-11    0.000003\n",
      "2015-06-18    0.000003\n",
      "2015-08-07    0.000003\n",
      "                ...   \n",
      "2016-04-03    0.038886\n",
      "2016-04-04    0.037744\n",
      "2016-04-05    0.011653\n",
      "2016-04-06    0.003155\n",
      "2016-04-07    0.001556\n",
      "Name: ad_created, Length: 114, dtype: float64\n"
     ]
    }
   ],
   "source": [
    "print(ad_created.value_counts(normalize=True,dropna=False).sort_index())"
   ]
  },
  {
   "cell_type": "code",
   "execution_count": 63,
   "id": "e0affd40",
   "metadata": {},
   "outputs": [
    {
     "name": "stdout",
     "output_type": "stream",
     "text": [
      "2016-03-05    0.001290\n",
      "2016-03-06    0.004135\n",
      "2016-03-07    0.005264\n",
      "2016-03-08    0.008053\n",
      "2016-03-09    0.009994\n",
      "2016-03-10    0.011564\n",
      "2016-03-11    0.013047\n",
      "2016-03-12    0.023399\n",
      "2016-03-13    0.008492\n",
      "2016-03-14    0.012299\n",
      "2016-03-15    0.016410\n",
      "2016-03-16    0.016424\n",
      "2016-03-17    0.028757\n",
      "2016-03-18    0.006925\n",
      "2016-03-19    0.016313\n",
      "2016-03-20    0.019905\n",
      "2016-03-21    0.020131\n",
      "2016-03-22    0.020607\n",
      "2016-03-23    0.018149\n",
      "2016-03-24    0.019237\n",
      "2016-03-25    0.019097\n",
      "2016-03-26    0.016162\n",
      "2016-03-27    0.016911\n",
      "2016-03-28    0.022271\n",
      "2016-03-29    0.023311\n",
      "2016-03-30    0.023857\n",
      "2016-03-31    0.024242\n",
      "2016-04-01    0.024019\n",
      "2016-04-02    0.025004\n",
      "2016-04-03    0.025354\n",
      "2016-04-04    0.025661\n",
      "2016-04-05    0.126208\n",
      "2016-04-06    0.217843\n",
      "2016-04-07    0.129665\n",
      "Name: last_seen, dtype: float64\n"
     ]
    }
   ],
   "source": [
    "print(last_seen.value_counts(normalize=True,dropna=False).sort_index())"
   ]
  },
  {
   "cell_type": "code",
   "execution_count": 64,
   "id": "0e2389f6",
   "metadata": {},
   "outputs": [
    {
     "data": {
      "text/plain": [
       "count    371419.000000\n",
       "mean       2004.561043\n",
       "std          91.936956\n",
       "min        1000.000000\n",
       "25%        1999.000000\n",
       "50%        2003.000000\n",
       "75%        2008.000000\n",
       "max        9999.000000\n",
       "Name: registration_year, dtype: float64"
      ]
     },
     "execution_count": 64,
     "metadata": {},
     "output_type": "execute_result"
    }
   ],
   "source": [
    "autos[\"registration_year\"].describe()"
   ]
  },
  {
   "cell_type": "markdown",
   "id": "59eb889f",
   "metadata": {},
   "source": [
    "We can see here that there are some incorrect data as the minimum year of registration in 1000 and the maximum one is 9999.\n",
    "Since the data is from 2016, let's consider the validate year of registration as between 1900 and 2016."
   ]
  },
  {
   "cell_type": "code",
   "execution_count": 77,
   "id": "8bd21fed",
   "metadata": {},
   "outputs": [
    {
     "data": {
      "text/plain": [
       "2000    0.068801\n",
       "1999    0.063822\n",
       "2005    0.062555\n",
       "2006    0.056706\n",
       "2001    0.056675\n",
       "          ...   \n",
       "1911    0.000003\n",
       "1919    0.000003\n",
       "1915    0.000003\n",
       "1920    0.000003\n",
       "1925    0.000003\n",
       "Name: registration_year, Length: 97, dtype: float64"
      ]
     },
     "execution_count": 77,
     "metadata": {},
     "output_type": "execute_result"
    }
   ],
   "source": [
    "autos = autos[autos[\"registration_year\"].between(1900,2016)]\n",
    "autos[\"registration_year\"].value_counts(normalize=True)"
   ]
  },
  {
   "cell_type": "code",
   "execution_count": 91,
   "id": "a05fe292",
   "metadata": {},
   "outputs": [
    {
     "name": "stdout",
     "output_type": "stream",
     "text": [
      "volkswagen        0.212392\n",
      "bmw               0.109698\n",
      "opel              0.107090\n",
      "mercedes_benz     0.095966\n",
      "audi              0.089355\n",
      "ford              0.068854\n",
      "renault           0.047572\n",
      "peugeot           0.029867\n",
      "fiat              0.025763\n",
      "seat              0.018636\n",
      "skoda             0.015412\n",
      "mazda             0.015350\n",
      "smart             0.014108\n",
      "citroen           0.013875\n",
      "nissan            0.013572\n",
      "toyota            0.012751\n",
      "sonstige_autos    0.010589\n",
      "Name: brand, dtype: float64\n"
     ]
    }
   ],
   "source": [
    "more_1=autos[\"brand\"].value_counts(normalize=True)>0.01\n",
    "brand=autos[\"brand\"]\n",
    "brand_top1=brand.value_counts(normalize=True)[more_1]\n",
    "print(brand_top1)"
   ]
  },
  {
   "cell_type": "markdown",
   "id": "bf1f1c56",
   "metadata": {},
   "source": [
    "Above we have the top 1 % of the vehicle brand in the dataset.\n",
    "\n",
    "Let's create a dictionnary which like them to their mean price."
   ]
  },
  {
   "cell_type": "code",
   "execution_count": 107,
   "id": "a9b10c9f",
   "metadata": {},
   "outputs": [
    {
     "name": "stdout",
     "output_type": "stream",
     "text": [
      "{'volkswagen': 5231.3883124769, 'bmw': 8234.726710455696, 'opel': 2870.0537738565854, 'mercedes_benz': 8398.008881357913, 'audi': 8849.650309058392, 'ford': 3595.8644488782115, 'renault': 2366.3506011315417, 'peugeot': 3206.2663099596357, 'fiat': 2803.857220589836, 'seat': 4420.369038664059, 'skoda': 6460.418046207022, 'mazda': 3970.6332420091326, 'smart': 3586.280802861685, 'citroen': 3649.0161648817943, 'nissan': 4585.39599256352, 'toyota': 5263.365875109938, 'sonstige_autos': 12652.675668519989}\n"
     ]
    }
   ],
   "source": [
    "dic = {}\n",
    "for b in brand_top1.index:\n",
    "    dic[b]=autos[\"price\"][autos[\"brand\"]==b].mean()\n",
    "print(dic)"
   ]
  },
  {
   "cell_type": "markdown",
   "id": "6ab985a0",
   "metadata": {},
   "source": [
    "Let's take interest into the 6 top brands : Volkswagen, BMW, Opel, Mercedes, Audi and Ford. We will look into their price and their mileage."
   ]
  },
  {
   "cell_type": "code",
   "execution_count": 112,
   "id": "f643bd8c",
   "metadata": {},
   "outputs": [
    {
     "name": "stdout",
     "output_type": "stream",
     "text": [
      "{'volkswagen': 5231.3883124769, 'bmw': 8234.726710455696, 'opel': 2870.0537738565854, 'mercedes_benz': 8398.008881357913, 'audi': 8849.650309058392, 'ford': 3595.8644488782115}\n",
      "{'volkswagen': 128338.01943080415, 'bmw': 132663.37822986685, 'opel': 128756.83954237244, 'mercedes_benz': 130582.25481317012, 'audi': 129498.44686392018, 'ford': 123617.81831507798}\n"
     ]
    }
   ],
   "source": [
    "top6=brand_top1.head(6)\n",
    "d_price={}\n",
    "d_mileage={}\n",
    "for b in top6.index:\n",
    "    d_price[b]=autos[\"price\"][autos[\"brand\"]==b].mean()\n",
    "    d_mileage[b]=autos[\"kilometer\"][autos[\"brand\"]==b].mean()\n",
    "print(d_price)\n",
    "print(d_mileage)"
   ]
  },
  {
   "cell_type": "code",
   "execution_count": 114,
   "id": "4222fa6c",
   "metadata": {},
   "outputs": [
    {
     "name": "stdout",
     "output_type": "stream",
     "text": [
      "volkswagen       5231.388312\n",
      "bmw              8234.726710\n",
      "opel             2870.053774\n",
      "mercedes_benz    8398.008881\n",
      "audi             8849.650309\n",
      "ford             3595.864449\n",
      "dtype: float64\n",
      "volkswagen       128338.019431\n",
      "bmw              132663.378230\n",
      "opel             128756.839542\n",
      "mercedes_benz    130582.254813\n",
      "audi             129498.446864\n",
      "ford             123617.818315\n",
      "dtype: float64\n"
     ]
    }
   ],
   "source": [
    "price_series=pd.Series(d_price)\n",
    "mileage_series=pd.Series(d_mileage)\n",
    "print(price_series)\n",
    "print(mileage_series)"
   ]
  },
  {
   "cell_type": "code",
   "execution_count": 119,
   "id": "2086cb37",
   "metadata": {},
   "outputs": [
    {
     "name": "stdout",
     "output_type": "stream",
     "text": [
      "                mean_price   mean_mileage\n",
      "volkswagen     5231.388312  128338.019431\n",
      "bmw            8234.726710  132663.378230\n",
      "opel           2870.053774  128756.839542\n",
      "mercedes_benz  8398.008881  130582.254813\n",
      "audi           8849.650309  129498.446864\n",
      "ford           3595.864449  123617.818315\n"
     ]
    }
   ],
   "source": [
    "d={\"mean_price\":price_series,\"mean_mileage\":mileage_series}\n",
    "top_brand=pd.DataFrame(data=d)\n",
    "print(top_brand)"
   ]
  },
  {
   "cell_type": "code",
   "execution_count": 123,
   "id": "9a9beb0e",
   "metadata": {},
   "outputs": [
    {
     "name": "stdout",
     "output_type": "stream",
     "text": [
      "privat        356677\n",
      "gewerblich         3\n",
      "Name: seller, dtype: int64\n",
      "manuell      263423\n",
      "automatik     75025\n",
      "Name: gearbox, dtype: int64\n",
      "nein    255948\n",
      "ja       35108\n",
      "Name: unrepaired_damage, dtype: int64\n",
      "limousine     95878\n",
      "kleinwagen    80014\n",
      "kombi         67550\n",
      "bus           30196\n",
      "cabrio        22891\n",
      "coupe         18977\n",
      "suv           14704\n",
      "andere         3352\n",
      "Name: vehicle_type, dtype: int64\n"
     ]
    }
   ],
   "source": [
    "print(autos[\"seller\"].value_counts())\n",
    "print(autos[\"gearbox\"].value_counts())\n",
    "print(autos[\"unrepaired_damage\"].value_counts())\n",
    "print(autos[\"vehicle_type\"].value_counts())"
   ]
  },
  {
   "cell_type": "markdown",
   "id": "1cefd293",
   "metadata": {},
   "source": [
    "We can see that in 4 columns, we need to replace german words wit english ones."
   ]
  },
  {
   "cell_type": "code",
   "execution_count": 125,
   "id": "9f30a1cd",
   "metadata": {},
   "outputs": [
    {
     "name": "stdout",
     "output_type": "stream",
     "text": [
      "private       356677\n",
      "commercial         3\n",
      "Name: seller, dtype: int64\n",
      "manual       263423\n",
      "automatic     75025\n",
      "Name: gearbox, dtype: int64\n",
      "no     255948\n",
      "yes     35108\n",
      "Name: unrepaired_damage, dtype: int64\n",
      "sedan            95878\n",
      "small car        80014\n",
      "station wagon    67550\n",
      "bus              30196\n",
      "convertible      22891\n",
      "coupe            18977\n",
      "suv              14704\n",
      "other             3352\n",
      "Name: vehicle_type, dtype: int64\n"
     ]
    }
   ],
   "source": [
    "s_dic={\"privat\" : \"private\", \"gewerblich\" : \"commercial\"}\n",
    "g_dic={\"manuell\" : \"manual\", \"automatik\" : \"automatic\"}\n",
    "u_dic={\"nein\" : \"no\", \"ja\" : \"yes\"}\n",
    "v_dic={\"limousine\" : \"sedan\",\n",
    "    \"kleinwagen\" : \"small car\",\n",
    "    \"kombi\" : \"station wagon\",\n",
    "    \"bus\" : \"bus\",\n",
    "    \"cabrio\" : \"convertible\",\n",
    "    \"coupe\" : \"coupe\",\n",
    "    \"suv\" : \"suv\",\n",
    "    \"andere\" : \"other\"}\n",
    "\n",
    "autos[\"seller\"]=autos[\"seller\"].replace(s_dic)\n",
    "autos[\"gearbox\"]=autos[\"gearbox\"].replace(g_dic)\n",
    "autos[\"unrepaired_damage\"]=autos[\"unrepaired_damage\"].replace(u_dic)\n",
    "autos[\"vehicle_type\"]=autos[\"vehicle_type\"].replace(v_dic)\n",
    "\n",
    "print(autos[\"seller\"].value_counts())\n",
    "print(autos[\"gearbox\"].value_counts())\n",
    "print(autos[\"unrepaired_damage\"].value_counts())\n",
    "print(autos[\"vehicle_type\"].value_counts())"
   ]
  },
  {
   "cell_type": "code",
   "execution_count": null,
   "id": "016bb482",
   "metadata": {},
   "outputs": [],
   "source": []
  }
 ],
 "metadata": {
  "kernelspec": {
   "display_name": "Python 3 (ipykernel)",
   "language": "python",
   "name": "python3"
  },
  "language_info": {
   "codemirror_mode": {
    "name": "ipython",
    "version": 3
   },
   "file_extension": ".py",
   "mimetype": "text/x-python",
   "name": "python",
   "nbconvert_exporter": "python",
   "pygments_lexer": "ipython3",
   "version": "3.9.7"
  }
 },
 "nbformat": 4,
 "nbformat_minor": 5
}
