{
 "cells": [
  {
   "cell_type": "code",
   "execution_count": 1,
   "id": "14a2f829",
   "metadata": {},
   "outputs": [
    {
     "name": "stdout",
     "output_type": "stream",
     "text": [
      "C:\\Users\\debie\\Documents\\anaconda_space\n"
     ]
    }
   ],
   "source": [
    "%cd C:\\\\Users\\\\debie\\\\Documents\\\\anaconda_space"
   ]
  },
  {
   "cell_type": "markdown",
   "id": "6ade8d9f",
   "metadata": {},
   "source": [
    "# Exploring eBay Car Sales Data"
   ]
  },
  {
   "cell_type": "markdown",
   "id": "21d91fb5",
   "metadata": {},
   "source": [
    "In this project, the dataset that will be explored contains data of used cars from the German eBay website. The aim of this project is to clean the data and analyze the included used car listings. \n",
    "The data dictionary provided with data is as follows:\n",
    "\n",
    "    dateCrawled - When this ad was first crawled. All field-values are taken from this date.\n",
    "    name - Name of the car.\n",
    "    seller - Whether the seller is private or a dealer.\n",
    "    offerType - The type of listing\n",
    "    price - The price on the ad to sell the car.\n",
    "    abtest - Whether the listing is included in an A/B test.\n",
    "    vehicleType - The vehicle Type.\n",
    "    yearOfRegistration - The year in which the car was first registered.\n",
    "    gearbox - The transmission type.\n",
    "    powerPS - The power of the car in PS.\n",
    "    model - The car model name.\n",
    "    kilometer - How many kilometers the car has driven.\n",
    "    monthOfRegistration - The month in which the car was first registered.\n",
    "    fuelType - What type of fuel the car uses.\n",
    "    brand - The brand of the car.\n",
    "    notRepairedDamage - If the car has a damage which is not yet repaired.\n",
    "    dateCreated - The date on which the eBay listing was created.\n",
    "    nrOfPictures - The number of pictures in the ad.\n",
    "    postalCode - The postal code for the location of the vehicle.\n",
    "    lastSeenOnline - When the crawler saw this ad last online.\n"
   ]
  },
  {
   "cell_type": "code",
   "execution_count": 2,
   "id": "e57e5571",
   "metadata": {},
   "outputs": [
    {
     "data": {
      "text/html": [
       "<div>\n",
       "<style scoped>\n",
       "    .dataframe tbody tr th:only-of-type {\n",
       "        vertical-align: middle;\n",
       "    }\n",
       "\n",
       "    .dataframe tbody tr th {\n",
       "        vertical-align: top;\n",
       "    }\n",
       "\n",
       "    .dataframe thead th {\n",
       "        text-align: right;\n",
       "    }\n",
       "</style>\n",
       "<table border=\"1\" class=\"dataframe\">\n",
       "  <thead>\n",
       "    <tr style=\"text-align: right;\">\n",
       "      <th></th>\n",
       "      <th>dateCrawled</th>\n",
       "      <th>name</th>\n",
       "      <th>seller</th>\n",
       "      <th>offerType</th>\n",
       "      <th>price</th>\n",
       "      <th>abtest</th>\n",
       "      <th>vehicleType</th>\n",
       "      <th>yearOfRegistration</th>\n",
       "      <th>gearbox</th>\n",
       "      <th>powerPS</th>\n",
       "      <th>model</th>\n",
       "      <th>kilometer</th>\n",
       "      <th>monthOfRegistration</th>\n",
       "      <th>fuelType</th>\n",
       "      <th>brand</th>\n",
       "      <th>notRepairedDamage</th>\n",
       "      <th>dateCreated</th>\n",
       "      <th>nrOfPictures</th>\n",
       "      <th>postalCode</th>\n",
       "      <th>lastSeen</th>\n",
       "    </tr>\n",
       "  </thead>\n",
       "  <tbody>\n",
       "    <tr>\n",
       "      <th>0</th>\n",
       "      <td>2016-03-24 11:52:17</td>\n",
       "      <td>Golf_3_1.6</td>\n",
       "      <td>privat</td>\n",
       "      <td>Angebot</td>\n",
       "      <td>480</td>\n",
       "      <td>test</td>\n",
       "      <td>NaN</td>\n",
       "      <td>1993</td>\n",
       "      <td>manuell</td>\n",
       "      <td>0</td>\n",
       "      <td>golf</td>\n",
       "      <td>150000</td>\n",
       "      <td>0</td>\n",
       "      <td>benzin</td>\n",
       "      <td>volkswagen</td>\n",
       "      <td>NaN</td>\n",
       "      <td>2016-03-24 00:00:00</td>\n",
       "      <td>0</td>\n",
       "      <td>70435</td>\n",
       "      <td>2016-04-07 03:16:57</td>\n",
       "    </tr>\n",
       "    <tr>\n",
       "      <th>1</th>\n",
       "      <td>2016-03-24 10:58:45</td>\n",
       "      <td>A5_Sportback_2.7_Tdi</td>\n",
       "      <td>privat</td>\n",
       "      <td>Angebot</td>\n",
       "      <td>18300</td>\n",
       "      <td>test</td>\n",
       "      <td>coupe</td>\n",
       "      <td>2011</td>\n",
       "      <td>manuell</td>\n",
       "      <td>190</td>\n",
       "      <td>NaN</td>\n",
       "      <td>125000</td>\n",
       "      <td>5</td>\n",
       "      <td>diesel</td>\n",
       "      <td>audi</td>\n",
       "      <td>ja</td>\n",
       "      <td>2016-03-24 00:00:00</td>\n",
       "      <td>0</td>\n",
       "      <td>66954</td>\n",
       "      <td>2016-04-07 01:46:50</td>\n",
       "    </tr>\n",
       "    <tr>\n",
       "      <th>2</th>\n",
       "      <td>2016-03-14 12:52:21</td>\n",
       "      <td>Jeep_Grand_Cherokee_\"Overland\"</td>\n",
       "      <td>privat</td>\n",
       "      <td>Angebot</td>\n",
       "      <td>9800</td>\n",
       "      <td>test</td>\n",
       "      <td>suv</td>\n",
       "      <td>2004</td>\n",
       "      <td>automatik</td>\n",
       "      <td>163</td>\n",
       "      <td>grand</td>\n",
       "      <td>125000</td>\n",
       "      <td>8</td>\n",
       "      <td>diesel</td>\n",
       "      <td>jeep</td>\n",
       "      <td>NaN</td>\n",
       "      <td>2016-03-14 00:00:00</td>\n",
       "      <td>0</td>\n",
       "      <td>90480</td>\n",
       "      <td>2016-04-05 12:47:46</td>\n",
       "    </tr>\n",
       "    <tr>\n",
       "      <th>3</th>\n",
       "      <td>2016-03-17 16:54:04</td>\n",
       "      <td>GOLF_4_1_4__3TÜRER</td>\n",
       "      <td>privat</td>\n",
       "      <td>Angebot</td>\n",
       "      <td>1500</td>\n",
       "      <td>test</td>\n",
       "      <td>kleinwagen</td>\n",
       "      <td>2001</td>\n",
       "      <td>manuell</td>\n",
       "      <td>75</td>\n",
       "      <td>golf</td>\n",
       "      <td>150000</td>\n",
       "      <td>6</td>\n",
       "      <td>benzin</td>\n",
       "      <td>volkswagen</td>\n",
       "      <td>nein</td>\n",
       "      <td>2016-03-17 00:00:00</td>\n",
       "      <td>0</td>\n",
       "      <td>91074</td>\n",
       "      <td>2016-03-17 17:40:17</td>\n",
       "    </tr>\n",
       "    <tr>\n",
       "      <th>4</th>\n",
       "      <td>2016-03-31 17:25:20</td>\n",
       "      <td>Skoda_Fabia_1.4_TDI_PD_Classic</td>\n",
       "      <td>privat</td>\n",
       "      <td>Angebot</td>\n",
       "      <td>3600</td>\n",
       "      <td>test</td>\n",
       "      <td>kleinwagen</td>\n",
       "      <td>2008</td>\n",
       "      <td>manuell</td>\n",
       "      <td>69</td>\n",
       "      <td>fabia</td>\n",
       "      <td>90000</td>\n",
       "      <td>7</td>\n",
       "      <td>diesel</td>\n",
       "      <td>skoda</td>\n",
       "      <td>nein</td>\n",
       "      <td>2016-03-31 00:00:00</td>\n",
       "      <td>0</td>\n",
       "      <td>60437</td>\n",
       "      <td>2016-04-06 10:17:21</td>\n",
       "    </tr>\n",
       "  </tbody>\n",
       "</table>\n",
       "</div>"
      ],
      "text/plain": [
       "           dateCrawled                            name  seller offerType  \\\n",
       "0  2016-03-24 11:52:17                      Golf_3_1.6  privat   Angebot   \n",
       "1  2016-03-24 10:58:45            A5_Sportback_2.7_Tdi  privat   Angebot   \n",
       "2  2016-03-14 12:52:21  Jeep_Grand_Cherokee_\"Overland\"  privat   Angebot   \n",
       "3  2016-03-17 16:54:04              GOLF_4_1_4__3TÜRER  privat   Angebot   \n",
       "4  2016-03-31 17:25:20  Skoda_Fabia_1.4_TDI_PD_Classic  privat   Angebot   \n",
       "\n",
       "   price abtest vehicleType  yearOfRegistration    gearbox  powerPS  model  \\\n",
       "0    480   test         NaN                1993    manuell        0   golf   \n",
       "1  18300   test       coupe                2011    manuell      190    NaN   \n",
       "2   9800   test         suv                2004  automatik      163  grand   \n",
       "3   1500   test  kleinwagen                2001    manuell       75   golf   \n",
       "4   3600   test  kleinwagen                2008    manuell       69  fabia   \n",
       "\n",
       "   kilometer  monthOfRegistration fuelType       brand notRepairedDamage  \\\n",
       "0     150000                    0   benzin  volkswagen               NaN   \n",
       "1     125000                    5   diesel        audi                ja   \n",
       "2     125000                    8   diesel        jeep               NaN   \n",
       "3     150000                    6   benzin  volkswagen              nein   \n",
       "4      90000                    7   diesel       skoda              nein   \n",
       "\n",
       "           dateCreated  nrOfPictures  postalCode             lastSeen  \n",
       "0  2016-03-24 00:00:00             0       70435  2016-04-07 03:16:57  \n",
       "1  2016-03-24 00:00:00             0       66954  2016-04-07 01:46:50  \n",
       "2  2016-03-14 00:00:00             0       90480  2016-04-05 12:47:46  \n",
       "3  2016-03-17 00:00:00             0       91074  2016-03-17 17:40:17  \n",
       "4  2016-03-31 00:00:00             0       60437  2016-04-06 10:17:21  "
      ]
     },
     "execution_count": 2,
     "metadata": {},
     "output_type": "execute_result"
    }
   ],
   "source": [
    "import pandas as pd\n",
    "import numpy as np\n",
    "import matplotlib.pyplot as plt\n",
    "autos = pd.read_csv(\"autos.csv\",encoding=\"Latin-1\")\n",
    "autos.head()"
   ]
  },
  {
   "cell_type": "code",
   "execution_count": 3,
   "id": "1b49d3c8",
   "metadata": {},
   "outputs": [
    {
     "name": "stdout",
     "output_type": "stream",
     "text": [
      "<class 'pandas.core.frame.DataFrame'>\n",
      "RangeIndex: 371528 entries, 0 to 371527\n",
      "Data columns (total 20 columns):\n",
      " #   Column               Non-Null Count   Dtype \n",
      "---  ------               --------------   ----- \n",
      " 0   dateCrawled          371528 non-null  object\n",
      " 1   name                 371528 non-null  object\n",
      " 2   seller               371528 non-null  object\n",
      " 3   offerType            371528 non-null  object\n",
      " 4   price                371528 non-null  int64 \n",
      " 5   abtest               371528 non-null  object\n",
      " 6   vehicleType          333659 non-null  object\n",
      " 7   yearOfRegistration   371528 non-null  int64 \n",
      " 8   gearbox              351319 non-null  object\n",
      " 9   powerPS              371528 non-null  int64 \n",
      " 10  model                351044 non-null  object\n",
      " 11  kilometer            371528 non-null  int64 \n",
      " 12  monthOfRegistration  371528 non-null  int64 \n",
      " 13  fuelType             338142 non-null  object\n",
      " 14  brand                371528 non-null  object\n",
      " 15  notRepairedDamage    299468 non-null  object\n",
      " 16  dateCreated          371528 non-null  object\n",
      " 17  nrOfPictures         371528 non-null  int64 \n",
      " 18  postalCode           371528 non-null  int64 \n",
      " 19  lastSeen             371528 non-null  object\n",
      "dtypes: int64(7), object(13)\n",
      "memory usage: 56.7+ MB\n"
     ]
    }
   ],
   "source": [
    "autos.info()"
   ]
  },
  {
   "cell_type": "markdown",
   "id": "15504bde",
   "metadata": {},
   "source": [
    "In this dataset, there are 371 527 rows and 20 columns. From the command .info() we can see that there are 5 columns (vehicleType / gearbox / model / fuelType / notRepairedDamage) which have null content that will need to be cleaned. We can see that some of the information are in German and will need to be translated in English. Then, in the powerPS column, some of the car are marked as having 0 PS which seems to mean that there is some information missing there.\n",
    "\n",
    "We can see that the column names use camelcase instead of snakecase, which needs to be corrected."
   ]
  },
  {
   "cell_type": "code",
   "execution_count": 4,
   "id": "9b007e01",
   "metadata": {},
   "outputs": [
    {
     "data": {
      "text/html": [
       "<div>\n",
       "<style scoped>\n",
       "    .dataframe tbody tr th:only-of-type {\n",
       "        vertical-align: middle;\n",
       "    }\n",
       "\n",
       "    .dataframe tbody tr th {\n",
       "        vertical-align: top;\n",
       "    }\n",
       "\n",
       "    .dataframe thead th {\n",
       "        text-align: right;\n",
       "    }\n",
       "</style>\n",
       "<table border=\"1\" class=\"dataframe\">\n",
       "  <thead>\n",
       "    <tr style=\"text-align: right;\">\n",
       "      <th></th>\n",
       "      <th>date_crawled</th>\n",
       "      <th>name</th>\n",
       "      <th>seller</th>\n",
       "      <th>offer_type</th>\n",
       "      <th>price</th>\n",
       "      <th>abtest</th>\n",
       "      <th>vehicle_type</th>\n",
       "      <th>registration_year</th>\n",
       "      <th>gearbox</th>\n",
       "      <th>power_ps</th>\n",
       "      <th>model</th>\n",
       "      <th>kilometer</th>\n",
       "      <th>registration_month</th>\n",
       "      <th>fuel_type</th>\n",
       "      <th>brand</th>\n",
       "      <th>unrepaired_damage</th>\n",
       "      <th>ad_created</th>\n",
       "      <th>nb_pictures</th>\n",
       "      <th>postal_code</th>\n",
       "      <th>last_seen</th>\n",
       "    </tr>\n",
       "  </thead>\n",
       "  <tbody>\n",
       "    <tr>\n",
       "      <th>0</th>\n",
       "      <td>2016-03-24 11:52:17</td>\n",
       "      <td>Golf_3_1.6</td>\n",
       "      <td>privat</td>\n",
       "      <td>Angebot</td>\n",
       "      <td>480</td>\n",
       "      <td>test</td>\n",
       "      <td>NaN</td>\n",
       "      <td>1993</td>\n",
       "      <td>manuell</td>\n",
       "      <td>0</td>\n",
       "      <td>golf</td>\n",
       "      <td>150000</td>\n",
       "      <td>0</td>\n",
       "      <td>benzin</td>\n",
       "      <td>volkswagen</td>\n",
       "      <td>NaN</td>\n",
       "      <td>2016-03-24 00:00:00</td>\n",
       "      <td>0</td>\n",
       "      <td>70435</td>\n",
       "      <td>2016-04-07 03:16:57</td>\n",
       "    </tr>\n",
       "  </tbody>\n",
       "</table>\n",
       "</div>"
      ],
      "text/plain": [
       "          date_crawled        name  seller offer_type  price abtest  \\\n",
       "0  2016-03-24 11:52:17  Golf_3_1.6  privat    Angebot    480   test   \n",
       "\n",
       "  vehicle_type  registration_year  gearbox  power_ps model  kilometer  \\\n",
       "0          NaN               1993  manuell         0  golf     150000   \n",
       "\n",
       "   registration_month fuel_type       brand unrepaired_damage  \\\n",
       "0                   0    benzin  volkswagen               NaN   \n",
       "\n",
       "            ad_created  nb_pictures  postal_code            last_seen  \n",
       "0  2016-03-24 00:00:00            0        70435  2016-04-07 03:16:57  "
      ]
     },
     "execution_count": 4,
     "metadata": {},
     "output_type": "execute_result"
    }
   ],
   "source": [
    "new_names = ['date_crawled', 'name', 'seller', 'offer_type', 'price', 'abtest',\n",
    "       'vehicle_type', 'registration_year', 'gearbox', 'power_ps', 'model',\n",
    "       'kilometer', 'registration_month', 'fuel_type', 'brand',\n",
    "       'unrepaired_damage', 'ad_created', 'nb_pictures', 'postal_code',\n",
    "       'last_seen']\n",
    "autos.columns = new_names\n",
    "autos.head(1)"
   ]
  },
  {
   "cell_type": "markdown",
   "id": "5abdb624",
   "metadata": {},
   "source": [
    "We will look into the columns price and kilometer that are already numerical values."
   ]
  },
  {
   "cell_type": "code",
   "execution_count": 5,
   "id": "d9f378b3",
   "metadata": {},
   "outputs": [
    {
     "data": {
      "text/html": [
       "<div>\n",
       "<style scoped>\n",
       "    .dataframe tbody tr th:only-of-type {\n",
       "        vertical-align: middle;\n",
       "    }\n",
       "\n",
       "    .dataframe tbody tr th {\n",
       "        vertical-align: top;\n",
       "    }\n",
       "\n",
       "    .dataframe thead th {\n",
       "        text-align: right;\n",
       "    }\n",
       "</style>\n",
       "<table border=\"1\" class=\"dataframe\">\n",
       "  <thead>\n",
       "    <tr style=\"text-align: right;\">\n",
       "      <th></th>\n",
       "      <th>price</th>\n",
       "      <th>registration_year</th>\n",
       "      <th>power_ps</th>\n",
       "      <th>kilometer</th>\n",
       "      <th>registration_month</th>\n",
       "      <th>nb_pictures</th>\n",
       "      <th>postal_code</th>\n",
       "    </tr>\n",
       "  </thead>\n",
       "  <tbody>\n",
       "    <tr>\n",
       "      <th>count</th>\n",
       "      <td>3.715280e+05</td>\n",
       "      <td>371528.000000</td>\n",
       "      <td>371528.000000</td>\n",
       "      <td>371528.000000</td>\n",
       "      <td>371528.000000</td>\n",
       "      <td>371528.0</td>\n",
       "      <td>371528.00000</td>\n",
       "    </tr>\n",
       "    <tr>\n",
       "      <th>mean</th>\n",
       "      <td>1.729514e+04</td>\n",
       "      <td>2004.577997</td>\n",
       "      <td>115.549477</td>\n",
       "      <td>125618.688228</td>\n",
       "      <td>5.734445</td>\n",
       "      <td>0.0</td>\n",
       "      <td>50820.66764</td>\n",
       "    </tr>\n",
       "    <tr>\n",
       "      <th>std</th>\n",
       "      <td>3.587954e+06</td>\n",
       "      <td>92.866598</td>\n",
       "      <td>192.139578</td>\n",
       "      <td>40112.337051</td>\n",
       "      <td>3.712412</td>\n",
       "      <td>0.0</td>\n",
       "      <td>25799.08247</td>\n",
       "    </tr>\n",
       "    <tr>\n",
       "      <th>min</th>\n",
       "      <td>0.000000e+00</td>\n",
       "      <td>1000.000000</td>\n",
       "      <td>0.000000</td>\n",
       "      <td>5000.000000</td>\n",
       "      <td>0.000000</td>\n",
       "      <td>0.0</td>\n",
       "      <td>1067.00000</td>\n",
       "    </tr>\n",
       "    <tr>\n",
       "      <th>25%</th>\n",
       "      <td>1.150000e+03</td>\n",
       "      <td>1999.000000</td>\n",
       "      <td>70.000000</td>\n",
       "      <td>125000.000000</td>\n",
       "      <td>3.000000</td>\n",
       "      <td>0.0</td>\n",
       "      <td>30459.00000</td>\n",
       "    </tr>\n",
       "    <tr>\n",
       "      <th>50%</th>\n",
       "      <td>2.950000e+03</td>\n",
       "      <td>2003.000000</td>\n",
       "      <td>105.000000</td>\n",
       "      <td>150000.000000</td>\n",
       "      <td>6.000000</td>\n",
       "      <td>0.0</td>\n",
       "      <td>49610.00000</td>\n",
       "    </tr>\n",
       "    <tr>\n",
       "      <th>75%</th>\n",
       "      <td>7.200000e+03</td>\n",
       "      <td>2008.000000</td>\n",
       "      <td>150.000000</td>\n",
       "      <td>150000.000000</td>\n",
       "      <td>9.000000</td>\n",
       "      <td>0.0</td>\n",
       "      <td>71546.00000</td>\n",
       "    </tr>\n",
       "    <tr>\n",
       "      <th>max</th>\n",
       "      <td>2.147484e+09</td>\n",
       "      <td>9999.000000</td>\n",
       "      <td>20000.000000</td>\n",
       "      <td>150000.000000</td>\n",
       "      <td>12.000000</td>\n",
       "      <td>0.0</td>\n",
       "      <td>99998.00000</td>\n",
       "    </tr>\n",
       "  </tbody>\n",
       "</table>\n",
       "</div>"
      ],
      "text/plain": [
       "              price  registration_year       power_ps      kilometer  \\\n",
       "count  3.715280e+05      371528.000000  371528.000000  371528.000000   \n",
       "mean   1.729514e+04        2004.577997     115.549477  125618.688228   \n",
       "std    3.587954e+06          92.866598     192.139578   40112.337051   \n",
       "min    0.000000e+00        1000.000000       0.000000    5000.000000   \n",
       "25%    1.150000e+03        1999.000000      70.000000  125000.000000   \n",
       "50%    2.950000e+03        2003.000000     105.000000  150000.000000   \n",
       "75%    7.200000e+03        2008.000000     150.000000  150000.000000   \n",
       "max    2.147484e+09        9999.000000   20000.000000  150000.000000   \n",
       "\n",
       "       registration_month  nb_pictures   postal_code  \n",
       "count       371528.000000     371528.0  371528.00000  \n",
       "mean             5.734445          0.0   50820.66764  \n",
       "std              3.712412          0.0   25799.08247  \n",
       "min              0.000000          0.0    1067.00000  \n",
       "25%              3.000000          0.0   30459.00000  \n",
       "50%              6.000000          0.0   49610.00000  \n",
       "75%              9.000000          0.0   71546.00000  \n",
       "max             12.000000          0.0   99998.00000  "
      ]
     },
     "execution_count": 5,
     "metadata": {},
     "output_type": "execute_result"
    }
   ],
   "source": [
    "autos.describe()"
   ]
  },
  {
   "cell_type": "code",
   "execution_count": 6,
   "id": "314451e7",
   "metadata": {},
   "outputs": [
    {
     "name": "stdout",
     "output_type": "stream",
     "text": [
      "5000        7069\n",
      "10000       1949\n",
      "20000       5676\n",
      "30000       6041\n",
      "40000       6376\n",
      "50000       7615\n",
      "60000       8669\n",
      "70000       9773\n",
      "80000      11053\n",
      "90000      12523\n",
      "100000     15920\n",
      "125000     38067\n",
      "150000    240797\n",
      "Name: kilometer, dtype: int64\n"
     ]
    }
   ],
   "source": [
    "print(autos[\"kilometer\"].value_counts().sort_index())"
   ]
  },
  {
   "cell_type": "markdown",
   "id": "bc11af7d",
   "metadata": {},
   "source": [
    "There doesn't seem that there is any issue with the kilometer columns. The kilometer count for each ad is already rounded."
   ]
  },
  {
   "cell_type": "code",
   "execution_count": 7,
   "id": "26f62dc0",
   "metadata": {},
   "outputs": [
    {
     "name": "stdout",
     "output_type": "stream",
     "text": [
      "11449        1\n",
      "6530         1\n",
      "12973        1\n",
      "19798        1\n",
      "11987        1\n",
      "         ...  \n",
      "1200      4594\n",
      "1000      4649\n",
      "1500      5394\n",
      "500       5670\n",
      "0        10778\n",
      "Name: price, Length: 5597, dtype: int64\n",
      "Maximum price =  2147483647\n"
     ]
    },
    {
     "data": {
      "text/plain": [
       "count    3.715280e+05\n",
       "mean     1.729514e+04\n",
       "std      3.587954e+06\n",
       "min      0.000000e+00\n",
       "25%      1.150000e+03\n",
       "50%      2.950000e+03\n",
       "75%      7.200000e+03\n",
       "max      2.147484e+09\n",
       "Name: price, dtype: float64"
      ]
     },
     "execution_count": 7,
     "metadata": {},
     "output_type": "execute_result"
    }
   ],
   "source": [
    "print(autos[\"price\"].value_counts(ascending=True))\n",
    "print(\"Maximum price = \",autos[\"price\"].max())\n",
    "autos[\"price\"].describe()"
   ]
  },
  {
   "cell_type": "markdown",
   "id": "17c1ddf3",
   "metadata": {},
   "source": [
    "The prices values are a lot more diversified. We can see that the price that is the more observed is 0. It might mean that there are ad with the aim of getting rid off useless or old cars (which might be too expensive to repair for example).\n",
    "\n",
    "The maximum price seems to be an error because it is around 2 billion euros which is not possible. Let's investigate and correct the high prices."
   ]
  },
  {
   "cell_type": "code",
   "execution_count": 8,
   "id": "e2e9f0f5",
   "metadata": {},
   "outputs": [
    {
     "data": {
      "text/plain": [
       "2147483647     1\n",
       "99999999      15\n",
       "99000000       1\n",
       "74185296       1\n",
       "32545461       1\n",
       "27322222       1\n",
       "14000500       1\n",
       "12345678       9\n",
       "11111111      10\n",
       "10010011       1\n",
       "10000000       8\n",
       "9999999        3\n",
       "3895000        1\n",
       "3890000        1\n",
       "2995000        1\n",
       "2795000        1\n",
       "1600000        2\n",
       "1300000        1\n",
       "1250000        2\n",
       "1234566        1\n",
       "Name: price, dtype: int64"
      ]
     },
     "execution_count": 8,
     "metadata": {},
     "output_type": "execute_result"
    }
   ],
   "source": [
    "autos[\"price\"].value_counts().sort_index(ascending=False).head(20)"
   ]
  },
  {
   "cell_type": "markdown",
   "id": "cfcbbcb4",
   "metadata": {},
   "source": [
    "After looking into the real eBay website, it seems that the car's prices doesn't goe over 400 000 €. As a result, we'll remove any row with a price value over 400 000 €."
   ]
  },
  {
   "cell_type": "code",
   "execution_count": 9,
   "id": "440e9207",
   "metadata": {},
   "outputs": [
    {
     "data": {
      "text/plain": [
       "count    371419.000000\n",
       "mean       5733.580021\n",
       "std        8922.004192\n",
       "min           0.000000\n",
       "25%        1150.000000\n",
       "50%        2950.000000\n",
       "75%        7200.000000\n",
       "max      399997.000000\n",
       "Name: price, dtype: float64"
      ]
     },
     "execution_count": 9,
     "metadata": {},
     "output_type": "execute_result"
    }
   ],
   "source": [
    "autos = autos[autos[\"price\"]<400000]\n",
    "autos[\"price\"].describe()"
   ]
  },
  {
   "cell_type": "code",
   "execution_count": 10,
   "id": "e7d16b6b",
   "metadata": {},
   "outputs": [
    {
     "data": {
      "text/plain": [
       "399997    1\n",
       "395000    1\n",
       "390000    1\n",
       "370000    2\n",
       "368000    1\n",
       "350000    4\n",
       "349000    1\n",
       "345000    1\n",
       "323223    1\n",
       "300000    1\n",
       "299000    3\n",
       "295000    1\n",
       "294900    1\n",
       "285000    1\n",
       "284000    1\n",
       "279000    1\n",
       "275000    1\n",
       "270000    1\n",
       "265000    1\n",
       "260000    3\n",
       "Name: price, dtype: int64"
      ]
     },
     "execution_count": 10,
     "metadata": {},
     "output_type": "execute_result"
    }
   ],
   "source": [
    "autos[\"price\"].value_counts().sort_index(ascending=False).head(20)"
   ]
  },
  {
   "cell_type": "markdown",
   "id": "d4da25b6",
   "metadata": {},
   "source": [
    "The price are now cleaned of absurd values."
   ]
  },
  {
   "cell_type": "markdown",
   "id": "bd384dc8",
   "metadata": {},
   "source": [
    "We got 3 column in the form of a date: date_crawled, ad_created and last_seen. All of these columns are too much precise as they contain the hour. Let's remove so that only the day, month and year are left and analyze the result."
   ]
  },
  {
   "cell_type": "code",
   "execution_count": 25,
   "id": "aad078ea",
   "metadata": {},
   "outputs": [
    {
     "name": "stdout",
     "output_type": "stream",
     "text": [
      "<class 'pandas.core.frame.DataFrame'>\n",
      "Int64Index: 356680 entries, 0 to 371527\n",
      "Data columns (total 20 columns):\n",
      " #   Column              Non-Null Count   Dtype \n",
      "---  ------              --------------   ----- \n",
      " 0   date_crawled        356680 non-null  object\n",
      " 1   name                356680 non-null  object\n",
      " 2   seller              356680 non-null  object\n",
      " 3   offer_type          356680 non-null  object\n",
      " 4   price               356680 non-null  int64 \n",
      " 5   abtest              356680 non-null  object\n",
      " 6   vehicle_type        333562 non-null  object\n",
      " 7   registration_year   356680 non-null  int64 \n",
      " 8   gearbox             338448 non-null  object\n",
      " 9   power_ps            356680 non-null  int64 \n",
      " 10  model               338339 non-null  object\n",
      " 11  kilometer           356680 non-null  int64 \n",
      " 12  registration_month  356680 non-null  int64 \n",
      " 13  fuel_type           329048 non-null  object\n",
      " 14  brand               356680 non-null  object\n",
      " 15  unrepaired_damage   291056 non-null  object\n",
      " 16  ad_created          356680 non-null  object\n",
      " 17  nb_pictures         356680 non-null  int64 \n",
      " 18  postal_code         356680 non-null  int64 \n",
      " 19  last_seen           356680 non-null  object\n",
      "dtypes: int64(7), object(13)\n",
      "memory usage: 57.1+ MB\n"
     ]
    }
   ],
   "source": [
    "autos.info()"
   ]
  },
  {
   "cell_type": "code",
   "execution_count": 11,
   "id": "1080cbe6",
   "metadata": {},
   "outputs": [],
   "source": [
    "date_crawled=autos[\"date_crawled\"].str[:10]\n",
    "ad_created=autos[\"ad_created\"].str[:10]\n",
    "last_seen=autos[\"last_seen\"].str[:10]"
   ]
  },
  {
   "cell_type": "code",
   "execution_count": 27,
   "id": "1c536e0b",
   "metadata": {},
   "outputs": [
    {
     "data": {
      "text/plain": [
       "2016-03-05    0.025551\n",
       "2016-03-06    0.014463\n",
       "2016-03-07    0.035698\n",
       "2016-03-08    0.033450\n",
       "2016-03-09    0.034212\n",
       "2016-03-10    0.032567\n",
       "2016-03-11    0.032723\n",
       "2016-03-12    0.036194\n",
       "2016-03-13    0.015740\n",
       "2016-03-14    0.036269\n",
       "2016-03-15    0.033455\n",
       "2016-03-16    0.030155\n",
       "2016-03-17    0.031660\n",
       "2016-03-18    0.013125\n",
       "2016-03-19    0.035294\n",
       "2016-03-20    0.036352\n",
       "2016-03-21    0.035725\n",
       "2016-03-22    0.032470\n",
       "2016-03-23    0.031975\n",
       "2016-03-24    0.029915\n",
       "2016-03-25    0.032936\n",
       "2016-03-26    0.031967\n",
       "2016-03-27    0.030273\n",
       "2016-03-28    0.035117\n",
       "2016-03-29    0.034169\n",
       "2016-03-30    0.033534\n",
       "2016-03-31    0.031880\n",
       "2016-04-01    0.034107\n",
       "2016-04-02    0.035079\n",
       "2016-04-03    0.038727\n",
       "2016-04-04    0.037615\n",
       "2016-04-05    0.012821\n",
       "2016-04-06    0.003164\n",
       "2016-04-07    0.001618\n",
       "Name: date_crawled, dtype: float64"
      ]
     },
     "execution_count": 27,
     "metadata": {},
     "output_type": "execute_result"
    }
   ],
   "source": [
    "date_crawled.value_counts(normalize=True,dropna=False).sort_index()"
   ]
  },
  {
   "cell_type": "markdown",
   "id": "24539309",
   "metadata": {},
   "source": [
    "It seems that all of these pages were all crawled for the first time around the same date: during March and April 2016."
   ]
  },
  {
   "cell_type": "code",
   "execution_count": 31,
   "id": "346074e5",
   "metadata": {},
   "outputs": [
    {
     "data": {
      "text/plain": [
       "2014-03         1\n",
       "2015-03         1\n",
       "2015-06         2\n",
       "2015-08         2\n",
       "2015-09         3\n",
       "2015-10         1\n",
       "2015-11        10\n",
       "2015-12        10\n",
       "2016-01        76\n",
       "2016-02       420\n",
       "2016-03    310750\n",
       "2016-04     60143\n",
       "Name: ad_created, dtype: int64"
      ]
     },
     "execution_count": 31,
     "metadata": {},
     "output_type": "execute_result"
    }
   ],
   "source": [
    "ad_created.str[:7].value_counts(dropna=False).sort_index()#.plot()"
   ]
  },
  {
   "cell_type": "markdown",
   "id": "edd06f47",
   "metadata": {},
   "source": [
    "Almost all of these ads were created during March and April 2016."
   ]
  },
  {
   "cell_type": "code",
   "execution_count": 32,
   "id": "3402f126",
   "metadata": {},
   "outputs": [
    {
     "data": {
      "text/plain": [
       "2016-03-05    0.001290\n",
       "2016-03-06    0.004135\n",
       "2016-03-07    0.005264\n",
       "2016-03-08    0.008053\n",
       "2016-03-09    0.009994\n",
       "2016-03-10    0.011564\n",
       "2016-03-11    0.013047\n",
       "2016-03-12    0.023399\n",
       "2016-03-13    0.008492\n",
       "2016-03-14    0.012299\n",
       "2016-03-15    0.016410\n",
       "2016-03-16    0.016424\n",
       "2016-03-17    0.028757\n",
       "2016-03-18    0.006925\n",
       "2016-03-19    0.016313\n",
       "2016-03-20    0.019905\n",
       "2016-03-21    0.020131\n",
       "2016-03-22    0.020607\n",
       "2016-03-23    0.018149\n",
       "2016-03-24    0.019237\n",
       "2016-03-25    0.019097\n",
       "2016-03-26    0.016162\n",
       "2016-03-27    0.016911\n",
       "2016-03-28    0.022271\n",
       "2016-03-29    0.023311\n",
       "2016-03-30    0.023857\n",
       "2016-03-31    0.024242\n",
       "2016-04-01    0.024019\n",
       "2016-04-02    0.025004\n",
       "2016-04-03    0.025354\n",
       "2016-04-04    0.025661\n",
       "2016-04-05    0.126208\n",
       "2016-04-06    0.217843\n",
       "2016-04-07    0.129665\n",
       "Name: last_seen, dtype: float64"
      ]
     },
     "execution_count": 32,
     "metadata": {},
     "output_type": "execute_result"
    }
   ],
   "source": [
    "last_seen.value_counts(normalize=True,dropna=False).sort_index()"
   ]
  },
  {
   "cell_type": "markdown",
   "id": "22d7a3c4",
   "metadata": {},
   "source": [
    "The last time the crawler saw these ads is almost the same as the first time it saw them."
   ]
  },
  {
   "cell_type": "markdown",
   "id": "39a47c32",
   "metadata": {},
   "source": [
    "Let's look into the year of registration of each car."
   ]
  },
  {
   "cell_type": "code",
   "execution_count": 15,
   "id": "0e2389f6",
   "metadata": {},
   "outputs": [
    {
     "data": {
      "text/plain": [
       "count    371419.000000\n",
       "mean       2004.561043\n",
       "std          91.936956\n",
       "min        1000.000000\n",
       "25%        1999.000000\n",
       "50%        2003.000000\n",
       "75%        2008.000000\n",
       "max        9999.000000\n",
       "Name: registration_year, dtype: float64"
      ]
     },
     "execution_count": 15,
     "metadata": {},
     "output_type": "execute_result"
    }
   ],
   "source": [
    "autos[\"registration_year\"].describe()"
   ]
  },
  {
   "cell_type": "markdown",
   "id": "59eb889f",
   "metadata": {},
   "source": [
    "We can see here that there are some incorrect data as the minimum year of registration in 1000 and the maximum one is 9999.\n",
    "Since the data is from 2016, let's consider the validate year of registration as between 1900 and 2016."
   ]
  },
  {
   "cell_type": "code",
   "execution_count": 42,
   "id": "8bd21fed",
   "metadata": {},
   "outputs": [
    {
     "data": {
      "text/plain": [
       "<AxesSubplot:ylabel='Frequency'>"
      ]
     },
     "execution_count": 42,
     "metadata": {},
     "output_type": "execute_result"
    },
    {
     "data": {
      "image/png": "[encoded data removed]",
      "text/plain": [
       "<Figure size 432x288 with 1 Axes>"
      ]
     },
     "metadata": {
      "needs_background": "light"
     },
     "output_type": "display_data"
    }
   ],
   "source": [
    "autos = autos[autos[\"registration_year\"].between(1900,2016)]\n",
    "autos[\"registration_year\"].plot.hist(bins = 100)"
   ]
  },
  {
   "cell_type": "markdown",
   "id": "7ed506e3",
   "metadata": {},
   "source": [
    "Most of the year of registration of the car which are being sold are between the end of the 90s and the start of the 2010s."
   ]
  },
  {
   "cell_type": "markdown",
   "id": "843d4290",
   "metadata": {},
   "source": [
    "Now we want to see which brand are being sold the most."
   ]
  },
  {
   "cell_type": "code",
   "execution_count": 46,
   "id": "f55dd8cb",
   "metadata": {},
   "outputs": [
    {
     "data": {
      "text/plain": [
       "volkswagen        0.212392\n",
       "bmw               0.109698\n",
       "opel              0.107090\n",
       "mercedes_benz     0.095966\n",
       "audi              0.089355\n",
       "ford              0.068854\n",
       "renault           0.047572\n",
       "peugeot           0.029867\n",
       "fiat              0.025763\n",
       "seat              0.018636\n",
       "skoda             0.015412\n",
       "mazda             0.015350\n",
       "smart             0.014108\n",
       "citroen           0.013875\n",
       "nissan            0.013572\n",
       "toyota            0.012751\n",
       "sonstige_autos    0.010589\n",
       "hyundai           0.009832\n",
       "mini              0.009213\n",
       "volvo             0.009131\n",
       "Name: brand, dtype: float64"
      ]
     },
     "execution_count": 46,
     "metadata": {},
     "output_type": "execute_result"
    }
   ],
   "source": [
    "top20_brand = autos[\"brand\"].value_counts(normalize=True).head(20)\n",
    "top20_brand"
   ]
  },
  {
   "cell_type": "markdown",
   "id": "bf1f1c56",
   "metadata": {},
   "source": [
    "Above we have the top 20of the vehicle brand which are being sold the most in the dataset."
   ]
  },
  {
   "cell_type": "markdown",
   "id": "6ab985a0",
   "metadata": {},
   "source": [
    "Let's take interest into the 6 top brands : Volkswagen, BMW, Opel, Mercedes, Audi and Ford. We will look into their price and their mileage."
   ]
  },
  {
   "cell_type": "code",
   "execution_count": 48,
   "id": "f643bd8c",
   "metadata": {},
   "outputs": [
    {
     "name": "stdout",
     "output_type": "stream",
     "text": [
      "{'volkswagen': 5231.3883124769, 'bmw': 8234.726710455696, 'opel': 2870.0537738565854, 'mercedes_benz': 8398.008881357913, 'audi': 8849.650309058392, 'ford': 3595.8644488782115}\n",
      "{'volkswagen': 128338.01943080415, 'bmw': 132663.37822986685, 'opel': 128756.83954237244, 'mercedes_benz': 130582.25481317012, 'audi': 129498.44686392018, 'ford': 123617.81831507798}\n"
     ]
    }
   ],
   "source": [
    "top6=top20_brand.head(6)\n",
    "d_price={}\n",
    "d_mileage={}\n",
    "for b in top6.index:\n",
    "    d_price[b]=autos[\"price\"][autos[\"brand\"]==b].mean()\n",
    "    d_mileage[b]=autos[\"kilometer\"][autos[\"brand\"]==b].mean()\n",
    "print(d_price)\n",
    "print(d_mileage)"
   ]
  },
  {
   "cell_type": "code",
   "execution_count": 60,
   "id": "4222fa6c",
   "metadata": {},
   "outputs": [
    {
     "data": {
      "text/html": [
       "<div>\n",
       "<style scoped>\n",
       "    .dataframe tbody tr th:only-of-type {\n",
       "        vertical-align: middle;\n",
       "    }\n",
       "\n",
       "    .dataframe tbody tr th {\n",
       "        vertical-align: top;\n",
       "    }\n",
       "\n",
       "    .dataframe thead th {\n",
       "        text-align: right;\n",
       "    }\n",
       "</style>\n",
       "<table border=\"1\" class=\"dataframe\">\n",
       "  <thead>\n",
       "    <tr style=\"text-align: right;\">\n",
       "      <th></th>\n",
       "      <th>price</th>\n",
       "      <th>mileage</th>\n",
       "    </tr>\n",
       "  </thead>\n",
       "  <tbody>\n",
       "    <tr>\n",
       "      <th>volkswagen</th>\n",
       "      <td>5231.388312</td>\n",
       "      <td>128338.019431</td>\n",
       "    </tr>\n",
       "    <tr>\n",
       "      <th>bmw</th>\n",
       "      <td>8234.726710</td>\n",
       "      <td>132663.378230</td>\n",
       "    </tr>\n",
       "    <tr>\n",
       "      <th>opel</th>\n",
       "      <td>2870.053774</td>\n",
       "      <td>128756.839542</td>\n",
       "    </tr>\n",
       "    <tr>\n",
       "      <th>mercedes_benz</th>\n",
       "      <td>8398.008881</td>\n",
       "      <td>130582.254813</td>\n",
       "    </tr>\n",
       "    <tr>\n",
       "      <th>audi</th>\n",
       "      <td>8849.650309</td>\n",
       "      <td>129498.446864</td>\n",
       "    </tr>\n",
       "    <tr>\n",
       "      <th>ford</th>\n",
       "      <td>3595.864449</td>\n",
       "      <td>123617.818315</td>\n",
       "    </tr>\n",
       "  </tbody>\n",
       "</table>\n",
       "</div>"
      ],
      "text/plain": [
       "                     price        mileage\n",
       "volkswagen     5231.388312  128338.019431\n",
       "bmw            8234.726710  132663.378230\n",
       "opel           2870.053774  128756.839542\n",
       "mercedes_benz  8398.008881  130582.254813\n",
       "audi           8849.650309  129498.446864\n",
       "ford           3595.864449  123617.818315"
      ]
     },
     "execution_count": 60,
     "metadata": {},
     "output_type": "execute_result"
    }
   ],
   "source": [
    "price_series=pd.Series(d_price)\n",
    "mileage_series=pd.Series(d_mileage)\n",
    "top_brand = pd.DataFrame(price_series, columns = ['price'])\n",
    "top_brand['mileage'] = mileage_series\n",
    "top_brand"
   ]
  }
 ],
 "metadata": {
  "kernelspec": {
   "display_name": "Python 3 (ipykernel)",
   "language": "python",
   "name": "python3"
  },
  "language_info": {
   "codemirror_mode": {
    "name": "ipython",
    "version": 3
   },
   "file_extension": ".py",
   "mimetype": "text/x-python",
   "name": "python",
   "nbconvert_exporter": "python",
   "pygments_lexer": "ipython3",
   "version": "3.9.7"
  }
 },
 "nbformat": 4,
 "nbformat_minor": 5
}
