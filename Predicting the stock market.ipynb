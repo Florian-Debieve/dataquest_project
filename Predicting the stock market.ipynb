{
 "cells": [
  {
   "cell_type": "code",
   "execution_count": 1,
   "id": "53ad5393",
   "metadata": {},
   "outputs": [
    {
     "name": "stdout",
     "output_type": "stream",
     "text": [
      "C:\\Users\\debie\\Documents\\anaconda_space\n"
     ]
    }
   ],
   "source": [
    "%cd C:\\Users\\debie\\Documents\\anaconda_space"
   ]
  },
  {
   "cell_type": "markdown",
   "id": "7a6d35ce",
   "metadata": {},
   "source": [
    "# Predicting the stock market"
   ]
  },
  {
   "cell_type": "code",
   "execution_count": 2,
   "id": "3d69fd25",
   "metadata": {},
   "outputs": [],
   "source": [
    "import pandas as pd\n",
    "import numpy as np\n",
    "import matplotlib.pyplot as plt\n",
    "from datetime import datetime"
   ]
  },
  {
   "cell_type": "code",
   "execution_count": 3,
   "id": "d92cb564",
   "metadata": {},
   "outputs": [],
   "source": [
    "stock = pd.read_csv('sphist.csv')"
   ]
  },
  {
   "cell_type": "code",
   "execution_count": 4,
   "id": "e0546f3a",
   "metadata": {},
   "outputs": [
    {
     "data": {
      "text/html": [
       "<div>\n",
       "<style scoped>\n",
       "    .dataframe tbody tr th:only-of-type {\n",
       "        vertical-align: middle;\n",
       "    }\n",
       "\n",
       "    .dataframe tbody tr th {\n",
       "        vertical-align: top;\n",
       "    }\n",
       "\n",
       "    .dataframe thead th {\n",
       "        text-align: right;\n",
       "    }\n",
       "</style>\n",
       "<table border=\"1\" class=\"dataframe\">\n",
       "  <thead>\n",
       "    <tr style=\"text-align: right;\">\n",
       "      <th></th>\n",
       "      <th>Date</th>\n",
       "      <th>Open</th>\n",
       "      <th>High</th>\n",
       "      <th>Low</th>\n",
       "      <th>Close</th>\n",
       "      <th>Volume</th>\n",
       "      <th>Adj Close</th>\n",
       "    </tr>\n",
       "  </thead>\n",
       "  <tbody>\n",
       "    <tr>\n",
       "      <th>0</th>\n",
       "      <td>2015-12-07</td>\n",
       "      <td>2090.419922</td>\n",
       "      <td>2090.419922</td>\n",
       "      <td>2066.780029</td>\n",
       "      <td>2077.070068</td>\n",
       "      <td>4.043820e+09</td>\n",
       "      <td>2077.070068</td>\n",
       "    </tr>\n",
       "    <tr>\n",
       "      <th>1</th>\n",
       "      <td>2015-12-04</td>\n",
       "      <td>2051.239990</td>\n",
       "      <td>2093.840088</td>\n",
       "      <td>2051.239990</td>\n",
       "      <td>2091.689941</td>\n",
       "      <td>4.214910e+09</td>\n",
       "      <td>2091.689941</td>\n",
       "    </tr>\n",
       "    <tr>\n",
       "      <th>2</th>\n",
       "      <td>2015-12-03</td>\n",
       "      <td>2080.709961</td>\n",
       "      <td>2085.000000</td>\n",
       "      <td>2042.349976</td>\n",
       "      <td>2049.620117</td>\n",
       "      <td>4.306490e+09</td>\n",
       "      <td>2049.620117</td>\n",
       "    </tr>\n",
       "    <tr>\n",
       "      <th>3</th>\n",
       "      <td>2015-12-02</td>\n",
       "      <td>2101.709961</td>\n",
       "      <td>2104.270020</td>\n",
       "      <td>2077.110107</td>\n",
       "      <td>2079.510010</td>\n",
       "      <td>3.950640e+09</td>\n",
       "      <td>2079.510010</td>\n",
       "    </tr>\n",
       "    <tr>\n",
       "      <th>4</th>\n",
       "      <td>2015-12-01</td>\n",
       "      <td>2082.929932</td>\n",
       "      <td>2103.370117</td>\n",
       "      <td>2082.929932</td>\n",
       "      <td>2102.629883</td>\n",
       "      <td>3.712120e+09</td>\n",
       "      <td>2102.629883</td>\n",
       "    </tr>\n",
       "  </tbody>\n",
       "</table>\n",
       "</div>"
      ],
      "text/plain": [
       "         Date         Open         High          Low        Close  \\\n",
       "0  2015-12-07  2090.419922  2090.419922  2066.780029  2077.070068   \n",
       "1  2015-12-04  2051.239990  2093.840088  2051.239990  2091.689941   \n",
       "2  2015-12-03  2080.709961  2085.000000  2042.349976  2049.620117   \n",
       "3  2015-12-02  2101.709961  2104.270020  2077.110107  2079.510010   \n",
       "4  2015-12-01  2082.929932  2103.370117  2082.929932  2102.629883   \n",
       "\n",
       "         Volume    Adj Close  \n",
       "0  4.043820e+09  2077.070068  \n",
       "1  4.214910e+09  2091.689941  \n",
       "2  4.306490e+09  2049.620117  \n",
       "3  3.950640e+09  2079.510010  \n",
       "4  3.712120e+09  2102.629883  "
      ]
     },
     "execution_count": 4,
     "metadata": {},
     "output_type": "execute_result"
    }
   ],
   "source": [
    "stock.head()"
   ]
  },
  {
   "cell_type": "code",
   "execution_count": 5,
   "id": "f49f7674",
   "metadata": {},
   "outputs": [],
   "source": [
    "stock['Date'] = pd.to_datetime(stock['Date'])\n",
    "stock.sort_values('Date', inplace = True)"
   ]
  },
  {
   "cell_type": "code",
   "execution_count": 6,
   "id": "ea7a6f0a",
   "metadata": {},
   "outputs": [
    {
     "data": {
      "text/html": [
       "<div>\n",
       "<style scoped>\n",
       "    .dataframe tbody tr th:only-of-type {\n",
       "        vertical-align: middle;\n",
       "    }\n",
       "\n",
       "    .dataframe tbody tr th {\n",
       "        vertical-align: top;\n",
       "    }\n",
       "\n",
       "    .dataframe thead th {\n",
       "        text-align: right;\n",
       "    }\n",
       "</style>\n",
       "<table border=\"1\" class=\"dataframe\">\n",
       "  <thead>\n",
       "    <tr style=\"text-align: right;\">\n",
       "      <th></th>\n",
       "      <th>Date</th>\n",
       "      <th>Open</th>\n",
       "      <th>High</th>\n",
       "      <th>Low</th>\n",
       "      <th>Close</th>\n",
       "      <th>Volume</th>\n",
       "      <th>Adj Close</th>\n",
       "    </tr>\n",
       "  </thead>\n",
       "  <tbody>\n",
       "    <tr>\n",
       "      <th>16589</th>\n",
       "      <td>1950-01-03</td>\n",
       "      <td>16.66</td>\n",
       "      <td>16.66</td>\n",
       "      <td>16.66</td>\n",
       "      <td>16.66</td>\n",
       "      <td>1260000.0</td>\n",
       "      <td>16.66</td>\n",
       "    </tr>\n",
       "    <tr>\n",
       "      <th>16588</th>\n",
       "      <td>1950-01-04</td>\n",
       "      <td>16.85</td>\n",
       "      <td>16.85</td>\n",
       "      <td>16.85</td>\n",
       "      <td>16.85</td>\n",
       "      <td>1890000.0</td>\n",
       "      <td>16.85</td>\n",
       "    </tr>\n",
       "    <tr>\n",
       "      <th>16587</th>\n",
       "      <td>1950-01-05</td>\n",
       "      <td>16.93</td>\n",
       "      <td>16.93</td>\n",
       "      <td>16.93</td>\n",
       "      <td>16.93</td>\n",
       "      <td>2550000.0</td>\n",
       "      <td>16.93</td>\n",
       "    </tr>\n",
       "    <tr>\n",
       "      <th>16586</th>\n",
       "      <td>1950-01-06</td>\n",
       "      <td>16.98</td>\n",
       "      <td>16.98</td>\n",
       "      <td>16.98</td>\n",
       "      <td>16.98</td>\n",
       "      <td>2010000.0</td>\n",
       "      <td>16.98</td>\n",
       "    </tr>\n",
       "    <tr>\n",
       "      <th>16585</th>\n",
       "      <td>1950-01-09</td>\n",
       "      <td>17.08</td>\n",
       "      <td>17.08</td>\n",
       "      <td>17.08</td>\n",
       "      <td>17.08</td>\n",
       "      <td>2520000.0</td>\n",
       "      <td>17.08</td>\n",
       "    </tr>\n",
       "  </tbody>\n",
       "</table>\n",
       "</div>"
      ],
      "text/plain": [
       "            Date   Open   High    Low  Close     Volume  Adj Close\n",
       "16589 1950-01-03  16.66  16.66  16.66  16.66  1260000.0      16.66\n",
       "16588 1950-01-04  16.85  16.85  16.85  16.85  1890000.0      16.85\n",
       "16587 1950-01-05  16.93  16.93  16.93  16.93  2550000.0      16.93\n",
       "16586 1950-01-06  16.98  16.98  16.98  16.98  2010000.0      16.98\n",
       "16585 1950-01-09  17.08  17.08  17.08  17.08  2520000.0      17.08"
      ]
     },
     "execution_count": 6,
     "metadata": {},
     "output_type": "execute_result"
    }
   ],
   "source": [
    "stock.head()"
   ]
  },
  {
   "cell_type": "code",
   "execution_count": 7,
   "id": "8751a0bc",
   "metadata": {},
   "outputs": [],
   "source": [
    "stock.dropna(axis = 0, inplace = True)\n",
    "stock.reset_index(drop = True, inplace=True)"
   ]
  },
  {
   "cell_type": "markdown",
   "id": "b58f20ac",
   "metadata": {},
   "source": [
    "We'll now compute some indicators:\n",
    "\n",
    "-The average price for the past 5 days\n",
    "\n",
    "-The average price for the past 30 days\n",
    "\n",
    "-The average price for the past 365 days\n",
    "\n",
    "-The standard deviation of the price for the past 5 days\n",
    "\n",
    "-The standard deviation of the price for the past 365 days\n",
    "\n",
    "-The ratio between the average price for the past 5 days, and the average price for the past 365 days\n",
    "\n",
    "-The ratio between the standard deviation of the price for the past 5 days, and the average price for the past 365 days\n",
    "\n",
    "As a result, in the dataset we'll get rid of the row before 1951-01-03.\n",
    "\n",
    "To make it more simply, for the data using the past 365 days we'll consider all the data that happened in the year before Whereas, for the past 5 or 30 days we'll use the last 5 or 30 trading days (the 5 or 30 row above the current row)."
   ]
  },
  {
   "cell_type": "code",
   "execution_count": 8,
   "id": "251f665b",
   "metadata": {},
   "outputs": [],
   "source": [
    "stock_51 = stock[stock['Date']>=datetime(year=1951, month=1, day=3)]"
   ]
  },
  {
   "cell_type": "code",
   "execution_count": 9,
   "id": "382c719e",
   "metadata": {},
   "outputs": [],
   "source": [
    "avg_5 = []\n",
    "avg_30 = []\n",
    "avg_365 = []\n",
    "std_5 = []\n",
    "std_365 = []\n",
    "avg_rat = []\n",
    "std_rat = []\n",
    "a = []\n",
    "for i in stock_51.iterrows():\n",
    "    avg5 = stock.iloc[i[0]-5:i[0]]['Close'].mean()\n",
    "    std5 = stock.iloc[i[0]-5:i[0]]['Close'].std()\n",
    "    avg30 = stock.iloc[i[0]-30:i[0]]['Close'].mean()\n",
    "    y = i[1][0].year\n",
    "    m = i[1][0].month\n",
    "    d = i[1][0].day\n",
    "    if m == 2 and d == 29:\n",
    "        avg365 = stock[(stock['Date']>=datetime(year=y-1, month=2, day=28)) & (stock['Date']<datetime(year=y, month=m, day=d))]['Close'].mean()\n",
    "        std365 = stock[(stock['Date']>=datetime(year=y-1, month=2, day=28)) & (stock['Date']<datetime(year=y, month=m, day=d))]['Close'].std()\n",
    "    else:\n",
    "        avg365 = stock[(stock['Date']>=datetime(year=y-1, month=m, day=d)) & (stock['Date']<datetime(year=y, month=m, day=d))]['Close'].mean()\n",
    "        std365 = stock[(stock['Date']>=datetime(year=y-1, month=m, day=d)) & (stock['Date']<datetime(year=y, month=m, day=d))]['Close'].std()\n",
    "    ar = avg5 / avg365\n",
    "    sr = std5 / std365\n",
    "    avg_5.append(avg5)\n",
    "    std_5.append(std5)\n",
    "    avg_30.append(avg30)\n",
    "    avg_365.append(avg365)\n",
    "    std_365.append(std365)\n",
    "    avg_rat.append(ar)\n",
    "    std_rat.append(sr)"
   ]
  },
  {
   "cell_type": "code",
   "execution_count": 10,
   "id": "e8a57ab9",
   "metadata": {},
   "outputs": [
    {
     "name": "stderr",
     "output_type": "stream",
     "text": [
      "C:\\Users\\debie\\AppData\\Local\\Temp/ipykernel_19220/3808561960.py:2: SettingWithCopyWarning: \n",
      "A value is trying to be set on a copy of a slice from a DataFrame.\n",
      "Try using .loc[row_indexer,col_indexer] = value instead\n",
      "\n",
      "See the caveats in the documentation: https://pandas.pydata.org/pandas-docs/stable/user_guide/indexing.html#returning-a-view-versus-a-copy\n",
      "  stock_51['avg_5'] = pd.Series(avg_5)\n",
      "C:\\Users\\debie\\AppData\\Local\\Temp/ipykernel_19220/3808561960.py:3: SettingWithCopyWarning: \n",
      "A value is trying to be set on a copy of a slice from a DataFrame.\n",
      "Try using .loc[row_indexer,col_indexer] = value instead\n",
      "\n",
      "See the caveats in the documentation: https://pandas.pydata.org/pandas-docs/stable/user_guide/indexing.html#returning-a-view-versus-a-copy\n",
      "  stock_51['std_5'] = pd.Series(std_5)\n",
      "C:\\Users\\debie\\AppData\\Local\\Temp/ipykernel_19220/3808561960.py:4: SettingWithCopyWarning: \n",
      "A value is trying to be set on a copy of a slice from a DataFrame.\n",
      "Try using .loc[row_indexer,col_indexer] = value instead\n",
      "\n",
      "See the caveats in the documentation: https://pandas.pydata.org/pandas-docs/stable/user_guide/indexing.html#returning-a-view-versus-a-copy\n",
      "  stock_51['avg_30'] = pd.Series(avg_30)\n",
      "C:\\Users\\debie\\AppData\\Local\\Temp/ipykernel_19220/3808561960.py:5: SettingWithCopyWarning: \n",
      "A value is trying to be set on a copy of a slice from a DataFrame.\n",
      "Try using .loc[row_indexer,col_indexer] = value instead\n",
      "\n",
      "See the caveats in the documentation: https://pandas.pydata.org/pandas-docs/stable/user_guide/indexing.html#returning-a-view-versus-a-copy\n",
      "  stock_51['avg_365'] = pd.Series(avg_365)\n",
      "C:\\Users\\debie\\AppData\\Local\\Temp/ipykernel_19220/3808561960.py:6: SettingWithCopyWarning: \n",
      "A value is trying to be set on a copy of a slice from a DataFrame.\n",
      "Try using .loc[row_indexer,col_indexer] = value instead\n",
      "\n",
      "See the caveats in the documentation: https://pandas.pydata.org/pandas-docs/stable/user_guide/indexing.html#returning-a-view-versus-a-copy\n",
      "  stock_51['std_365'] = pd.Series(avg_365)\n",
      "C:\\Users\\debie\\AppData\\Local\\Temp/ipykernel_19220/3808561960.py:7: SettingWithCopyWarning: \n",
      "A value is trying to be set on a copy of a slice from a DataFrame.\n",
      "Try using .loc[row_indexer,col_indexer] = value instead\n",
      "\n",
      "See the caveats in the documentation: https://pandas.pydata.org/pandas-docs/stable/user_guide/indexing.html#returning-a-view-versus-a-copy\n",
      "  stock_51['avg_ratio'] = pd.Series(avg_rat)\n",
      "C:\\Users\\debie\\AppData\\Local\\Temp/ipykernel_19220/3808561960.py:8: SettingWithCopyWarning: \n",
      "A value is trying to be set on a copy of a slice from a DataFrame.\n",
      "Try using .loc[row_indexer,col_indexer] = value instead\n",
      "\n",
      "See the caveats in the documentation: https://pandas.pydata.org/pandas-docs/stable/user_guide/indexing.html#returning-a-view-versus-a-copy\n",
      "  stock_51['std_ratio'] = pd.Series(std_rat)\n"
     ]
    }
   ],
   "source": [
    "stock_51.reset_index(drop = True, inplace=True)\n",
    "stock_51['avg_5'] = pd.Series(avg_5)\n",
    "stock_51['std_5'] = pd.Series(std_5)\n",
    "stock_51['avg_30'] = pd.Series(avg_30)\n",
    "stock_51['avg_365'] = pd.Series(avg_365)\n",
    "stock_51['std_365'] = pd.Series(avg_365)\n",
    "stock_51['avg_ratio'] = pd.Series(avg_rat)\n",
    "stock_51['std_ratio'] = pd.Series(std_rat)"
   ]
  },
  {
   "cell_type": "code",
   "execution_count": 11,
   "id": "4c9185cf",
   "metadata": {},
   "outputs": [
    {
     "data": {
      "text/html": [
       "<div>\n",
       "<style scoped>\n",
       "    .dataframe tbody tr th:only-of-type {\n",
       "        vertical-align: middle;\n",
       "    }\n",
       "\n",
       "    .dataframe tbody tr th {\n",
       "        vertical-align: top;\n",
       "    }\n",
       "\n",
       "    .dataframe thead th {\n",
       "        text-align: right;\n",
       "    }\n",
       "</style>\n",
       "<table border=\"1\" class=\"dataframe\">\n",
       "  <thead>\n",
       "    <tr style=\"text-align: right;\">\n",
       "      <th></th>\n",
       "      <th>Date</th>\n",
       "      <th>Open</th>\n",
       "      <th>High</th>\n",
       "      <th>Low</th>\n",
       "      <th>Close</th>\n",
       "      <th>Volume</th>\n",
       "      <th>Adj Close</th>\n",
       "      <th>avg_5</th>\n",
       "      <th>std_5</th>\n",
       "      <th>avg_30</th>\n",
       "      <th>avg_365</th>\n",
       "      <th>std_365</th>\n",
       "      <th>avg_ratio</th>\n",
       "      <th>std_ratio</th>\n",
       "    </tr>\n",
       "  </thead>\n",
       "  <tbody>\n",
       "    <tr>\n",
       "      <th>0</th>\n",
       "      <td>1951-01-03</td>\n",
       "      <td>20.690001</td>\n",
       "      <td>20.690001</td>\n",
       "      <td>20.690001</td>\n",
       "      <td>20.690001</td>\n",
       "      <td>3370000.0</td>\n",
       "      <td>20.690001</td>\n",
       "      <td>20.360000</td>\n",
       "      <td>0.304385</td>\n",
       "      <td>19.815000</td>\n",
       "      <td>18.406760</td>\n",
       "      <td>18.406760</td>\n",
       "      <td>1.106115</td>\n",
       "      <td>0.284902</td>\n",
       "    </tr>\n",
       "    <tr>\n",
       "      <th>1</th>\n",
       "      <td>1951-01-04</td>\n",
       "      <td>20.870001</td>\n",
       "      <td>20.870001</td>\n",
       "      <td>20.870001</td>\n",
       "      <td>20.870001</td>\n",
       "      <td>3390000.0</td>\n",
       "      <td>20.870001</td>\n",
       "      <td>20.514000</td>\n",
       "      <td>0.204524</td>\n",
       "      <td>19.842666</td>\n",
       "      <td>18.422880</td>\n",
       "      <td>18.422880</td>\n",
       "      <td>1.113507</td>\n",
       "      <td>0.190731</td>\n",
       "    </tr>\n",
       "    <tr>\n",
       "      <th>2</th>\n",
       "      <td>1951-01-05</td>\n",
       "      <td>20.870001</td>\n",
       "      <td>20.870001</td>\n",
       "      <td>20.870001</td>\n",
       "      <td>20.870001</td>\n",
       "      <td>3390000.0</td>\n",
       "      <td>20.870001</td>\n",
       "      <td>20.628000</td>\n",
       "      <td>0.214057</td>\n",
       "      <td>19.874000</td>\n",
       "      <td>18.438960</td>\n",
       "      <td>18.438960</td>\n",
       "      <td>1.118718</td>\n",
       "      <td>0.198429</td>\n",
       "    </tr>\n",
       "    <tr>\n",
       "      <th>3</th>\n",
       "      <td>1951-01-08</td>\n",
       "      <td>21.000000</td>\n",
       "      <td>21.000000</td>\n",
       "      <td>21.000000</td>\n",
       "      <td>21.000000</td>\n",
       "      <td>2780000.0</td>\n",
       "      <td>21.000000</td>\n",
       "      <td>20.726001</td>\n",
       "      <td>0.181879</td>\n",
       "      <td>19.907000</td>\n",
       "      <td>18.460643</td>\n",
       "      <td>18.460643</td>\n",
       "      <td>1.122713</td>\n",
       "      <td>0.167860</td>\n",
       "    </tr>\n",
       "    <tr>\n",
       "      <th>4</th>\n",
       "      <td>1951-01-09</td>\n",
       "      <td>21.120001</td>\n",
       "      <td>21.120001</td>\n",
       "      <td>21.120001</td>\n",
       "      <td>21.120001</td>\n",
       "      <td>3800000.0</td>\n",
       "      <td>21.120001</td>\n",
       "      <td>20.840001</td>\n",
       "      <td>0.117047</td>\n",
       "      <td>19.935000</td>\n",
       "      <td>18.470800</td>\n",
       "      <td>18.470800</td>\n",
       "      <td>1.128267</td>\n",
       "      <td>0.107068</td>\n",
       "    </tr>\n",
       "  </tbody>\n",
       "</table>\n",
       "</div>"
      ],
      "text/plain": [
       "        Date       Open       High        Low      Close     Volume  \\\n",
       "0 1951-01-03  20.690001  20.690001  20.690001  20.690001  3370000.0   \n",
       "1 1951-01-04  20.870001  20.870001  20.870001  20.870001  3390000.0   \n",
       "2 1951-01-05  20.870001  20.870001  20.870001  20.870001  3390000.0   \n",
       "3 1951-01-08  21.000000  21.000000  21.000000  21.000000  2780000.0   \n",
       "4 1951-01-09  21.120001  21.120001  21.120001  21.120001  3800000.0   \n",
       "\n",
       "   Adj Close      avg_5     std_5     avg_30    avg_365    std_365  avg_ratio  \\\n",
       "0  20.690001  20.360000  0.304385  19.815000  18.406760  18.406760   1.106115   \n",
       "1  20.870001  20.514000  0.204524  19.842666  18.422880  18.422880   1.113507   \n",
       "2  20.870001  20.628000  0.214057  19.874000  18.438960  18.438960   1.118718   \n",
       "3  21.000000  20.726001  0.181879  19.907000  18.460643  18.460643   1.122713   \n",
       "4  21.120001  20.840001  0.117047  19.935000  18.470800  18.470800   1.128267   \n",
       "\n",
       "   std_ratio  \n",
       "0   0.284902  \n",
       "1   0.190731  \n",
       "2   0.198429  \n",
       "3   0.167860  \n",
       "4   0.107068  "
      ]
     },
     "execution_count": 11,
     "metadata": {},
     "output_type": "execute_result"
    }
   ],
   "source": [
    "stock_51.head()"
   ]
  },
  {
   "cell_type": "code",
   "execution_count": 12,
   "id": "cff680d0",
   "metadata": {},
   "outputs": [],
   "source": [
    "train = stock_51[stock_51['Date'] < datetime(year=2013, month=1, day=1)]\n",
    "test = stock_51[stock_51['Date'] >= datetime(year=2013, month=1, day=1)]"
   ]
  },
  {
   "cell_type": "code",
   "execution_count": 13,
   "id": "627d357a",
   "metadata": {},
   "outputs": [],
   "source": [
    "from sklearn.linear_model import LinearRegression\n",
    "from sklearn.metrics import mean_squared_error\n",
    "lr = LinearRegression()"
   ]
  },
  {
   "cell_type": "code",
   "execution_count": 18,
   "id": "9b157d4f",
   "metadata": {},
   "outputs": [],
   "source": [
    "features = ['avg_5', 'std_5', 'avg_30', 'avg_365', 'std_365', 'avg_ratio', 'std_ratio']\n",
    "rmse_dict = {}\n",
    "predictions_dict = {}\n",
    "for feature in features:\n",
    "    lr.fit(train[[feature]],train['Close'])\n",
    "    predictions_dict[feature] = lr.predict(test[[feature]])\n",
    "    mse = mean_squared_error(test['Close'], predictions_dict[feature])\n",
    "    rmse_dict[feature] = np.sqrt(mse)\n",
    "    \n",
    "    "
   ]
  },
  {
   "cell_type": "code",
   "execution_count": 19,
   "id": "41c40c6b",
   "metadata": {},
   "outputs": [
    {
     "data": {
      "text/plain": [
       "{'avg_5': 22.209554877893996,\n",
       " 'std_5': 1080.8893547223129,\n",
       " 'avg_30': 40.45318897472191,\n",
       " 'avg_365': 112.7229636064592,\n",
       " 'std_365': 112.7229636064592,\n",
       " 'avg_ratio': 1464.210323580945,\n",
       " 'std_ratio': 1455.3032818251543}"
      ]
     },
     "execution_count": 19,
     "metadata": {},
     "output_type": "execute_result"
    }
   ],
   "source": [
    "rmse_dict"
   ]
  },
  {
   "cell_type": "code",
   "execution_count": 22,
   "id": "b982b76a",
   "metadata": {},
   "outputs": [
    {
     "data": {
      "text/plain": [
       "<matplotlib.legend.Legend at 0x1993ded1c70>"
      ]
     },
     "execution_count": 22,
     "metadata": {},
     "output_type": "execute_result"
    },
    {
     "data": {
      "image/png": "[encoded data removed]",
      "text/plain": [
       "<Figure size 1080x720 with 1 Axes>"
      ]
     },
     "metadata": {
      "needs_background": "light"
     },
     "output_type": "display_data"
    }
   ],
   "source": [
    "plt.figure(figsize = (15,10))\n",
    "plt.plot(test['Date'], test['Close'], label='Actual close price')\n",
    "plt.plot(test['Date'], predictions_dict['avg_5'], label='Predicted close price: model with avg_5')\n",
    "plt.legend()\n"
   ]
  },
  {
   "cell_type": "code",
   "execution_count": 26,
   "id": "ba3d6fa2",
   "metadata": {},
   "outputs": [],
   "source": [
    "features = ['avg_5', 'avg_30', 'avg_365']\n",
    "lr.fit(train[features],train['Close'])\n",
    "predictions = lr.predict(test[features])\n",
    "mse = mean_squared_error(test['Close'], predictions)\n",
    "rmse = np.sqrt(mse)"
   ]
  },
  {
   "cell_type": "code",
   "execution_count": 27,
   "id": "d243cb0d",
   "metadata": {},
   "outputs": [
    {
     "data": {
      "text/plain": [
       "22.222471330860596"
      ]
     },
     "execution_count": 27,
     "metadata": {},
     "output_type": "execute_result"
    }
   ],
   "source": [
    "rmse"
   ]
  },
  {
   "cell_type": "code",
   "execution_count": null,
   "id": "a1f15c72",
   "metadata": {},
   "outputs": [],
   "source": []
  }
 ],
 "metadata": {
  "kernelspec": {
   "display_name": "Python 3 (ipykernel)",
   "language": "python",
   "name": "python3"
  },
  "language_info": {
   "codemirror_mode": {
    "name": "ipython",
    "version": 3
   },
   "file_extension": ".py",
   "mimetype": "text/x-python",
   "name": "python",
   "nbconvert_exporter": "python",
   "pygments_lexer": "ipython3",
   "version": "3.9.7"
  }
 },
 "nbformat": 4,
 "nbformat_minor": 5
}
