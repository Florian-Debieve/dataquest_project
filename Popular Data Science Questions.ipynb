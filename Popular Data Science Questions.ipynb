{
 "cells": [
  {
   "cell_type": "markdown",
   "id": "472fd76e",
   "metadata": {},
   "source": [
    "# Popular Data Science Questions"
   ]
  },
  {
   "cell_type": "markdown",
   "id": "1953919a",
   "metadata": {},
   "source": [
    "In this scenario, we're working for a company that creates data science content, be it books, online articles, videos or interactive text-based platforms like Dataquest. The goal is to find what is the best content to write about.\n",
    "\n",
    "To do that we will explore the website Stack Exchange where people discuss several topic, upvote some posts and answers..."
   ]
  },
  {
   "cell_type": "markdown",
   "id": "7df6861e",
   "metadata": {},
   "source": [
    "In Data Science Stack Exchange, each post is a question from a user, the questions have to be related to data science. It can be about data-mining, machine-learning or a programming language.\n",
    "\n",
    "For each post there are votes, the number of views and answers, the post date, and tags to identify the subject of the question."
   ]
  },
  {
   "cell_type": "markdown",
   "id": "0a7bd575",
   "metadata": {},
   "source": [
    "Stack Exchange provides a public data base for each of its websites. From this datavase we will take the table named \"Posts\" and more specifically the columns below:\n",
    "\n",
    "    Id: An identification number for the post.\n",
    "\n",
    "    PostTypeId: An identification number for the type of post.\n",
    "\n",
    "    CreationDate: The date and time of creation of the post.\n",
    "\n",
    "    Score: The post's score.\n",
    "\n",
    "    ViewCount: How many times the post was viewed.\n",
    "\n",
    "    Tags: What tags were used.\n",
    "\n",
    "    AnswerCount: How many answers the question got (only applicable to question \n",
    "    posts).\n",
    "\n",
    "    FavoriteCount: How many times the question was favored (only applicable to question posts).\n",
    "    \n",
    "We'll take only the posts of 2019."
   ]
  },
  {
   "cell_type": "code",
   "execution_count": 1,
   "id": "40641652",
   "metadata": {},
   "outputs": [
    {
     "name": "stdout",
     "output_type": "stream",
     "text": [
      "C:\\Users\\debie\\Documents\\anaconda_space\n"
     ]
    }
   ],
   "source": [
    "%cd C:\\Users\\debie\\Documents\\anaconda_space"
   ]
  },
  {
   "cell_type": "code",
   "execution_count": 2,
   "id": "547b94b3",
   "metadata": {},
   "outputs": [],
   "source": [
    "import pandas as pd\n",
    "import numpy as np\n",
    "import datetime as dt\n",
    "import matplotlib.pyplot as plt\n",
    "import seaborn as sns"
   ]
  },
  {
   "cell_type": "code",
   "execution_count": 3,
   "id": "530a2c1f",
   "metadata": {},
   "outputs": [
    {
     "data": {
      "text/html": [
       "<div>\n",
       "<style scoped>\n",
       "    .dataframe tbody tr th:only-of-type {\n",
       "        vertical-align: middle;\n",
       "    }\n",
       "\n",
       "    .dataframe tbody tr th {\n",
       "        vertical-align: top;\n",
       "    }\n",
       "\n",
       "    .dataframe thead th {\n",
       "        text-align: right;\n",
       "    }\n",
       "</style>\n",
       "<table border=\"1\" class=\"dataframe\">\n",
       "  <thead>\n",
       "    <tr style=\"text-align: right;\">\n",
       "      <th></th>\n",
       "      <th>Id</th>\n",
       "      <th>CreationDate</th>\n",
       "      <th>Score</th>\n",
       "      <th>ViewCount</th>\n",
       "      <th>Tags</th>\n",
       "      <th>AnswerCount</th>\n",
       "      <th>FavoriteCount</th>\n",
       "    </tr>\n",
       "  </thead>\n",
       "  <tbody>\n",
       "    <tr>\n",
       "      <th>0</th>\n",
       "      <td>44419</td>\n",
       "      <td>2019-01-23 09:21:13</td>\n",
       "      <td>1</td>\n",
       "      <td>21</td>\n",
       "      <td>&lt;machine-learning&gt;&lt;data-mining&gt;</td>\n",
       "      <td>0</td>\n",
       "      <td>NaN</td>\n",
       "    </tr>\n",
       "    <tr>\n",
       "      <th>1</th>\n",
       "      <td>44420</td>\n",
       "      <td>2019-01-23 09:34:01</td>\n",
       "      <td>0</td>\n",
       "      <td>25</td>\n",
       "      <td>&lt;machine-learning&gt;&lt;regression&gt;&lt;linear-regressi...</td>\n",
       "      <td>0</td>\n",
       "      <td>NaN</td>\n",
       "    </tr>\n",
       "    <tr>\n",
       "      <th>2</th>\n",
       "      <td>44423</td>\n",
       "      <td>2019-01-23 09:58:41</td>\n",
       "      <td>2</td>\n",
       "      <td>1651</td>\n",
       "      <td>&lt;python&gt;&lt;time-series&gt;&lt;forecast&gt;&lt;forecasting&gt;</td>\n",
       "      <td>0</td>\n",
       "      <td>NaN</td>\n",
       "    </tr>\n",
       "    <tr>\n",
       "      <th>3</th>\n",
       "      <td>44427</td>\n",
       "      <td>2019-01-23 10:57:09</td>\n",
       "      <td>0</td>\n",
       "      <td>55</td>\n",
       "      <td>&lt;machine-learning&gt;&lt;scikit-learn&gt;&lt;pca&gt;</td>\n",
       "      <td>1</td>\n",
       "      <td>NaN</td>\n",
       "    </tr>\n",
       "    <tr>\n",
       "      <th>4</th>\n",
       "      <td>44428</td>\n",
       "      <td>2019-01-23 11:02:15</td>\n",
       "      <td>0</td>\n",
       "      <td>19</td>\n",
       "      <td>&lt;dataset&gt;&lt;bigdata&gt;&lt;data&gt;&lt;speech-to-text&gt;</td>\n",
       "      <td>0</td>\n",
       "      <td>NaN</td>\n",
       "    </tr>\n",
       "  </tbody>\n",
       "</table>\n",
       "</div>"
      ],
      "text/plain": [
       "      Id         CreationDate  Score  ViewCount  \\\n",
       "0  44419  2019-01-23 09:21:13      1         21   \n",
       "1  44420  2019-01-23 09:34:01      0         25   \n",
       "2  44423  2019-01-23 09:58:41      2       1651   \n",
       "3  44427  2019-01-23 10:57:09      0         55   \n",
       "4  44428  2019-01-23 11:02:15      0         19   \n",
       "\n",
       "                                                Tags  AnswerCount  \\\n",
       "0                    <machine-learning><data-mining>            0   \n",
       "1  <machine-learning><regression><linear-regressi...            0   \n",
       "2       <python><time-series><forecast><forecasting>            0   \n",
       "3              <machine-learning><scikit-learn><pca>            1   \n",
       "4           <dataset><bigdata><data><speech-to-text>            0   \n",
       "\n",
       "   FavoriteCount  \n",
       "0            NaN  \n",
       "1            NaN  \n",
       "2            NaN  \n",
       "3            NaN  \n",
       "4            NaN  "
      ]
     },
     "execution_count": 3,
     "metadata": {},
     "output_type": "execute_result"
    }
   ],
   "source": [
    "questions = pd.read_csv('2019_questions.csv')\n",
    "questions.head()"
   ]
  },
  {
   "cell_type": "code",
   "execution_count": 4,
   "id": "7a0303a3",
   "metadata": {},
   "outputs": [
    {
     "name": "stdout",
     "output_type": "stream",
     "text": [
      "<class 'pandas.core.frame.DataFrame'>\n",
      "RangeIndex: 8839 entries, 0 to 8838\n",
      "Data columns (total 7 columns):\n",
      " #   Column         Non-Null Count  Dtype  \n",
      "---  ------         --------------  -----  \n",
      " 0   Id             8839 non-null   int64  \n",
      " 1   CreationDate   8839 non-null   object \n",
      " 2   Score          8839 non-null   int64  \n",
      " 3   ViewCount      8839 non-null   int64  \n",
      " 4   Tags           8839 non-null   object \n",
      " 5   AnswerCount    8839 non-null   int64  \n",
      " 6   FavoriteCount  1407 non-null   float64\n",
      "dtypes: float64(1), int64(4), object(2)\n",
      "memory usage: 483.5+ KB\n"
     ]
    }
   ],
   "source": [
    "questions.info()"
   ]
  },
  {
   "cell_type": "code",
   "execution_count": 5,
   "id": "0b4eae56",
   "metadata": {},
   "outputs": [
    {
     "data": {
      "text/plain": [
       "1.0     953\n",
       "2.0     205\n",
       "0.0     175\n",
       "3.0      43\n",
       "4.0      12\n",
       "5.0       8\n",
       "7.0       4\n",
       "6.0       4\n",
       "11.0      1\n",
       "16.0      1\n",
       "8.0       1\n",
       "Name: FavoriteCount, dtype: int64"
      ]
     },
     "execution_count": 5,
     "metadata": {},
     "output_type": "execute_result"
    }
   ],
   "source": [
    "questions['FavoriteCount'].value_counts()"
   ]
  },
  {
   "cell_type": "markdown",
   "id": "e8571f1e",
   "metadata": {},
   "source": [
    "There are 7 columns for 8839 rows. Only the column FavoriteCount got missing values. We can fill the missing values with 0.\n",
    "\n",
    "The tags in the Tags columns are contained inside <>."
   ]
  },
  {
   "cell_type": "code",
   "execution_count": 6,
   "id": "218a802b",
   "metadata": {},
   "outputs": [
    {
     "name": "stdout",
     "output_type": "stream",
     "text": [
      "<class 'pandas.core.frame.DataFrame'>\n",
      "RangeIndex: 8839 entries, 0 to 8838\n",
      "Data columns (total 7 columns):\n",
      " #   Column         Non-Null Count  Dtype \n",
      "---  ------         --------------  ----- \n",
      " 0   Id             8839 non-null   int64 \n",
      " 1   CreationDate   8839 non-null   object\n",
      " 2   Score          8839 non-null   int64 \n",
      " 3   ViewCount      8839 non-null   int64 \n",
      " 4   Tags           8839 non-null   object\n",
      " 5   AnswerCount    8839 non-null   int64 \n",
      " 6   FavoriteCount  8839 non-null   int32 \n",
      "dtypes: int32(1), int64(4), object(2)\n",
      "memory usage: 449.0+ KB\n"
     ]
    }
   ],
   "source": [
    "questions['FavoriteCount'].fillna(0.0, inplace = True)\n",
    "questions['FavoriteCount'] = questions['FavoriteCount'].astype(int)\n",
    "questions.info()"
   ]
  },
  {
   "cell_type": "markdown",
   "id": "7067b9ed",
   "metadata": {},
   "source": [
    "Let's clean the Tags column now."
   ]
  },
  {
   "cell_type": "code",
   "execution_count": 7,
   "id": "ea61b974",
   "metadata": {},
   "outputs": [
    {
     "data": {
      "text/plain": [
       "0                         machine-learning,data-mining\n",
       "1    machine-learning,regression,linear-regression,...\n",
       "2              python,time-series,forecast,forecasting\n",
       "3                    machine-learning,scikit-learn,pca\n",
       "4                  dataset,bigdata,data,speech-to-text\n",
       "Name: Tags, dtype: object"
      ]
     },
     "execution_count": 7,
     "metadata": {},
     "output_type": "execute_result"
    }
   ],
   "source": [
    "questions['Tags'] = questions['Tags'].str.replace(\"><\",\",\").str.replace(\"<\",\"\").str.replace(\">\",\"\")\n",
    "questions[\"Tags\"].head()"
   ]
  },
  {
   "cell_type": "code",
   "execution_count": 8,
   "id": "dfd77135",
   "metadata": {},
   "outputs": [
    {
     "data": {
      "text/html": [
       "<div>\n",
       "<style scoped>\n",
       "    .dataframe tbody tr th:only-of-type {\n",
       "        vertical-align: middle;\n",
       "    }\n",
       "\n",
       "    .dataframe tbody tr th {\n",
       "        vertical-align: top;\n",
       "    }\n",
       "\n",
       "    .dataframe thead th {\n",
       "        text-align: right;\n",
       "    }\n",
       "</style>\n",
       "<table border=\"1\" class=\"dataframe\">\n",
       "  <thead>\n",
       "    <tr style=\"text-align: right;\">\n",
       "      <th></th>\n",
       "      <th>Id</th>\n",
       "      <th>CreationDate</th>\n",
       "      <th>Score</th>\n",
       "      <th>ViewCount</th>\n",
       "      <th>Tags</th>\n",
       "      <th>AnswerCount</th>\n",
       "      <th>FavoriteCount</th>\n",
       "    </tr>\n",
       "  </thead>\n",
       "  <tbody>\n",
       "    <tr>\n",
       "      <th>1</th>\n",
       "      <td>44420</td>\n",
       "      <td>2019-01-23 09:34:01</td>\n",
       "      <td>0</td>\n",
       "      <td>25</td>\n",
       "      <td>machine-learning,regression,linear-regression,...</td>\n",
       "      <td>0</td>\n",
       "      <td>0</td>\n",
       "    </tr>\n",
       "    <tr>\n",
       "      <th>2</th>\n",
       "      <td>44423</td>\n",
       "      <td>2019-01-23 09:58:41</td>\n",
       "      <td>2</td>\n",
       "      <td>1651</td>\n",
       "      <td>python,time-series,forecast,forecasting</td>\n",
       "      <td>0</td>\n",
       "      <td>0</td>\n",
       "    </tr>\n",
       "    <tr>\n",
       "      <th>3</th>\n",
       "      <td>44427</td>\n",
       "      <td>2019-01-23 10:57:09</td>\n",
       "      <td>0</td>\n",
       "      <td>55</td>\n",
       "      <td>machine-learning,scikit-learn,pca</td>\n",
       "      <td>1</td>\n",
       "      <td>0</td>\n",
       "    </tr>\n",
       "    <tr>\n",
       "      <th>4</th>\n",
       "      <td>44428</td>\n",
       "      <td>2019-01-23 11:02:15</td>\n",
       "      <td>0</td>\n",
       "      <td>19</td>\n",
       "      <td>dataset,bigdata,data,speech-to-text</td>\n",
       "      <td>0</td>\n",
       "      <td>0</td>\n",
       "    </tr>\n",
       "    <tr>\n",
       "      <th>5</th>\n",
       "      <td>44430</td>\n",
       "      <td>2019-01-23 11:13:32</td>\n",
       "      <td>0</td>\n",
       "      <td>283</td>\n",
       "      <td>fuzzy-logic</td>\n",
       "      <td>1</td>\n",
       "      <td>0</td>\n",
       "    </tr>\n",
       "    <tr>\n",
       "      <th>...</th>\n",
       "      <td>...</td>\n",
       "      <td>...</td>\n",
       "      <td>...</td>\n",
       "      <td>...</td>\n",
       "      <td>...</td>\n",
       "      <td>...</td>\n",
       "      <td>...</td>\n",
       "    </tr>\n",
       "    <tr>\n",
       "      <th>8834</th>\n",
       "      <td>55413</td>\n",
       "      <td>2019-07-10 09:08:31</td>\n",
       "      <td>1</td>\n",
       "      <td>39</td>\n",
       "      <td>pca,dimensionality-reduction,linear-algebra</td>\n",
       "      <td>1</td>\n",
       "      <td>1</td>\n",
       "    </tr>\n",
       "    <tr>\n",
       "      <th>8835</th>\n",
       "      <td>55414</td>\n",
       "      <td>2019-07-10 09:34:55</td>\n",
       "      <td>0</td>\n",
       "      <td>113</td>\n",
       "      <td>keras,weight-initialization</td>\n",
       "      <td>0</td>\n",
       "      <td>0</td>\n",
       "    </tr>\n",
       "    <tr>\n",
       "      <th>8836</th>\n",
       "      <td>55415</td>\n",
       "      <td>2019-07-10 09:45:37</td>\n",
       "      <td>1</td>\n",
       "      <td>212</td>\n",
       "      <td>python,visualization,seaborn</td>\n",
       "      <td>1</td>\n",
       "      <td>0</td>\n",
       "    </tr>\n",
       "    <tr>\n",
       "      <th>8837</th>\n",
       "      <td>55416</td>\n",
       "      <td>2019-07-10 09:59:56</td>\n",
       "      <td>0</td>\n",
       "      <td>22</td>\n",
       "      <td>time-series</td>\n",
       "      <td>0</td>\n",
       "      <td>0</td>\n",
       "    </tr>\n",
       "    <tr>\n",
       "      <th>8838</th>\n",
       "      <td>55419</td>\n",
       "      <td>2019-07-10 10:31:23</td>\n",
       "      <td>1</td>\n",
       "      <td>168</td>\n",
       "      <td>k-nn</td>\n",
       "      <td>1</td>\n",
       "      <td>0</td>\n",
       "    </tr>\n",
       "  </tbody>\n",
       "</table>\n",
       "<p>7914 rows × 7 columns</p>\n",
       "</div>"
      ],
      "text/plain": [
       "         Id         CreationDate  Score  ViewCount  \\\n",
       "1     44420  2019-01-23 09:34:01      0         25   \n",
       "2     44423  2019-01-23 09:58:41      2       1651   \n",
       "3     44427  2019-01-23 10:57:09      0         55   \n",
       "4     44428  2019-01-23 11:02:15      0         19   \n",
       "5     44430  2019-01-23 11:13:32      0        283   \n",
       "...     ...                  ...    ...        ...   \n",
       "8834  55413  2019-07-10 09:08:31      1         39   \n",
       "8835  55414  2019-07-10 09:34:55      0        113   \n",
       "8836  55415  2019-07-10 09:45:37      1        212   \n",
       "8837  55416  2019-07-10 09:59:56      0         22   \n",
       "8838  55419  2019-07-10 10:31:23      1        168   \n",
       "\n",
       "                                                   Tags  AnswerCount  \\\n",
       "1     machine-learning,regression,linear-regression,...            0   \n",
       "2               python,time-series,forecast,forecasting            0   \n",
       "3                     machine-learning,scikit-learn,pca            1   \n",
       "4                   dataset,bigdata,data,speech-to-text            0   \n",
       "5                                           fuzzy-logic            1   \n",
       "...                                                 ...          ...   \n",
       "8834        pca,dimensionality-reduction,linear-algebra            1   \n",
       "8835                        keras,weight-initialization            0   \n",
       "8836                       python,visualization,seaborn            1   \n",
       "8837                                        time-series            0   \n",
       "8838                                               k-nn            1   \n",
       "\n",
       "      FavoriteCount  \n",
       "1                 0  \n",
       "2                 0  \n",
       "3                 0  \n",
       "4                 0  \n",
       "5                 0  \n",
       "...             ...  \n",
       "8834              1  \n",
       "8835              0  \n",
       "8836              0  \n",
       "8837              0  \n",
       "8838              0  \n",
       "\n",
       "[7914 rows x 7 columns]"
      ]
     },
     "execution_count": 8,
     "metadata": {},
     "output_type": "execute_result"
    }
   ],
   "source": [
    "questions_ = questions.groupby(\"Tags\")\n",
    "questions_.tail()"
   ]
  },
  {
   "cell_type": "markdown",
   "id": "c769860c",
   "metadata": {},
   "source": [
    "Below, we will count how many times each tags was used and viewed."
   ]
  },
  {
   "cell_type": "markdown",
   "id": "10b4e8b7",
   "metadata": {},
   "source": [
    "First we isolate in a new DataFrame the columns Tags and ViewCount."
   ]
  },
  {
   "cell_type": "code",
   "execution_count": 9,
   "id": "1c30d49e",
   "metadata": {},
   "outputs": [],
   "source": [
    "tags_count = pd.DataFrame(questions[\"Tags\"])\n",
    "tags_count[\"tags\"] = questions[\"Tags\"].str.split(\",\")\n",
    "tags_count[\"view_count\"] = questions[\"ViewCount\"]"
   ]
  },
  {
   "cell_type": "markdown",
   "id": "67e04c48",
   "metadata": {},
   "source": [
    "Then we count the number of times each tag was used."
   ]
  },
  {
   "cell_type": "code",
   "execution_count": 10,
   "id": "6ce2f740",
   "metadata": {},
   "outputs": [
    {
     "data": {
      "text/html": [
       "<div>\n",
       "<style scoped>\n",
       "    .dataframe tbody tr th:only-of-type {\n",
       "        vertical-align: middle;\n",
       "    }\n",
       "\n",
       "    .dataframe tbody tr th {\n",
       "        vertical-align: top;\n",
       "    }\n",
       "\n",
       "    .dataframe thead th {\n",
       "        text-align: right;\n",
       "    }\n",
       "</style>\n",
       "<table border=\"1\" class=\"dataframe\">\n",
       "  <thead>\n",
       "    <tr style=\"text-align: right;\">\n",
       "      <th></th>\n",
       "      <th>tags</th>\n",
       "      <th>n_used</th>\n",
       "    </tr>\n",
       "  </thead>\n",
       "  <tbody>\n",
       "    <tr>\n",
       "      <th>0</th>\n",
       "      <td>machine-learning</td>\n",
       "      <td>2693</td>\n",
       "    </tr>\n",
       "    <tr>\n",
       "      <th>1</th>\n",
       "      <td>python</td>\n",
       "      <td>1814</td>\n",
       "    </tr>\n",
       "    <tr>\n",
       "      <th>2</th>\n",
       "      <td>deep-learning</td>\n",
       "      <td>1220</td>\n",
       "    </tr>\n",
       "    <tr>\n",
       "      <th>3</th>\n",
       "      <td>neural-network</td>\n",
       "      <td>1055</td>\n",
       "    </tr>\n",
       "    <tr>\n",
       "      <th>4</th>\n",
       "      <td>keras</td>\n",
       "      <td>935</td>\n",
       "    </tr>\n",
       "    <tr>\n",
       "      <th>5</th>\n",
       "      <td>classification</td>\n",
       "      <td>685</td>\n",
       "    </tr>\n",
       "    <tr>\n",
       "      <th>6</th>\n",
       "      <td>tensorflow</td>\n",
       "      <td>584</td>\n",
       "    </tr>\n",
       "    <tr>\n",
       "      <th>7</th>\n",
       "      <td>scikit-learn</td>\n",
       "      <td>540</td>\n",
       "    </tr>\n",
       "    <tr>\n",
       "      <th>8</th>\n",
       "      <td>nlp</td>\n",
       "      <td>493</td>\n",
       "    </tr>\n",
       "    <tr>\n",
       "      <th>9</th>\n",
       "      <td>cnn</td>\n",
       "      <td>489</td>\n",
       "    </tr>\n",
       "  </tbody>\n",
       "</table>\n",
       "</div>"
      ],
      "text/plain": [
       "               tags  n_used\n",
       "0  machine-learning    2693\n",
       "1            python    1814\n",
       "2     deep-learning    1220\n",
       "3    neural-network    1055\n",
       "4             keras     935\n",
       "5    classification     685\n",
       "6        tensorflow     584\n",
       "7      scikit-learn     540\n",
       "8               nlp     493\n",
       "9               cnn     489"
      ]
     },
     "execution_count": 10,
     "metadata": {},
     "output_type": "execute_result"
    }
   ],
   "source": [
    "temp = tags_count[\"tags\"].sum()\n",
    "temp = pd.Series(temp)\n",
    "tags_used = pd.DataFrame(temp.value_counts())\n",
    "tags_used = tags_used.reset_index(level=0)\n",
    "tags_used = tags_used.rename(columns = {0 : \"n_used\", \"index\" : \"tags\"})\n",
    "tags_used.head(10)"
   ]
  },
  {
   "cell_type": "markdown",
   "id": "654555b3",
   "metadata": {},
   "source": [
    "Now we determine how many times each tags were seen."
   ]
  },
  {
   "cell_type": "code",
   "execution_count": 11,
   "id": "a35c0dbc",
   "metadata": {},
   "outputs": [
    {
     "data": {
      "text/html": [
       "<div>\n",
       "<style scoped>\n",
       "    .dataframe tbody tr th:only-of-type {\n",
       "        vertical-align: middle;\n",
       "    }\n",
       "\n",
       "    .dataframe tbody tr th {\n",
       "        vertical-align: top;\n",
       "    }\n",
       "\n",
       "    .dataframe thead th {\n",
       "        text-align: right;\n",
       "    }\n",
       "</style>\n",
       "<table border=\"1\" class=\"dataframe\">\n",
       "  <thead>\n",
       "    <tr style=\"text-align: right;\">\n",
       "      <th></th>\n",
       "      <th>tags</th>\n",
       "      <th>n_view</th>\n",
       "    </tr>\n",
       "  </thead>\n",
       "  <tbody>\n",
       "    <tr>\n",
       "      <th>0</th>\n",
       "      <td>python</td>\n",
       "      <td>537585</td>\n",
       "    </tr>\n",
       "    <tr>\n",
       "      <th>1</th>\n",
       "      <td>machine-learning</td>\n",
       "      <td>388499</td>\n",
       "    </tr>\n",
       "    <tr>\n",
       "      <th>2</th>\n",
       "      <td>keras</td>\n",
       "      <td>268608</td>\n",
       "    </tr>\n",
       "    <tr>\n",
       "      <th>3</th>\n",
       "      <td>deep-learning</td>\n",
       "      <td>233628</td>\n",
       "    </tr>\n",
       "    <tr>\n",
       "      <th>4</th>\n",
       "      <td>pandas</td>\n",
       "      <td>201787</td>\n",
       "    </tr>\n",
       "    <tr>\n",
       "      <th>5</th>\n",
       "      <td>neural-network</td>\n",
       "      <td>185367</td>\n",
       "    </tr>\n",
       "    <tr>\n",
       "      <th>6</th>\n",
       "      <td>scikit-learn</td>\n",
       "      <td>128110</td>\n",
       "    </tr>\n",
       "    <tr>\n",
       "      <th>7</th>\n",
       "      <td>tensorflow</td>\n",
       "      <td>121369</td>\n",
       "    </tr>\n",
       "    <tr>\n",
       "      <th>8</th>\n",
       "      <td>classification</td>\n",
       "      <td>104457</td>\n",
       "    </tr>\n",
       "    <tr>\n",
       "      <th>9</th>\n",
       "      <td>dataframe</td>\n",
       "      <td>89352</td>\n",
       "    </tr>\n",
       "  </tbody>\n",
       "</table>\n",
       "</div>"
      ],
      "text/plain": [
       "               tags  n_view\n",
       "0            python  537585\n",
       "1  machine-learning  388499\n",
       "2             keras  268608\n",
       "3     deep-learning  233628\n",
       "4            pandas  201787\n",
       "5    neural-network  185367\n",
       "6      scikit-learn  128110\n",
       "7        tensorflow  121369\n",
       "8    classification  104457\n",
       "9         dataframe   89352"
      ]
     },
     "execution_count": 11,
     "metadata": {},
     "output_type": "execute_result"
    }
   ],
   "source": [
    "tags_count[\"n_tags\"] = tags_count[\"tags\"].apply(lambda list: len(list))\n",
    "tags_count = pd.DataFrame(tags_count)\n",
    "\n",
    "def n_viewf(col_1, col_2):\n",
    "    n_viewl = []\n",
    "    for i in range(col_2):\n",
    "        n_viewl.append(col_1)\n",
    "    return n_viewl\n",
    "\n",
    "n_tags = tags_count[\"n_tags\"].to_list()\n",
    "ViewCount = tags_count[\"view_count\"].to_list()\n",
    "\n",
    "list = []\n",
    "for i in range(len(n_tags)):\n",
    "    list.append(n_viewf(ViewCount[i], n_tags[i]))\n",
    "flat_list = [x for xs in list for x in xs]\n",
    "\n",
    "tags_view_temp = pd.DataFrame(tags_count[\"tags\"].sum())\n",
    "tags_view_temp[\"n_view\"] = pd.Series(flat_list)\n",
    "tags_view_temp = tags_view_temp.rename(columns = {0 : \"tags\"})\n",
    "tags_view = tags_view_temp.groupby(\"tags\").sum().sort_values(\"n_view\", ascending = False) \n",
    "tags_view = tags_view.reset_index(level=0)\n",
    "tags_view.head(10)"
   ]
  },
  {
   "cell_type": "code",
   "execution_count": 12,
   "id": "7b5f0d3b",
   "metadata": {},
   "outputs": [
    {
     "data": {
      "image/png": "[encoded data removed]",
      "text/plain": [
       "<Figure size 432x288 with 1 Axes>"
      ]
     },
     "metadata": {
      "needs_background": "light"
     },
     "output_type": "display_data"
    },
    {
     "data": {
      "image/png": "[encoded data removed]",
      "text/plain": [
       "<Figure size 432x288 with 1 Axes>"
      ]
     },
     "metadata": {
      "needs_background": "light"
     },
     "output_type": "display_data"
    }
   ],
   "source": [
    "plt.barh(y = tags_used.head(10)[\"tags\"], width = tags_used.head(10)[\"n_used\"])\n",
    "plt.title(\"Top 10 of tags used\")\n",
    "plt.show()\n",
    "\n",
    "plt.barh(y = tags_view.head(10)[\"tags\"], width = tags_view.head(10)[\"n_view\"])\n",
    "plt.title(\"Top 10 of tags viewed\")\n",
    "plt.show()"
   ]
  },
  {
   "cell_type": "markdown",
   "id": "9ea05711",
   "metadata": {},
   "source": [
    "From the 2 graphics above we can extract 8 tags that are both in the top 10 most used and most viewed tags:\n",
    "\n",
    "    - Python\n",
    "    \n",
    "    -Machine learning\n",
    "    \n",
    "    -Keras\n",
    "    \n",
    "    -Deep learning\n",
    "    \n",
    "    -Neural network\n",
    "    \n",
    "    -Scikit learn\n",
    "    \n",
    "    -Tensorflow\n",
    "    \n",
    "    -Classification"
   ]
  },
  {
   "cell_type": "markdown",
   "id": "2114ebb6",
   "metadata": {},
   "source": [
    "All the tags above are related to machine learning or deep learning."
   ]
  },
  {
   "cell_type": "markdown",
   "id": "a47d348a",
   "metadata": {},
   "source": [
    "# -------------------------------------------------------"
   ]
  },
  {
   "cell_type": "markdown",
   "id": "b84535ea",
   "metadata": {},
   "source": [
    "We will now work with a new dataset which will hold all of the questions ever asked on DSSE, their dates and tags.\n",
    "\n",
    "\n",
    "\n",
    "In this we will track the interest in deep learning across time. We will:\n",
    "\n",
    "    Count how many deep learning questions are asked per time period.\n",
    "    The total amount of questions per time period.\n",
    "    How many deep learning questions there are relative to the total amount of questions per time period.\n"
   ]
  },
  {
   "cell_type": "code",
   "execution_count": 13,
   "id": "b1559f17",
   "metadata": {},
   "outputs": [
    {
     "data": {
      "text/html": [
       "<div>\n",
       "<style scoped>\n",
       "    .dataframe tbody tr th:only-of-type {\n",
       "        vertical-align: middle;\n",
       "    }\n",
       "\n",
       "    .dataframe tbody tr th {\n",
       "        vertical-align: top;\n",
       "    }\n",
       "\n",
       "    .dataframe thead th {\n",
       "        text-align: right;\n",
       "    }\n",
       "</style>\n",
       "<table border=\"1\" class=\"dataframe\">\n",
       "  <thead>\n",
       "    <tr style=\"text-align: right;\">\n",
       "      <th></th>\n",
       "      <th>Id</th>\n",
       "      <th>CreationDate</th>\n",
       "      <th>Tags</th>\n",
       "    </tr>\n",
       "  </thead>\n",
       "  <tbody>\n",
       "    <tr>\n",
       "      <th>0</th>\n",
       "      <td>45416</td>\n",
       "      <td>2019-02-12 00:36:29</td>\n",
       "      <td>&lt;python&gt;&lt;keras&gt;&lt;tensorflow&gt;&lt;cnn&gt;&lt;probability&gt;</td>\n",
       "    </tr>\n",
       "    <tr>\n",
       "      <th>1</th>\n",
       "      <td>45418</td>\n",
       "      <td>2019-02-12 00:50:39</td>\n",
       "      <td>&lt;neural-network&gt;</td>\n",
       "    </tr>\n",
       "    <tr>\n",
       "      <th>2</th>\n",
       "      <td>45422</td>\n",
       "      <td>2019-02-12 04:40:51</td>\n",
       "      <td>&lt;python&gt;&lt;ibm-watson&gt;&lt;chatbot&gt;</td>\n",
       "    </tr>\n",
       "    <tr>\n",
       "      <th>3</th>\n",
       "      <td>45426</td>\n",
       "      <td>2019-02-12 04:51:49</td>\n",
       "      <td>&lt;keras&gt;</td>\n",
       "    </tr>\n",
       "    <tr>\n",
       "      <th>4</th>\n",
       "      <td>45427</td>\n",
       "      <td>2019-02-12 05:08:24</td>\n",
       "      <td>&lt;r&gt;&lt;predictive-modeling&gt;&lt;machine-learning-mode...</td>\n",
       "    </tr>\n",
       "  </tbody>\n",
       "</table>\n",
       "</div>"
      ],
      "text/plain": [
       "      Id         CreationDate  \\\n",
       "0  45416  2019-02-12 00:36:29   \n",
       "1  45418  2019-02-12 00:50:39   \n",
       "2  45422  2019-02-12 04:40:51   \n",
       "3  45426  2019-02-12 04:51:49   \n",
       "4  45427  2019-02-12 05:08:24   \n",
       "\n",
       "                                                Tags  \n",
       "0      <python><keras><tensorflow><cnn><probability>  \n",
       "1                                   <neural-network>  \n",
       "2                      <python><ibm-watson><chatbot>  \n",
       "3                                            <keras>  \n",
       "4  <r><predictive-modeling><machine-learning-mode...  "
      ]
     },
     "execution_count": 13,
     "metadata": {},
     "output_type": "execute_result"
    }
   ],
   "source": [
    "all_questions = pd.read_csv('all_questions.csv')\n",
    "all_questions.head()"
   ]
  },
  {
   "cell_type": "code",
   "execution_count": 14,
   "id": "dce84226",
   "metadata": {},
   "outputs": [
    {
     "data": {
      "text/html": [
       "<div>\n",
       "<style scoped>\n",
       "    .dataframe tbody tr th:only-of-type {\n",
       "        vertical-align: middle;\n",
       "    }\n",
       "\n",
       "    .dataframe tbody tr th {\n",
       "        vertical-align: top;\n",
       "    }\n",
       "\n",
       "    .dataframe thead th {\n",
       "        text-align: right;\n",
       "    }\n",
       "</style>\n",
       "<table border=\"1\" class=\"dataframe\">\n",
       "  <thead>\n",
       "    <tr style=\"text-align: right;\">\n",
       "      <th></th>\n",
       "      <th>Id</th>\n",
       "      <th>CreationDate</th>\n",
       "      <th>Tags</th>\n",
       "    </tr>\n",
       "  </thead>\n",
       "  <tbody>\n",
       "    <tr>\n",
       "      <th>0</th>\n",
       "      <td>45416</td>\n",
       "      <td>2019-02-12 00:36:29</td>\n",
       "      <td>[python, keras, tensorflow, cnn, probability]</td>\n",
       "    </tr>\n",
       "    <tr>\n",
       "      <th>1</th>\n",
       "      <td>45418</td>\n",
       "      <td>2019-02-12 00:50:39</td>\n",
       "      <td>[neural-network]</td>\n",
       "    </tr>\n",
       "    <tr>\n",
       "      <th>2</th>\n",
       "      <td>45422</td>\n",
       "      <td>2019-02-12 04:40:51</td>\n",
       "      <td>[python, ibm-watson, chatbot]</td>\n",
       "    </tr>\n",
       "    <tr>\n",
       "      <th>3</th>\n",
       "      <td>45426</td>\n",
       "      <td>2019-02-12 04:51:49</td>\n",
       "      <td>[keras]</td>\n",
       "    </tr>\n",
       "    <tr>\n",
       "      <th>4</th>\n",
       "      <td>45427</td>\n",
       "      <td>2019-02-12 05:08:24</td>\n",
       "      <td>[r, predictive-modeling, machine-learning-mode...</td>\n",
       "    </tr>\n",
       "  </tbody>\n",
       "</table>\n",
       "</div>"
      ],
      "text/plain": [
       "      Id         CreationDate  \\\n",
       "0  45416  2019-02-12 00:36:29   \n",
       "1  45418  2019-02-12 00:50:39   \n",
       "2  45422  2019-02-12 04:40:51   \n",
       "3  45426  2019-02-12 04:51:49   \n",
       "4  45427  2019-02-12 05:08:24   \n",
       "\n",
       "                                                Tags  \n",
       "0      [python, keras, tensorflow, cnn, probability]  \n",
       "1                                   [neural-network]  \n",
       "2                      [python, ibm-watson, chatbot]  \n",
       "3                                            [keras]  \n",
       "4  [r, predictive-modeling, machine-learning-mode...  "
      ]
     },
     "execution_count": 14,
     "metadata": {},
     "output_type": "execute_result"
    }
   ],
   "source": [
    "all_questions['Tags'] = all_questions['Tags'].str.replace(\"><\",\",\").str.replace(\"<\",\"\").str.replace(\">\",\"\")\n",
    "all_questions[\"Tags\"] = all_questions[\"Tags\"].str.split(\",\")\n",
    "all_questions.head()"
   ]
  },
  {
   "cell_type": "markdown",
   "id": "3582e1c7",
   "metadata": {},
   "source": [
    "We can consider that a question is about deep-learning when the following tags are present: deep-learning / neural-network / keras / tensorflow"
   ]
  },
  {
   "cell_type": "code",
   "execution_count": 15,
   "id": "cd25462d",
   "metadata": {},
   "outputs": [],
   "source": [
    "all_questions = all_questions.sort_values(\"CreationDate\")"
   ]
  },
  {
   "cell_type": "code",
   "execution_count": 16,
   "id": "daadbb5b",
   "metadata": {},
   "outputs": [
    {
     "name": "stdout",
     "output_type": "stream",
     "text": [
      "65    2014-05-13 23:58:30\n",
      "Name: CreationDate, dtype: object\n",
      "21324    2020-01-19 03:01:03\n",
      "Name: CreationDate, dtype: object\n"
     ]
    }
   ],
   "source": [
    "print(all_questions[\"CreationDate\"].head(1))\n",
    "print(all_questions[\"CreationDate\"].tail(1))"
   ]
  },
  {
   "cell_type": "markdown",
   "id": "dbc303ce",
   "metadata": {},
   "source": [
    "Now that we have sorted the dataframe by the date of the questions, we can see that it goes from May 13th 2014 to January 19th 2020.\n",
    "\n",
    "We will simplify the CreationDate column by only considering the month and the year, and then count how many deep-learning related question there was for each month."
   ]
  },
  {
   "cell_type": "code",
   "execution_count": 53,
   "id": "f27c2334",
   "metadata": {},
   "outputs": [],
   "source": [
    "a = all_questions.copy()\n",
    "all_questions[\"year\"] = pd.PeriodIndex(all_questions[\"CreationDate\"], freq='Y')\n",
    "\n",
    "def dp_in(list):\n",
    "    dp_tags = [\"deep-learning\", \"neural-network\", \"keras\", \"tensorflow\"]\n",
    "    for i in list:\n",
    "        for j in dp_tags:\n",
    "            if i == j:\n",
    "                return 1\n",
    "    return 0\n",
    "\n",
    "all_questions[\"deep\"] = all_questions[\"Tags\"].apply(dp_in)\n",
    "all_questions[\"total\"] = all_questions[\"Id\"].apply(lambda x: 1)"
   ]
  },
  {
   "cell_type": "code",
   "execution_count": 63,
   "id": "6e649f67",
   "metadata": {},
   "outputs": [
    {
     "name": "stderr",
     "output_type": "stream",
     "text": [
      "C:\\Users\\debie\\AppData\\Local\\Temp/ipykernel_6672/3913677924.py:4: FutureWarning: casting period[A-DEC] values to int64 with .astype(...) is deprecated and will raise in a future version. Use .view(...) instead.\n",
      "  dp_questions[\"year\"] = dp_questions[\"year\"].astype(int) + 1970\n"
     ]
    },
    {
     "data": {
      "text/html": [
       "<div>\n",
       "<style scoped>\n",
       "    .dataframe tbody tr th:only-of-type {\n",
       "        vertical-align: middle;\n",
       "    }\n",
       "\n",
       "    .dataframe tbody tr th {\n",
       "        vertical-align: top;\n",
       "    }\n",
       "\n",
       "    .dataframe thead th {\n",
       "        text-align: right;\n",
       "    }\n",
       "</style>\n",
       "<table border=\"1\" class=\"dataframe\">\n",
       "  <thead>\n",
       "    <tr style=\"text-align: right;\">\n",
       "      <th></th>\n",
       "      <th>year</th>\n",
       "      <th>deep</th>\n",
       "      <th>total</th>\n",
       "      <th>deep_prct</th>\n",
       "    </tr>\n",
       "  </thead>\n",
       "  <tbody>\n",
       "    <tr>\n",
       "      <th>0</th>\n",
       "      <td>2014</td>\n",
       "      <td>30</td>\n",
       "      <td>562</td>\n",
       "      <td>5.338078</td>\n",
       "    </tr>\n",
       "    <tr>\n",
       "      <th>1</th>\n",
       "      <td>2015</td>\n",
       "      <td>114</td>\n",
       "      <td>1167</td>\n",
       "      <td>9.768638</td>\n",
       "    </tr>\n",
       "    <tr>\n",
       "      <th>2</th>\n",
       "      <td>2016</td>\n",
       "      <td>417</td>\n",
       "      <td>2146</td>\n",
       "      <td>19.431500</td>\n",
       "    </tr>\n",
       "    <tr>\n",
       "      <th>3</th>\n",
       "      <td>2017</td>\n",
       "      <td>883</td>\n",
       "      <td>2957</td>\n",
       "      <td>29.861346</td>\n",
       "    </tr>\n",
       "    <tr>\n",
       "      <th>4</th>\n",
       "      <td>2018</td>\n",
       "      <td>1876</td>\n",
       "      <td>5475</td>\n",
       "      <td>34.264840</td>\n",
       "    </tr>\n",
       "    <tr>\n",
       "      <th>5</th>\n",
       "      <td>2019</td>\n",
       "      <td>2695</td>\n",
       "      <td>8810</td>\n",
       "      <td>30.590238</td>\n",
       "    </tr>\n",
       "    <tr>\n",
       "      <th>6</th>\n",
       "      <td>2020</td>\n",
       "      <td>130</td>\n",
       "      <td>459</td>\n",
       "      <td>28.322440</td>\n",
       "    </tr>\n",
       "  </tbody>\n",
       "</table>\n",
       "</div>"
      ],
      "text/plain": [
       "   year  deep  total  deep_prct\n",
       "0  2014    30    562   5.338078\n",
       "1  2015   114   1167   9.768638\n",
       "2  2016   417   2146  19.431500\n",
       "3  2017   883   2957  29.861346\n",
       "4  2018  1876   5475  34.264840\n",
       "5  2019  2695   8810  30.590238\n",
       "6  2020   130    459  28.322440"
      ]
     },
     "execution_count": 63,
     "metadata": {},
     "output_type": "execute_result"
    }
   ],
   "source": [
    "dp_questions = all_questions.groupby(\"year\").sum()\n",
    "dp_questions.drop(\"Id\", axis = 1, inplace = True)\n",
    "dp_questions = dp_questions.reset_index(level=0)\n",
    "dp_questions[\"year\"] = dp_questions[\"year\"].astype(int) + 1970\n",
    "dp_questions[\"deep_prct\"] = (dp_questions[\"deep\"] / dp_questions[\"total\"]) * 100\n",
    "dp_questions.head(10)"
   ]
  },
  {
   "cell_type": "code",
   "execution_count": 65,
   "id": "b340a9d4",
   "metadata": {},
   "outputs": [
    {
     "data": {
      "text/plain": [
       "Text(0, 1.15, 'Percentage of deep learning related topics in DSSE')"
      ]
     },
     "execution_count": 65,
     "metadata": {},
     "output_type": "execute_result"
    },
    {
     "data": {
      "image/png": "[encoded data removed]",
      "text/plain": [
       "<Figure size 1080x576 with 1 Axes>"
      ]
     },
     "metadata": {
      "needs_background": "light"
     },
     "output_type": "display_data"
    }
   ],
   "source": [
    "fig, ax = plt.subplots(figsize = (15, 8))\n",
    "ax.plot(\n",
    "    dp_questions[\"year\"],\n",
    "    dp_questions[\"deep_prct\"],\n",
    "    color=\"#0B74CB\",\n",
    "    linewidth=4,\n",
    "    alpha=.8\n",
    ")\n",
    "ax.text(\n",
    "    0, 1.15, \"Percentage of deep learning related topics in DSSE\",\n",
    "    horizontalalignment=\"left\",\n",
    "    verticalalignment=\"center\",\n",
    "    transform=ax.transAxes,\n",
    "    size=22, weight=\"bold\",\n",
    "    alpha=.75\n",
    ")"
   ]
  },
  {
   "cell_type": "markdown",
   "id": "03f9a02e",
   "metadata": {},
   "source": [
    "We can see that between 2014 and 2018 the number of deep-learning increased from 5 % to 35 %. There is a slight decrease starting in the beginning of 2018 until 2020 which is the last date of the dataset.\n",
    "\n",
    "We can't really say if this decreasing trend will keep going, but from what is shown in the graph, deep-learning is a topic of interest for a large amount of people."
   ]
  }
 ],
 "metadata": {
  "kernelspec": {
   "display_name": "Python 3 (ipykernel)",
   "language": "python",
   "name": "python3"
  },
  "language_info": {
   "codemirror_mode": {
    "name": "ipython",
    "version": 3
   },
   "file_extension": ".py",
   "mimetype": "text/x-python",
   "name": "python",
   "nbconvert_exporter": "python",
   "pygments_lexer": "ipython3",
   "version": "3.9.7"
  }
 },
 "nbformat": 4,
 "nbformat_minor": 5
}
