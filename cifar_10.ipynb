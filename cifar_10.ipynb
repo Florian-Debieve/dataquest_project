{
  "cells": [
    {
      "cell_type": "markdown",
      "metadata": {
        "id": "view-in-github",
        "colab_type": "text"
      },
      "source": [
        "<a href=\"https://colab.research.google.com/github/Florian-Debieve/datascience_projects/blob/main/cifar_10.ipynb\" target=\"_parent\"><img src=\"https://colab.research.google.com/assets/colab-badge.svg\" alt=\"Open In Colab\"/></a>"
      ]
    },
    {
      "cell_type": "code",
      "execution_count": 1,
      "metadata": {
        "id": "iJczykyoblIE"
      },
      "outputs": [],
      "source": [
        "import sys\n",
        "\n",
        "assert sys.version_info >= (3, 7)\n",
        "\n",
        "from packaging import version\n",
        "import sklearn\n",
        "\n",
        "assert version.parse(sklearn.__version__) >= version.parse(\"1.0.1\")"
      ]
    },
    {
      "cell_type": "code",
      "execution_count": 2,
      "metadata": {
        "id": "yTjOy56AbyQV"
      },
      "outputs": [],
      "source": [
        "import numpy as np\n",
        "import pandas as pd\n",
        "import matplotlib.pyplot as plt\n",
        "from sklearn.metrics import accuracy_score\n",
        "import tensorflow as tf\n",
        "import random\n",
        "assert version.parse(tf.__version__) >= version.parse(\"2.8.0\")"
      ]
    },
    {
      "cell_type": "code",
      "execution_count": 3,
      "metadata": {
        "colab": {
          "base_uri": "https://localhost:8080/"
        },
        "id": "HHq7eGlYm5Ay",
        "outputId": "2180864b-0a44-4137-a8f3-c108ab41a869"
      },
      "outputs": [
        {
          "output_type": "stream",
          "name": "stdout",
          "text": [
            "Looking in indexes: https://pypi.org/simple, https://us-python.pkg.dev/colab-wheels/public/simple/\n",
            "Collecting tensorflow-addons==0.16.1\n",
            "  Downloading tensorflow_addons-0.16.1-cp38-cp38-manylinux_2_12_x86_64.manylinux2010_x86_64.whl (1.1 MB)\n",
            "\u001b[2K     \u001b[90m━━━━━━━━━━━━━━━━━━━━━━━━━━━━━━━━━━━━━━━━\u001b[0m \u001b[32m1.1/1.1 MB\u001b[0m \u001b[31m45.4 MB/s\u001b[0m eta \u001b[36m0:00:00\u001b[0m\n",
            "\u001b[?25hRequirement already satisfied: typeguard>=2.7 in /usr/local/lib/python3.8/dist-packages (from tensorflow-addons==0.16.1) (2.7.1)\n",
            "Installing collected packages: tensorflow-addons\n",
            "Successfully installed tensorflow-addons-0.16.1\n"
          ]
        },
        {
          "output_type": "stream",
          "name": "stderr",
          "text": [
            "/usr/local/lib/python3.8/dist-packages/tensorflow_addons/utils/ensure_tf_install.py:53: UserWarning: Tensorflow Addons supports using Python ops for all Tensorflow versions above or equal to 2.6.0 and strictly below 2.9.0 (nightly versions are not supported). \n",
            " The versions of TensorFlow you are currently using is 2.9.2 and is not supported. \n",
            "Some things might work, some things might not.\n",
            "If you were to encounter a bug, do not file an issue.\n",
            "If you want to make sure you're using a tested and supported configuration, either change the TensorFlow version or the TensorFlow Addons's version. \n",
            "You can find the compatibility matrix in TensorFlow Addon's readme:\n",
            "https://github.com/tensorflow/addons\n",
            "  warnings.warn(\n"
          ]
        }
      ],
      "source": [
        "!pip install tensorflow-addons==0.16.1\n",
        "import tensorflow_addons as tfa"
      ]
    },
    {
      "cell_type": "markdown",
      "source": [
        "In this project, the objectif, the goal is to develop an image classifier using the CIFAR-10 dataset. The CIFAR-10 dataset consists of 60000 32x32 colour images in 10 classes, with 6000 images per class. There are 50000 training images and 10000 test images. \n",
        "\n",
        "The classes are completely mutually exclusive and are as follow: plane, car, bird, cat, deer, dog, frog, horse, ship and truck."
      ],
      "metadata": {
        "id": "3_iGT-4AAduD"
      }
    },
    {
      "cell_type": "markdown",
      "source": [
        "# **The Data**"
      ],
      "metadata": {
        "id": "ggXHvbSMCiyl"
      }
    },
    {
      "cell_type": "markdown",
      "source": [
        "Let's first get the data and separate it into a training, validation and test set."
      ],
      "metadata": {
        "id": "sbmEw_SaDpm0"
      }
    },
    {
      "cell_type": "code",
      "execution_count": 6,
      "metadata": {
        "id": "qAbTr_AWb0gl",
        "colab": {
          "base_uri": "https://localhost:8080/"
        },
        "outputId": "a60b41a0-4d9a-48d4-eef2-42638a5221e9"
      },
      "outputs": [
        {
          "output_type": "stream",
          "name": "stdout",
          "text": [
            "Downloading data from https://www.cs.toronto.edu/~kriz/cifar-10-python.tar.gz\n",
            "170498071/170498071 [==============================] - 13s 0us/step\n"
          ]
        }
      ],
      "source": [
        "(X_train_all, y_train_all), (X_test, y_test) = tf.keras.datasets.cifar10.load_data()\n",
        "\n",
        "y_train_all = y_train_all.flatten()\n",
        "y_test = np.array(y_test.flatten())\n",
        "\n",
        "from sklearn.model_selection import train_test_split\n",
        "\n",
        "X_train, X_valid, y_train, y_valid = train_test_split(X_train_all, y_train_all, test_size=0.2, random_state=15)"
      ]
    },
    {
      "cell_type": "markdown",
      "source": [
        "Let's now plot a few of the images from the dataset."
      ],
      "metadata": {
        "id": "Sp9G-AxaD2Mu"
      }
    },
    {
      "cell_type": "code",
      "execution_count": null,
      "metadata": {
        "id": "MbSQDJSycA1s"
      },
      "outputs": [],
      "source": [
        "class_names = {\n",
        "    0: 'plane',\n",
        "    1: 'car',\n",
        "    2: 'bird',\n",
        "    3: 'cat',\n",
        "    4: 'deer',\n",
        "    5: 'dog',\n",
        "    6: 'frog',\n",
        "    7: 'horse',\n",
        "    8: 'ship',\n",
        "    9: 'truck'\n",
        "}"
      ]
    },
    {
      "cell_type": "code",
      "execution_count": null,
      "metadata": {
        "colab": {
          "base_uri": "https://localhost:8080/",
          "height": 358
        },
        "id": "jJDBbm3Dc7Py",
        "outputId": "9b47e6a0-5e04-49ad-f3a5-ce806d69b415"
      },
      "outputs": [
        {
          "output_type": "display_data",
          "data": {
            "text/plain": [
              "<Figure size 720x360 with 8 Axes>"
            ],
            "image/png": "[encoded data removed]"
          },
          "metadata": {
            "needs_background": "light"
          }
        }
      ],
      "source": [
        "fig, ax = plt.subplots(2, 4, figsize=(10,5))\n",
        "fig.tight_layout()\n",
        "row = [0,100,200,300,1000,1100,1200,1300]\n",
        "\n",
        "for i, ax in enumerate(ax.flat):\n",
        "    image = X_train[[row[i]]][0]\n",
        "    ax.imshow(image)\n",
        "    title = \"{0} ({1})\".format(class_names[y_train[[row[i]]][0]],y_train[[row[i]]][0])\n",
        "    ax.set_title(title, fontsize = 12)\n",
        "    ax.xaxis.set_visible(False)\n",
        "    ax.yaxis.set_visible(False)"
      ]
    },
    {
      "cell_type": "markdown",
      "source": [
        "# **Training a model**"
      ],
      "metadata": {
        "id": "UKpbg6joG3OD"
      }
    },
    {
      "cell_type": "markdown",
      "source": [
        "For this project, we won't create neural networks from scratch. Instead, we'll use premade neural networks architecture with pre-trained weights.\n",
        "\n",
        "Indeed, in Keras there are a number of applications that were made for the mageNet Large Scale Visual Recognition Challenge (ILSVRC). These applications have been trained and tested on a large image dataset as classifiers. As their functions are basically the same as in our goal, we can use them as a base for our models.\n",
        "\n",
        "We will use the following applications:\n",
        "- VGG16\n",
        "- VGG19\n",
        "- MobileNetV2\n",
        "- ResNet101V2\n",
        "- EfficientNetB7\n",
        "\n",
        "It is important to note that for each of these application, it is necessary to preprocess the image accordingly to the application requirement. Functions are already implemented in Keras for this."
      ],
      "metadata": {
        "id": "7wNoTQ2kG9a3"
      }
    },
    {
      "cell_type": "markdown",
      "source": [
        "## Data augmentation"
      ],
      "metadata": {
        "id": "fd9R8aiiLgIm"
      }
    },
    {
      "cell_type": "markdown",
      "source": [
        "When you work with image, it is usually a good idea to make some data augmentation.\n",
        "\n",
        "Here we are creating 3 tensorflow custom layers to add to our model during training that will modify randomly the inputed image. These layers will then be removed from the model after training as to not disturb the prediction.\n",
        "\n",
        "The layers created are:\n",
        "- RotateLayer: apply a slight rotation randomly to the image\n",
        "- FlipHorizontallyRandom: has 50 % chance of applying a horzontal flip to the image\n",
        "- RandomContrast: make a slight random modification to the color contrast of the image"
      ],
      "metadata": {
        "id": "8317NBT5Lo2q"
      }
    },
    {
      "cell_type": "code",
      "execution_count": 16,
      "metadata": {
        "id": "6IBe_WH-H4oE"
      },
      "outputs": [],
      "source": [
        "class RotateLayer(tf.keras.layers.Layer):\n",
        "    def __init__(self, **kwargs):\n",
        "        super(RotateLayer, self).__init__(**kwargs)\n",
        "\n",
        "    def call(self, inputs):\n",
        "        return tfa.image.rotate(inputs, tf.random.uniform([1], -0.4, 0.4), fill_mode='reflect')"
      ]
    },
    {
      "cell_type": "code",
      "source": [
        "class FlipHorizontallyRandom(tf.keras.layers.Layer):\n",
        "    def __init__(self, chance=0.5, **kwargs):\n",
        "        super(FlipHorizontallyRandom, self).__init__(**kwargs)\n",
        "        self.chance = chance\n",
        "        \n",
        "    def call(self, inputs):\n",
        "        if tf.random.uniform([1])[0] < self.chance:\n",
        "            return tf.image.flip_left_right(inputs)\n",
        "        else:\n",
        "            return inputs"
      ],
      "metadata": {
        "id": "rz7VPlifcb7P"
      },
      "execution_count": 17,
      "outputs": []
    },
    {
      "cell_type": "code",
      "source": [
        "class RandomContrast(tf.keras.layers.Layer):\n",
        "    def __init__(self, min_factor=0.75, max_factor=1.25, **kwargs):\n",
        "        super(RandomContrast, self).__init__(**kwargs)\n",
        "        self.min_factor = min_factor\n",
        "        self.max_factor = max_factor\n",
        "        \n",
        "    def call(self, inputs):\n",
        "        contrast_factor = tf.squeeze(tf.random.uniform([1], self.min_factor, self.max_factor))\n",
        "        return tf.image.adjust_contrast(inputs, contrast_factor)"
      ],
      "metadata": {
        "id": "pqMwUsiyFtC9"
      },
      "execution_count": 18,
      "outputs": []
    },
    {
      "cell_type": "markdown",
      "source": [
        "## Training models"
      ],
      "metadata": {
        "id": "RRkNTANsRRBZ"
      }
    },
    {
      "cell_type": "markdown",
      "source": [
        "\n",
        "For the training, several layout were tested to see what was the most efficient. Some variation of hyperparameters were performed as well.\n",
        "For each of the application, we'll used the pre-trained weights (\"imagenet\") and will allow further training.\n",
        "\n",
        "Below are the 4 layouts explained layer by layer, the input layer being on the left and the output layer on the right. It is important to note that for every hidden dense layer, the activation function used is ReLu. As for the output layer we use the softmax function.\n",
        "\n",
        "- Layout 1: Input: Pretrained application / Flatten layer / Dense Layer (4096 neurons) / Dense Layer (4096 neurons) / Output: Dense Layer (10 neurons)\n",
        "\n",
        "- Layout 2: Input: Pretrained application / Global Average Pooling 2D layer / Dropout Layer (rate = 0.3) / Dense Layer (1000 neurons) / Output: Dense Layer (10 neurons)\n",
        "\n",
        "- Layout 3: Input: Pretrained application / Global Average Pooling 2D layer / Dropout Layer (rate = 0.3) / Dense Layer (4000 neurons) / Dense Layer (4000 neurons) / Output: Dense Layer (10 neurons)\n",
        "\n",
        "- Layout 4: Input: Pretrained application / Global Average Pooling 2D layer / Dense Layer (4000 neurons) / Dense Layer (4000 neurons) / Output: Dense Layer (10 neurons)"
      ],
      "metadata": {
        "id": "o-e9FdK5RV0p"
      }
    },
    {
      "cell_type": "markdown",
      "source": [
        "The method is as follow:\n",
        "1. Preprocess the dataset depending on th application used.\n",
        "2. Build the model on tensorflow and add the 3 data augmentation layers.\n",
        "3. Running the training for 1 epoch with a varying learning rate and plotting the loss depending on the learning rate and choose the best value.\n",
        "4. Training the model with an early stopping strategy depending on the validation loss.\n",
        "5. Removing the 3 data augmentation data.\n",
        "6. Test and save the model."
      ],
      "metadata": {
        "id": "5YX5JirfX-G4"
      }
    },
    {
      "cell_type": "markdown",
      "source": [
        "First we define the callback to make a varying learning rate."
      ],
      "metadata": {
        "id": "BaB8XqOwbOKI"
      }
    },
    {
      "cell_type": "code",
      "execution_count": 10,
      "metadata": {
        "id": "nsLA9WcZQs9i"
      },
      "outputs": [],
      "source": [
        "K = tf.keras.backend\n",
        "\n",
        "class ExponentialLearningRate(tf.keras.callbacks.Callback):\n",
        "    def __init__(self, factor):\n",
        "        self.factor = factor\n",
        "        self.rates = []\n",
        "        self.losses = []\n",
        "    def on_batch_end(self, batch, logs):\n",
        "        self.rates.append(K.get_value(self.model.optimizer.learning_rate))\n",
        "        self.losses.append(logs[\"loss\"])\n",
        "        K.set_value(self.model.optimizer.learning_rate, self.model.optimizer.learning_rate * self.factor)"
      ]
    },
    {
      "cell_type": "markdown",
      "source": [
        "Now, we preprocess the dataset."
      ],
      "metadata": {
        "id": "j9IRAo3sbtOd"
      }
    },
    {
      "cell_type": "code",
      "execution_count": null,
      "metadata": {
        "id": "5bIr5SbDgjkE"
      },
      "outputs": [],
      "source": [
        "X_train_prep = tf.keras.applications.vgg16.preprocess_input(X_train)\n",
        "X_valid_prep = tf.keras.applications.vgg16.preprocess_input(X_valid)\n",
        "X_test_prep = tf.keras.applications.vgg16.preprocess_input(X_test)"
      ]
    },
    {
      "cell_type": "code",
      "execution_count": null,
      "metadata": {
        "id": "IkMKW0RQryq1"
      },
      "outputs": [],
      "source": [
        "tf.keras.backend.clear_session()\n",
        "np.random.seed(15)\n",
        "tf.random.set_seed(15)"
      ]
    },
    {
      "cell_type": "markdown",
      "metadata": {
        "id": "q0Jq5sG0KVET"
      },
      "source": [
        "We build the model."
      ]
    },
    {
      "cell_type": "code",
      "execution_count": null,
      "metadata": {
        "id": "uTBbh6flJ-_O",
        "colab": {
          "base_uri": "https://localhost:8080/"
        },
        "outputId": "c3034561-4eff-4261-ef06-55485905e134"
      },
      "outputs": [
        {
          "output_type": "stream",
          "name": "stdout",
          "text": [
            "Downloading data from https://storage.googleapis.com/tensorflow/keras-applications/vgg16/vgg16_weights_tf_dim_ordering_tf_kernels_notop.h5\n",
            "58889256/58889256 [==============================] - 2s 0us/step\n",
            "Model: \"sequential_1\"\n",
            "_________________________________________________________________\n",
            " Layer (type)                Output Shape              Param #   \n",
            "=================================================================\n",
            " rotate_layer (RotateLayer)  (None, None, None, 3)     0         \n",
            "                                                                 \n",
            " flip_horizontally_random (F  (None, None, None, 3)    0         \n",
            " lipHorizontallyRandom)                                          \n",
            "                                                                 \n",
            " random_contrast (RandomCont  (None, None, None, 3)    0         \n",
            " rast)                                                           \n",
            "                                                                 \n",
            " sequential (Sequential)     (None, 10)                32810698  \n",
            "                                                                 \n",
            "=================================================================\n",
            "Total params: 32,810,698\n",
            "Trainable params: 32,810,698\n",
            "Non-trainable params: 0\n",
            "_________________________________________________________________\n"
          ]
        }
      ],
      "source": [
        "pretrained_model = tf.keras.applications.vgg16.VGG16(\n",
        "    include_top=False ,\n",
        "    weights='imagenet',\n",
        "    input_shape=[32,32, 3]\n",
        ")\n",
        "\n",
        "\n",
        "model_ = tf.keras.Sequential([\n",
        "    pretrained_model,\n",
        "    tf.keras.layers.GlobalAveragePooling2D(),\n",
        "    tf.keras.layers.Dense(4000, activation='relu', kernel_initializer=\"he_normal\", name='fc1'),\n",
        "    tf.keras.layers.Dense(4000, activation='relu', kernel_initializer=\"he_normal\", name='fc2'),\n",
        "    tf.keras.layers.Dense(10, activation='softmax')\n",
        "])\n",
        "\n",
        "model = tf.keras.Sequential([\n",
        "    RotateLayer(input_shape=(32, 32, 3)),\n",
        "    FlipHorizontallyRandom(),\n",
        "    RandomContrast(),\n",
        "    model_\n",
        "])\n",
        "    \n",
        "model.summary()"
      ]
    },
    {
      "cell_type": "markdown",
      "source": [
        "We run it for 1 epoch with the exponential learning rate callback (starting at 5e-6 with a factor of 1.014) so that during this epoch the learning rate go from 5e-6 to approximately 180."
      ],
      "metadata": {
        "id": "lv-z9rogcp56"
      }
    },
    {
      "cell_type": "code",
      "execution_count": null,
      "metadata": {
        "id": "uDf35lv2KFch",
        "colab": {
          "base_uri": "https://localhost:8080/"
        },
        "outputId": "d9e57677-9cb6-4eb9-bc54-9ee785cdd3ea"
      },
      "outputs": [
        {
          "output_type": "stream",
          "name": "stdout",
          "text": [
            "   6/1250 [..............................] - ETA: 1:05 - loss: 20.2624 - sparse_categorical_accuracy: 0.0833"
          ]
        },
        {
          "output_type": "stream",
          "name": "stderr",
          "text": [
            "WARNING:tensorflow:Callback method `on_train_batch_end` is slow compared to the batch time (batch time: 0.0125s vs `on_train_batch_end` time: 0.0321s). Check your callbacks.\n"
          ]
        },
        {
          "output_type": "stream",
          "name": "stdout",
          "text": [
            "1250/1250 [==============================] - 81s 56ms/step - loss: 17.7873 - sparse_categorical_accuracy: 0.1556 - val_loss: 177.8975 - val_sparse_categorical_accuracy: 0.1008\n"
          ]
        }
      ],
      "source": [
        "model.compile(\n",
        "    optimizer=tf.keras.optimizers.Nadam(learning_rate=5e-6),\n",
        "    loss = 'sparse_categorical_crossentropy',\n",
        "    metrics=['sparse_categorical_accuracy']\n",
        ")\n",
        "\n",
        "expon_lr = ExponentialLearningRate(factor=1.014)\n",
        "\n",
        "history = model.fit(X_train_prep, y_train,\n",
        "                    epochs=1,\n",
        "                    validation_data=(X_valid_prep, y_valid),\n",
        "                    callbacks=[expon_lr]\n",
        "                    )"
      ]
    },
    {
      "cell_type": "markdown",
      "source": [
        "Then we plot the result:"
      ],
      "metadata": {
        "id": "j7BrrZVKdt1d"
      }
    },
    {
      "cell_type": "code",
      "execution_count": null,
      "metadata": {
        "colab": {
          "base_uri": "https://localhost:8080/",
          "height": 304
        },
        "id": "XwSnpvDx5ds_",
        "outputId": "6d99b9d9-24db-4e5a-c3e9-fc1e20a6f7b0"
      },
      "outputs": [
        {
          "output_type": "execute_result",
          "data": {
            "text/plain": [
              "Text(0, 0.5, 'Loss')"
            ]
          },
          "metadata": {},
          "execution_count": 51
        },
        {
          "output_type": "display_data",
          "data": {
            "text/plain": [
              "<Figure size 432x288 with 1 Axes>"
            ],
            "image/png": "[encoded data removed]"
          },
          "metadata": {
            "needs_background": "light"
          }
        }
      ],
      "source": [
        "plt.plot(expon_lr.rates, expon_lr.losses)\n",
        "plt.gca().set_xscale('log')\n",
        "plt.hlines(min(expon_lr.losses), min(expon_lr.rates), max(expon_lr.rates))\n",
        "plt.axis([min(expon_lr.rates), 100, min(expon_lr.losses), 5])\n",
        "plt.grid()\n",
        "plt.xlabel(\"Learning rate\")\n",
        "plt.ylabel(\"Loss\")"
      ]
    },
    {
      "cell_type": "markdown",
      "metadata": {
        "id": "36MkW8UAKegS"
      },
      "source": [
        "On this graph we conclude that a good learning rate for this model would be 0.1"
      ]
    },
    {
      "cell_type": "markdown",
      "source": [
        "Then we train the model with the early stopping callback."
      ],
      "metadata": {
        "id": "qmLnQ5_heGsT"
      }
    },
    {
      "cell_type": "code",
      "execution_count": null,
      "metadata": {
        "id": "EH9DU7I0KsJr"
      },
      "outputs": [],
      "source": [
        "early_stopping_cb = tf.keras.callbacks.EarlyStopping(patience=5,\n",
        "                                                     restore_best_weights=True)\n",
        "\n",
        "model.compile(\n",
        "    optimizer=tf.keras.optimizers.Nadam(learning_rate=1e-1),\n",
        "    loss = 'sparse_categorical_crossentropy',\n",
        "    metrics=['sparse_categorical_accuracy']\n",
        ")\n",
        "history = model.fit(X_train_prep, y_train,\n",
        "                       epochs=35,\n",
        "                    validation_data=(X_valid_prep, y_valid),\n",
        "                    callbacks=[early_stopping_cb]\n",
        "                    )"
      ]
    },
    {
      "cell_type": "markdown",
      "metadata": {
        "id": "k4DdNgXYK-jN"
      },
      "source": [
        "Now we get rid of the data augmentation layers so that there is no modification of the image during the prediction.\n",
        "\n",
        "And we save it."
      ]
    },
    {
      "cell_type": "code",
      "execution_count": null,
      "metadata": {
        "id": "jTOMPDAeLAb4"
      },
      "outputs": [],
      "source": [
        "sequential_layer = model.get_layer(model.layers[-1].name)\n",
        "\n",
        "new_model = tf.keras.Sequential([\n",
        "    tf.keras.Input(shape=(32, 32, 3)),\n",
        "    sequential_layer\n",
        "])\n",
        "new_model.save(\"/content/drive/MyDrive/ia/cifar_10/xxx\", save_format=\"h5\")\n",
        "new_model.summary()"
      ]
    },
    {
      "cell_type": "markdown",
      "source": [
        "## Combining models to make an Ensemble"
      ],
      "metadata": {
        "id": "rsQ6zE7jeqIN"
      }
    },
    {
      "cell_type": "markdown",
      "source": [
        "It always interesting to see if combining the prediction of several models improve the quality of the prediction.\n",
        "\n",
        "As a result we create a function that will compute the prediction for the validation and test set giving a list of models that will compose the ensemble."
      ],
      "metadata": {
        "id": "l4kaY9WKfh4p"
      }
    },
    {
      "cell_type": "code",
      "source": [
        "def ensemble_prediction(models,valid,test,prep_func=[tf.keras.applications.vgg16.preprocess_input,tf.keras.applications.vgg19.preprocess_input,tf.keras.applications.efficientnet.preprocess_input]):\n",
        "  true_valid = valid[1]\n",
        "  true_test = test[1]\n",
        "  input_valid = [f(valid[0]) for f in prep_func]\n",
        "  input_test = [f(test[0]) for f in prep_func]\n",
        "  pred_valid = [models[i].predict(input_valid[i]) for i in range(len(models))]\n",
        "  pred_valid = np.stack(pred_valid, axis = 1)\n",
        "  pred_valid = np.sum(pred_valid, axis=1)/ len(models)\n",
        "  pred_test = [models[i].predict(input_test[i]) for i in range(len(models))]\n",
        "  pred_test = np.stack(pred_test, axis = 1)\n",
        "  pred_test = np.sum(pred_test, axis=1)/ len(models)\n",
        "  return [np.argmax(pred_valid,1),np.argmax(pred_test,1)]"
      ],
      "metadata": {
        "id": "cdouL3w6fTON"
      },
      "execution_count": null,
      "outputs": []
    },
    {
      "cell_type": "code",
      "execution_count": null,
      "metadata": {
        "colab": {
          "base_uri": "https://localhost:8080/"
        },
        "id": "Vgik-xwjQIHo",
        "outputId": "f22855cd-8bfc-4873-df7f-74dc7541c525"
      },
      "outputs": [
        {
          "name": "stdout",
          "output_type": "stream",
          "text": [
            "313/313 [==============================] - 149s 475ms/step\n",
            "313/313 [==============================] - 162s 519ms/step\n",
            "313/313 [==============================] - 159s 486ms/step\n",
            "313/313 [==============================] - 132s 421ms/step\n",
            "313/313 [==============================] - 155s 496ms/step\n",
            "313/313 [==============================] - 154s 491ms/step\n"
          ]
        }
      ],
      "source": [
        "predictions = ensemble_prediction([vgg16_v4,vgg19_v2,efficientnetb7_v4],[X_valid,y_valid],[X_test,y_test])"
      ]
    },
    {
      "cell_type": "code",
      "source": [
        "accuracy_val = accuracy_score(y_valid,predictions[0])\n",
        "accuracy_test = accuracy_score(y_test,predictions[1])\n",
        "print(accuracy_val,accuracy_test)"
      ],
      "metadata": {
        "colab": {
          "base_uri": "https://localhost:8080/"
        },
        "id": "uklT_IBjp6pu",
        "outputId": "8416da97-b2c3-4d17-d4cf-fe2164f52e37"
      },
      "execution_count": 19,
      "outputs": [
        {
          "output_type": "stream",
          "name": "stdout",
          "text": [
            "0.9126 0.9063\n"
          ]
        }
      ]
    },
    {
      "cell_type": "markdown",
      "source": [
        "# **Analyzing the results**"
      ],
      "metadata": {
        "id": "8AjH4lLUgsWd"
      }
    },
    {
      "cell_type": "markdown",
      "source": [
        "In the DataFrame below, we have written the result gotten from some of the tests we have performed. In the \"model\" column\", there are the names of the models that were trained. Except for the ensemble models, the version number (v1, v2, v3 or v4) correspond to the layout used (the layout meaning was explained previously in the file). We only put the models were the new version outperformed the previous one.\n"
      ],
      "metadata": {
        "id": "K3C5cBEkHbXh"
      }
    },
    {
      "cell_type": "code",
      "source": [
        "model_perf = pd.read_csv(\"/content/drive/MyDrive/ia/cifar_10/model_perf.csv\", index_col=0)\n",
        "model_perf"
      ],
      "metadata": {
        "colab": {
          "base_uri": "https://localhost:8080/",
          "height": 520
        },
        "id": "rqOopwW30O9R",
        "outputId": "502cd6a8-b33a-4e3a-d748-6862aa67e148"
      },
      "execution_count": 32,
      "outputs": [
        {
          "output_type": "execute_result",
          "data": {
            "text/plain": [
              "              model                      preloaded_model  validation_accuracy  \\\n",
              "0          vgg16_v1                                vgg16               0.8521   \n",
              "1          vgg19_v1                                vgg19               0.8562   \n",
              "2    resnet101V2_v1                          resnet101V2               0.7733   \n",
              "3    mobilenetV2_v1                          mobilenetV2               0.7535   \n",
              "4   efficientnet_v1                       efficientnetb7               0.8414   \n",
              "5       ensemble_v1  vgg16_v1, vgg19_v1, efficientnet_v1               0.8882   \n",
              "6   efficientnet_v2                       efficientnetb7               0.8716   \n",
              "7          vgg16_v3                                vgg16               0.8819   \n",
              "8          vgg19_v3                                vgg19               0.8759   \n",
              "9       ensemble_v2  vgg16_v3, vgg19_v3, efficientnet_v2               0.9056   \n",
              "10  efficientnet_v3                       efficientnetb7               0.8810   \n",
              "11      ensemble_v3  vgg16_v3, vgg19_v3, efficientnet_v3               0.9049   \n",
              "12  efficientnet_v4                       efficientnetb7               0.9046   \n",
              "13      ensemble_v4  vgg16_v3, vgg19_v3, efficientnet_v4               0.9126   \n",
              "14  ensemble_v4_bis            vgg16_v3, efficientnet_v4               0.9160   \n",
              "\n",
              "      layout  \n",
              "0   layout_1  \n",
              "1   layout_1  \n",
              "2   layout_1  \n",
              "3   layout_1  \n",
              "4   layout_1  \n",
              "5   ensemble  \n",
              "6   layout_2  \n",
              "7   layout_3  \n",
              "8   layout_3  \n",
              "9   ensemble  \n",
              "10  layout_3  \n",
              "11  ensemble  \n",
              "12  layout_4  \n",
              "13  ensemble  \n",
              "14  ensemble  "
            ],
            "text/html": [
              "\n",
              "  <div id=\"df-a72e6d04-4c78-40c4-9e2c-630cbe2a3c80\">\n",
              "    <div class=\"colab-df-container\">\n",
              "      <div>\n",
              "<style scoped>\n",
              "    .dataframe tbody tr th:only-of-type {\n",
              "        vertical-align: middle;\n",
              "    }\n",
              "\n",
              "    .dataframe tbody tr th {\n",
              "        vertical-align: top;\n",
              "    }\n",
              "\n",
              "    .dataframe thead th {\n",
              "        text-align: right;\n",
              "    }\n",
              "</style>\n",
              "<table border=\"1\" class=\"dataframe\">\n",
              "  <thead>\n",
              "    <tr style=\"text-align: right;\">\n",
              "      <th></th>\n",
              "      <th>model</th>\n",
              "      <th>preloaded_model</th>\n",
              "      <th>validation_accuracy</th>\n",
              "      <th>layout</th>\n",
              "    </tr>\n",
              "  </thead>\n",
              "  <tbody>\n",
              "    <tr>\n",
              "      <th>0</th>\n",
              "      <td>vgg16_v1</td>\n",
              "      <td>vgg16</td>\n",
              "      <td>0.8521</td>\n",
              "      <td>layout_1</td>\n",
              "    </tr>\n",
              "    <tr>\n",
              "      <th>1</th>\n",
              "      <td>vgg19_v1</td>\n",
              "      <td>vgg19</td>\n",
              "      <td>0.8562</td>\n",
              "      <td>layout_1</td>\n",
              "    </tr>\n",
              "    <tr>\n",
              "      <th>2</th>\n",
              "      <td>resnet101V2_v1</td>\n",
              "      <td>resnet101V2</td>\n",
              "      <td>0.7733</td>\n",
              "      <td>layout_1</td>\n",
              "    </tr>\n",
              "    <tr>\n",
              "      <th>3</th>\n",
              "      <td>mobilenetV2_v1</td>\n",
              "      <td>mobilenetV2</td>\n",
              "      <td>0.7535</td>\n",
              "      <td>layout_1</td>\n",
              "    </tr>\n",
              "    <tr>\n",
              "      <th>4</th>\n",
              "      <td>efficientnet_v1</td>\n",
              "      <td>efficientnetb7</td>\n",
              "      <td>0.8414</td>\n",
              "      <td>layout_1</td>\n",
              "    </tr>\n",
              "    <tr>\n",
              "      <th>5</th>\n",
              "      <td>ensemble_v1</td>\n",
              "      <td>vgg16_v1, vgg19_v1, efficientnet_v1</td>\n",
              "      <td>0.8882</td>\n",
              "      <td>ensemble</td>\n",
              "    </tr>\n",
              "    <tr>\n",
              "      <th>6</th>\n",
              "      <td>efficientnet_v2</td>\n",
              "      <td>efficientnetb7</td>\n",
              "      <td>0.8716</td>\n",
              "      <td>layout_2</td>\n",
              "    </tr>\n",
              "    <tr>\n",
              "      <th>7</th>\n",
              "      <td>vgg16_v3</td>\n",
              "      <td>vgg16</td>\n",
              "      <td>0.8819</td>\n",
              "      <td>layout_3</td>\n",
              "    </tr>\n",
              "    <tr>\n",
              "      <th>8</th>\n",
              "      <td>vgg19_v3</td>\n",
              "      <td>vgg19</td>\n",
              "      <td>0.8759</td>\n",
              "      <td>layout_3</td>\n",
              "    </tr>\n",
              "    <tr>\n",
              "      <th>9</th>\n",
              "      <td>ensemble_v2</td>\n",
              "      <td>vgg16_v3, vgg19_v3, efficientnet_v2</td>\n",
              "      <td>0.9056</td>\n",
              "      <td>ensemble</td>\n",
              "    </tr>\n",
              "    <tr>\n",
              "      <th>10</th>\n",
              "      <td>efficientnet_v3</td>\n",
              "      <td>efficientnetb7</td>\n",
              "      <td>0.8810</td>\n",
              "      <td>layout_3</td>\n",
              "    </tr>\n",
              "    <tr>\n",
              "      <th>11</th>\n",
              "      <td>ensemble_v3</td>\n",
              "      <td>vgg16_v3, vgg19_v3, efficientnet_v3</td>\n",
              "      <td>0.9049</td>\n",
              "      <td>ensemble</td>\n",
              "    </tr>\n",
              "    <tr>\n",
              "      <th>12</th>\n",
              "      <td>efficientnet_v4</td>\n",
              "      <td>efficientnetb7</td>\n",
              "      <td>0.9046</td>\n",
              "      <td>layout_4</td>\n",
              "    </tr>\n",
              "    <tr>\n",
              "      <th>13</th>\n",
              "      <td>ensemble_v4</td>\n",
              "      <td>vgg16_v3, vgg19_v3, efficientnet_v4</td>\n",
              "      <td>0.9126</td>\n",
              "      <td>ensemble</td>\n",
              "    </tr>\n",
              "    <tr>\n",
              "      <th>14</th>\n",
              "      <td>ensemble_v4_bis</td>\n",
              "      <td>vgg16_v3, efficientnet_v4</td>\n",
              "      <td>0.9160</td>\n",
              "      <td>ensemble</td>\n",
              "    </tr>\n",
              "  </tbody>\n",
              "</table>\n",
              "</div>\n",
              "      <button class=\"colab-df-convert\" onclick=\"convertToInteractive('df-a72e6d04-4c78-40c4-9e2c-630cbe2a3c80')\"\n",
              "              title=\"Convert this dataframe to an interactive table.\"\n",
              "              style=\"display:none;\">\n",
              "        \n",
              "  <svg xmlns=\"http://www.w3.org/2000/svg\" height=\"24px\"viewBox=\"0 0 24 24\"\n",
              "       width=\"24px\">\n",
              "    <path d=\"M0 0h24v24H0V0z\" fill=\"none\"/>\n",
              "    <path d=\"M18.56 5.44l.94 2.06.94-2.06 2.06-.94-2.06-.94-.94-2.06-.94 2.06-2.06.94zm-11 1L8.5 8.5l.94-2.06 2.06-.94-2.06-.94L8.5 2.5l-.94 2.06-2.06.94zm10 10l.94 2.06.94-2.06 2.06-.94-2.06-.94-.94-2.06-.94 2.06-2.06.94z\"/><path d=\"M17.41 7.96l-1.37-1.37c-.4-.4-.92-.59-1.43-.59-.52 0-1.04.2-1.43.59L10.3 9.45l-7.72 7.72c-.78.78-.78 2.05 0 2.83L4 21.41c.39.39.9.59 1.41.59.51 0 1.02-.2 1.41-.59l7.78-7.78 2.81-2.81c.8-.78.8-2.07 0-2.86zM5.41 20L4 18.59l7.72-7.72 1.47 1.35L5.41 20z\"/>\n",
              "  </svg>\n",
              "      </button>\n",
              "      \n",
              "  <style>\n",
              "    .colab-df-container {\n",
              "      display:flex;\n",
              "      flex-wrap:wrap;\n",
              "      gap: 12px;\n",
              "    }\n",
              "\n",
              "    .colab-df-convert {\n",
              "      background-color: #E8F0FE;\n",
              "      border: none;\n",
              "      border-radius: 50%;\n",
              "      cursor: pointer;\n",
              "      display: none;\n",
              "      fill: #1967D2;\n",
              "      height: 32px;\n",
              "      padding: 0 0 0 0;\n",
              "      width: 32px;\n",
              "    }\n",
              "\n",
              "    .colab-df-convert:hover {\n",
              "      background-color: #E2EBFA;\n",
              "      box-shadow: 0px 1px 2px rgba(60, 64, 67, 0.3), 0px 1px 3px 1px rgba(60, 64, 67, 0.15);\n",
              "      fill: #174EA6;\n",
              "    }\n",
              "\n",
              "    [theme=dark] .colab-df-convert {\n",
              "      background-color: #3B4455;\n",
              "      fill: #D2E3FC;\n",
              "    }\n",
              "\n",
              "    [theme=dark] .colab-df-convert:hover {\n",
              "      background-color: #434B5C;\n",
              "      box-shadow: 0px 1px 3px 1px rgba(0, 0, 0, 0.15);\n",
              "      filter: drop-shadow(0px 1px 2px rgba(0, 0, 0, 0.3));\n",
              "      fill: #FFFFFF;\n",
              "    }\n",
              "  </style>\n",
              "\n",
              "      <script>\n",
              "        const buttonEl =\n",
              "          document.querySelector('#df-a72e6d04-4c78-40c4-9e2c-630cbe2a3c80 button.colab-df-convert');\n",
              "        buttonEl.style.display =\n",
              "          google.colab.kernel.accessAllowed ? 'block' : 'none';\n",
              "\n",
              "        async function convertToInteractive(key) {\n",
              "          const element = document.querySelector('#df-a72e6d04-4c78-40c4-9e2c-630cbe2a3c80');\n",
              "          const dataTable =\n",
              "            await google.colab.kernel.invokeFunction('convertToInteractive',\n",
              "                                                     [key], {});\n",
              "          if (!dataTable) return;\n",
              "\n",
              "          const docLinkHtml = 'Like what you see? Visit the ' +\n",
              "            '<a target=\"_blank\" href=https://colab.research.google.com/notebooks/data_table.ipynb>data table notebook</a>'\n",
              "            + ' to learn more about interactive tables.';\n",
              "          element.innerHTML = '';\n",
              "          dataTable['output_type'] = 'display_data';\n",
              "          await google.colab.output.renderOutput(dataTable, element);\n",
              "          const docLink = document.createElement('div');\n",
              "          docLink.innerHTML = docLinkHtml;\n",
              "          element.appendChild(docLink);\n",
              "        }\n",
              "      </script>\n",
              "    </div>\n",
              "  </div>\n",
              "  "
            ]
          },
          "metadata": {},
          "execution_count": 32
        }
      ]
    },
    {
      "cell_type": "markdown",
      "source": [
        "During the first set of tests, we judged that it was not interesting to keep training models using the ResNet101V2 or the MobileNetV2 applications, as their results were not satisfactory enough.\n",
        "\n",
        "For the models using VGG16 and VGG19 applications, the best layout was the third. And for the models using EfficientNetB7, the best layout was the fourth.\n",
        "\n",
        "In the end, we put the 3 best models (vgg16_v3, vgg19_v3 and efficientnet_v4) into an ensemble (ensemble_v4) and tested its accuracy and obtained a validation accuracy of 0.9126 which was quite satisfactory. But the ensemble with only the vgg16_v3 model and the efficientnet_v4 model (ensemble_v4_bis) outperformed the former with a validation accuracy of 0.9160.\n",
        "\n",
        "Being slightly better but also lighter and faster, as there are only 2 models in this ensemble, we decided to keep the ensemble_v4_bis."
      ],
      "metadata": {
        "id": "fp0wFOcepQva"
      }
    },
    {
      "cell_type": "markdown",
      "source": [
        "The final step is to train the 3 model that will be kept (vgg16_v3, vgg19_v3, efficientnet_v4) with the validation data and then compute their prediction on the test set.\n",
        "\n",
        "Now that the models on which we will rely on for the classification task have been decided, we can complete their training with the validation data and using the test data to monitor the loss during the training and stopping it when there is no more progress.\n",
        "\n",
        "We get the following test accuracy values:"
      ],
      "metadata": {
        "id": "G6u-zihLJaq0"
      }
    },
    {
      "cell_type": "code",
      "source": [
        "model_fin = pd.read_csv(\"/content/drive/MyDrive/ia/cifar_10/model_fin.csv\", index_col=0)\n",
        "model_fin"
      ],
      "metadata": {
        "colab": {
          "base_uri": "https://localhost:8080/",
          "height": 143
        },
        "id": "094XxxVhxDOB",
        "outputId": "e4cffd67-5e88-4d6b-fa67-e345fc320080"
      },
      "execution_count": 17,
      "outputs": [
        {
          "output_type": "execute_result",
          "data": {
            "text/plain": [
              "             model  test_accuracy\n",
              "0         vgg16_v3         0.8850\n",
              "1  efficientnet_v4         0.9018\n",
              "2  ensemble_v4_bis         0.9121"
            ],
            "text/html": [
              "\n",
              "  <div id=\"df-bee7a3c8-137b-4ce1-b9c6-34f0498ef29c\">\n",
              "    <div class=\"colab-df-container\">\n",
              "      <div>\n",
              "<style scoped>\n",
              "    .dataframe tbody tr th:only-of-type {\n",
              "        vertical-align: middle;\n",
              "    }\n",
              "\n",
              "    .dataframe tbody tr th {\n",
              "        vertical-align: top;\n",
              "    }\n",
              "\n",
              "    .dataframe thead th {\n",
              "        text-align: right;\n",
              "    }\n",
              "</style>\n",
              "<table border=\"1\" class=\"dataframe\">\n",
              "  <thead>\n",
              "    <tr style=\"text-align: right;\">\n",
              "      <th></th>\n",
              "      <th>model</th>\n",
              "      <th>test_accuracy</th>\n",
              "    </tr>\n",
              "  </thead>\n",
              "  <tbody>\n",
              "    <tr>\n",
              "      <th>0</th>\n",
              "      <td>vgg16_v3</td>\n",
              "      <td>0.8850</td>\n",
              "    </tr>\n",
              "    <tr>\n",
              "      <th>1</th>\n",
              "      <td>efficientnet_v4</td>\n",
              "      <td>0.9018</td>\n",
              "    </tr>\n",
              "    <tr>\n",
              "      <th>2</th>\n",
              "      <td>ensemble_v4_bis</td>\n",
              "      <td>0.9121</td>\n",
              "    </tr>\n",
              "  </tbody>\n",
              "</table>\n",
              "</div>\n",
              "      <button class=\"colab-df-convert\" onclick=\"convertToInteractive('df-bee7a3c8-137b-4ce1-b9c6-34f0498ef29c')\"\n",
              "              title=\"Convert this dataframe to an interactive table.\"\n",
              "              style=\"display:none;\">\n",
              "        \n",
              "  <svg xmlns=\"http://www.w3.org/2000/svg\" height=\"24px\"viewBox=\"0 0 24 24\"\n",
              "       width=\"24px\">\n",
              "    <path d=\"M0 0h24v24H0V0z\" fill=\"none\"/>\n",
              "    <path d=\"M18.56 5.44l.94 2.06.94-2.06 2.06-.94-2.06-.94-.94-2.06-.94 2.06-2.06.94zm-11 1L8.5 8.5l.94-2.06 2.06-.94-2.06-.94L8.5 2.5l-.94 2.06-2.06.94zm10 10l.94 2.06.94-2.06 2.06-.94-2.06-.94-.94-2.06-.94 2.06-2.06.94z\"/><path d=\"M17.41 7.96l-1.37-1.37c-.4-.4-.92-.59-1.43-.59-.52 0-1.04.2-1.43.59L10.3 9.45l-7.72 7.72c-.78.78-.78 2.05 0 2.83L4 21.41c.39.39.9.59 1.41.59.51 0 1.02-.2 1.41-.59l7.78-7.78 2.81-2.81c.8-.78.8-2.07 0-2.86zM5.41 20L4 18.59l7.72-7.72 1.47 1.35L5.41 20z\"/>\n",
              "  </svg>\n",
              "      </button>\n",
              "      \n",
              "  <style>\n",
              "    .colab-df-container {\n",
              "      display:flex;\n",
              "      flex-wrap:wrap;\n",
              "      gap: 12px;\n",
              "    }\n",
              "\n",
              "    .colab-df-convert {\n",
              "      background-color: #E8F0FE;\n",
              "      border: none;\n",
              "      border-radius: 50%;\n",
              "      cursor: pointer;\n",
              "      display: none;\n",
              "      fill: #1967D2;\n",
              "      height: 32px;\n",
              "      padding: 0 0 0 0;\n",
              "      width: 32px;\n",
              "    }\n",
              "\n",
              "    .colab-df-convert:hover {\n",
              "      background-color: #E2EBFA;\n",
              "      box-shadow: 0px 1px 2px rgba(60, 64, 67, 0.3), 0px 1px 3px 1px rgba(60, 64, 67, 0.15);\n",
              "      fill: #174EA6;\n",
              "    }\n",
              "\n",
              "    [theme=dark] .colab-df-convert {\n",
              "      background-color: #3B4455;\n",
              "      fill: #D2E3FC;\n",
              "    }\n",
              "\n",
              "    [theme=dark] .colab-df-convert:hover {\n",
              "      background-color: #434B5C;\n",
              "      box-shadow: 0px 1px 3px 1px rgba(0, 0, 0, 0.15);\n",
              "      filter: drop-shadow(0px 1px 2px rgba(0, 0, 0, 0.3));\n",
              "      fill: #FFFFFF;\n",
              "    }\n",
              "  </style>\n",
              "\n",
              "      <script>\n",
              "        const buttonEl =\n",
              "          document.querySelector('#df-bee7a3c8-137b-4ce1-b9c6-34f0498ef29c button.colab-df-convert');\n",
              "        buttonEl.style.display =\n",
              "          google.colab.kernel.accessAllowed ? 'block' : 'none';\n",
              "\n",
              "        async function convertToInteractive(key) {\n",
              "          const element = document.querySelector('#df-bee7a3c8-137b-4ce1-b9c6-34f0498ef29c');\n",
              "          const dataTable =\n",
              "            await google.colab.kernel.invokeFunction('convertToInteractive',\n",
              "                                                     [key], {});\n",
              "          if (!dataTable) return;\n",
              "\n",
              "          const docLinkHtml = 'Like what you see? Visit the ' +\n",
              "            '<a target=\"_blank\" href=https://colab.research.google.com/notebooks/data_table.ipynb>data table notebook</a>'\n",
              "            + ' to learn more about interactive tables.';\n",
              "          element.innerHTML = '';\n",
              "          dataTable['output_type'] = 'display_data';\n",
              "          await google.colab.output.renderOutput(dataTable, element);\n",
              "          const docLink = document.createElement('div');\n",
              "          docLink.innerHTML = docLinkHtml;\n",
              "          element.appendChild(docLink);\n",
              "        }\n",
              "      </script>\n",
              "    </div>\n",
              "  </div>\n",
              "  "
            ]
          },
          "metadata": {},
          "execution_count": 17
        }
      ]
    },
    {
      "cell_type": "markdown",
      "source": [
        "It looks like the previous resluts gotten with the validation data are similar to the results with the test data. The final model (ensemble_v4_bis) can now be used to classify images to the 10 categories that it was trained on !"
      ],
      "metadata": {
        "id": "a2jygBMgxQJ2"
      }
    }
  ],
  "metadata": {
    "colab": {
      "provenance": [],
      "collapsed_sections": [
        "ggXHvbSMCiyl",
        "UKpbg6joG3OD",
        "fd9R8aiiLgIm",
        "RRkNTANsRRBZ",
        "rsQ6zE7jeqIN",
        "8AjH4lLUgsWd"
      ],
      "mount_file_id": "1tB-bgKRYX2lma93bT-PQxwKsLgiy_RX2",
      "authorship_tag": "ABX9TyPmEV0bGSmo9yv9/70n5o1p",
      "include_colab_link": true
    },
    "gpuClass": "standard",
    "kernelspec": {
      "display_name": "Python 3",
      "name": "python3"
    },
    "language_info": {
      "name": "python"
    },
    "accelerator": "GPU"
  },
  "nbformat": 4,
  "nbformat_minor": 0
}