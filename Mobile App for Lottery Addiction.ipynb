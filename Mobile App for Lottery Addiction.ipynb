{
 "cells": [
  {
   "cell_type": "code",
   "execution_count": 1,
   "id": "99f30994",
   "metadata": {},
   "outputs": [
    {
     "name": "stdout",
     "output_type": "stream",
     "text": [
      "C:\\Users\\debie\\Documents\\anaconda_space\n"
     ]
    }
   ],
   "source": [
    "%cd C:\\Users\\debie\\Documents\\anaconda_space"
   ]
  },
  {
   "cell_type": "code",
   "execution_count": 2,
   "id": "d999dde5",
   "metadata": {},
   "outputs": [],
   "source": [
    "import pandas as pd"
   ]
  },
  {
   "cell_type": "markdown",
   "id": "04a4b0ad",
   "metadata": {},
   "source": [
    "# Mobile App for Lottery Addiction"
   ]
  },
  {
   "cell_type": "markdown",
   "id": "be6fcc55",
   "metadata": {},
   "source": [
    "A medical institute that aims to prevent and treat gambling addictions wants to build a dedicated mobile app to help lottery addicts better estimate their chances of winning. The institute has a team of engineers that will build the app, but they need us to create the logical core of the app and calculate probabilities.\n",
    "\n",
    "For the first version of the app, they want us to focus on the 6/49 lottery (one of three national lottery games in Canada) and build functions that enable users to answer questions like:\n",
    "\n",
    "    What is the probability of winning the big prize with a single ticket?\n",
    "    What is the probability of winning the big prize if we play 40 different tickets (or any other number)?\n",
    "    What is the probability of having at least five (or four, or three, or two) winning numbers on a single ticket?\n",
    "\n",
    "The institute also wants us to consider historical data coming from the national 6/49 lottery game in Canada. The data set has data for 3,665 drawings, dating from 1982 to 2018."
   ]
  },
  {
   "cell_type": "markdown",
   "id": "ba429cd3",
   "metadata": {},
   "source": [
    "Throughout the project, we'll need to calculate repeatedly probabilities and combinations. As a consequence, we'll start by writing two functions that we'll use often:\n",
    "\n",
    "    A function that calculates factorials.\n",
    "    A function that calculates combinations.\n",
    "\n",
    "We'll write these functions now."
   ]
  },
  {
   "cell_type": "code",
   "execution_count": 3,
   "id": "97fbb7ab",
   "metadata": {},
   "outputs": [],
   "source": [
    "def factorial(n):\n",
    "    result = 1\n",
    "    for i in range(1,n+1):\n",
    "        result *= i\n",
    "    return result\n",
    "\n",
    "def combinations(n,k):\n",
    "    return factorial(n) / (factorial(k) * factorial(n-k))"
   ]
  },
  {
   "cell_type": "markdown",
   "id": "e019d378",
   "metadata": {},
   "source": [
    "In the 6/49 lottery, six numbers are drawn from a set of 49 numbers that range from 1 to 49. A player wins the big prize if the six numbers on their tickets match all the six numbers drawn. If a player has a ticket with the numbers {13, 22, 24, 27, 42, 44}, he only wins the big prize if the numbers drawn are {13, 22, 24, 27, 42, 44}. If only one number differs, he doesn't win.\n",
    "\n",
    "For the first version of the app, we want players to be able to calculate the probability of winning the big prize with the various numbers they play on a single ticket (for each ticket a player chooses six numbers out of 49). So, we'll start by building a function that calculates the probability of winning the big prize for any given ticket.\n",
    "\n",
    "We'll write a function that take a list of 6 numbers between 1 and 49 and return the probability to win the lottery."
   ]
  },
  {
   "cell_type": "code",
   "execution_count": 4,
   "id": "4ea0d887",
   "metadata": {},
   "outputs": [],
   "source": [
    "def one_ticket_probability(list):\n",
    "    if len(list) != 6:\n",
    "        return 'Error : the input is not correct.'\n",
    "    n_outcomes = combinations(49,6)\n",
    "    probability = (1 / n_outcomes) * 100\n",
    "    print(f'The probability to win is {probability:.7f} %')"
   ]
  },
  {
   "cell_type": "code",
   "execution_count": 5,
   "id": "73a54a87",
   "metadata": {},
   "outputs": [
    {
     "name": "stdout",
     "output_type": "stream",
     "text": [
      "The probability to win is 0.0000072 %\n"
     ]
    }
   ],
   "source": [
    "one_ticket_probability([1,2,3,4,5,6])"
   ]
  },
  {
   "cell_type": "markdown",
   "id": "6d38a257",
   "metadata": {},
   "source": [
    "For the first version of the app, however, users should also be able to compare their ticket against the historical lottery data in Canada and determine whether they would have ever won by now.\n",
    "\n",
    "We will use the historical data coming from the 6/49 lottery that is available through the following link: https://www.kaggle.com/datascienceai/lottery-dataset"
   ]
  },
  {
   "cell_type": "code",
   "execution_count": 6,
   "id": "9432538f",
   "metadata": {},
   "outputs": [
    {
     "name": "stdout",
     "output_type": "stream",
     "text": [
      "<class 'pandas.core.frame.DataFrame'>\n",
      "RangeIndex: 3665 entries, 0 to 3664\n",
      "Data columns (total 11 columns):\n",
      " #   Column           Non-Null Count  Dtype \n",
      "---  ------           --------------  ----- \n",
      " 0   PRODUCT          3665 non-null   int64 \n",
      " 1   DRAW NUMBER      3665 non-null   int64 \n",
      " 2   SEQUENCE NUMBER  3665 non-null   int64 \n",
      " 3   DRAW DATE        3665 non-null   object\n",
      " 4   NUMBER DRAWN 1   3665 non-null   int64 \n",
      " 5   NUMBER DRAWN 2   3665 non-null   int64 \n",
      " 6   NUMBER DRAWN 3   3665 non-null   int64 \n",
      " 7   NUMBER DRAWN 4   3665 non-null   int64 \n",
      " 8   NUMBER DRAWN 5   3665 non-null   int64 \n",
      " 9   NUMBER DRAWN 6   3665 non-null   int64 \n",
      " 10  BONUS NUMBER     3665 non-null   int64 \n",
      "dtypes: int64(10), object(1)\n",
      "memory usage: 315.1+ KB\n"
     ]
    }
   ],
   "source": [
    "lottery = pd.read_csv('649.csv')\n",
    "lottery.info()"
   ]
  },
  {
   "cell_type": "code",
   "execution_count": 7,
   "id": "2941b5e4",
   "metadata": {},
   "outputs": [
    {
     "data": {
      "text/html": [
       "<div>\n",
       "<style scoped>\n",
       "    .dataframe tbody tr th:only-of-type {\n",
       "        vertical-align: middle;\n",
       "    }\n",
       "\n",
       "    .dataframe tbody tr th {\n",
       "        vertical-align: top;\n",
       "    }\n",
       "\n",
       "    .dataframe thead th {\n",
       "        text-align: right;\n",
       "    }\n",
       "</style>\n",
       "<table border=\"1\" class=\"dataframe\">\n",
       "  <thead>\n",
       "    <tr style=\"text-align: right;\">\n",
       "      <th></th>\n",
       "      <th>PRODUCT</th>\n",
       "      <th>DRAW NUMBER</th>\n",
       "      <th>SEQUENCE NUMBER</th>\n",
       "      <th>DRAW DATE</th>\n",
       "      <th>NUMBER DRAWN 1</th>\n",
       "      <th>NUMBER DRAWN 2</th>\n",
       "      <th>NUMBER DRAWN 3</th>\n",
       "      <th>NUMBER DRAWN 4</th>\n",
       "      <th>NUMBER DRAWN 5</th>\n",
       "      <th>NUMBER DRAWN 6</th>\n",
       "      <th>BONUS NUMBER</th>\n",
       "    </tr>\n",
       "  </thead>\n",
       "  <tbody>\n",
       "    <tr>\n",
       "      <th>0</th>\n",
       "      <td>649</td>\n",
       "      <td>1</td>\n",
       "      <td>0</td>\n",
       "      <td>6/12/1982</td>\n",
       "      <td>3</td>\n",
       "      <td>11</td>\n",
       "      <td>12</td>\n",
       "      <td>14</td>\n",
       "      <td>41</td>\n",
       "      <td>43</td>\n",
       "      <td>13</td>\n",
       "    </tr>\n",
       "    <tr>\n",
       "      <th>1</th>\n",
       "      <td>649</td>\n",
       "      <td>2</td>\n",
       "      <td>0</td>\n",
       "      <td>6/19/1982</td>\n",
       "      <td>8</td>\n",
       "      <td>33</td>\n",
       "      <td>36</td>\n",
       "      <td>37</td>\n",
       "      <td>39</td>\n",
       "      <td>41</td>\n",
       "      <td>9</td>\n",
       "    </tr>\n",
       "    <tr>\n",
       "      <th>2</th>\n",
       "      <td>649</td>\n",
       "      <td>3</td>\n",
       "      <td>0</td>\n",
       "      <td>6/26/1982</td>\n",
       "      <td>1</td>\n",
       "      <td>6</td>\n",
       "      <td>23</td>\n",
       "      <td>24</td>\n",
       "      <td>27</td>\n",
       "      <td>39</td>\n",
       "      <td>34</td>\n",
       "    </tr>\n",
       "    <tr>\n",
       "      <th>3</th>\n",
       "      <td>649</td>\n",
       "      <td>4</td>\n",
       "      <td>0</td>\n",
       "      <td>7/3/1982</td>\n",
       "      <td>3</td>\n",
       "      <td>9</td>\n",
       "      <td>10</td>\n",
       "      <td>13</td>\n",
       "      <td>20</td>\n",
       "      <td>43</td>\n",
       "      <td>34</td>\n",
       "    </tr>\n",
       "    <tr>\n",
       "      <th>4</th>\n",
       "      <td>649</td>\n",
       "      <td>5</td>\n",
       "      <td>0</td>\n",
       "      <td>7/10/1982</td>\n",
       "      <td>5</td>\n",
       "      <td>14</td>\n",
       "      <td>21</td>\n",
       "      <td>31</td>\n",
       "      <td>34</td>\n",
       "      <td>47</td>\n",
       "      <td>45</td>\n",
       "    </tr>\n",
       "  </tbody>\n",
       "</table>\n",
       "</div>"
      ],
      "text/plain": [
       "   PRODUCT  DRAW NUMBER  SEQUENCE NUMBER  DRAW DATE  NUMBER DRAWN 1  \\\n",
       "0      649            1                0  6/12/1982               3   \n",
       "1      649            2                0  6/19/1982               8   \n",
       "2      649            3                0  6/26/1982               1   \n",
       "3      649            4                0   7/3/1982               3   \n",
       "4      649            5                0  7/10/1982               5   \n",
       "\n",
       "   NUMBER DRAWN 2  NUMBER DRAWN 3  NUMBER DRAWN 4  NUMBER DRAWN 5  \\\n",
       "0              11              12              14              41   \n",
       "1              33              36              37              39   \n",
       "2               6              23              24              27   \n",
       "3               9              10              13              20   \n",
       "4              14              21              31              34   \n",
       "\n",
       "   NUMBER DRAWN 6  BONUS NUMBER  \n",
       "0              43            13  \n",
       "1              41             9  \n",
       "2              39            34  \n",
       "3              43            34  \n",
       "4              47            45  "
      ]
     },
     "execution_count": 7,
     "metadata": {},
     "output_type": "execute_result"
    }
   ],
   "source": [
    "lottery.head()"
   ]
  },
  {
   "cell_type": "code",
   "execution_count": 8,
   "id": "d26a655d",
   "metadata": {},
   "outputs": [
    {
     "data": {
      "text/html": [
       "<div>\n",
       "<style scoped>\n",
       "    .dataframe tbody tr th:only-of-type {\n",
       "        vertical-align: middle;\n",
       "    }\n",
       "\n",
       "    .dataframe tbody tr th {\n",
       "        vertical-align: top;\n",
       "    }\n",
       "\n",
       "    .dataframe thead th {\n",
       "        text-align: right;\n",
       "    }\n",
       "</style>\n",
       "<table border=\"1\" class=\"dataframe\">\n",
       "  <thead>\n",
       "    <tr style=\"text-align: right;\">\n",
       "      <th></th>\n",
       "      <th>PRODUCT</th>\n",
       "      <th>DRAW NUMBER</th>\n",
       "      <th>SEQUENCE NUMBER</th>\n",
       "      <th>DRAW DATE</th>\n",
       "      <th>NUMBER DRAWN 1</th>\n",
       "      <th>NUMBER DRAWN 2</th>\n",
       "      <th>NUMBER DRAWN 3</th>\n",
       "      <th>NUMBER DRAWN 4</th>\n",
       "      <th>NUMBER DRAWN 5</th>\n",
       "      <th>NUMBER DRAWN 6</th>\n",
       "      <th>BONUS NUMBER</th>\n",
       "    </tr>\n",
       "  </thead>\n",
       "  <tbody>\n",
       "    <tr>\n",
       "      <th>3660</th>\n",
       "      <td>649</td>\n",
       "      <td>3587</td>\n",
       "      <td>0</td>\n",
       "      <td>6/6/2018</td>\n",
       "      <td>10</td>\n",
       "      <td>15</td>\n",
       "      <td>23</td>\n",
       "      <td>38</td>\n",
       "      <td>40</td>\n",
       "      <td>41</td>\n",
       "      <td>35</td>\n",
       "    </tr>\n",
       "    <tr>\n",
       "      <th>3661</th>\n",
       "      <td>649</td>\n",
       "      <td>3588</td>\n",
       "      <td>0</td>\n",
       "      <td>6/9/2018</td>\n",
       "      <td>19</td>\n",
       "      <td>25</td>\n",
       "      <td>31</td>\n",
       "      <td>36</td>\n",
       "      <td>46</td>\n",
       "      <td>47</td>\n",
       "      <td>26</td>\n",
       "    </tr>\n",
       "    <tr>\n",
       "      <th>3662</th>\n",
       "      <td>649</td>\n",
       "      <td>3589</td>\n",
       "      <td>0</td>\n",
       "      <td>6/13/2018</td>\n",
       "      <td>6</td>\n",
       "      <td>22</td>\n",
       "      <td>24</td>\n",
       "      <td>31</td>\n",
       "      <td>32</td>\n",
       "      <td>34</td>\n",
       "      <td>16</td>\n",
       "    </tr>\n",
       "    <tr>\n",
       "      <th>3663</th>\n",
       "      <td>649</td>\n",
       "      <td>3590</td>\n",
       "      <td>0</td>\n",
       "      <td>6/16/2018</td>\n",
       "      <td>2</td>\n",
       "      <td>15</td>\n",
       "      <td>21</td>\n",
       "      <td>31</td>\n",
       "      <td>38</td>\n",
       "      <td>49</td>\n",
       "      <td>8</td>\n",
       "    </tr>\n",
       "    <tr>\n",
       "      <th>3664</th>\n",
       "      <td>649</td>\n",
       "      <td>3591</td>\n",
       "      <td>0</td>\n",
       "      <td>6/20/2018</td>\n",
       "      <td>14</td>\n",
       "      <td>24</td>\n",
       "      <td>31</td>\n",
       "      <td>35</td>\n",
       "      <td>37</td>\n",
       "      <td>48</td>\n",
       "      <td>17</td>\n",
       "    </tr>\n",
       "  </tbody>\n",
       "</table>\n",
       "</div>"
      ],
      "text/plain": [
       "      PRODUCT  DRAW NUMBER  SEQUENCE NUMBER  DRAW DATE  NUMBER DRAWN 1  \\\n",
       "3660      649         3587                0   6/6/2018              10   \n",
       "3661      649         3588                0   6/9/2018              19   \n",
       "3662      649         3589                0  6/13/2018               6   \n",
       "3663      649         3590                0  6/16/2018               2   \n",
       "3664      649         3591                0  6/20/2018              14   \n",
       "\n",
       "      NUMBER DRAWN 2  NUMBER DRAWN 3  NUMBER DRAWN 4  NUMBER DRAWN 5  \\\n",
       "3660              15              23              38              40   \n",
       "3661              25              31              36              46   \n",
       "3662              22              24              31              32   \n",
       "3663              15              21              31              38   \n",
       "3664              24              31              35              37   \n",
       "\n",
       "      NUMBER DRAWN 6  BONUS NUMBER  \n",
       "3660              41            35  \n",
       "3661              47            26  \n",
       "3662              34            16  \n",
       "3663              49             8  \n",
       "3664              48            17  "
      ]
     },
     "execution_count": 8,
     "metadata": {},
     "output_type": "execute_result"
    }
   ],
   "source": [
    "lottery.tail()"
   ]
  },
  {
   "cell_type": "markdown",
   "id": "9ac3f4c5",
   "metadata": {},
   "source": [
    "The data set contains historical data for 3,665 drawings (each row shows data for a single drawing), dating from 1982 to 2018. For each drawing, we can find the six numbers drawn in the following six columns: NUMBER DRAWN 1, NUMBER DRAWN 2, NUMBER DRAWN 3, NUMBER DRAWN 4, NUMBER DRAWN 5 and NUMBER DRAWN 6."
   ]
  },
  {
   "cell_type": "markdown",
   "id": "798f39b5",
   "metadata": {},
   "source": [
    "We're going to write a function that will enable users to compare their ticket against the historical lottery data in Canada and determine whether they would have ever won by now."
   ]
  },
  {
   "cell_type": "code",
   "execution_count": 9,
   "id": "24934710",
   "metadata": {},
   "outputs": [],
   "source": [
    "def extract_numbers(row):\n",
    "    win_numb = []\n",
    "    col = ['NUMBER DRAWN 1','NUMBER DRAWN 2','NUMBER DRAWN 3','NUMBER DRAWN 4','NUMBER DRAWN 5','NUMBER DRAWN 6']\n",
    "    for i in col:\n",
    "        win_numb.append(row[i])\n",
    "    return set(win_numb)\n",
    "\n",
    "winning_history = lottery.apply(extract_numbers, axis = 1)"
   ]
  },
  {
   "cell_type": "code",
   "execution_count": 10,
   "id": "d3381ec7",
   "metadata": {},
   "outputs": [],
   "source": [
    "def check_historical_occurence(list,serie):\n",
    "    user_number = set(list)\n",
    "    times = 0\n",
    "    for w in serie:\n",
    "        if w == user_number:\n",
    "            times += 1\n",
    "    print(f'Yours numbers would have made you win {times} time(s) since 1982.')"
   ]
  },
  {
   "cell_type": "markdown",
   "id": "c4cf5240",
   "metadata": {},
   "source": [
    "Let's perform a test with random numbers:"
   ]
  },
  {
   "cell_type": "code",
   "execution_count": 11,
   "id": "e2f1f5a7",
   "metadata": {},
   "outputs": [
    {
     "name": "stdout",
     "output_type": "stream",
     "text": [
      "Yours numbers would have made you win 1 time(s) since 1982.\n"
     ]
    }
   ],
   "source": [
    "check_historical_occurence([15,2,21,31,38,49], winning_history)"
   ]
  },
  {
   "cell_type": "markdown",
   "id": "307f940b",
   "metadata": {},
   "source": [
    "We're now going to write a function that will allow the users to calculate the chances of winning for any number of different tickets.\n",
    "\n",
    "    The user will input the number of different tickets they want to play (without inputting the specific combinations they intend to play).\n",
    "    Our function will see an integer between 1 and 13,983,816 (the maximum number of different tickets).\n",
    "    The function should print information about the probability of winning the big prize depending on the number of different tickets played.\n"
   ]
  },
  {
   "cell_type": "code",
   "execution_count": 12,
   "id": "ad636701",
   "metadata": {},
   "outputs": [],
   "source": [
    "def multi_ticket_probability(number_ticket):\n",
    "    n_total_outcomes = combinations(49,6)\n",
    "    probability = (number_ticket / n_total_outcomes) * 100\n",
    "    if number_ticket == 1:\n",
    "        print(f'The probability to win with {number_ticket} ticket is {probability:.7f} %')\n",
    "    else:\n",
    "        print(f'The probability to win with {number_ticket} tickets is {probability:.7f} %')"
   ]
  },
  {
   "cell_type": "code",
   "execution_count": 13,
   "id": "7f79f7d2",
   "metadata": {},
   "outputs": [
    {
     "name": "stdout",
     "output_type": "stream",
     "text": [
      "The probability to win with 1 ticket is 0.0000072 %\n",
      "The probability to win with 10 tickets is 0.0000715 %\n",
      "The probability to win with 100 tickets is 0.0007151 %\n",
      "The probability to win with 10000 tickets is 0.0715112 %\n",
      "The probability to win with 1000000 tickets is 7.1511238 %\n",
      "The probability to win with 6991908 tickets is 50.0000000 %\n",
      "The probability to win with 13983816 tickets is 100.0000000 %\n"
     ]
    }
   ],
   "source": [
    "test_list = [1, 10, 100, 10000, 1000000, 6991908, 13983816]\n",
    "for n in test_list:\n",
    "    multi_ticket_probability(n)"
   ]
  },
  {
   "cell_type": "markdown",
   "id": "44ca714b",
   "metadata": {},
   "source": [
    "In most 6/49 lotteries there are smaller prizes if a player's ticket match two, three, four, or five of the six numbers drawn. As a consequence, the users might be interested in knowing the probability of having two, three, four, or five winning numbers.\n",
    "\n",
    "\n",
    "    Inside the app, the user inputs:\n",
    "        six different numbers from 1 to 49; and\n",
    "        an integer between 2 and 5 that represents the number of winning numbers expected\n",
    "    Our function prints information about the probability of having the inputted number of winning numbers.\n"
   ]
  },
  {
   "cell_type": "code",
   "execution_count": 14,
   "id": "52765c83",
   "metadata": {},
   "outputs": [],
   "source": [
    "def probability_less_6(good_num):\n",
    "    if good_num < 2 or good_num > 5:\n",
    "        return 'Error: the number should be between 2 and 5.'\n",
    "    n_comb = combinations(6,good_num)\n",
    "    n_comb2 = combinations(49 - good_num ,6 - good_num) - 1\n",
    "    n_tot_comb = n_comb * n_comb2\n",
    "    probability = n_tot_comb / combinations(49, 6)\n",
    "    print(f'The probability to win with {good_num} correct numbers is {probability:.7f} %')"
   ]
  },
  {
   "cell_type": "code",
   "execution_count": 15,
   "id": "ba78d957",
   "metadata": {},
   "outputs": [
    {
     "name": "stdout",
     "output_type": "stream",
     "text": [
      "The probability to win with 2 correct numbers is 0.1913255 %\n",
      "The probability to win with 3 correct numbers is 0.0217094 %\n",
      "The probability to win with 4 correct numbers is 0.0010609 %\n",
      "The probability to win with 5 correct numbers is 0.0000184 %\n"
     ]
    }
   ],
   "source": [
    "test_list2 = [2, 3, 4, 5]\n",
    "for n in test_list2:\n",
    "    probability_less_6(n)"
   ]
  },
  {
   "cell_type": "markdown",
   "id": "2b2cadf0",
   "metadata": {},
   "source": [
    "And with this function we have answer all the needs of the medical institue which wanted to developp the application."
   ]
  }
 ],
 "metadata": {
  "kernelspec": {
   "display_name": "Python 3 (ipykernel)",
   "language": "python",
   "name": "python3"
  },
  "language_info": {
   "codemirror_mode": {
    "name": "ipython",
    "version": 3
   },
   "file_extension": ".py",
   "mimetype": "text/x-python",
   "name": "python",
   "nbconvert_exporter": "python",
   "pygments_lexer": "ipython3",
   "version": "3.9.7"
  }
 },
 "nbformat": 4,
 "nbformat_minor": 5
}
