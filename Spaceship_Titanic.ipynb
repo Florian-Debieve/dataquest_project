{
  "cells": [
    {
      "cell_type": "markdown",
      "metadata": {
        "id": "view-in-github",
        "colab_type": "text"
      },
      "source": [
        "<a href=\"https://colab.research.google.com/github/Florian-Debieve/datascience_projects/blob/main/Spaceship_Titanic.ipynb\" target=\"_parent\"><img src=\"https://colab.research.google.com/assets/colab-badge.svg\" alt=\"Open In Colab\"/></a>"
      ]
    },
    {
      "cell_type": "code",
      "execution_count": null,
      "metadata": {
        "id": "8pxUOuFxuyA-"
      },
      "outputs": [],
      "source": [
        "import sys\n",
        "\n",
        "assert sys.version_info >= (3, 7)\n",
        "\n",
        "from packaging import version\n",
        "import sklearn\n",
        "\n",
        "assert version.parse(sklearn.__version__) >= version.parse(\"1.0.1\")"
      ]
    },
    {
      "cell_type": "code",
      "execution_count": null,
      "metadata": {
        "id": "YTpBpTf5u4NB"
      },
      "outputs": [],
      "source": [
        "import numpy as np\n",
        "import pandas as pd\n",
        "import matplotlib.pyplot as plt\n",
        "\n",
        "import tensorflow as tf\n",
        "\n",
        "assert version.parse(tf.__version__) >= version.parse(\"2.8.0\")"
      ]
    },
    {
      "cell_type": "code",
      "execution_count": null,
      "metadata": {
        "colab": {
          "base_uri": "https://localhost:8080/",
          "height": 108
        },
        "id": "kGaTBpAsu6ai",
        "outputId": "de3ad686-103b-45e8-e530-4746ecb45ce1"
      },
      "outputs": [
        {
          "output_type": "display_data",
          "data": {
            "text/plain": [
              "<IPython.core.display.HTML object>"
            ],
            "text/html": [
              "\n",
              "     <input type=\"file\" id=\"files-590e0d95-b54b-4d82-add7-456718d6bbf0\" name=\"files[]\" multiple disabled\n",
              "        style=\"border:none\" />\n",
              "     <output id=\"result-590e0d95-b54b-4d82-add7-456718d6bbf0\">\n",
              "      Upload widget is only available when the cell has been executed in the\n",
              "      current browser session. Please rerun this cell to enable.\n",
              "      </output>\n",
              "      <script>// Copyright 2017 Google LLC\n",
              "//\n",
              "// Licensed under the Apache License, Version 2.0 (the \"License\");\n",
              "// you may not use this file except in compliance with the License.\n",
              "// You may obtain a copy of the License at\n",
              "//\n",
              "//      http://www.apache.org/licenses/LICENSE-2.0\n",
              "//\n",
              "// Unless required by applicable law or agreed to in writing, software\n",
              "// distributed under the License is distributed on an \"AS IS\" BASIS,\n",
              "// WITHOUT WARRANTIES OR CONDITIONS OF ANY KIND, either express or implied.\n",
              "// See the License for the specific language governing permissions and\n",
              "// limitations under the License.\n",
              "\n",
              "/**\n",
              " * @fileoverview Helpers for google.colab Python module.\n",
              " */\n",
              "(function(scope) {\n",
              "function span(text, styleAttributes = {}) {\n",
              "  const element = document.createElement('span');\n",
              "  element.textContent = text;\n",
              "  for (const key of Object.keys(styleAttributes)) {\n",
              "    element.style[key] = styleAttributes[key];\n",
              "  }\n",
              "  return element;\n",
              "}\n",
              "\n",
              "// Max number of bytes which will be uploaded at a time.\n",
              "const MAX_PAYLOAD_SIZE = 100 * 1024;\n",
              "\n",
              "function _uploadFiles(inputId, outputId) {\n",
              "  const steps = uploadFilesStep(inputId, outputId);\n",
              "  const outputElement = document.getElementById(outputId);\n",
              "  // Cache steps on the outputElement to make it available for the next call\n",
              "  // to uploadFilesContinue from Python.\n",
              "  outputElement.steps = steps;\n",
              "\n",
              "  return _uploadFilesContinue(outputId);\n",
              "}\n",
              "\n",
              "// This is roughly an async generator (not supported in the browser yet),\n",
              "// where there are multiple asynchronous steps and the Python side is going\n",
              "// to poll for completion of each step.\n",
              "// This uses a Promise to block the python side on completion of each step,\n",
              "// then passes the result of the previous step as the input to the next step.\n",
              "function _uploadFilesContinue(outputId) {\n",
              "  const outputElement = document.getElementById(outputId);\n",
              "  const steps = outputElement.steps;\n",
              "\n",
              "  const next = steps.next(outputElement.lastPromiseValue);\n",
              "  return Promise.resolve(next.value.promise).then((value) => {\n",
              "    // Cache the last promise value to make it available to the next\n",
              "    // step of the generator.\n",
              "    outputElement.lastPromiseValue = value;\n",
              "    return next.value.response;\n",
              "  });\n",
              "}\n",
              "\n",
              "/**\n",
              " * Generator function which is called between each async step of the upload\n",
              " * process.\n",
              " * @param {string} inputId Element ID of the input file picker element.\n",
              " * @param {string} outputId Element ID of the output display.\n",
              " * @return {!Iterable<!Object>} Iterable of next steps.\n",
              " */\n",
              "function* uploadFilesStep(inputId, outputId) {\n",
              "  const inputElement = document.getElementById(inputId);\n",
              "  inputElement.disabled = false;\n",
              "\n",
              "  const outputElement = document.getElementById(outputId);\n",
              "  outputElement.innerHTML = '';\n",
              "\n",
              "  const pickedPromise = new Promise((resolve) => {\n",
              "    inputElement.addEventListener('change', (e) => {\n",
              "      resolve(e.target.files);\n",
              "    });\n",
              "  });\n",
              "\n",
              "  const cancel = document.createElement('button');\n",
              "  inputElement.parentElement.appendChild(cancel);\n",
              "  cancel.textContent = 'Cancel upload';\n",
              "  const cancelPromise = new Promise((resolve) => {\n",
              "    cancel.onclick = () => {\n",
              "      resolve(null);\n",
              "    };\n",
              "  });\n",
              "\n",
              "  // Wait for the user to pick the files.\n",
              "  const files = yield {\n",
              "    promise: Promise.race([pickedPromise, cancelPromise]),\n",
              "    response: {\n",
              "      action: 'starting',\n",
              "    }\n",
              "  };\n",
              "\n",
              "  cancel.remove();\n",
              "\n",
              "  // Disable the input element since further picks are not allowed.\n",
              "  inputElement.disabled = true;\n",
              "\n",
              "  if (!files) {\n",
              "    return {\n",
              "      response: {\n",
              "        action: 'complete',\n",
              "      }\n",
              "    };\n",
              "  }\n",
              "\n",
              "  for (const file of files) {\n",
              "    const li = document.createElement('li');\n",
              "    li.append(span(file.name, {fontWeight: 'bold'}));\n",
              "    li.append(span(\n",
              "        `(${file.type || 'n/a'}) - ${file.size} bytes, ` +\n",
              "        `last modified: ${\n",
              "            file.lastModifiedDate ? file.lastModifiedDate.toLocaleDateString() :\n",
              "                                    'n/a'} - `));\n",
              "    const percent = span('0% done');\n",
              "    li.appendChild(percent);\n",
              "\n",
              "    outputElement.appendChild(li);\n",
              "\n",
              "    const fileDataPromise = new Promise((resolve) => {\n",
              "      const reader = new FileReader();\n",
              "      reader.onload = (e) => {\n",
              "        resolve(e.target.result);\n",
              "      };\n",
              "      reader.readAsArrayBuffer(file);\n",
              "    });\n",
              "    // Wait for the data to be ready.\n",
              "    let fileData = yield {\n",
              "      promise: fileDataPromise,\n",
              "      response: {\n",
              "        action: 'continue',\n",
              "      }\n",
              "    };\n",
              "\n",
              "    // Use a chunked sending to avoid message size limits. See b/62115660.\n",
              "    let position = 0;\n",
              "    do {\n",
              "      const length = Math.min(fileData.byteLength - position, MAX_PAYLOAD_SIZE);\n",
              "      const chunk = new Uint8Array(fileData, position, length);\n",
              "      position += length;\n",
              "\n",
              "      const base64 = btoa(String.fromCharCode.apply(null, chunk));\n",
              "      yield {\n",
              "        response: {\n",
              "          action: 'append',\n",
              "          file: file.name,\n",
              "          data: base64,\n",
              "        },\n",
              "      };\n",
              "\n",
              "      let percentDone = fileData.byteLength === 0 ?\n",
              "          100 :\n",
              "          Math.round((position / fileData.byteLength) * 100);\n",
              "      percent.textContent = `${percentDone}% done`;\n",
              "\n",
              "    } while (position < fileData.byteLength);\n",
              "  }\n",
              "\n",
              "  // All done.\n",
              "  yield {\n",
              "    response: {\n",
              "      action: 'complete',\n",
              "    }\n",
              "  };\n",
              "}\n",
              "\n",
              "scope.google = scope.google || {};\n",
              "scope.google.colab = scope.google.colab || {};\n",
              "scope.google.colab._files = {\n",
              "  _uploadFiles,\n",
              "  _uploadFilesContinue,\n",
              "};\n",
              "})(self);\n",
              "</script> "
            ]
          },
          "metadata": {}
        },
        {
          "output_type": "stream",
          "name": "stdout",
          "text": [
            "Saving spaceship_test.csv to spaceship_test.csv\n",
            "Saving spaceship_train.csv to spaceship_train.csv\n"
          ]
        }
      ],
      "source": [
        "from google.colab import files\n",
        "uploaded = files.upload()"
      ]
    },
    {
      "cell_type": "markdown",
      "source": [
        "Here we'll participate in a Kaggle competiton: the Spaceship Titanic competiton https://www.kaggle.com/competitions/spaceship-titanic/\n",
        "\n",
        "Welcome to the year 2912, where your data science skills are needed to solve a cosmic mystery. We've received a transmission from four lightyears away and things aren't looking good.\n",
        "\n",
        "The Spaceship Titanic was an interstellar passenger liner launched a month ago. With almost 13,000 passengers on board, the vessel set out on its maiden voyage transporting emigrants from our solar system to three newly habitable exoplanets orbiting nearby stars.\n",
        "\n",
        "While rounding Alpha Centauri en route to its first destination—the torrid 55 Cancri E—the unwary Spaceship Titanic collided with a spacetime anomaly hidden within a dust cloud. Sadly, it met a similar fate as its namesake from 1000 years before. Though the ship stayed intact, almost half of the passengers were transported to an alternate dimension!\n",
        "\n",
        "To help rescue crews and retrieve the lost passengers, we are challenged to predict which passengers were transported by the anomaly using records recovered from the spaceship’s damaged computer system."
      ],
      "metadata": {
        "id": "hOA8vVri0CVW"
      }
    },
    {
      "cell_type": "code",
      "execution_count": null,
      "metadata": {
        "id": "T152W-OkvhO8"
      },
      "outputs": [],
      "source": [
        "train = pd.read_csv('spaceship_train.csv')\n",
        "test = pd.read_csv('spaceship_test.csv')"
      ]
    },
    {
      "cell_type": "code",
      "execution_count": null,
      "metadata": {
        "colab": {
          "base_uri": "https://localhost:8080/",
          "height": 206
        },
        "id": "YPq8fN9mxzfs",
        "outputId": "52b860ad-ca41-41e2-96c0-2745df937485"
      },
      "outputs": [
        {
          "output_type": "execute_result",
          "data": {
            "text/plain": [
              "  PassengerId HomePlanet CryoSleep  Cabin  Destination   Age    VIP  \\\n",
              "0     0001_01     Europa     False  B/0/P  TRAPPIST-1e  39.0  False   \n",
              "1     0002_01      Earth     False  F/0/S  TRAPPIST-1e  24.0  False   \n",
              "2     0003_01     Europa     False  A/0/S  TRAPPIST-1e  58.0   True   \n",
              "3     0003_02     Europa     False  A/0/S  TRAPPIST-1e  33.0  False   \n",
              "4     0004_01      Earth     False  F/1/S  TRAPPIST-1e  16.0  False   \n",
              "\n",
              "   RoomService  FoodCourt  ShoppingMall     Spa  VRDeck               Name  \\\n",
              "0          0.0        0.0           0.0     0.0     0.0    Maham Ofracculy   \n",
              "1        109.0        9.0          25.0   549.0    44.0       Juanna Vines   \n",
              "2         43.0     3576.0           0.0  6715.0    49.0      Altark Susent   \n",
              "3          0.0     1283.0         371.0  3329.0   193.0       Solam Susent   \n",
              "4        303.0       70.0         151.0   565.0     2.0  Willy Santantines   \n",
              "\n",
              "   Transported  \n",
              "0        False  \n",
              "1         True  \n",
              "2        False  \n",
              "3        False  \n",
              "4         True  "
            ],
            "text/html": [
              "\n",
              "  <div id=\"df-73a2640a-3318-453d-a17d-15b6db24740e\">\n",
              "    <div class=\"colab-df-container\">\n",
              "      <div>\n",
              "<style scoped>\n",
              "    .dataframe tbody tr th:only-of-type {\n",
              "        vertical-align: middle;\n",
              "    }\n",
              "\n",
              "    .dataframe tbody tr th {\n",
              "        vertical-align: top;\n",
              "    }\n",
              "\n",
              "    .dataframe thead th {\n",
              "        text-align: right;\n",
              "    }\n",
              "</style>\n",
              "<table border=\"1\" class=\"dataframe\">\n",
              "  <thead>\n",
              "    <tr style=\"text-align: right;\">\n",
              "      <th></th>\n",
              "      <th>PassengerId</th>\n",
              "      <th>HomePlanet</th>\n",
              "      <th>CryoSleep</th>\n",
              "      <th>Cabin</th>\n",
              "      <th>Destination</th>\n",
              "      <th>Age</th>\n",
              "      <th>VIP</th>\n",
              "      <th>RoomService</th>\n",
              "      <th>FoodCourt</th>\n",
              "      <th>ShoppingMall</th>\n",
              "      <th>Spa</th>\n",
              "      <th>VRDeck</th>\n",
              "      <th>Name</th>\n",
              "      <th>Transported</th>\n",
              "    </tr>\n",
              "  </thead>\n",
              "  <tbody>\n",
              "    <tr>\n",
              "      <th>0</th>\n",
              "      <td>0001_01</td>\n",
              "      <td>Europa</td>\n",
              "      <td>False</td>\n",
              "      <td>B/0/P</td>\n",
              "      <td>TRAPPIST-1e</td>\n",
              "      <td>39.0</td>\n",
              "      <td>False</td>\n",
              "      <td>0.0</td>\n",
              "      <td>0.0</td>\n",
              "      <td>0.0</td>\n",
              "      <td>0.0</td>\n",
              "      <td>0.0</td>\n",
              "      <td>Maham Ofracculy</td>\n",
              "      <td>False</td>\n",
              "    </tr>\n",
              "    <tr>\n",
              "      <th>1</th>\n",
              "      <td>0002_01</td>\n",
              "      <td>Earth</td>\n",
              "      <td>False</td>\n",
              "      <td>F/0/S</td>\n",
              "      <td>TRAPPIST-1e</td>\n",
              "      <td>24.0</td>\n",
              "      <td>False</td>\n",
              "      <td>109.0</td>\n",
              "      <td>9.0</td>\n",
              "      <td>25.0</td>\n",
              "      <td>549.0</td>\n",
              "      <td>44.0</td>\n",
              "      <td>Juanna Vines</td>\n",
              "      <td>True</td>\n",
              "    </tr>\n",
              "    <tr>\n",
              "      <th>2</th>\n",
              "      <td>0003_01</td>\n",
              "      <td>Europa</td>\n",
              "      <td>False</td>\n",
              "      <td>A/0/S</td>\n",
              "      <td>TRAPPIST-1e</td>\n",
              "      <td>58.0</td>\n",
              "      <td>True</td>\n",
              "      <td>43.0</td>\n",
              "      <td>3576.0</td>\n",
              "      <td>0.0</td>\n",
              "      <td>6715.0</td>\n",
              "      <td>49.0</td>\n",
              "      <td>Altark Susent</td>\n",
              "      <td>False</td>\n",
              "    </tr>\n",
              "    <tr>\n",
              "      <th>3</th>\n",
              "      <td>0003_02</td>\n",
              "      <td>Europa</td>\n",
              "      <td>False</td>\n",
              "      <td>A/0/S</td>\n",
              "      <td>TRAPPIST-1e</td>\n",
              "      <td>33.0</td>\n",
              "      <td>False</td>\n",
              "      <td>0.0</td>\n",
              "      <td>1283.0</td>\n",
              "      <td>371.0</td>\n",
              "      <td>3329.0</td>\n",
              "      <td>193.0</td>\n",
              "      <td>Solam Susent</td>\n",
              "      <td>False</td>\n",
              "    </tr>\n",
              "    <tr>\n",
              "      <th>4</th>\n",
              "      <td>0004_01</td>\n",
              "      <td>Earth</td>\n",
              "      <td>False</td>\n",
              "      <td>F/1/S</td>\n",
              "      <td>TRAPPIST-1e</td>\n",
              "      <td>16.0</td>\n",
              "      <td>False</td>\n",
              "      <td>303.0</td>\n",
              "      <td>70.0</td>\n",
              "      <td>151.0</td>\n",
              "      <td>565.0</td>\n",
              "      <td>2.0</td>\n",
              "      <td>Willy Santantines</td>\n",
              "      <td>True</td>\n",
              "    </tr>\n",
              "  </tbody>\n",
              "</table>\n",
              "</div>\n",
              "      <button class=\"colab-df-convert\" onclick=\"convertToInteractive('df-73a2640a-3318-453d-a17d-15b6db24740e')\"\n",
              "              title=\"Convert this dataframe to an interactive table.\"\n",
              "              style=\"display:none;\">\n",
              "        \n",
              "  <svg xmlns=\"http://www.w3.org/2000/svg\" height=\"24px\"viewBox=\"0 0 24 24\"\n",
              "       width=\"24px\">\n",
              "    <path d=\"M0 0h24v24H0V0z\" fill=\"none\"/>\n",
              "    <path d=\"M18.56 5.44l.94 2.06.94-2.06 2.06-.94-2.06-.94-.94-2.06-.94 2.06-2.06.94zm-11 1L8.5 8.5l.94-2.06 2.06-.94-2.06-.94L8.5 2.5l-.94 2.06-2.06.94zm10 10l.94 2.06.94-2.06 2.06-.94-2.06-.94-.94-2.06-.94 2.06-2.06.94z\"/><path d=\"M17.41 7.96l-1.37-1.37c-.4-.4-.92-.59-1.43-.59-.52 0-1.04.2-1.43.59L10.3 9.45l-7.72 7.72c-.78.78-.78 2.05 0 2.83L4 21.41c.39.39.9.59 1.41.59.51 0 1.02-.2 1.41-.59l7.78-7.78 2.81-2.81c.8-.78.8-2.07 0-2.86zM5.41 20L4 18.59l7.72-7.72 1.47 1.35L5.41 20z\"/>\n",
              "  </svg>\n",
              "      </button>\n",
              "      \n",
              "  <style>\n",
              "    .colab-df-container {\n",
              "      display:flex;\n",
              "      flex-wrap:wrap;\n",
              "      gap: 12px;\n",
              "    }\n",
              "\n",
              "    .colab-df-convert {\n",
              "      background-color: #E8F0FE;\n",
              "      border: none;\n",
              "      border-radius: 50%;\n",
              "      cursor: pointer;\n",
              "      display: none;\n",
              "      fill: #1967D2;\n",
              "      height: 32px;\n",
              "      padding: 0 0 0 0;\n",
              "      width: 32px;\n",
              "    }\n",
              "\n",
              "    .colab-df-convert:hover {\n",
              "      background-color: #E2EBFA;\n",
              "      box-shadow: 0px 1px 2px rgba(60, 64, 67, 0.3), 0px 1px 3px 1px rgba(60, 64, 67, 0.15);\n",
              "      fill: #174EA6;\n",
              "    }\n",
              "\n",
              "    [theme=dark] .colab-df-convert {\n",
              "      background-color: #3B4455;\n",
              "      fill: #D2E3FC;\n",
              "    }\n",
              "\n",
              "    [theme=dark] .colab-df-convert:hover {\n",
              "      background-color: #434B5C;\n",
              "      box-shadow: 0px 1px 3px 1px rgba(0, 0, 0, 0.15);\n",
              "      filter: drop-shadow(0px 1px 2px rgba(0, 0, 0, 0.3));\n",
              "      fill: #FFFFFF;\n",
              "    }\n",
              "  </style>\n",
              "\n",
              "      <script>\n",
              "        const buttonEl =\n",
              "          document.querySelector('#df-73a2640a-3318-453d-a17d-15b6db24740e button.colab-df-convert');\n",
              "        buttonEl.style.display =\n",
              "          google.colab.kernel.accessAllowed ? 'block' : 'none';\n",
              "\n",
              "        async function convertToInteractive(key) {\n",
              "          const element = document.querySelector('#df-73a2640a-3318-453d-a17d-15b6db24740e');\n",
              "          const dataTable =\n",
              "            await google.colab.kernel.invokeFunction('convertToInteractive',\n",
              "                                                     [key], {});\n",
              "          if (!dataTable) return;\n",
              "\n",
              "          const docLinkHtml = 'Like what you see? Visit the ' +\n",
              "            '<a target=\"_blank\" href=https://colab.research.google.com/notebooks/data_table.ipynb>data table notebook</a>'\n",
              "            + ' to learn more about interactive tables.';\n",
              "          element.innerHTML = '';\n",
              "          dataTable['output_type'] = 'display_data';\n",
              "          await google.colab.output.renderOutput(dataTable, element);\n",
              "          const docLink = document.createElement('div');\n",
              "          docLink.innerHTML = docLinkHtml;\n",
              "          element.appendChild(docLink);\n",
              "        }\n",
              "      </script>\n",
              "    </div>\n",
              "  </div>\n",
              "  "
            ]
          },
          "metadata": {},
          "execution_count": 5
        }
      ],
      "source": [
        "train.head()"
      ]
    },
    {
      "cell_type": "code",
      "source": [
        "train.info()"
      ],
      "metadata": {
        "colab": {
          "base_uri": "https://localhost:8080/"
        },
        "id": "2MFeLjPOt0U7",
        "outputId": "60941f55-f4d5-49bd-85f4-81c266360179"
      },
      "execution_count": null,
      "outputs": [
        {
          "output_type": "stream",
          "name": "stdout",
          "text": [
            "<class 'pandas.core.frame.DataFrame'>\n",
            "RangeIndex: 8693 entries, 0 to 8692\n",
            "Data columns (total 14 columns):\n",
            " #   Column        Non-Null Count  Dtype  \n",
            "---  ------        --------------  -----  \n",
            " 0   PassengerId   8693 non-null   object \n",
            " 1   HomePlanet    8492 non-null   object \n",
            " 2   CryoSleep     8476 non-null   object \n",
            " 3   Cabin         8494 non-null   object \n",
            " 4   Destination   8511 non-null   object \n",
            " 5   Age           8514 non-null   float64\n",
            " 6   VIP           8490 non-null   object \n",
            " 7   RoomService   8512 non-null   float64\n",
            " 8   FoodCourt     8510 non-null   float64\n",
            " 9   ShoppingMall  8485 non-null   float64\n",
            " 10  Spa           8510 non-null   float64\n",
            " 11  VRDeck        8505 non-null   float64\n",
            " 12  Name          8493 non-null   object \n",
            " 13  Transported   8693 non-null   bool   \n",
            "dtypes: bool(1), float64(6), object(7)\n",
            "memory usage: 891.5+ KB\n"
          ]
        }
      ]
    },
    {
      "cell_type": "markdown",
      "source": [
        "# **Data preprocessing**"
      ],
      "metadata": {
        "id": "J7iiFVq7xc2T"
      }
    },
    {
      "cell_type": "markdown",
      "source": [
        "There are several modification that needs to be performed on this dataset. First, the \"CryoSleep\" and \"VIP\" columns must be put as booleans. Then, the informations of the \"Cabin\" column have to be extracted. The \"Cabin\" column information is presented as a string containing the deck, the cabin number and on which side of the shipe it is located. With it, we will create 2 columns \"Deck\" and \"Side\", the cabin number isn't really useful here. Finally, a last column will be created using the \"PassengerId\" one. As this column shows us if a passenger is a part of a group (boarding with family, friend or else) or not, we'll make a column \"NbrGroup\" which will contains the number of person in the group that the passenger belongs to. If the passenger is alone, then the value in this column will be equal to \"1\"."
      ],
      "metadata": {
        "id": "URqNCeFx7l3R"
      }
    },
    {
      "cell_type": "code",
      "execution_count": null,
      "metadata": {
        "id": "CkAP2_WMJgmV"
      },
      "outputs": [],
      "source": [
        "def prep(df):\n",
        "  df[['CryoSleep','VIP']] = df[['CryoSleep','VIP']].astype('bool')\n",
        "  cabin_details = df['Cabin'].str.split('/', expand = True)\n",
        "  df['Deck'] = cabin_details[0]\n",
        "  df['Side'] = cabin_details[2]\n",
        "  id_details = df['PassengerId'].str.split('_', expand = True)\n",
        "  mapper = id_details.groupby(0).count().to_dict()[1]\n",
        "  df['NbrGroup'] = id_details[0]\n",
        "  df['NbrGroup'].replace(mapper, inplace=True)\n",
        "  return df"
      ]
    },
    {
      "cell_type": "code",
      "execution_count": null,
      "metadata": {
        "id": "p-ty5YstKiDR"
      },
      "outputs": [],
      "source": [
        "train_p = prep(train)\n",
        "train_p_X = train_p.drop('Transported', axis = 1)\n",
        "train_p_y = train_p['Transported']\n",
        "X_test = prep(test)\n",
        "\n",
        "from sklearn.model_selection import train_test_split\n",
        "\n",
        "X_train, X_valid, y_train, y_valid = train_test_split(train_p_X, train_p_y, test_size=0.2, random_state=15)\n"
      ]
    },
    {
      "cell_type": "code",
      "source": [
        "X_train.head()"
      ],
      "metadata": {
        "colab": {
          "base_uri": "https://localhost:8080/",
          "height": 206
        },
        "id": "8YeK9G8_trBD",
        "outputId": "4e5f4176-73de-4f2f-d5ee-58e29077b6f2"
      },
      "execution_count": null,
      "outputs": [
        {
          "output_type": "execute_result",
          "data": {
            "text/plain": [
              "     PassengerId HomePlanet  CryoSleep     Cabin  Destination   Age    VIP  \\\n",
              "7908     8451_01       Mars      False  F/1625/S  55 Cancri e  31.0  False   \n",
              "5598     5959_02     Europa       True   D/181/S  TRAPPIST-1e  34.0  False   \n",
              "3299     3543_03     Europa       True   C/116/P  TRAPPIST-1e  56.0  False   \n",
              "2696     2890_02     Europa       True    B/89/P  TRAPPIST-1e  36.0  False   \n",
              "593      0615_03      Earth       True    G/92/S  55 Cancri e   3.0  False   \n",
              "\n",
              "      RoomService  FoodCourt  ShoppingMall  Spa  VRDeck                Name  \\\n",
              "7908       1997.0        0.0           0.0  0.0     0.0           Ale Start   \n",
              "5598          0.0        0.0           0.0  0.0     0.0      Dabik Praugnox   \n",
              "3299          0.0        0.0           0.0  0.0     0.0  Elerops Holatirint   \n",
              "2696          0.0        0.0           0.0  0.0     0.0    Suhain Cattyried   \n",
              "593           0.0        0.0           0.0  0.0     0.0        Stance Hodes   \n",
              "\n",
              "     Deck Side  NbrGroup  \n",
              "7908    F    S         2  \n",
              "5598    D    S         2  \n",
              "3299    C    P         3  \n",
              "2696    B    P         2  \n",
              "593     G    S         3  "
            ],
            "text/html": [
              "\n",
              "  <div id=\"df-22695518-1731-4f5d-8dcf-9fade4bb919b\">\n",
              "    <div class=\"colab-df-container\">\n",
              "      <div>\n",
              "<style scoped>\n",
              "    .dataframe tbody tr th:only-of-type {\n",
              "        vertical-align: middle;\n",
              "    }\n",
              "\n",
              "    .dataframe tbody tr th {\n",
              "        vertical-align: top;\n",
              "    }\n",
              "\n",
              "    .dataframe thead th {\n",
              "        text-align: right;\n",
              "    }\n",
              "</style>\n",
              "<table border=\"1\" class=\"dataframe\">\n",
              "  <thead>\n",
              "    <tr style=\"text-align: right;\">\n",
              "      <th></th>\n",
              "      <th>PassengerId</th>\n",
              "      <th>HomePlanet</th>\n",
              "      <th>CryoSleep</th>\n",
              "      <th>Cabin</th>\n",
              "      <th>Destination</th>\n",
              "      <th>Age</th>\n",
              "      <th>VIP</th>\n",
              "      <th>RoomService</th>\n",
              "      <th>FoodCourt</th>\n",
              "      <th>ShoppingMall</th>\n",
              "      <th>Spa</th>\n",
              "      <th>VRDeck</th>\n",
              "      <th>Name</th>\n",
              "      <th>Deck</th>\n",
              "      <th>Side</th>\n",
              "      <th>NbrGroup</th>\n",
              "    </tr>\n",
              "  </thead>\n",
              "  <tbody>\n",
              "    <tr>\n",
              "      <th>7908</th>\n",
              "      <td>8451_01</td>\n",
              "      <td>Mars</td>\n",
              "      <td>False</td>\n",
              "      <td>F/1625/S</td>\n",
              "      <td>55 Cancri e</td>\n",
              "      <td>31.0</td>\n",
              "      <td>False</td>\n",
              "      <td>1997.0</td>\n",
              "      <td>0.0</td>\n",
              "      <td>0.0</td>\n",
              "      <td>0.0</td>\n",
              "      <td>0.0</td>\n",
              "      <td>Ale Start</td>\n",
              "      <td>F</td>\n",
              "      <td>S</td>\n",
              "      <td>2</td>\n",
              "    </tr>\n",
              "    <tr>\n",
              "      <th>5598</th>\n",
              "      <td>5959_02</td>\n",
              "      <td>Europa</td>\n",
              "      <td>True</td>\n",
              "      <td>D/181/S</td>\n",
              "      <td>TRAPPIST-1e</td>\n",
              "      <td>34.0</td>\n",
              "      <td>False</td>\n",
              "      <td>0.0</td>\n",
              "      <td>0.0</td>\n",
              "      <td>0.0</td>\n",
              "      <td>0.0</td>\n",
              "      <td>0.0</td>\n",
              "      <td>Dabik Praugnox</td>\n",
              "      <td>D</td>\n",
              "      <td>S</td>\n",
              "      <td>2</td>\n",
              "    </tr>\n",
              "    <tr>\n",
              "      <th>3299</th>\n",
              "      <td>3543_03</td>\n",
              "      <td>Europa</td>\n",
              "      <td>True</td>\n",
              "      <td>C/116/P</td>\n",
              "      <td>TRAPPIST-1e</td>\n",
              "      <td>56.0</td>\n",
              "      <td>False</td>\n",
              "      <td>0.0</td>\n",
              "      <td>0.0</td>\n",
              "      <td>0.0</td>\n",
              "      <td>0.0</td>\n",
              "      <td>0.0</td>\n",
              "      <td>Elerops Holatirint</td>\n",
              "      <td>C</td>\n",
              "      <td>P</td>\n",
              "      <td>3</td>\n",
              "    </tr>\n",
              "    <tr>\n",
              "      <th>2696</th>\n",
              "      <td>2890_02</td>\n",
              "      <td>Europa</td>\n",
              "      <td>True</td>\n",
              "      <td>B/89/P</td>\n",
              "      <td>TRAPPIST-1e</td>\n",
              "      <td>36.0</td>\n",
              "      <td>False</td>\n",
              "      <td>0.0</td>\n",
              "      <td>0.0</td>\n",
              "      <td>0.0</td>\n",
              "      <td>0.0</td>\n",
              "      <td>0.0</td>\n",
              "      <td>Suhain Cattyried</td>\n",
              "      <td>B</td>\n",
              "      <td>P</td>\n",
              "      <td>2</td>\n",
              "    </tr>\n",
              "    <tr>\n",
              "      <th>593</th>\n",
              "      <td>0615_03</td>\n",
              "      <td>Earth</td>\n",
              "      <td>True</td>\n",
              "      <td>G/92/S</td>\n",
              "      <td>55 Cancri e</td>\n",
              "      <td>3.0</td>\n",
              "      <td>False</td>\n",
              "      <td>0.0</td>\n",
              "      <td>0.0</td>\n",
              "      <td>0.0</td>\n",
              "      <td>0.0</td>\n",
              "      <td>0.0</td>\n",
              "      <td>Stance Hodes</td>\n",
              "      <td>G</td>\n",
              "      <td>S</td>\n",
              "      <td>3</td>\n",
              "    </tr>\n",
              "  </tbody>\n",
              "</table>\n",
              "</div>\n",
              "      <button class=\"colab-df-convert\" onclick=\"convertToInteractive('df-22695518-1731-4f5d-8dcf-9fade4bb919b')\"\n",
              "              title=\"Convert this dataframe to an interactive table.\"\n",
              "              style=\"display:none;\">\n",
              "        \n",
              "  <svg xmlns=\"http://www.w3.org/2000/svg\" height=\"24px\"viewBox=\"0 0 24 24\"\n",
              "       width=\"24px\">\n",
              "    <path d=\"M0 0h24v24H0V0z\" fill=\"none\"/>\n",
              "    <path d=\"M18.56 5.44l.94 2.06.94-2.06 2.06-.94-2.06-.94-.94-2.06-.94 2.06-2.06.94zm-11 1L8.5 8.5l.94-2.06 2.06-.94-2.06-.94L8.5 2.5l-.94 2.06-2.06.94zm10 10l.94 2.06.94-2.06 2.06-.94-2.06-.94-.94-2.06-.94 2.06-2.06.94z\"/><path d=\"M17.41 7.96l-1.37-1.37c-.4-.4-.92-.59-1.43-.59-.52 0-1.04.2-1.43.59L10.3 9.45l-7.72 7.72c-.78.78-.78 2.05 0 2.83L4 21.41c.39.39.9.59 1.41.59.51 0 1.02-.2 1.41-.59l7.78-7.78 2.81-2.81c.8-.78.8-2.07 0-2.86zM5.41 20L4 18.59l7.72-7.72 1.47 1.35L5.41 20z\"/>\n",
              "  </svg>\n",
              "      </button>\n",
              "      \n",
              "  <style>\n",
              "    .colab-df-container {\n",
              "      display:flex;\n",
              "      flex-wrap:wrap;\n",
              "      gap: 12px;\n",
              "    }\n",
              "\n",
              "    .colab-df-convert {\n",
              "      background-color: #E8F0FE;\n",
              "      border: none;\n",
              "      border-radius: 50%;\n",
              "      cursor: pointer;\n",
              "      display: none;\n",
              "      fill: #1967D2;\n",
              "      height: 32px;\n",
              "      padding: 0 0 0 0;\n",
              "      width: 32px;\n",
              "    }\n",
              "\n",
              "    .colab-df-convert:hover {\n",
              "      background-color: #E2EBFA;\n",
              "      box-shadow: 0px 1px 2px rgba(60, 64, 67, 0.3), 0px 1px 3px 1px rgba(60, 64, 67, 0.15);\n",
              "      fill: #174EA6;\n",
              "    }\n",
              "\n",
              "    [theme=dark] .colab-df-convert {\n",
              "      background-color: #3B4455;\n",
              "      fill: #D2E3FC;\n",
              "    }\n",
              "\n",
              "    [theme=dark] .colab-df-convert:hover {\n",
              "      background-color: #434B5C;\n",
              "      box-shadow: 0px 1px 3px 1px rgba(0, 0, 0, 0.15);\n",
              "      filter: drop-shadow(0px 1px 2px rgba(0, 0, 0, 0.3));\n",
              "      fill: #FFFFFF;\n",
              "    }\n",
              "  </style>\n",
              "\n",
              "      <script>\n",
              "        const buttonEl =\n",
              "          document.querySelector('#df-22695518-1731-4f5d-8dcf-9fade4bb919b button.colab-df-convert');\n",
              "        buttonEl.style.display =\n",
              "          google.colab.kernel.accessAllowed ? 'block' : 'none';\n",
              "\n",
              "        async function convertToInteractive(key) {\n",
              "          const element = document.querySelector('#df-22695518-1731-4f5d-8dcf-9fade4bb919b');\n",
              "          const dataTable =\n",
              "            await google.colab.kernel.invokeFunction('convertToInteractive',\n",
              "                                                     [key], {});\n",
              "          if (!dataTable) return;\n",
              "\n",
              "          const docLinkHtml = 'Like what you see? Visit the ' +\n",
              "            '<a target=\"_blank\" href=https://colab.research.google.com/notebooks/data_table.ipynb>data table notebook</a>'\n",
              "            + ' to learn more about interactive tables.';\n",
              "          element.innerHTML = '';\n",
              "          dataTable['output_type'] = 'display_data';\n",
              "          await google.colab.output.renderOutput(dataTable, element);\n",
              "          const docLink = document.createElement('div');\n",
              "          docLink.innerHTML = docLinkHtml;\n",
              "          element.appendChild(docLink);\n",
              "        }\n",
              "      </script>\n",
              "    </div>\n",
              "  </div>\n",
              "  "
            ]
          },
          "metadata": {},
          "execution_count": 9
        }
      ]
    },
    {
      "cell_type": "markdown",
      "source": [
        "Now, we make a pipeline to preprocess the data before using it to create a model."
      ],
      "metadata": {
        "id": "GP5awG8118Ro"
      }
    },
    {
      "cell_type": "code",
      "execution_count": null,
      "metadata": {
        "id": "sc9PhpSZBSZf"
      },
      "outputs": [],
      "source": [
        "from sklearn.pipeline import Pipeline\n",
        "from sklearn.impute import SimpleImputer\n",
        "from sklearn.preprocessing import OrdinalEncoder, OneHotEncoder, StandardScaler\n",
        "\n",
        "num_pipeline = Pipeline([\n",
        "        (\"imputer\", SimpleImputer(strategy=\"median\")),\n",
        "        (\"scaler\", StandardScaler())\n",
        "    ])\n",
        "\n",
        "cat_pipeline = Pipeline([\n",
        "      (\"ordinal_encoder\", OrdinalEncoder()),\n",
        "      (\"imputer\", SimpleImputer(strategy=\"most_frequent\")),\n",
        "      (\"one_hot_encoder\", OneHotEncoder(sparse=False))     \n",
        "    ])"
      ]
    },
    {
      "cell_type": "code",
      "execution_count": null,
      "metadata": {
        "id": "rSc_m23YJRL2"
      },
      "outputs": [],
      "source": [
        "from sklearn.compose import ColumnTransformer\n",
        "\n",
        "num_attribs = [\"Age\", \"RoomService\", \"FoodCourt\",\t\"ShoppingMall\",\t\"Spa\", \"VRDeck\", \"NbrGroup\"]\n",
        "cat_attribs = [\"HomePlanet\", \"CryoSleep\", \"Destination\", \"VIP\", \"Deck\",\t\"Side\"]\n",
        "\n",
        "prep_pipeline = ColumnTransformer([\n",
        "    (\"num\", num_pipeline, num_attribs),\n",
        "    (\"cat\", cat_pipeline, cat_attribs)\n",
        "])\n"
      ]
    },
    {
      "cell_type": "markdown",
      "source": [
        "And we apply the preprocessing:"
      ],
      "metadata": {
        "id": "boHwLDbr2TS-"
      }
    },
    {
      "cell_type": "code",
      "execution_count": null,
      "metadata": {
        "id": "hEA3NZNsNqh7"
      },
      "outputs": [],
      "source": [
        "X_train = prep_pipeline.fit_transform(X_train)\n",
        "X_valid = prep_pipeline.fit_transform(X_valid)\n",
        "X_test = prep_pipeline.fit_transform(X_test)"
      ]
    },
    {
      "cell_type": "markdown",
      "source": [
        "# **Random Forest**"
      ],
      "metadata": {
        "id": "OtM3IYjN27BU"
      }
    },
    {
      "cell_type": "markdown",
      "source": [
        "First, let's make a simple RandomForestClassifier model to see how it performs on the dataset."
      ],
      "metadata": {
        "id": "P6n5iKYx7sdF"
      }
    },
    {
      "cell_type": "code",
      "execution_count": 72,
      "metadata": {
        "colab": {
          "base_uri": "https://localhost:8080/"
        },
        "id": "J4WwBkMKN2c1",
        "outputId": "c2495b82-a672-4286-9b81-abd22dbdfb26"
      },
      "outputs": [
        {
          "output_type": "execute_result",
          "data": {
            "text/plain": [
              "RandomForestClassifier(random_state=15)"
            ]
          },
          "metadata": {},
          "execution_count": 72
        }
      ],
      "source": [
        "from sklearn.ensemble import RandomForestClassifier\n",
        "\n",
        "rf = RandomForestClassifier(random_state=15)\n",
        "\n",
        "rf.fit(X_train, y_train)"
      ]
    },
    {
      "cell_type": "code",
      "execution_count": 73,
      "metadata": {
        "colab": {
          "base_uri": "https://localhost:8080/"
        },
        "id": "EI7lvUYUOeWE",
        "outputId": "7f112d5b-e687-4acd-bb5e-7f3c2135388f"
      },
      "outputs": [
        {
          "output_type": "stream",
          "name": "stdout",
          "text": [
            "0.9679321253954558\n",
            "0.7872340425531915\n"
          ]
        }
      ],
      "source": [
        "from sklearn.metrics import accuracy_score\n",
        "\n",
        "y_pred = rf.predict(X_train)\n",
        "print(accuracy_score(y_train, y_pred))\n",
        "\n",
        "y_pred2 = rf.predict(X_valid)\n",
        "print(accuracy_score(y_valid, y_pred2))"
      ]
    },
    {
      "cell_type": "markdown",
      "source": [
        "Even if it is clearly overfitting, the accuracy on the validation set achieve a value of 0.787."
      ],
      "metadata": {
        "id": "ydqkQu8x3ENZ"
      }
    },
    {
      "cell_type": "code",
      "execution_count": 74,
      "metadata": {
        "colab": {
          "base_uri": "https://localhost:8080/"
        },
        "id": "_NjcvcNmI5J5",
        "outputId": "e1698d53-f16b-4611-844f-e1897819560f"
      },
      "outputs": [
        {
          "output_type": "execute_result",
          "data": {
            "text/plain": [
              "{'bootstrap': True,\n",
              " 'criterion': 'entropy',\n",
              " 'max_depth': 909,\n",
              " 'max_features': 'sqrt',\n",
              " 'min_samples_split': 9,\n",
              " 'n_estimators': 434}"
            ]
          },
          "metadata": {},
          "execution_count": 74
        }
      ],
      "source": [
        "from scipy.stats import randint\n",
        "from sklearn.model_selection import RandomizedSearchCV\n",
        "\n",
        "param_rand = {'n_estimators': randint(low=50, high=1000),\n",
        "              'min_samples_split': randint(low=2, high=10),\n",
        "              'max_depth': randint(low=1, high=1000),\n",
        "              'criterion': ['gini', 'entropy'],\n",
        "              'bootstrap': [True, False],\n",
        "              'max_features': ['auto', 'sqrt', 'log2', None]\n",
        "              }\n",
        "\n",
        "\n",
        "rand_search = RandomizedSearchCV(RandomForestClassifier(random_state=15), param_rand, cv=3,scoring='accuracy')\n",
        "\n",
        "rand_search.fit(X_train, y_train)\n",
        "rand_search.best_params_\n"
      ]
    },
    {
      "cell_type": "code",
      "source": [
        "y_pred = rand_search.best_estimator_.predict(X_train)\n",
        "print(accuracy_score(y_train, y_pred))\n",
        "\n",
        "y_pred2 = rand_search.best_estimator_.predict(X_valid)\n",
        "print(accuracy_score(y_valid, y_pred2))"
      ],
      "metadata": {
        "colab": {
          "base_uri": "https://localhost:8080/"
        },
        "id": "bQBXPI1gCXHJ",
        "outputId": "03f5399b-fb27-4ad0-846e-efe5de54375f"
      },
      "execution_count": 75,
      "outputs": [
        {
          "output_type": "stream",
          "name": "stdout",
          "text": [
            "0.9158757549611735\n",
            "0.7958596894767107\n"
          ]
        }
      ]
    },
    {
      "cell_type": "markdown",
      "source": [
        "We succeeded in improving the RandomForestClassifier model, it went from a validation accuracy of 0.787 to one of 0.796."
      ],
      "metadata": {
        "id": "2lnaMdY_7T-U"
      }
    },
    {
      "cell_type": "markdown",
      "source": [
        "# **Neural network**"
      ],
      "metadata": {
        "id": "p3bVrPZs8EMa"
      }
    },
    {
      "cell_type": "markdown",
      "source": [
        "Now, let's make a neural network.\n",
        "\n",
        "We create a callback to change the learning rate during training.\n",
        "\n",
        "It will be applied on 1 epoch and will allow us to plot the loss depending on the learning rate, as a result, we will be able to choose an adequat learning rate for the training."
      ],
      "metadata": {
        "id": "8lskawt78Ipq"
      }
    },
    {
      "cell_type": "code",
      "execution_count": null,
      "metadata": {
        "id": "h8nIBk5uPxRL"
      },
      "outputs": [],
      "source": [
        "K = tf.keras.backend\n",
        "\n",
        "class ExponentialLearningRate(tf.keras.callbacks.Callback):\n",
        "    def __init__(self, factor):\n",
        "        self.factor = factor\n",
        "        self.rates = []\n",
        "        self.losses = []\n",
        "    def on_batch_end(self, batch, logs):\n",
        "        self.rates.append(K.get_value(self.model.optimizer.learning_rate))\n",
        "        self.losses.append(logs[\"loss\"])\n",
        "        K.set_value(self.model.optimizer.learning_rate, self.model.optimizer.learning_rate * self.factor)"
      ]
    },
    {
      "cell_type": "markdown",
      "source": [
        "We start with a neural network with 2 hidden layers described below:"
      ],
      "metadata": {
        "id": "7TA6aK-373d3"
      }
    },
    {
      "cell_type": "code",
      "execution_count": null,
      "metadata": {
        "id": "bLdpZ21mT62A"
      },
      "outputs": [],
      "source": [
        "tf.keras.backend.clear_session()\n",
        "np.random.seed(15)\n",
        "tf.random.set_seed(15)\n",
        "\n",
        "model = tf.keras.Sequential([\n",
        "    tf.keras.layers.InputLayer(input_shape = [27,]),\n",
        "    tf.keras.layers.Dense(300, activation=\"relu\"),\n",
        "    tf.keras.layers.Dense(300, activation=\"relu\"),\n",
        "    tf.keras.layers.Dense(1, activation=\"sigmoid\")\n",
        "])"
      ]
    },
    {
      "cell_type": "code",
      "execution_count": null,
      "metadata": {
        "colab": {
          "base_uri": "https://localhost:8080/"
        },
        "id": "vji2oNmjajDy",
        "outputId": "a1947f4b-7549-4c72-d00a-437b46e3dea2"
      },
      "outputs": [
        {
          "output_type": "stream",
          "name": "stdout",
          "text": [
            "Model: \"sequential\"\n",
            "_________________________________________________________________\n",
            " Layer (type)                Output Shape              Param #   \n",
            "=================================================================\n",
            " dense (Dense)               (None, 300)               8400      \n",
            "                                                                 \n",
            " dense_1 (Dense)             (None, 300)               90300     \n",
            "                                                                 \n",
            " dense_2 (Dense)             (None, 1)                 301       \n",
            "                                                                 \n",
            "=================================================================\n",
            "Total params: 99,001\n",
            "Trainable params: 99,001\n",
            "Non-trainable params: 0\n",
            "_________________________________________________________________\n"
          ]
        }
      ],
      "source": [
        "model.summary()"
      ]
    },
    {
      "cell_type": "markdown",
      "source": [
        "Below, we are using the \"expon_lr\" callback to modify the learning rate during training as explained earlier.\n",
        "\n",
        "We choose a starting learning rate of 5e-6 and a factor of 1.081. It will make the learning rate varies from 5e-6 to approximately 120 during the 1 epoch the training will run."
      ],
      "metadata": {
        "id": "Jv543yGY3dFH"
      }
    },
    {
      "cell_type": "code",
      "execution_count": null,
      "metadata": {
        "colab": {
          "base_uri": "https://localhost:8080/"
        },
        "id": "lTiQ3TDYUx83",
        "outputId": "483a6931-20a5-445a-ae59-e26eb8a45050"
      },
      "outputs": [
        {
          "output_type": "stream",
          "name": "stdout",
          "text": [
            "218/218 [==============================] - 2s 4ms/step - loss: nan - accuracy: 0.5518 - val_loss: nan - val_accuracy: 0.5210\n"
          ]
        }
      ],
      "source": [
        "optimizer = tf.keras.optimizers.SGD(learning_rate=5e-6\n",
        "                                    )\n",
        "model.compile(loss=\"binary_crossentropy\", optimizer=optimizer,\n",
        "              metrics=[\"accuracy\"])\n",
        "expon_lr = ExponentialLearningRate(factor=1.081)\n",
        "\n",
        "history = model.fit(X_train, y_train, epochs=1,\n",
        "                    validation_data=(X_valid, y_valid)\n",
        "                    ,callbacks=[expon_lr]\n",
        "                    )"
      ]
    },
    {
      "cell_type": "code",
      "execution_count": null,
      "metadata": {
        "colab": {
          "base_uri": "https://localhost:8080/",
          "height": 300
        },
        "id": "1v9uKZM-VGQG",
        "outputId": "02a169ee-d00d-452b-cb19-3571cef808c0"
      },
      "outputs": [
        {
          "output_type": "execute_result",
          "data": {
            "text/plain": [
              "Text(0, 0.5, 'Loss')"
            ]
          },
          "metadata": {},
          "execution_count": 22
        },
        {
          "output_type": "display_data",
          "data": {
            "text/plain": [
              "<Figure size 432x288 with 1 Axes>"
            ],
            "image/png": "[encoded data removed]"
          },
          "metadata": {
            "needs_background": "light"
          }
        }
      ],
      "source": [
        "plt.plot(expon_lr.rates, expon_lr.losses)\n",
        "plt.gca().set_xscale('log')\n",
        "plt.axis([min(expon_lr.rates), max(expon_lr.rates), min(expon_lr.losses), expon_lr.losses[0]])\n",
        "plt.grid()\n",
        "plt.xlabel(\"Learning rate\")\n",
        "plt.ylabel(\"Loss\")"
      ]
    },
    {
      "cell_type": "markdown",
      "source": [
        "With the graph above we choose to use a learning rate equal to 1.\n",
        "\n",
        "We now make an early stopping callback that will stop the training if there is no more improvement of the validation loss with a patience of 5 epochs."
      ],
      "metadata": {
        "id": "XtrvlVqD9Si3"
      }
    },
    {
      "cell_type": "code",
      "execution_count": null,
      "metadata": {
        "id": "ELa_oB3PU8XD"
      },
      "outputs": [],
      "source": [
        "tf.keras.backend.clear_session()\n",
        "np.random.seed(15)\n",
        "tf.random.set_seed(15)\n",
        "\n",
        "model = tf.keras.Sequential([\n",
        "    tf.keras.layers.InputLayer(input_shape = [27,]),\n",
        "    tf.keras.layers.Dense(300, activation=\"relu\"),\n",
        "    tf.keras.layers.Dense(300, activation=\"relu\"),\n",
        "    tf.keras.layers.Dense(1, activation=\"sigmoid\")\n",
        "])"
      ]
    },
    {
      "cell_type": "code",
      "source": [
        "model.compile(\n",
        "    optimizer=tf.keras.optimizers.SGD(learning_rate=1),\n",
        "    loss = 'binary_crossentropy',\n",
        "    metrics=['accuracy']\n",
        ")\n",
        "\n",
        "early_stopping_cb = tf.keras.callbacks.EarlyStopping(patience=5,\n",
        "                                                     restore_best_weights=True)\n",
        "\n",
        "history = model.fit(X_train, y_train,\n",
        "                    epochs=30,\n",
        "                    validation_data=(X_valid, y_valid),\n",
        "                    callbacks=[early_stopping_cb\n",
        "                              ]\n",
        "                    )"
      ],
      "metadata": {
        "colab": {
          "base_uri": "https://localhost:8080/"
        },
        "id": "ZGd7ULMX9i9B",
        "outputId": "48590e34-a222-41a7-e075-7e04dd25b1bc"
      },
      "execution_count": null,
      "outputs": [
        {
          "output_type": "stream",
          "name": "stdout",
          "text": [
            "Epoch 1/30\n",
            "218/218 [==============================] - 1s 5ms/step - loss: 0.4665 - accuracy: 0.7692 - val_loss: 0.6383 - val_accuracy: 0.7096\n",
            "Epoch 2/30\n",
            "218/218 [==============================] - 1s 4ms/step - loss: 0.4301 - accuracy: 0.7954 - val_loss: 0.4148 - val_accuracy: 0.8039\n",
            "Epoch 3/30\n",
            "218/218 [==============================] - 1s 4ms/step - loss: 0.4188 - accuracy: 0.7947 - val_loss: 0.4244 - val_accuracy: 0.7970\n",
            "Epoch 4/30\n",
            "218/218 [==============================] - 1s 4ms/step - loss: 0.4145 - accuracy: 0.8004 - val_loss: 0.4291 - val_accuracy: 0.7947\n",
            "Epoch 5/30\n",
            "218/218 [==============================] - 1s 4ms/step - loss: 0.4087 - accuracy: 0.8074 - val_loss: 0.5500 - val_accuracy: 0.7217\n",
            "Epoch 6/30\n",
            "218/218 [==============================] - 1s 4ms/step - loss: 0.4060 - accuracy: 0.8057 - val_loss: 0.4400 - val_accuracy: 0.7711\n",
            "Epoch 7/30\n",
            "218/218 [==============================] - 1s 3ms/step - loss: 0.4037 - accuracy: 0.8056 - val_loss: 0.4455 - val_accuracy: 0.8010\n"
          ]
        }
      ]
    },
    {
      "cell_type": "markdown",
      "source": [
        "The accuracy on the validation data is of 0.8039 which is better than the RandomForestClassifier used earlier.\n",
        "\n",
        "We don't really know what parameters are the best to choose in order to get the best neural network. So let's write a script that will create neural network with random parameters and test them.\n",
        "\n",
        "It is possible to do that here because the dataset we got is relatively small, so it won't take a lot of time to test several models."
      ],
      "metadata": {
        "id": "ORrMfTAC-6O4"
      }
    },
    {
      "cell_type": "code",
      "source": [
        "if \"google.colab\" in sys.modules:\n",
        "    %pip install -q -U keras_tuner"
      ],
      "metadata": {
        "colab": {
          "base_uri": "https://localhost:8080/"
        },
        "id": "kjbK_RJuPNVq",
        "outputId": "cb81b7a8-655e-48c8-d6e7-c2a68aead9e5"
      },
      "execution_count": null,
      "outputs": [
        {
          "output_type": "stream",
          "name": "stdout",
          "text": [
            "\u001b[2K     \u001b[90m━━━━━━━━━━━━━━━━━━━━━━━━━━━━━━━━━━━━━━━\u001b[0m \u001b[32m168.1/168.1 KB\u001b[0m \u001b[31m9.5 MB/s\u001b[0m eta \u001b[36m0:00:00\u001b[0m\n",
            "\u001b[2K     \u001b[90m━━━━━━━━━━━━━━━━━━━━━━━━━━━━━━━━━━━━━━━━\u001b[0m \u001b[32m1.6/1.6 MB\u001b[0m \u001b[31m68.7 MB/s\u001b[0m eta \u001b[36m0:00:00\u001b[0m\n",
            "\u001b[?25h"
          ]
        }
      ]
    },
    {
      "cell_type": "code",
      "source": [
        "tf.keras.backend.clear_session()\n",
        "tf.random.set_seed(15)"
      ],
      "metadata": {
        "id": "mdJwfKS5-rN-"
      },
      "execution_count": null,
      "outputs": []
    },
    {
      "cell_type": "code",
      "execution_count": null,
      "metadata": {
        "colab": {
          "base_uri": "https://localhost:8080/"
        },
        "id": "bw7ldfFCA66m",
        "outputId": "8f639521-76c2-4581-d3aa-7e4b75d297df"
      },
      "outputs": [
        {
          "output_type": "stream",
          "name": "stdout",
          "text": [
            "Trial 20 Complete [00h 00m 42s]\n",
            "val_accuracy: 0.623346745967865\n",
            "\n",
            "Best val_accuracy So Far: 0.8119608759880066\n",
            "Total elapsed time: 00h 08m 00s\n"
          ]
        }
      ],
      "source": [
        "import keras_tuner as kt\n",
        "\n",
        "def build_model(hp):\n",
        "    n_hidden = hp.Int(\"n_hidden\", min_value=0, max_value=5, default=2)\n",
        "    learning_rate = hp.Float(\"learning_rate\", min_value=1e-5, max_value=2,\n",
        "                             sampling=\"log\")\n",
        "    optimizer = hp.Choice(\"optimizer\", values=[\"sgd\", \"adam\"])\n",
        "    if optimizer == \"sgd\":\n",
        "        optimizer = tf.keras.optimizers.SGD(learning_rate=learning_rate)\n",
        "    else:\n",
        "        optimizer = tf.keras.optimizers.Adam(learning_rate=learning_rate)\n",
        "    hidden_layer_neurons = []\n",
        "    for i in range(n_hidden):\n",
        "        hidden_layer_neurons.append(hp.Int(\"n_neurons_\" + str(i), min_value=50, max_value=400))\n",
        "    model = tf.keras.Sequential()\n",
        "    model.add(tf.keras.layers.InputLayer(input_shape = [27,]))\n",
        "    for i in range(n_hidden):\n",
        "        model.add(tf.keras.layers.Dense(hidden_layer_neurons[i], activation=\"relu\"))\n",
        "    model.add(tf.keras.layers.Dense(1, activation=\"sigmoid\"))\n",
        "    model.compile(loss=\"binary_crossentropy\", optimizer=optimizer, metrics=[\"accuracy\"])\n",
        "    return model\n",
        "\n",
        "early_stopping_cb = tf.keras.callbacks.EarlyStopping(patience=5,\n",
        "                                                     restore_best_weights=True)\n",
        "\n",
        "random_search_tuner = kt.RandomSearch(\n",
        "    build_model, objective=\"val_accuracy\", max_trials=20, overwrite=True,\n",
        "    directory=\"my_spaceship\", project_name=\"my_rnd_search\", seed=15)\n",
        "random_search_tuner.search(X_train, y_train, epochs=100,\n",
        "                           validation_data=(X_valid, y_valid),callbacks=[early_stopping_cb])\n"
      ]
    },
    {
      "cell_type": "code",
      "source": [
        "top3_models = random_search_tuner.get_best_models(num_models=3)\n",
        "best_model = top3_models[0]\n",
        "top3_params = random_search_tuner.get_best_hyperparameters(num_trials=3)\n",
        "print(top3_params[0].values)\n",
        "print(top3_params[1].values)\n",
        "print(top3_params[2].values)"
      ],
      "metadata": {
        "colab": {
          "base_uri": "https://localhost:8080/"
        },
        "id": "wm9ITFbHck8I",
        "outputId": "8715e513-9f7a-4d03-cfa3-a569cd94ba5b"
      },
      "execution_count": null,
      "outputs": [
        {
          "output_type": "stream",
          "name": "stdout",
          "text": [
            "{'n_hidden': 5, 'learning_rate': 7.48862598186336e-05, 'optimizer': 'adam', 'n_neurons_0': 374, 'n_neurons_1': 300, 'n_neurons_2': 182, 'n_neurons_3': 312, 'n_neurons_4': 277}\n",
            "{'n_hidden': 2, 'learning_rate': 0.0002761974894983277, 'optimizer': 'adam', 'n_neurons_0': 173, 'n_neurons_1': 242, 'n_neurons_2': 73, 'n_neurons_3': 224, 'n_neurons_4': 135}\n",
            "{'n_hidden': 1, 'learning_rate': 0.004181120947645292, 'optimizer': 'adam', 'n_neurons_0': 206, 'n_neurons_1': 217, 'n_neurons_2': 195, 'n_neurons_3': 74, 'n_neurons_4': 76}\n"
          ]
        }
      ]
    },
    {
      "cell_type": "markdown",
      "source": [
        "The best model gotten from the random model builder is the one summarized below. It has 5 hidden layers, was trained using Adam optimizer with a learning rate of 7.48862598186336e-05."
      ],
      "metadata": {
        "id": "3YlqVJFD_Fxb"
      }
    },
    {
      "cell_type": "code",
      "source": [
        "best_model.summary()"
      ],
      "metadata": {
        "colab": {
          "base_uri": "https://localhost:8080/"
        },
        "id": "gxcM67TtV8F8",
        "outputId": "e94c5c27-22da-4ebc-b48f-a09d82d35e1c"
      },
      "execution_count": null,
      "outputs": [
        {
          "output_type": "stream",
          "name": "stdout",
          "text": [
            "Model: \"sequential\"\n",
            "_________________________________________________________________\n",
            " Layer (type)                Output Shape              Param #   \n",
            "=================================================================\n",
            " dense (Dense)               (None, 374)               10472     \n",
            "                                                                 \n",
            " dense_1 (Dense)             (None, 300)               112500    \n",
            "                                                                 \n",
            " dense_2 (Dense)             (None, 182)               54782     \n",
            "                                                                 \n",
            " dense_3 (Dense)             (None, 312)               57096     \n",
            "                                                                 \n",
            " dense_4 (Dense)             (None, 277)               86701     \n",
            "                                                                 \n",
            " dense_5 (Dense)             (None, 1)                 278       \n",
            "                                                                 \n",
            "=================================================================\n",
            "Total params: 321,829\n",
            "Trainable params: 321,829\n",
            "Non-trainable params: 0\n",
            "_________________________________________________________________\n"
          ]
        }
      ]
    },
    {
      "cell_type": "code",
      "source": [
        "y_pred = best_model.predict(X_train).reshape(-1) > 0.5\n",
        "print(accuracy_score(y_train, y_pred))\n",
        "\n",
        "y_pred2 = best_model.predict(X_valid).reshape(-1) > 0.5\n",
        "print(accuracy_score(y_valid, y_pred2))"
      ],
      "metadata": {
        "colab": {
          "base_uri": "https://localhost:8080/"
        },
        "id": "YQu2U0Z3GiVz",
        "outputId": "5f18d813-3754-46aa-b1a9-93ff154da6ab"
      },
      "execution_count": 52,
      "outputs": [
        {
          "output_type": "stream",
          "name": "stdout",
          "text": [
            "218/218 [==============================] - 0s 2ms/step\n",
            "0.8224043715846995\n",
            "55/55 [==============================] - 0s 3ms/step\n",
            "0.8269120184013801\n"
          ]
        }
      ]
    },
    {
      "cell_type": "markdown",
      "source": [
        "The validation accuracy of this model a greatly improved as it is of 0.827, and we can see that the model is not overfitting.\n",
        "\n",
        "We didn't include it but we also tested several other configurations.\n",
        "\n",
        "Let's also keep the second best model we got (described below), it was trained with the Adam optimizer and a learning rate of 0.0002761974894983277."
      ],
      "metadata": {
        "id": "2P27_GrwA91f"
      }
    },
    {
      "cell_type": "code",
      "source": [
        "second_model = top3_models[1]\n",
        "second_model.summary()"
      ],
      "metadata": {
        "colab": {
          "base_uri": "https://localhost:8080/"
        },
        "id": "cyhCrCPhIbkh",
        "outputId": "ca4da49c-4b81-46d6-a765-eeef87c868f5"
      },
      "execution_count": 57,
      "outputs": [
        {
          "output_type": "stream",
          "name": "stdout",
          "text": [
            "Model: \"sequential\"\n",
            "_________________________________________________________________\n",
            " Layer (type)                Output Shape              Param #   \n",
            "=================================================================\n",
            " dense (Dense)               (None, 173)               4844      \n",
            "                                                                 \n",
            " dense_1 (Dense)             (None, 242)               42108     \n",
            "                                                                 \n",
            " dense_2 (Dense)             (None, 1)                 243       \n",
            "                                                                 \n",
            "=================================================================\n",
            "Total params: 47,195\n",
            "Trainable params: 47,195\n",
            "Non-trainable params: 0\n",
            "_________________________________________________________________\n"
          ]
        }
      ]
    },
    {
      "cell_type": "code",
      "source": [
        "y_pred = second.predict(X_train).reshape(-1) > 0.5\n",
        "print(accuracy_score(y_train, y_pred))\n",
        "\n",
        "y_pred2 = second.predict(X_valid).reshape(-1) > 0.5\n",
        "print(accuracy_score(y_valid, y_pred2))"
      ],
      "metadata": {
        "colab": {
          "base_uri": "https://localhost:8080/"
        },
        "id": "wrV2uWyTFqrS",
        "outputId": "45ec0cb9-42ea-4614-d07a-a43985675212"
      },
      "execution_count": 56,
      "outputs": [
        {
          "output_type": "stream",
          "name": "stdout",
          "text": [
            "218/218 [==============================] - 0s 1ms/step\n",
            "0.822260569456428\n",
            "55/55 [==============================] - 0s 1ms/step\n",
            "0.8085106382978723\n"
          ]
        }
      ]
    },
    {
      "cell_type": "code",
      "execution_count": 68,
      "metadata": {
        "id": "xapZO2hGEfXm"
      },
      "outputs": [],
      "source": [
        "nn_type = type(best_model) #variable to characterize a neural network model, used later"
      ]
    },
    {
      "cell_type": "markdown",
      "source": [
        "# **Ensemble**"
      ],
      "metadata": {
        "id": "TlICWH7xJFgh"
      }
    },
    {
      "cell_type": "markdown",
      "source": [
        "In order to improve the quality of our predictions, let's try to make ensemble. It means that we'll combine several models together to perform the classification task."
      ],
      "metadata": {
        "id": "QvznTuv9LYtG"
      }
    },
    {
      "cell_type": "markdown",
      "source": [
        "Let's write functions that will perform the predictions by the ensemble and also create a submission that can be send to Kaggle."
      ],
      "metadata": {
        "id": "XhmSnlvAEMLK"
      }
    },
    {
      "cell_type": "code",
      "execution_count": null,
      "metadata": {
        "id": "yJjslnWgE7O_"
      },
      "outputs": [],
      "source": [
        "def predictions_stack(X,models): # compute the predictions of the models and stack them together into a same numpy array\n",
        "  predictions = []\n",
        "  for m in models:\n",
        "  # the post processing of the predictions is different depending on the model type (neural network or random forest)  \n",
        "    if type(m) == nn_type:\n",
        "      predictions.append(m.predict(X).reshape(-1))\n",
        "    else:\n",
        "      predictions.append(m.predict_proba(X)[:,1])\n",
        "  predictions = np.stack(predictions, axis=1)\n",
        "  return predictions\n",
        "\n",
        "def get_final_prediction(X, models, threshold): # combine the predictions together and output the result\n",
        "  predictions = predictions_stack(X, models)\n",
        "  final_prediction = np.sum(predictions, axis=1)/ len(models) > threshold\n",
        "  return final_prediction\n",
        "\n",
        "def get_submission(X, models, threshold, to_csv = True): # make a csv file out of the final predictions to submit to Kaggle\n",
        "  final_predictions = get_final_prediction(X, models, threshold)\n",
        "  results = pd.Series(final_predictions,name=\"Transported\")\n",
        "  submission = pd.DataFrame(test[\"PassengerId\"])\n",
        "  submission['Transported'] = results\n",
        "  if to_csv == True:\n",
        "    submission.to_csv(\"submission.csv\",index=False)\n",
        "  return submission"
      ]
    },
    {
      "cell_type": "markdown",
      "source": [
        "Let's combine the best neural network and the best random forest classifier together first, then the best and the second best neural network and finally, the 3 of them together."
      ],
      "metadata": {
        "id": "FdPZ8SouRVAh"
      }
    },
    {
      "cell_type": "code",
      "source": [
        "y_pred = get_final_prediction(X_train, [best_model,rand_search.best_estimator_], 0.5)\n",
        "print(accuracy_score(y_train, y_pred))\n",
        "\n",
        "y_pred2 = get_final_prediction(X_valid, [best_model,rand_search.best_estimator_], 0.5)\n",
        "print(accuracy_score(y_valid, y_pred2))"
      ],
      "metadata": {
        "colab": {
          "base_uri": "https://localhost:8080/"
        },
        "id": "_01JvzsBRUrr",
        "outputId": "17a497a8-58d5-4612-c1ba-8543bc05da7a"
      },
      "execution_count": 76,
      "outputs": [
        {
          "output_type": "stream",
          "name": "stdout",
          "text": [
            "218/218 [==============================] - 1s 2ms/step\n",
            "0.8717285015818234\n",
            "55/55 [==============================] - 0s 3ms/step\n",
            "0.8085106382978723\n"
          ]
        }
      ]
    },
    {
      "cell_type": "code",
      "source": [
        "y_pred = get_final_prediction(X_train, [best_model,second_model], 0.5)\n",
        "print(accuracy_score(y_train, y_pred))\n",
        "\n",
        "y_pred2 = get_final_prediction(X_valid, [best_model,second_model], 0.5)\n",
        "print(accuracy_score(y_valid, y_pred2))"
      ],
      "metadata": {
        "colab": {
          "base_uri": "https://localhost:8080/"
        },
        "id": "izV7H6dwPXVc",
        "outputId": "139726bb-38ac-4650-d572-d65d9ff3a7b9"
      },
      "execution_count": 71,
      "outputs": [
        {
          "output_type": "stream",
          "name": "stdout",
          "text": [
            "218/218 [==============================] - 1s 4ms/step\n",
            "218/218 [==============================] - 0s 2ms/step\n",
            "0.8232671843543284\n",
            "55/55 [==============================] - 0s 3ms/step\n",
            "55/55 [==============================] - 0s 2ms/step\n",
            "0.8177113283496262\n"
          ]
        }
      ]
    },
    {
      "cell_type": "code",
      "source": [
        "y_pred = get_final_prediction(X_train, [best_model,second_model,rand_search.best_estimator_], 0.5)\n",
        "print(accuracy_score(y_train, y_pred))\n",
        "\n",
        "y_pred2 = get_final_prediction(X_valid, [best_model,second_model,rand_search.best_estimator_], 0.5)\n",
        "print(accuracy_score(y_valid, y_pred2))"
      ],
      "metadata": {
        "colab": {
          "base_uri": "https://localhost:8080/"
        },
        "id": "oF2gtWQeRpiZ",
        "outputId": "eeeb4285-8c0f-4e8e-ac89-edfdc2ffe26d"
      },
      "execution_count": 77,
      "outputs": [
        {
          "output_type": "stream",
          "name": "stdout",
          "text": [
            "218/218 [==============================] - 1s 3ms/step\n",
            "218/218 [==============================] - 0s 1ms/step\n",
            "0.8569168823698591\n",
            "55/55 [==============================] - 0s 3ms/step\n",
            "55/55 [==============================] - 0s 1ms/step\n",
            "0.8125359401955147\n"
          ]
        }
      ]
    },
    {
      "cell_type": "markdown",
      "source": [
        "From the results above, we can see that there is no improvement with an ensemble. We'll now only consider the ensemble using the 2 neural networks.\n",
        "\n",
        "Let's see if we can combine 2 models more intelligently by applying weights to their predictions. To do that, we create the 2 following functions for that."
      ],
      "metadata": {
        "id": "dmyMtRzYRSKS"
      }
    },
    {
      "cell_type": "code",
      "source": [
        "def get_final_prediction_weighted(X, models, threshold, a):\n",
        "  predictions = predictions_stack(X, models)\n",
        "  final_prediction = np.average(predictions, axis=1, weights=[a, 1-a]) > threshold\n",
        "  return final_prediction\n",
        "\n",
        "def get_submission_weighted(X, models, threshold, a, to_csv = True):\n",
        "  final_predictions = get_final_prediction_weighted(X, models, threshold, a)\n",
        "  results = pd.Series(final_predictions,name=\"Transported\")\n",
        "  submission = pd.DataFrame(test[\"PassengerId\"])\n",
        "  submission['Transported'] = results\n",
        "  if to_csv == True:\n",
        "    submission.to_csv(\"submission.csv\",index=False)\n",
        "  return submission"
      ],
      "metadata": {
        "id": "ZhE3lXgmSP3R"
      },
      "execution_count": 78,
      "outputs": []
    },
    {
      "cell_type": "code",
      "source": [
        "def weight_graph(X, y, models):\n",
        "  acc = []\n",
        "  alpha = []\n",
        "  for a in np.linspace(0,1,100):\n",
        "    alpha.append(a)\n",
        "    acc.append(accuracy_score(y,get_final_prediction_weighted(X, models, 0.5, a)))\n",
        "  plt.plot(alpha, acc)\n",
        "  best_index = np.argmax(acc)\n",
        "  best_alpha = alpha[best_index]\n",
        "  plt.scatter(best_alpha, np.max(acc), color='red')\n",
        "  plt.annotate(f'Max accuracy: {np.max(acc)} for an alpha of {best_alpha}', (best_alpha,np.max(acc)), textcoords=\"offset points\", xytext=(0,10), ha='center')\n",
        "  plt.xlabel('Alpha')\n",
        "  plt.ylabel('Accuracy')\n",
        "  plt.gca().set_frame_on(False)\n",
        "  plt.show()"
      ],
      "metadata": {
        "id": "HUIWFuqUSfKv"
      },
      "execution_count": 85,
      "outputs": []
    },
    {
      "cell_type": "code",
      "source": [
        "weight_graph(X_valid, y_valid, [best_model,second_model])"
      ],
      "metadata": {
        "colab": {
          "base_uri": "https://localhost:8080/",
          "height": 1000
        },
        "id": "94gMMcTQUc6z",
        "outputId": "65e880d5-56d1-4a10-e4ed-c1072b2a933b"
      },
      "execution_count": 86,
      "outputs": [
        {
          "output_type": "display_data",
          "data": {
            "text/plain": [
              "<Figure size 432x288 with 1 Axes>"
            ],
            "image/png": "[encoded data removed]"
          },
          "metadata": {
            "needs_background": "light"
          }
        }
      ]
    },
    {
      "cell_type": "markdown",
      "source": [
        "It looks like the best model is the most important and that there is not really a point into adding another model in the equation.\n",
        "\n",
        "Let's see if this is confirmed when we do that on different section of the validation set."
      ],
      "metadata": {
        "id": "eZhITY2hcmQ0"
      }
    },
    {
      "cell_type": "code",
      "source": [
        "X_valid1 = X_valid[:X_valid.shape[0]//3]\n",
        "X_valid2 = X_valid[X_valid.shape[0]//3:2*X_valid.shape[0]//3]\n",
        "X_valid3 = X_valid[2*X_valid.shape[0]//3:]\n",
        "y_v = np.array(y_valid)\n",
        "\n",
        "y_valid1 = y_v[:y_v.shape[0]//3]\n",
        "y_valid2 = y_v[y_v.shape[0]//3:2*y_v.shape[0]//3]\n",
        "y_valid3 = y_v[2*y_v.shape[0]//3:]"
      ],
      "metadata": {
        "id": "PBelSwU6Yk7B"
      },
      "execution_count": 124,
      "outputs": []
    },
    {
      "cell_type": "code",
      "source": [
        "weight_graph(X_valid1, y_valid1, [best_model,second_model])"
      ],
      "metadata": {
        "colab": {
          "base_uri": "https://localhost:8080/",
          "height": 1000
        },
        "id": "bZgkOD_LbfPz",
        "outputId": "b0983f30-3347-4cbb-b6c4-eec1e34ef4c1"
      },
      "execution_count": 117,
      "outputs": [
        {
          "output_type": "display_data",
          "data": {
            "text/plain": [
              "<Figure size 432x288 with 1 Axes>"
            ],
            "image/png": "[encoded data removed]"
          },
          "metadata": {
            "needs_background": "light"
          }
        }
      ]
    },
    {
      "cell_type": "code",
      "source": [
        "weight_graph(X_valid2, y_valid2, [best_model,second_model])"
      ],
      "metadata": {
        "colab": {
          "base_uri": "https://localhost:8080/",
          "height": 1000
        },
        "id": "-6DKgYUUbfAV",
        "outputId": "9aec619a-d811-4eab-b977-2b5b68eed548"
      },
      "execution_count": 118,
      "outputs": [
        {
          "output_type": "display_data",
          "data": {
            "text/plain": [
              "<Figure size 432x288 with 1 Axes>"
            ],
            "image/png": "[encoded data removed]"
          },
          "metadata": {
            "needs_background": "light"
          }
        }
      ]
    },
    {
      "cell_type": "code",
      "source": [
        "weight_graph(X_valid3, y_valid3, [best_model,second_model])"
      ],
      "metadata": {
        "colab": {
          "base_uri": "https://localhost:8080/",
          "height": 1000
        },
        "id": "4ljBizSxbez4",
        "outputId": "a6b5a2e9-c512-4ec7-dcb7-88f4802c9c40"
      },
      "execution_count": 126,
      "outputs": [
        {
          "output_type": "display_data",
          "data": {
            "text/plain": [
              "<Figure size 432x288 with 1 Axes>"
            ],
            "image/png": "[encoded data removed]"
          },
          "metadata": {
            "needs_background": "light"
          }
        }
      ]
    },
    {
      "cell_type": "markdown",
      "source": [
        "There is no real pattern that we can spot on these 3 graphs. If we try to choose a value for alpha it will most likely just be an overfit to the validation set.\n",
        "\n",
        "As a result, we decide to use only the best neural network for our predictions."
      ],
      "metadata": {
        "id": "mquWjFs0c_cF"
      }
    },
    {
      "cell_type": "markdown",
      "source": [
        "Now, let's see if we can choose a different threshold to our prediction."
      ],
      "metadata": {
        "id": "hYTNKu2adrsF"
      }
    },
    {
      "cell_type": "code",
      "execution_count": 130,
      "metadata": {
        "id": "1Ec4zFstCdd3"
      },
      "outputs": [],
      "source": [
        "def threshold_graph(X, y, models):\n",
        "  dict = {}\n",
        "  for t in [round(float(x * 0.05),2) for x in range(1, 20)]:\n",
        "    pred = get_final_prediction(X,models,t)\n",
        "    dict[t] = accuracy_score(y, pred)\n",
        "  x = list(dict.keys())\n",
        "  y = list(dict.values())\n",
        "  x_max = x[np.argmax(y)]\n",
        "  y_max = round(y[np.argmax(y)],6)\n",
        "  plt.plot(x, y)\n",
        "  plt.scatter(x_max, y_max, color='red')\n",
        "  plt.annotate(f'Max accuracy: {y_max} for a threshold of {x_max}', (x_max, y_max), textcoords=\"offset points\", xytext=(0,10), ha='center')\n",
        "  plt.xlabel('Threshold')\n",
        "  plt.ylabel('Accuracy')\n",
        "  plt.gca().set_frame_on(False)\n",
        "  plt.show()"
      ]
    },
    {
      "cell_type": "code",
      "source": [
        "threshold_graph(X_valid, y_valid, [best_model, second_model])"
      ],
      "metadata": {
        "colab": {
          "base_uri": "https://localhost:8080/",
          "height": 947
        },
        "id": "3_Uh2REaNyrA",
        "outputId": "82a95243-a89b-4b6b-b8c9-8ab4a9d2886e"
      },
      "execution_count": 65,
      "outputs": [
        {
          "output_type": "display_data",
          "data": {
            "text/plain": [
              "<Figure size 432x288 with 1 Axes>"
            ],
            "image/png": "[encoded data removed]"
          },
          "metadata": {
            "needs_background": "light"
          }
        }
      ]
    },
    {
      "cell_type": "markdown",
      "source": [
        "As before, let's see if this value is not an overfit."
      ],
      "metadata": {
        "id": "WRN4xYdadyo7"
      }
    },
    {
      "cell_type": "code",
      "source": [
        "threshold_graph(X_valid1, y_valid1, [best_model])"
      ],
      "metadata": {
        "colab": {
          "base_uri": "https://localhost:8080/",
          "height": 617
        },
        "id": "PX_GGRjSd5RU",
        "outputId": "3ebe1afa-de21-4353-d1c9-b13d3a99e457"
      },
      "execution_count": 131,
      "outputs": [
        {
          "output_type": "display_data",
          "data": {
            "text/plain": [
              "<Figure size 432x288 with 1 Axes>"
            ],
            "image/png": "[encoded data removed]"
          },
          "metadata": {
            "needs_background": "light"
          }
        }
      ]
    },
    {
      "cell_type": "code",
      "source": [
        "threshold_graph(X_valid2, y_valid2, [best_model])"
      ],
      "metadata": {
        "colab": {
          "base_uri": "https://localhost:8080/",
          "height": 617
        },
        "id": "-HdWXl34d6j3",
        "outputId": "8e3d9b1e-0fb7-4882-e96f-91d1517371a3"
      },
      "execution_count": 132,
      "outputs": [
        {
          "output_type": "display_data",
          "data": {
            "text/plain": [
              "<Figure size 432x288 with 1 Axes>"
            ],
            "image/png": "[encoded data removed]"
          },
          "metadata": {
            "needs_background": "light"
          }
        }
      ]
    },
    {
      "cell_type": "code",
      "source": [
        "threshold_graph(X_valid3, y_valid3, [best_model])"
      ],
      "metadata": {
        "colab": {
          "base_uri": "https://localhost:8080/",
          "height": 617
        },
        "id": "-9jd4t6Td55x",
        "outputId": "4ff54bb0-eff7-4d52-b601-f4be59fae1c7"
      },
      "execution_count": 133,
      "outputs": [
        {
          "output_type": "display_data",
          "data": {
            "text/plain": [
              "<Figure size 432x288 with 1 Axes>"
            ],
            "image/png": "[encoded data removed]"
          },
          "metadata": {
            "needs_background": "light"
          }
        }
      ]
    },
    {
      "cell_type": "markdown",
      "source": [
        "As for the alpha value, choosing a different threshold value doesn't look like a good idea. We'll keep it at 0.5."
      ],
      "metadata": {
        "id": "uVvaL4JWeSch"
      }
    },
    {
      "cell_type": "markdown",
      "source": [
        "# **Conclusion**"
      ],
      "metadata": {
        "id": "mDpPKgXMejc6"
      }
    },
    {
      "cell_type": "markdown",
      "source": [
        "Let's make the submission to Kaggle."
      ],
      "metadata": {
        "id": "Dof2NRfYepGW"
      }
    },
    {
      "cell_type": "code",
      "execution_count": 135,
      "metadata": {
        "colab": {
          "base_uri": "https://localhost:8080/"
        },
        "id": "pPrAeNiz67Hr",
        "outputId": "37ef9b55-ff49-45d6-e2e4-6b8a9a152e9d"
      },
      "outputs": [
        {
          "output_type": "stream",
          "name": "stdout",
          "text": [
            "134/134 [==============================] - 1s 5ms/step\n"
          ]
        }
      ],
      "source": [
        "submission = get_submission(X_test,[best_model],0.5,True)"
      ]
    },
    {
      "cell_type": "markdown",
      "metadata": {
        "id": "15QdawYi9Vux"
      },
      "source": [
        "With this submission we got a score of 0.80196 on Kaggle !\n",
        "\n",
        "In the leaderboard it results in a position of 634th out of 2409 at the moment of writing this.\n",
        "\n",
        "Knowing that the best score is 0.85527 and that the 4th position has already dropped at 0.81833, it is not a bad score.\n",
        "\n",
        "We could improve the score by possibly preprocessing more thoroughly the data and by maybe adding some columns."
      ]
    }
  ],
  "metadata": {
    "colab": {
      "provenance": [],
      "collapsed_sections": [
        "J7iiFVq7xc2T",
        "p3bVrPZs8EMa"
      ],
      "mount_file_id": "1XTm8mT7A1JmBIj8ElQpUlvtKKjk18VE7",
      "authorship_tag": "ABX9TyMw8r8td92X5zqVRtWm+rfg",
      "include_colab_link": true
    },
    "kernelspec": {
      "display_name": "Python 3",
      "name": "python3"
    },
    "language_info": {
      "name": "python"
    },
    "gpuClass": "standard"
  },
  "nbformat": 4,
  "nbformat_minor": 0
}
