{
 "cells": [
  {
   "cell_type": "code",
   "execution_count": 1,
   "id": "1732d7a1",
   "metadata": {},
   "outputs": [
    {
     "name": "stdout",
     "output_type": "stream",
     "text": [
      "C:\\Users\\debie\\Documents\\anaconda_space\n"
     ]
    }
   ],
   "source": [
    "%cd C:\\Users\\debie\\Documents\\anaconda_space"
   ]
  },
  {
   "cell_type": "markdown",
   "id": "eb4f35ab",
   "metadata": {},
   "source": [
    "# Predicting Car Prices"
   ]
  },
  {
   "cell_type": "code",
   "execution_count": 2,
   "id": "75cf521a",
   "metadata": {},
   "outputs": [],
   "source": [
    "import pandas as pd\n",
    "import numpy as np"
   ]
  },
  {
   "cell_type": "markdown",
   "id": "004af805",
   "metadata": {},
   "source": [
    "In this project, you'll practice the machine learning workflow you've learned so far to predict a car's market price using its attributes. The data set we will be working with contains information on various cars. For each car we have information about the technical aspects of the vehicle such as the motor's displacement, the weight of the car, the miles per gallon, how fast the car accelerates, and more."
   ]
  },
  {
   "cell_type": "code",
   "execution_count": 3,
   "id": "49181cb8",
   "metadata": {},
   "outputs": [],
   "source": [
    "col_name = ['symboling', 'normalized-losses', 'make', 'fuel-type', 'aspiration', 'num-of-doors', 'body-style', \n",
    "        'drive-wheels', 'engine-location', 'wheel-base', 'length', 'width', 'height', 'curb-weight', 'engine-type', \n",
    "        'num-of-cylinders', 'engine-size', 'fuel-system', 'bore', 'stroke', 'compression-rate', 'horsepower', 'peak-rpm', 'city-mpg', 'highway-mpg', 'price']\n",
    "pd.options.display.max_columns = 50\n",
    "cars = pd.read_csv('imports-85.data', names = col_name)"
   ]
  },
  {
   "cell_type": "code",
   "execution_count": 4,
   "id": "40642882",
   "metadata": {},
   "outputs": [
    {
     "data": {
      "text/html": [
       "<div>\n",
       "<style scoped>\n",
       "    .dataframe tbody tr th:only-of-type {\n",
       "        vertical-align: middle;\n",
       "    }\n",
       "\n",
       "    .dataframe tbody tr th {\n",
       "        vertical-align: top;\n",
       "    }\n",
       "\n",
       "    .dataframe thead th {\n",
       "        text-align: right;\n",
       "    }\n",
       "</style>\n",
       "<table border=\"1\" class=\"dataframe\">\n",
       "  <thead>\n",
       "    <tr style=\"text-align: right;\">\n",
       "      <th></th>\n",
       "      <th>symboling</th>\n",
       "      <th>normalized-losses</th>\n",
       "      <th>make</th>\n",
       "      <th>fuel-type</th>\n",
       "      <th>aspiration</th>\n",
       "      <th>num-of-doors</th>\n",
       "      <th>body-style</th>\n",
       "      <th>drive-wheels</th>\n",
       "      <th>engine-location</th>\n",
       "      <th>wheel-base</th>\n",
       "      <th>length</th>\n",
       "      <th>width</th>\n",
       "      <th>height</th>\n",
       "      <th>curb-weight</th>\n",
       "      <th>engine-type</th>\n",
       "      <th>num-of-cylinders</th>\n",
       "      <th>engine-size</th>\n",
       "      <th>fuel-system</th>\n",
       "      <th>bore</th>\n",
       "      <th>stroke</th>\n",
       "      <th>compression-rate</th>\n",
       "      <th>horsepower</th>\n",
       "      <th>peak-rpm</th>\n",
       "      <th>city-mpg</th>\n",
       "      <th>highway-mpg</th>\n",
       "      <th>price</th>\n",
       "    </tr>\n",
       "  </thead>\n",
       "  <tbody>\n",
       "    <tr>\n",
       "      <th>0</th>\n",
       "      <td>3</td>\n",
       "      <td>?</td>\n",
       "      <td>alfa-romero</td>\n",
       "      <td>gas</td>\n",
       "      <td>std</td>\n",
       "      <td>two</td>\n",
       "      <td>convertible</td>\n",
       "      <td>rwd</td>\n",
       "      <td>front</td>\n",
       "      <td>88.6</td>\n",
       "      <td>168.8</td>\n",
       "      <td>64.1</td>\n",
       "      <td>48.8</td>\n",
       "      <td>2548</td>\n",
       "      <td>dohc</td>\n",
       "      <td>four</td>\n",
       "      <td>130</td>\n",
       "      <td>mpfi</td>\n",
       "      <td>3.47</td>\n",
       "      <td>2.68</td>\n",
       "      <td>9.0</td>\n",
       "      <td>111</td>\n",
       "      <td>5000</td>\n",
       "      <td>21</td>\n",
       "      <td>27</td>\n",
       "      <td>13495</td>\n",
       "    </tr>\n",
       "    <tr>\n",
       "      <th>1</th>\n",
       "      <td>3</td>\n",
       "      <td>?</td>\n",
       "      <td>alfa-romero</td>\n",
       "      <td>gas</td>\n",
       "      <td>std</td>\n",
       "      <td>two</td>\n",
       "      <td>convertible</td>\n",
       "      <td>rwd</td>\n",
       "      <td>front</td>\n",
       "      <td>88.6</td>\n",
       "      <td>168.8</td>\n",
       "      <td>64.1</td>\n",
       "      <td>48.8</td>\n",
       "      <td>2548</td>\n",
       "      <td>dohc</td>\n",
       "      <td>four</td>\n",
       "      <td>130</td>\n",
       "      <td>mpfi</td>\n",
       "      <td>3.47</td>\n",
       "      <td>2.68</td>\n",
       "      <td>9.0</td>\n",
       "      <td>111</td>\n",
       "      <td>5000</td>\n",
       "      <td>21</td>\n",
       "      <td>27</td>\n",
       "      <td>16500</td>\n",
       "    </tr>\n",
       "    <tr>\n",
       "      <th>2</th>\n",
       "      <td>1</td>\n",
       "      <td>?</td>\n",
       "      <td>alfa-romero</td>\n",
       "      <td>gas</td>\n",
       "      <td>std</td>\n",
       "      <td>two</td>\n",
       "      <td>hatchback</td>\n",
       "      <td>rwd</td>\n",
       "      <td>front</td>\n",
       "      <td>94.5</td>\n",
       "      <td>171.2</td>\n",
       "      <td>65.5</td>\n",
       "      <td>52.4</td>\n",
       "      <td>2823</td>\n",
       "      <td>ohcv</td>\n",
       "      <td>six</td>\n",
       "      <td>152</td>\n",
       "      <td>mpfi</td>\n",
       "      <td>2.68</td>\n",
       "      <td>3.47</td>\n",
       "      <td>9.0</td>\n",
       "      <td>154</td>\n",
       "      <td>5000</td>\n",
       "      <td>19</td>\n",
       "      <td>26</td>\n",
       "      <td>16500</td>\n",
       "    </tr>\n",
       "    <tr>\n",
       "      <th>3</th>\n",
       "      <td>2</td>\n",
       "      <td>164</td>\n",
       "      <td>audi</td>\n",
       "      <td>gas</td>\n",
       "      <td>std</td>\n",
       "      <td>four</td>\n",
       "      <td>sedan</td>\n",
       "      <td>fwd</td>\n",
       "      <td>front</td>\n",
       "      <td>99.8</td>\n",
       "      <td>176.6</td>\n",
       "      <td>66.2</td>\n",
       "      <td>54.3</td>\n",
       "      <td>2337</td>\n",
       "      <td>ohc</td>\n",
       "      <td>four</td>\n",
       "      <td>109</td>\n",
       "      <td>mpfi</td>\n",
       "      <td>3.19</td>\n",
       "      <td>3.40</td>\n",
       "      <td>10.0</td>\n",
       "      <td>102</td>\n",
       "      <td>5500</td>\n",
       "      <td>24</td>\n",
       "      <td>30</td>\n",
       "      <td>13950</td>\n",
       "    </tr>\n",
       "    <tr>\n",
       "      <th>4</th>\n",
       "      <td>2</td>\n",
       "      <td>164</td>\n",
       "      <td>audi</td>\n",
       "      <td>gas</td>\n",
       "      <td>std</td>\n",
       "      <td>four</td>\n",
       "      <td>sedan</td>\n",
       "      <td>4wd</td>\n",
       "      <td>front</td>\n",
       "      <td>99.4</td>\n",
       "      <td>176.6</td>\n",
       "      <td>66.4</td>\n",
       "      <td>54.3</td>\n",
       "      <td>2824</td>\n",
       "      <td>ohc</td>\n",
       "      <td>five</td>\n",
       "      <td>136</td>\n",
       "      <td>mpfi</td>\n",
       "      <td>3.19</td>\n",
       "      <td>3.40</td>\n",
       "      <td>8.0</td>\n",
       "      <td>115</td>\n",
       "      <td>5500</td>\n",
       "      <td>18</td>\n",
       "      <td>22</td>\n",
       "      <td>17450</td>\n",
       "    </tr>\n",
       "  </tbody>\n",
       "</table>\n",
       "</div>"
      ],
      "text/plain": [
       "   symboling normalized-losses         make fuel-type aspiration num-of-doors  \\\n",
       "0          3                 ?  alfa-romero       gas        std          two   \n",
       "1          3                 ?  alfa-romero       gas        std          two   \n",
       "2          1                 ?  alfa-romero       gas        std          two   \n",
       "3          2               164         audi       gas        std         four   \n",
       "4          2               164         audi       gas        std         four   \n",
       "\n",
       "    body-style drive-wheels engine-location  wheel-base  length  width  \\\n",
       "0  convertible          rwd           front        88.6   168.8   64.1   \n",
       "1  convertible          rwd           front        88.6   168.8   64.1   \n",
       "2    hatchback          rwd           front        94.5   171.2   65.5   \n",
       "3        sedan          fwd           front        99.8   176.6   66.2   \n",
       "4        sedan          4wd           front        99.4   176.6   66.4   \n",
       "\n",
       "   height  curb-weight engine-type num-of-cylinders  engine-size fuel-system  \\\n",
       "0    48.8         2548        dohc             four          130        mpfi   \n",
       "1    48.8         2548        dohc             four          130        mpfi   \n",
       "2    52.4         2823        ohcv              six          152        mpfi   \n",
       "3    54.3         2337         ohc             four          109        mpfi   \n",
       "4    54.3         2824         ohc             five          136        mpfi   \n",
       "\n",
       "   bore stroke  compression-rate horsepower peak-rpm  city-mpg  highway-mpg  \\\n",
       "0  3.47   2.68               9.0        111     5000        21           27   \n",
       "1  3.47   2.68               9.0        111     5000        21           27   \n",
       "2  2.68   3.47               9.0        154     5000        19           26   \n",
       "3  3.19   3.40              10.0        102     5500        24           30   \n",
       "4  3.19   3.40               8.0        115     5500        18           22   \n",
       "\n",
       "   price  \n",
       "0  13495  \n",
       "1  16500  \n",
       "2  16500  \n",
       "3  13950  \n",
       "4  17450  "
      ]
     },
     "execution_count": 4,
     "metadata": {},
     "output_type": "execute_result"
    }
   ],
   "source": [
    "cars.head()"
   ]
  },
  {
   "cell_type": "markdown",
   "id": "d531f293",
   "metadata": {},
   "source": [
    "We usually can't have any missing values if we want to use them for predictive modeling. Based on the data set preview from the last step, we can tell that the normalized-losses column contains missing values represented using \"?\". Let's replace these values and look for the presence of missing values in other numeric columns. Let's also rescale the values in the numeric columns so they all range from 0 to 1."
   ]
  },
  {
   "cell_type": "code",
   "execution_count": 5,
   "id": "77ae141b",
   "metadata": {},
   "outputs": [],
   "source": [
    "cars.replace('?', np.nan, inplace = True)"
   ]
  },
  {
   "cell_type": "code",
   "execution_count": 6,
   "id": "0664e4dc",
   "metadata": {},
   "outputs": [
    {
     "name": "stdout",
     "output_type": "stream",
     "text": [
      "<class 'pandas.core.frame.DataFrame'>\n",
      "RangeIndex: 205 entries, 0 to 204\n",
      "Data columns (total 26 columns):\n",
      " #   Column             Non-Null Count  Dtype  \n",
      "---  ------             --------------  -----  \n",
      " 0   symboling          205 non-null    int64  \n",
      " 1   normalized-losses  164 non-null    object \n",
      " 2   make               205 non-null    object \n",
      " 3   fuel-type          205 non-null    object \n",
      " 4   aspiration         205 non-null    object \n",
      " 5   num-of-doors       203 non-null    object \n",
      " 6   body-style         205 non-null    object \n",
      " 7   drive-wheels       205 non-null    object \n",
      " 8   engine-location    205 non-null    object \n",
      " 9   wheel-base         205 non-null    float64\n",
      " 10  length             205 non-null    float64\n",
      " 11  width              205 non-null    float64\n",
      " 12  height             205 non-null    float64\n",
      " 13  curb-weight        205 non-null    int64  \n",
      " 14  engine-type        205 non-null    object \n",
      " 15  num-of-cylinders   205 non-null    object \n",
      " 16  engine-size        205 non-null    int64  \n",
      " 17  fuel-system        205 non-null    object \n",
      " 18  bore               201 non-null    object \n",
      " 19  stroke             201 non-null    object \n",
      " 20  compression-rate   205 non-null    float64\n",
      " 21  horsepower         203 non-null    object \n",
      " 22  peak-rpm           203 non-null    object \n",
      " 23  city-mpg           205 non-null    int64  \n",
      " 24  highway-mpg        205 non-null    int64  \n",
      " 25  price              201 non-null    object \n",
      "dtypes: float64(5), int64(5), object(16)\n",
      "memory usage: 41.8+ KB\n"
     ]
    }
   ],
   "source": [
    "cars.info()"
   ]
  },
  {
   "cell_type": "code",
   "execution_count": 7,
   "id": "468618bb",
   "metadata": {},
   "outputs": [],
   "source": [
    "num_col = ['normalized-losses', 'wheel-base', 'length', 'width', 'height', 'curb-weight', 'engine-size', 'bore', 'stroke', 'compression-rate', 'horsepower', 'peak-rpm', 'city-mpg', 'highway-mpg', 'price']\n",
    "\n",
    "cars[num_col] = cars[num_col].astype('float64')\n",
    "\n",
    "cars_new = cars[num_col]\n"
   ]
  },
  {
   "cell_type": "markdown",
   "id": "deaa7d54",
   "metadata": {},
   "source": [
    "We'll delete the rows where the price has a null value and replace all the other null values of the other columns with the mean of their column."
   ]
  },
  {
   "cell_type": "code",
   "execution_count": 8,
   "id": "3c92e490",
   "metadata": {},
   "outputs": [],
   "source": [
    "cars_new = cars_new.dropna(subset = ['price'])\n",
    "\n",
    "cars_new = cars_new.fillna(cars_new.mean())"
   ]
  },
  {
   "cell_type": "code",
   "execution_count": 9,
   "id": "4bae8fa3",
   "metadata": {},
   "outputs": [
    {
     "name": "stdout",
     "output_type": "stream",
     "text": [
      "<class 'pandas.core.frame.DataFrame'>\n",
      "Int64Index: 201 entries, 0 to 204\n",
      "Data columns (total 15 columns):\n",
      " #   Column             Non-Null Count  Dtype  \n",
      "---  ------             --------------  -----  \n",
      " 0   normalized-losses  201 non-null    float64\n",
      " 1   wheel-base         201 non-null    float64\n",
      " 2   length             201 non-null    float64\n",
      " 3   width              201 non-null    float64\n",
      " 4   height             201 non-null    float64\n",
      " 5   curb-weight        201 non-null    float64\n",
      " 6   engine-size        201 non-null    float64\n",
      " 7   bore               201 non-null    float64\n",
      " 8   stroke             201 non-null    float64\n",
      " 9   compression-rate   201 non-null    float64\n",
      " 10  horsepower         201 non-null    float64\n",
      " 11  peak-rpm           201 non-null    float64\n",
      " 12  city-mpg           201 non-null    float64\n",
      " 13  highway-mpg        201 non-null    float64\n",
      " 14  price              201 non-null    float64\n",
      "dtypes: float64(15)\n",
      "memory usage: 25.1 KB\n"
     ]
    }
   ],
   "source": [
    "cars_new.info()"
   ]
  },
  {
   "cell_type": "markdown",
   "id": "00a5bec8",
   "metadata": {},
   "source": [
    "Now we normalize every columns except the price one."
   ]
  },
  {
   "cell_type": "code",
   "execution_count": 10,
   "id": "f01dfee8",
   "metadata": {},
   "outputs": [],
   "source": [
    "price = cars_new['price']\n",
    "cars_new = (cars_new - cars_new.min()) / (cars_new.max() - cars_new.min())\n",
    "cars_new['price'] = price"
   ]
  },
  {
   "cell_type": "markdown",
   "id": "d4ae06f9",
   "metadata": {},
   "source": [
    "Let's start with some univariate k-nearest neighbors models."
   ]
  },
  {
   "cell_type": "code",
   "execution_count": 11,
   "id": "650c427c",
   "metadata": {},
   "outputs": [],
   "source": [
    "from sklearn.neighbors import KNeighborsRegressor\n",
    "from sklearn.metrics import mean_squared_error\n",
    "\n",
    "def knn_train_test(training_column, target_column, df):\n",
    "    knn = KNeighborsRegressor()\n",
    "    np.random.seed(1)\n",
    "    shuffled_index = np.random.permutation(df.index)\n",
    "    rand_df = df.reindex(shuffled_index)\n",
    "    half = int(len(rand_df) / 2)\n",
    "    train_df = df[0:half]\n",
    "    test_df = df[half:]\n",
    "    knn.fit(train_df[[training_column]], train_df[target_column])\n",
    "    predictions = knn.predict(test_df[[training_column]])\n",
    "    mse = mean_squared_error(test_df[target_column], predictions)\n",
    "    return mse**0.5"
   ]
  },
  {
   "cell_type": "code",
   "execution_count": 12,
   "id": "98c57698",
   "metadata": {},
   "outputs": [],
   "source": [
    "col_try = list(cars_new.columns)\n",
    "col_try.remove('price')\n",
    "\n",
    "result_rmse = {}\n",
    "for column in col_try:\n",
    "    result = knn_train_test(column, 'price', cars_new)\n",
    "    result_rmse[column] = result"
   ]
  },
  {
   "cell_type": "code",
   "execution_count": 13,
   "id": "f14a920e",
   "metadata": {},
   "outputs": [
    {
     "data": {
      "text/plain": [
       "{'normalized-losses': 8131.436882072488,\n",
       " 'wheel-base': 9969.243291700175,\n",
       " 'length': 8304.189346264562,\n",
       " 'width': 7110.412630045104,\n",
       " 'height': 10839.693635873846,\n",
       " 'curb-weight': 5166.828580646175,\n",
       " 'engine-size': 4190.43388788236,\n",
       " 'bore': 13397.091693481998,\n",
       " 'stroke': 9334.714914185055,\n",
       " 'compression-rate': 8096.301512113387,\n",
       " 'horsepower': 4267.730361029788,\n",
       " 'peak-rpm': 9759.209969770063,\n",
       " 'city-mpg': 4814.77801484941,\n",
       " 'highway-mpg': 4628.7930938146865}"
      ]
     },
     "execution_count": 13,
     "metadata": {},
     "output_type": "execute_result"
    }
   ],
   "source": [
    "result_rmse"
   ]
  },
  {
   "cell_type": "markdown",
   "id": "f574c117",
   "metadata": {},
   "source": [
    "With this k value, the column who performed the best is \"engine-size\"."
   ]
  },
  {
   "cell_type": "markdown",
   "id": "425040ea",
   "metadata": {},
   "source": [
    "We'll now try several values for k."
   ]
  },
  {
   "cell_type": "code",
   "execution_count": 14,
   "id": "79a8a4c6",
   "metadata": {},
   "outputs": [],
   "source": [
    "def knn_train_test(training_column, target_column, df):\n",
    "    k_list = [1,3,5,7,9]\n",
    "    rmse = {}\n",
    "    np.random.seed(1)\n",
    "    shuffled_index = np.random.permutation(df.index)\n",
    "    rand_df = df.reindex(shuffled_index)\n",
    "    half = int(len(rand_df) / 2)\n",
    "    train_df = df[0:half]\n",
    "    test_df = df[half:]\n",
    "    for k in k_list:\n",
    "        knn = KNeighborsRegressor(n_neighbors = k)\n",
    "        knn.fit(train_df[[training_column]], train_df[target_column])\n",
    "        predictions = knn.predict(test_df[[training_column]])\n",
    "        mse = mean_squared_error(test_df[target_column], predictions)\n",
    "        rmse[k] = mse**0.5\n",
    "    return rmse"
   ]
  },
  {
   "cell_type": "code",
   "execution_count": 15,
   "id": "e166f53f",
   "metadata": {},
   "outputs": [],
   "source": [
    "result_rmse = {}\n",
    "for column in col_try:\n",
    "    result = knn_train_test(column, 'price', cars_new)\n",
    "    result_rmse[column] = result"
   ]
  },
  {
   "cell_type": "code",
   "execution_count": 16,
   "id": "ab60fd97",
   "metadata": {},
   "outputs": [
    {
     "data": {
      "text/plain": [
       "{'normalized-losses': {1: 11628.904782718988,\n",
       "  3: 9578.793245190305,\n",
       "  5: 8131.436882072488,\n",
       "  7: 7441.814253467208,\n",
       "  9: 7644.0837748147915},\n",
       " 'wheel-base': {1: 8052.050206913359,\n",
       "  3: 9171.153878561105,\n",
       "  5: 9969.243291700175,\n",
       "  7: 8938.808809133783,\n",
       "  9: 8637.3043859821},\n",
       " 'length': {1: 10053.579063701594,\n",
       "  3: 8230.050248540974,\n",
       "  5: 8304.189346264562,\n",
       "  7: 8483.928913734228,\n",
       "  9: 7655.12304417215},\n",
       " 'width': {1: 8044.1444455819,\n",
       "  3: 7234.558219432825,\n",
       "  5: 7110.412630045104,\n",
       "  7: 6621.848358316696,\n",
       "  9: 6531.417638109127},\n",
       " 'height': {1: 13032.276289928392,\n",
       "  3: 11411.019683044135,\n",
       "  5: 10839.693635873846,\n",
       "  7: 10041.327943738908,\n",
       "  9: 9313.330965281266},\n",
       " 'curb-weight': {1: 6566.749175404316,\n",
       "  3: 5635.184748392448,\n",
       "  5: 5166.828580646175,\n",
       "  7: 5239.631250704795,\n",
       "  9: 5244.5555635847895},\n",
       " 'engine-size': {1: 5338.7918201602415,\n",
       "  3: 4698.501673022703,\n",
       "  5: 4190.43388788236,\n",
       "  7: 4114.571307788718,\n",
       "  9: 4056.629359658438},\n",
       " 'bore': {1: 16502.858944335483,\n",
       "  3: 13895.11178798717,\n",
       "  5: 13397.091693481998,\n",
       "  7: 11075.156453540423,\n",
       "  9: 10178.905997122287},\n",
       " 'stroke': {1: 10925.953215320224,\n",
       "  3: 11848.331671515607,\n",
       "  5: 9334.714914185055,\n",
       "  7: 8255.343109791127,\n",
       "  9: 7516.859170151421},\n",
       " 'compression-rate': {1: 8085.605142155501,\n",
       "  3: 8137.969725694832,\n",
       "  5: 8096.301512113387,\n",
       "  7: 7896.692870779086,\n",
       "  9: 7823.115528549677},\n",
       " 'horsepower': {1: 7027.606971265131,\n",
       "  3: 5400.929793235897,\n",
       "  5: 4267.730361029788,\n",
       "  7: 3821.376566368764,\n",
       "  9: 3461.132024333479},\n",
       " 'peak-rpm': {1: 10914.812292757884,\n",
       "  3: 11280.73983419619,\n",
       "  5: 9759.209969770063,\n",
       "  7: 9392.829861131397,\n",
       "  9: 9423.925545439102},\n",
       " 'city-mpg': {1: 5347.150261662008,\n",
       "  3: 5210.2611302222185,\n",
       "  5: 4814.77801484941,\n",
       "  7: 4575.950005056604,\n",
       "  9: 4770.344178922603},\n",
       " 'highway-mpg': {1: 5188.333470202142,\n",
       "  3: 4655.081481516726,\n",
       "  5: 4628.7930938146865,\n",
       "  7: 4112.387802956751,\n",
       "  9: 4029.9622707968324}}"
      ]
     },
     "execution_count": 16,
     "metadata": {},
     "output_type": "execute_result"
    }
   ],
   "source": [
    "result_rmse"
   ]
  },
  {
   "cell_type": "code",
   "execution_count": 17,
   "id": "0c1f4a54",
   "metadata": {},
   "outputs": [
    {
     "data": {
      "image/png": "[encoded data removed]",
      "text/plain": [
       "<Figure size 432x288 with 1 Axes>"
      ]
     },
     "metadata": {
      "needs_background": "light"
     },
     "output_type": "display_data"
    }
   ],
   "source": [
    "import matplotlib.pyplot as plt\n",
    "%matplotlib inline\n",
    "\n",
    "for k,v in result_rmse.items():\n",
    "    x = list(v.keys())\n",
    "    y = list(v.values())\n",
    "    \n",
    "    plt.plot(x,y)\n",
    "    plt.xlabel('k value')\n",
    "    plt.ylabel('RMSE')"
   ]
  },
  {
   "cell_type": "code",
   "execution_count": 18,
   "id": "524d7f6c",
   "metadata": {},
   "outputs": [
    {
     "name": "stdout",
     "output_type": "stream",
     "text": [
      "engine-size           4479.785610\n",
      "highway-mpg           4522.911624\n",
      "horsepower            4795.755143\n",
      "city-mpg              4943.696718\n",
      "curb-weight           5570.589864\n",
      "width                 7108.476258\n",
      "compression-rate      8007.936956\n",
      "length                8545.374123\n",
      "normalized-losses     8885.006588\n",
      "wheel-base            8953.712114\n",
      "stroke                9576.240416\n",
      "peak-rpm             10154.303501\n",
      "height               10927.529704\n",
      "bore                 13009.824975\n",
      "dtype: float64\n"
     ]
    }
   ],
   "source": [
    "feature_avg_rmse = {}\n",
    "for k,v in result_rmse.items():\n",
    "    avg_rmse = np.mean(list(v.values()))\n",
    "    feature_avg_rmse[k] = avg_rmse\n",
    "series_avg_rmse = pd.Series(feature_avg_rmse)\n",
    "sorted_series_avg_rmse = series_avg_rmse.sort_values()\n",
    "print(sorted_series_avg_rmse)\n",
    "\n",
    "sorted_features = sorted_series_avg_rmse.index"
   ]
  },
  {
   "cell_type": "code",
   "execution_count": 33,
   "id": "f36c7a7b",
   "metadata": {},
   "outputs": [],
   "source": [
    "f_temp = sorted_features.tolist()\n",
    "features = [f_temp[0:i] for i in range(2,6)]\n",
    "\n",
    "def knn_train_test(training_column, target_column, df):\n",
    "    knn = KNeighborsRegressor()\n",
    "    np.random.seed(1)\n",
    "    shuffled_index = np.random.permutation(df.index)\n",
    "    rand_df = df.reindex(shuffled_index)\n",
    "    half = int(len(rand_df) / 2)\n",
    "    train_df = df[0:half]\n",
    "    test_df = df[half:]\n",
    "    knn.fit(train_df[training_column], train_df[target_column])\n",
    "    predictions = knn.predict(test_df[training_column])\n",
    "    mse = mean_squared_error(test_df[target_column], predictions)\n",
    "    return mse**0.5\n",
    "\n",
    "plury_rmse = {}\n",
    "for f in features:\n",
    "    plury_rmse[tuple(f)] = knn_train_test(f,'price',cars_new)\n",
    "\n"
   ]
  },
  {
   "cell_type": "code",
   "execution_count": 34,
   "id": "16ab69a0",
   "metadata": {},
   "outputs": [
    {
     "data": {
      "text/plain": [
       "{('engine-size', 'highway-mpg'): 4350.739368552121,\n",
       " ('engine-size', 'highway-mpg', 'horsepower'): 3553.981440358945,\n",
       " ('engine-size', 'highway-mpg', 'horsepower', 'city-mpg'): 3543.6021088353828,\n",
       " ('engine-size',\n",
       "  'highway-mpg',\n",
       "  'horsepower',\n",
       "  'city-mpg',\n",
       "  'curb-weight'): 3874.8264102159374}"
      ]
     },
     "execution_count": 34,
     "metadata": {},
     "output_type": "execute_result"
    }
   ],
   "source": [
    "plury_rmse"
   ]
  },
  {
   "cell_type": "markdown",
   "id": "6ba511e1",
   "metadata": {},
   "source": [
    "For the top 3 models in the last step, we'll vary the hyperparameter value from 1 to 25 and plot the resulting RMSE values."
   ]
  },
  {
   "cell_type": "code",
   "execution_count": 35,
   "id": "6f7610f6",
   "metadata": {},
   "outputs": [],
   "source": [
    "def knn_train_test(training_column, target_column, df):\n",
    "    k_list = [i for i in range(1,26)]\n",
    "    rmse = {}\n",
    "    np.random.seed(1)\n",
    "    shuffled_index = np.random.permutation(df.index)\n",
    "    rand_df = df.reindex(shuffled_index)\n",
    "    half = int(len(rand_df) / 2)\n",
    "    train_df = df[0:half]\n",
    "    test_df = df[half:]\n",
    "    for k in k_list:\n",
    "        knn = KNeighborsRegressor(n_neighbors = k)\n",
    "        knn.fit(train_df[training_column], train_df[target_column])\n",
    "        predictions = knn.predict(test_df[training_column])\n",
    "        mse = mean_squared_error(test_df[target_column], predictions)\n",
    "        rmse[k] = mse**0.5\n",
    "    return rmse"
   ]
  },
  {
   "cell_type": "code",
   "execution_count": 38,
   "id": "0abdbc21",
   "metadata": {},
   "outputs": [],
   "source": [
    "top_model = [['engine-size', 'highway-mpg', 'horsepower', 'city-mpg'],\n",
    "             ['engine-size', 'highway-mpg', 'horsepower'],\n",
    "             ['engine-size','highway-mpg','horsepower','city-mpg','curb-weight']]\n",
    "\n",
    "\n",
    "result_rmse = {}\n",
    "for column in top_model:\n",
    "    result = knn_train_test(column, 'price', cars_new)\n",
    "    result_rmse[tuple(column)] = result\n",
    "\n"
   ]
  },
  {
   "cell_type": "code",
   "execution_count": 39,
   "id": "ee97fd13",
   "metadata": {},
   "outputs": [
    {
     "data": {
      "text/plain": [
       "{('engine-size',\n",
       "  'highway-mpg',\n",
       "  'horsepower',\n",
       "  'city-mpg'): {1: 4003.9828413792443, 2: 4131.951959131938, 3: 3807.458087636542, 4: 3645.9482887864647, 5: 3543.6021088353828, 6: 3462.33319634914, 7: 3381.3053052910514, 8: 3221.8924875642992, 9: 3020.3504183783566, 10: 3082.8858075793623, 11: 3203.3271940951367, 12: 3320.32157031635, 13: 3480.138098268782, 14: 3483.163466888698, 15: 3488.2073831867865, 16: 3460.6885466860917, 17: 3420.7342053495818, 18: 3380.3570582571792, 19: 3379.807908444524, 20: 3386.3950236041705, 21: 3354.438473986951, 22: 3356.3575258604455, 23: 3360.720166186331, 24: 3363.297072238637, 25: 3381.1823157406384},\n",
       " ('engine-size', 'highway-mpg', 'horsepower'): {1: 3573.428345246881,\n",
       "  2: 3918.785387510566,\n",
       "  3: 4012.2889992124597,\n",
       "  4: 3613.015900672851,\n",
       "  5: 3553.981440358945,\n",
       "  6: 3451.4337330349185,\n",
       "  7: 3387.6562998182267,\n",
       "  8: 3175.405256889689,\n",
       "  9: 3077.2931249951084,\n",
       "  10: 3205.004979499074,\n",
       "  11: 3335.759981381083,\n",
       "  12: 3501.7441190855247,\n",
       "  13: 3644.6561170504287,\n",
       "  14: 3627.423710815073,\n",
       "  15: 3576.9223869595257,\n",
       "  16: 3589.9812376479913,\n",
       "  17: 3519.7011300165964,\n",
       "  18: 3504.6982514781416,\n",
       "  19: 3455.6717138313597,\n",
       "  20: 3403.9532063782653,\n",
       "  21: 3347.900979209597,\n",
       "  22: 3316.9988672338045,\n",
       "  23: 3284.575116312251,\n",
       "  24: 3299.0676764390946,\n",
       "  25: 3336.864947099921},\n",
       " ('engine-size',\n",
       "  'highway-mpg',\n",
       "  'horsepower',\n",
       "  'city-mpg',\n",
       "  'curb-weight'): {1: 3896.0469010839106, 2: 4218.382321858267, 3: 3871.893668020552, 4: 3940.1006560840874, 5: 3874.8264102159374, 6: 3933.4707286374082, 7: 3822.5657901525324, 8: 3687.3060353417, 9: 3644.89103182905, 10: 3675.9376367947216, 11: 3464.6509603396194, 12: 3420.824672749857, 13: 3418.4219017604837, 14: 3434.216247830942, 15: 3423.1561981545183, 16: 3442.3901601723596, 17: 3382.355348974859, 18: 3296.9605580321854, 19: 3228.072969625559, 20: 3200.298436192017, 21: 3243.0079535875598, 22: 3236.8728822596454, 23: 3278.348510922408, 24: 3291.513319288568, 25: 3297.167160093646}}"
      ]
     },
     "execution_count": 39,
     "metadata": {},
     "output_type": "execute_result"
    }
   ],
   "source": [
    "result_rmse"
   ]
  },
  {
   "cell_type": "code",
   "execution_count": 40,
   "id": "a0da3967",
   "metadata": {},
   "outputs": [
    {
     "data": {
      "image/png": "[encoded data removed]",
      "text/plain": [
       "<Figure size 432x288 with 1 Axes>"
      ]
     },
     "metadata": {
      "needs_background": "light"
     },
     "output_type": "display_data"
    }
   ],
   "source": [
    "for k,v in result_rmse.items():\n",
    "    x = list(v.keys())\n",
    "    y = list(v.values())\n",
    "    \n",
    "    plt.plot(x,y)\n",
    "    plt.xlabel('k value')\n",
    "    plt.ylabel('RMSE')"
   ]
  },
  {
   "cell_type": "code",
   "execution_count": null,
   "id": "09619df1",
   "metadata": {},
   "outputs": [],
   "source": []
  }
 ],
 "metadata": {
  "kernelspec": {
   "display_name": "Python 3 (ipykernel)",
   "language": "python",
   "name": "python3"
  },
  "language_info": {
   "codemirror_mode": {
    "name": "ipython",
    "version": 3
   },
   "file_extension": ".py",
   "mimetype": "text/x-python",
   "name": "python",
   "nbconvert_exporter": "python",
   "pygments_lexer": "ipython3",
   "version": "3.9.7"
  }
 },
 "nbformat": 4,
 "nbformat_minor": 5
}
